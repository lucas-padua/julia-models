{
 "cells": [
  {
   "cell_type": "code",
   "execution_count": 2,
   "id": "665cfb5f",
   "metadata": {
    "scrolled": true
   },
   "outputs": [],
   "source": [
    "using CSV\n",
    "using DataFrames\n",
    "using MLJ\n",
    "using VegaLite\n",
    "using DataVoyager\n",
    "using Plots\n",
    "using StatsKit"
   ]
  },
  {
   "cell_type": "markdown",
   "id": "0d5e632c-dcf5-4e29-96d5-d8f1d7c6690a",
   "metadata": {},
   "source": [
    "## Loading the dataset"
   ]
  },
  {
   "cell_type": "code",
   "execution_count": 4,
   "id": "6130d3c6",
   "metadata": {
    "scrolled": true
   },
   "outputs": [
    {
     "data": {
      "text/html": [
       "<div class=\"data-frame\"><p>5 rows × 3,513 columns (omitted printing of 3505 columns)</p><table class=\"data-frame\"><thead><tr><th></th><th>dataset_name</th><th>sampleID</th><th>subjectID</th><th>bodysite</th><th>disease</th><th>age</th><th>gender</th><th>country</th></tr><tr><th></th><th title=\"String\">String</th><th title=\"String31\">String31</th><th title=\"String31\">String31</th><th title=\"String31\">String31</th><th title=\"String31\">String31</th><th title=\"String7\">String7</th><th title=\"String7\">String7</th><th title=\"String15\">String15</th></tr></thead><tbody><tr><th>1</th><td>Candela_Africa</td><td>H10</td><td>h10</td><td>stool</td><td>n</td><td>40</td><td>female</td><td>tanzania</td></tr><tr><th>2</th><td>Candela_Africa</td><td>H11</td><td>h11</td><td>stool</td><td>n</td><td>29</td><td>female</td><td>tanzania</td></tr><tr><th>3</th><td>Candela_Africa</td><td>H12</td><td>h12</td><td>stool</td><td>n</td><td>8</td><td>female</td><td>tanzania</td></tr><tr><th>4</th><td>Candela_Africa</td><td>H13</td><td>h13</td><td>stool</td><td>n</td><td>34</td><td>male</td><td>tanzania</td></tr><tr><th>5</th><td>Candela_Africa</td><td>H14</td><td>h14</td><td>stool</td><td>n</td><td>30</td><td>male</td><td>tanzania</td></tr></tbody></table></div>"
      ],
      "text/latex": [
       "\\begin{tabular}{r|ccccccccc}\n",
       "\t& dataset\\_name & sampleID & subjectID & bodysite & disease & age & gender & country & \\\\\n",
       "\t\\hline\n",
       "\t& String & String31 & String31 & String31 & String31 & String7 & String7 & String15 & \\\\\n",
       "\t\\hline\n",
       "\t1 & Candela\\_Africa & H10 & h10 & stool & n & 40 & female & tanzania & $\\dots$ \\\\\n",
       "\t2 & Candela\\_Africa & H11 & h11 & stool & n & 29 & female & tanzania & $\\dots$ \\\\\n",
       "\t3 & Candela\\_Africa & H12 & h12 & stool & n & 8 & female & tanzania & $\\dots$ \\\\\n",
       "\t4 & Candela\\_Africa & H13 & h13 & stool & n & 34 & male & tanzania & $\\dots$ \\\\\n",
       "\t5 & Candela\\_Africa & H14 & h14 & stool & n & 30 & male & tanzania & $\\dots$ \\\\\n",
       "\\end{tabular}\n"
      ],
      "text/plain": [
       "\u001b[1m5×3513 DataFrame\u001b[0m\n",
       "\u001b[1m Row \u001b[0m│\u001b[1m dataset_name   \u001b[0m\u001b[1m sampleID \u001b[0m\u001b[1m subjectID \u001b[0m\u001b[1m bodysite \u001b[0m\u001b[1m disease  \u001b[0m\u001b[1m age     \u001b[0m\u001b[1m gende\u001b[0m ⋯\n",
       "\u001b[1m     \u001b[0m│\u001b[90m String         \u001b[0m\u001b[90m String31 \u001b[0m\u001b[90m String31  \u001b[0m\u001b[90m String31 \u001b[0m\u001b[90m String31 \u001b[0m\u001b[90m String7 \u001b[0m\u001b[90m Strin\u001b[0m ⋯\n",
       "─────┼──────────────────────────────────────────────────────────────────────────\n",
       "   1 │ Candela_Africa  H10       h10        stool     n         40       femal ⋯\n",
       "   2 │ Candela_Africa  H11       h11        stool     n         29       femal\n",
       "   3 │ Candela_Africa  H12       h12        stool     n         8        femal\n",
       "   4 │ Candela_Africa  H13       h13        stool     n         34       male\n",
       "   5 │ Candela_Africa  H14       h14        stool     n         30       male  ⋯\n",
       "\u001b[36m                                                            3507 columns omitted\u001b[0m"
      ]
     },
     "execution_count": 4,
     "metadata": {},
     "output_type": "execute_result"
    }
   ],
   "source": [
    "# data available at: https://www.kaggle.com/datasets/antaresnyc/human-metagenomics\n",
    "\n",
    "abundance_df = CSV.read(\"abundance.csv\", DataFrame)#depois dar uma olhada em ler o arquivo usando CSV.file\n",
    "first(abundance_df, 5)"
   ]
  },
  {
   "cell_type": "code",
   "execution_count": 7,
   "id": "3a6faf53-a785-4f8d-8def-54807712da0f",
   "metadata": {},
   "outputs": [
    {
     "data": {
      "text/plain": [
       "30"
      ]
     },
     "execution_count": 7,
     "metadata": {},
     "output_type": "execute_result"
    }
   ],
   "source": [
    "ENV[\"LINES\"] = 30"
   ]
  },
  {
   "cell_type": "code",
   "execution_count": 8,
   "id": "bfe3a37b",
   "metadata": {},
   "outputs": [
    {
     "data": {
      "text/plain": [
       "(3610, 3513)"
      ]
     },
     "execution_count": 8,
     "metadata": {},
     "output_type": "execute_result"
    }
   ],
   "source": [
    "size(abundance_df)"
   ]
  },
  {
   "cell_type": "code",
   "execution_count": 9,
   "id": "ab2085dc",
   "metadata": {},
   "outputs": [
    {
     "data": {
      "text/html": [
       "<div class=\"data-frame\"><p>5 rows × 3 columns</p><table class=\"data-frame\"><thead><tr><th></th><th>dataset_name</th><th>disease</th><th>count</th></tr><tr><th></th><th title=\"String\">String</th><th title=\"String31\">String31</th><th title=\"Int64\">Int64</th></tr></thead><tbody><tr><th>1</th><td>Candela_Africa</td><td>n</td><td>38</td></tr><tr><th>2</th><td>Chatelier_gut_obesity</td><td>n</td><td>25</td></tr><tr><th>3</th><td>Chatelier_gut_obesity</td><td>obesity</td><td>164</td></tr><tr><th>4</th><td>Chatelier_gut_obesity</td><td>leaness</td><td>89</td></tr><tr><th>5</th><td>doyle_bt2</td><td>nd</td><td>458</td></tr></tbody></table></div>"
      ],
      "text/latex": [
       "\\begin{tabular}{r|ccc}\n",
       "\t& dataset\\_name & disease & count\\\\\n",
       "\t\\hline\n",
       "\t& String & String31 & Int64\\\\\n",
       "\t\\hline\n",
       "\t1 & Candela\\_Africa & n & 38 \\\\\n",
       "\t2 & Chatelier\\_gut\\_obesity & n & 25 \\\\\n",
       "\t3 & Chatelier\\_gut\\_obesity & obesity & 164 \\\\\n",
       "\t4 & Chatelier\\_gut\\_obesity & leaness & 89 \\\\\n",
       "\t5 & doyle\\_bt2 & nd & 458 \\\\\n",
       "\\end{tabular}\n"
      ],
      "text/plain": [
       "\u001b[1m5×3 DataFrame\u001b[0m\n",
       "\u001b[1m Row \u001b[0m│\u001b[1m dataset_name          \u001b[0m\u001b[1m disease  \u001b[0m\u001b[1m count \u001b[0m\n",
       "\u001b[1m     \u001b[0m│\u001b[90m String                \u001b[0m\u001b[90m String31 \u001b[0m\u001b[90m Int64 \u001b[0m\n",
       "─────┼────────────────────────────────────────\n",
       "   1 │ Candela_Africa         n            38\n",
       "   2 │ Chatelier_gut_obesity  n            25\n",
       "   3 │ Chatelier_gut_obesity  obesity     164\n",
       "   4 │ Chatelier_gut_obesity  leaness      89\n",
       "   5 │ doyle_bt2              nd          458"
      ]
     },
     "execution_count": 9,
     "metadata": {},
     "output_type": "execute_result"
    }
   ],
   "source": [
    "gd = combine(groupby(abundance_df, [:dataset_name, :disease]), nrow => :count)\n",
    "first(gd, 5)"
   ]
  },
  {
   "cell_type": "code",
   "execution_count": 11,
   "id": "b02b8c82",
   "metadata": {},
   "outputs": [
    {
     "name": "stdout",
     "output_type": "stream",
     "text": [
      "\u001b[1m40×3 DataFrame\u001b[0m\n",
      "\u001b[1m Row \u001b[0m│\u001b[1m dataset_name                      \u001b[0m\u001b[1m disease                    \u001b[0m\u001b[1m count \u001b[0m\n",
      "\u001b[1m     \u001b[0m│\u001b[90m String                            \u001b[0m\u001b[90m String31                   \u001b[0m\u001b[90m Int64 \u001b[0m\n",
      "─────┼──────────────────────────────────────────────────────────────────────\n",
      "   1 │ Candela_Africa                     n                              38\n",
      "   2 │ Chatelier_gut_obesity              n                              25\n",
      "   3 │ Chatelier_gut_obesity              obesity                       164\n",
      "   4 │ Chatelier_gut_obesity              leaness                        89\n",
      "   5 │ doyle_bt2                          nd                            458\n",
      "   6 │ hmp                                n                             762\n",
      "   7 │ hmpii                              n                             219\n",
      "   8 │ Loman2013_EcoliOutbreak_DNA_HiSeq  stec2-positive                 43\n",
      "   9 │ Loman2013_EcoliOutbreak_DNA_HiSeq   -                              1\n",
      "  10 │ Loman2013_EcoliOutbreak_DNA_MiSeq  stec2-positive                  9\n",
      "  11 │ metahit                            n                              85\n",
      "  12 │ metahit                            ibd_ulcerative_colitis         21\n",
      "  13 │ metahit                            ibd_crohn_disease               4\n",
      "  14 │ Neilsen_genome_assembly            n                             187\n",
      "  15 │ Neilsen_genome_assembly            ibd_ulcerative_colitis        127\n",
      "  16 │ Neilsen_genome_assembly            ibd_crohn_disease              21\n",
      "  17 │ Neilsen_genome_assembly            n_relative                     47\n",
      "  18 │ Psoriasis_2014                     n                              34\n",
      "  19 │ Psoriasis_2014                     y                              36\n",
      "  20 │ Quin_gut_liver_cirrhosis           n                             114\n",
      "  21 │ Quin_gut_liver_cirrhosis           cirrhosis                     118\n",
      "  22 │ Segre_Human_Skin                   n                             291\n",
      "  23 │ Tito_subsistence_gut               n                              35\n",
      "  24 │ Tito_subsistence_gut               obese                           5\n",
      "  25 │ Tito_subsistence_gut               overweight                     10\n",
      "  26 │ Tito_subsistence_gut               -                               7\n",
      "  27 │ Tito_subsistence_gut               underweight                     1\n",
      "  28 │ t2dmeta_long                       n                             136\n",
      "  29 │ t2dmeta_long                        -                             19\n",
      "  30 │ t2dmeta_long                       t2d                           135\n",
      "  31 │ t2dmeta_short                      n                              38\n",
      "  32 │ t2dmeta_short                      t2d                            35\n",
      "  33 │ VerticalTransmissionPilot          nd                             17\n",
      "  34 │ WT2D                               n                              43\n",
      "  35 │ WT2D                               t2d                            53\n",
      "  36 │ WT2D                               impaired_glucose_tolerance     49\n",
      "  37 │ Zeller_fecal_colorectal_cancer     n                              47\n",
      "  38 │ Zeller_fecal_colorectal_cancer     cancer                         48\n",
      "  39 │ Zeller_fecal_colorectal_cancer     small_adenoma                  26\n",
      "  40 │ Zeller_fecal_colorectal_cancer     large_adenoma                  13"
     ]
    }
   ],
   "source": [
    "print(gd)"
   ]
  },
  {
   "cell_type": "markdown",
   "id": "7d97203a-bfc0-402e-9a27-92b158d92705",
   "metadata": {},
   "source": [
    "## Taking only the cirrhosis data"
   ]
  },
  {
   "cell_type": "code",
   "execution_count": 12,
   "id": "5583e083",
   "metadata": {},
   "outputs": [
    {
     "data": {
      "text/html": [
       "<div class=\"data-frame\"><p>5 rows × 3,513 columns (omitted printing of 3506 columns)</p><table class=\"data-frame\"><thead><tr><th></th><th>dataset_name</th><th>sampleID</th><th>subjectID</th><th>bodysite</th><th>disease</th><th>age</th><th>gender</th></tr><tr><th></th><th title=\"String\">String</th><th title=\"String31\">String31</th><th title=\"String31\">String31</th><th title=\"String31\">String31</th><th title=\"String31\">String31</th><th title=\"String7\">String7</th><th title=\"String7\">String7</th></tr></thead><tbody><tr><th>1</th><td>Quin_gut_liver_cirrhosis</td><td>HD-10</td><td>hd-10</td><td>stool</td><td>n</td><td>40</td><td>female</td></tr><tr><th>2</th><td>Quin_gut_liver_cirrhosis</td><td>HD-11</td><td>hd-11</td><td>stool</td><td>n</td><td>38</td><td>female</td></tr><tr><th>3</th><td>Quin_gut_liver_cirrhosis</td><td>HD-12</td><td>hd-12</td><td>stool</td><td>n</td><td>40</td><td>male</td></tr><tr><th>4</th><td>Quin_gut_liver_cirrhosis</td><td>HD-13</td><td>hd-13</td><td>stool</td><td>n</td><td>56</td><td>female</td></tr><tr><th>5</th><td>Quin_gut_liver_cirrhosis</td><td>HD-14</td><td>hd-14</td><td>stool</td><td>n</td><td>51</td><td>male</td></tr></tbody></table></div>"
      ],
      "text/latex": [
       "\\begin{tabular}{r|cccccccc}\n",
       "\t& dataset\\_name & sampleID & subjectID & bodysite & disease & age & gender & \\\\\n",
       "\t\\hline\n",
       "\t& String & String31 & String31 & String31 & String31 & String7 & String7 & \\\\\n",
       "\t\\hline\n",
       "\t1 & Quin\\_gut\\_liver\\_cirrhosis & HD-10 & hd-10 & stool & n & 40 & female & $\\dots$ \\\\\n",
       "\t2 & Quin\\_gut\\_liver\\_cirrhosis & HD-11 & hd-11 & stool & n & 38 & female & $\\dots$ \\\\\n",
       "\t3 & Quin\\_gut\\_liver\\_cirrhosis & HD-12 & hd-12 & stool & n & 40 & male & $\\dots$ \\\\\n",
       "\t4 & Quin\\_gut\\_liver\\_cirrhosis & HD-13 & hd-13 & stool & n & 56 & female & $\\dots$ \\\\\n",
       "\t5 & Quin\\_gut\\_liver\\_cirrhosis & HD-14 & hd-14 & stool & n & 51 & male & $\\dots$ \\\\\n",
       "\\end{tabular}\n"
      ],
      "text/plain": [
       "\u001b[1m5×3513 DataFrame\u001b[0m\n",
       "\u001b[1m Row \u001b[0m│\u001b[1m dataset_name             \u001b[0m\u001b[1m sampleID \u001b[0m\u001b[1m subjectID \u001b[0m\u001b[1m bodysite \u001b[0m\u001b[1m disease  \u001b[0m\u001b[1m age \u001b[0m ⋯\n",
       "\u001b[1m     \u001b[0m│\u001b[90m String                   \u001b[0m\u001b[90m String31 \u001b[0m\u001b[90m String31  \u001b[0m\u001b[90m String31 \u001b[0m\u001b[90m String31 \u001b[0m\u001b[90m Stri\u001b[0m ⋯\n",
       "─────┼──────────────────────────────────────────────────────────────────────────\n",
       "   1 │ Quin_gut_liver_cirrhosis  HD-10     hd-10      stool     n         40   ⋯\n",
       "   2 │ Quin_gut_liver_cirrhosis  HD-11     hd-11      stool     n         38\n",
       "   3 │ Quin_gut_liver_cirrhosis  HD-12     hd-12      stool     n         40\n",
       "   4 │ Quin_gut_liver_cirrhosis  HD-13     hd-13      stool     n         56\n",
       "   5 │ Quin_gut_liver_cirrhosis  HD-14     hd-14      stool     n         51   ⋯\n",
       "\u001b[36m                                                            3508 columns omitted\u001b[0m"
      ]
     },
     "execution_count": 12,
     "metadata": {},
     "output_type": "execute_result"
    }
   ],
   "source": [
    "cirr_df = subset(abundance_df, :dataset_name => ByRow(==(\"Quin_gut_liver_cirrhosis\")))\n",
    "first(cirr_df, 5)"
   ]
  },
  {
   "cell_type": "code",
   "execution_count": 13,
   "id": "f2e87098",
   "metadata": {},
   "outputs": [
    {
     "data": {
      "text/html": [
       "<div class=\"data-frame\"><p>2 rows × 2 columns</p><table class=\"data-frame\"><thead><tr><th></th><th>disease</th><th>count</th></tr><tr><th></th><th title=\"String31\">String31</th><th title=\"Int64\">Int64</th></tr></thead><tbody><tr><th>1</th><td>n</td><td>114</td></tr><tr><th>2</th><td>cirrhosis</td><td>118</td></tr></tbody></table></div>"
      ],
      "text/latex": [
       "\\begin{tabular}{r|cc}\n",
       "\t& disease & count\\\\\n",
       "\t\\hline\n",
       "\t& String31 & Int64\\\\\n",
       "\t\\hline\n",
       "\t1 & n & 114 \\\\\n",
       "\t2 & cirrhosis & 118 \\\\\n",
       "\\end{tabular}\n"
      ],
      "text/plain": [
       "\u001b[1m2×2 DataFrame\u001b[0m\n",
       "\u001b[1m Row \u001b[0m│\u001b[1m disease   \u001b[0m\u001b[1m count \u001b[0m\n",
       "\u001b[1m     \u001b[0m│\u001b[90m String31  \u001b[0m\u001b[90m Int64 \u001b[0m\n",
       "─────┼──────────────────\n",
       "   1 │ n            114\n",
       "   2 │ cirrhosis    118"
      ]
     },
     "execution_count": 13,
     "metadata": {},
     "output_type": "execute_result"
    }
   ],
   "source": [
    "combine(groupby(cirr_df, :disease), nrow => :count)"
   ]
  },
  {
   "cell_type": "markdown",
   "id": "d244c52b-aa6b-48e1-9a7d-f2a4ac64bb74",
   "metadata": {},
   "source": [
    "## Separating Metadata and Species Abundance"
   ]
  },
  {
   "cell_type": "code",
   "execution_count": 15,
   "id": "801486f0",
   "metadata": {},
   "outputs": [],
   "source": [
    "cirr_meta = cirr_df[:, Between(begin, \"group\")]\n",
    "cirr_species = cirr_df[:, Between(\"k__Archaea\", end)];"
   ]
  },
  {
   "cell_type": "code",
   "execution_count": 16,
   "id": "487797f8",
   "metadata": {},
   "outputs": [
    {
     "data": {
      "text/html": [
       "<div class=\"data-frame\"><p>10 rows × 3,302 columns (omitted printing of 3299 columns)</p><table class=\"data-frame\"><thead><tr><th></th><th>k__Archaea</th><th>k__Archaea|p__Euryarchaeota</th><th>k__Archaea|p__Euryarchaeota|c__Methanobacteria</th></tr><tr><th></th><th title=\"Float64\">Float64</th><th title=\"Float64\">Float64</th><th title=\"Float64\">Float64</th></tr></thead><tbody><tr><th>1</th><td>0.0</td><td>0.0</td><td>0.0</td></tr><tr><th>2</th><td>0.0</td><td>0.0</td><td>0.0</td></tr><tr><th>3</th><td>0.0</td><td>0.0</td><td>0.0</td></tr><tr><th>4</th><td>0.0</td><td>0.0</td><td>0.0</td></tr><tr><th>5</th><td>0.0</td><td>0.0</td><td>0.0</td></tr><tr><th>6</th><td>0.0</td><td>0.0</td><td>0.0</td></tr><tr><th>7</th><td>0.0</td><td>0.0</td><td>0.0</td></tr><tr><th>8</th><td>0.0</td><td>0.0</td><td>0.0</td></tr><tr><th>9</th><td>0.39518</td><td>0.39518</td><td>0.39518</td></tr><tr><th>10</th><td>0.0</td><td>0.0</td><td>0.0</td></tr></tbody></table></div>"
      ],
      "text/latex": [
       "\\begin{tabular}{r|cccc}\n",
       "\t& k\\_\\_Archaea & k\\_\\_Archaea|p\\_\\_Euryarchaeota & k\\_\\_Archaea|p\\_\\_Euryarchaeota|c\\_\\_Methanobacteria & \\\\\n",
       "\t\\hline\n",
       "\t& Float64 & Float64 & Float64 & \\\\\n",
       "\t\\hline\n",
       "\t1 & 0.0 & 0.0 & 0.0 & $\\dots$ \\\\\n",
       "\t2 & 0.0 & 0.0 & 0.0 & $\\dots$ \\\\\n",
       "\t3 & 0.0 & 0.0 & 0.0 & $\\dots$ \\\\\n",
       "\t4 & 0.0 & 0.0 & 0.0 & $\\dots$ \\\\\n",
       "\t5 & 0.0 & 0.0 & 0.0 & $\\dots$ \\\\\n",
       "\t6 & 0.0 & 0.0 & 0.0 & $\\dots$ \\\\\n",
       "\t7 & 0.0 & 0.0 & 0.0 & $\\dots$ \\\\\n",
       "\t8 & 0.0 & 0.0 & 0.0 & $\\dots$ \\\\\n",
       "\t9 & 0.39518 & 0.39518 & 0.39518 & $\\dots$ \\\\\n",
       "\t10 & 0.0 & 0.0 & 0.0 & $\\dots$ \\\\\n",
       "\\end{tabular}\n"
      ],
      "text/plain": [
       "\u001b[1m10×3302 DataFrame\u001b[0m\n",
       "\u001b[1m Row \u001b[0m│\u001b[1m k__Archaea \u001b[0m\u001b[1m k__Archaea|p__Euryarchaeota \u001b[0m\u001b[1m k__Archaea|p__Euryarchaeota|c_\u001b[0m ⋯\n",
       "\u001b[1m     \u001b[0m│\u001b[90m Float64    \u001b[0m\u001b[90m Float64                     \u001b[0m\u001b[90m Float64                       \u001b[0m ⋯\n",
       "─────┼──────────────────────────────────────────────────────────────────────────\n",
       "   1 │    0.0                          0.0                                     ⋯\n",
       "   2 │    0.0                          0.0\n",
       "   3 │    0.0                          0.0\n",
       "   4 │    0.0                          0.0\n",
       "   5 │    0.0                          0.0                                     ⋯\n",
       "   6 │    0.0                          0.0\n",
       "   7 │    0.0                          0.0\n",
       "   8 │    0.0                          0.0\n",
       "   9 │    0.39518                      0.39518                                 ⋯\n",
       "  10 │    0.0                          0.0\n",
       "\u001b[36m                                                            3300 columns omitted\u001b[0m"
      ]
     },
     "execution_count": 16,
     "metadata": {},
     "output_type": "execute_result"
    }
   ],
   "source": [
    "first(cirr_species, 10)"
   ]
  },
  {
   "cell_type": "code",
   "execution_count": 17,
   "id": "e8a71c26",
   "metadata": {},
   "outputs": [
    {
     "data": {
      "text/html": [
       "<div class=\"data-frame\"><p>10 rows × 211 columns (omitted printing of 204 columns)</p><table class=\"data-frame\"><thead><tr><th></th><th>dataset_name</th><th>sampleID</th><th>subjectID</th><th>bodysite</th><th>disease</th><th>age</th><th>gender</th></tr><tr><th></th><th title=\"String\">String</th><th title=\"String31\">String31</th><th title=\"String31\">String31</th><th title=\"String31\">String31</th><th title=\"String31\">String31</th><th title=\"String7\">String7</th><th title=\"String7\">String7</th></tr></thead><tbody><tr><th>1</th><td>Quin_gut_liver_cirrhosis</td><td>HD-10</td><td>hd-10</td><td>stool</td><td>n</td><td>40</td><td>female</td></tr><tr><th>2</th><td>Quin_gut_liver_cirrhosis</td><td>HD-11</td><td>hd-11</td><td>stool</td><td>n</td><td>38</td><td>female</td></tr><tr><th>3</th><td>Quin_gut_liver_cirrhosis</td><td>HD-12</td><td>hd-12</td><td>stool</td><td>n</td><td>40</td><td>male</td></tr><tr><th>4</th><td>Quin_gut_liver_cirrhosis</td><td>HD-13</td><td>hd-13</td><td>stool</td><td>n</td><td>56</td><td>female</td></tr><tr><th>5</th><td>Quin_gut_liver_cirrhosis</td><td>HD-14</td><td>hd-14</td><td>stool</td><td>n</td><td>51</td><td>male</td></tr><tr><th>6</th><td>Quin_gut_liver_cirrhosis</td><td>HD-15</td><td>hd-15</td><td>stool</td><td>n</td><td>56</td><td>male</td></tr><tr><th>7</th><td>Quin_gut_liver_cirrhosis</td><td>HD-16</td><td>hd-16</td><td>stool</td><td>n</td><td>41</td><td>female</td></tr><tr><th>8</th><td>Quin_gut_liver_cirrhosis</td><td>HD-17</td><td>hd-17</td><td>stool</td><td>n</td><td>46</td><td>male</td></tr><tr><th>9</th><td>Quin_gut_liver_cirrhosis</td><td>HD-18</td><td>hd-18</td><td>stool</td><td>n</td><td>43</td><td>male</td></tr><tr><th>10</th><td>Quin_gut_liver_cirrhosis</td><td>HD-19</td><td>hd-19</td><td>stool</td><td>n</td><td>57</td><td>male</td></tr></tbody></table></div>"
      ],
      "text/latex": [
       "\\begin{tabular}{r|cccccccc}\n",
       "\t& dataset\\_name & sampleID & subjectID & bodysite & disease & age & gender & \\\\\n",
       "\t\\hline\n",
       "\t& String & String31 & String31 & String31 & String31 & String7 & String7 & \\\\\n",
       "\t\\hline\n",
       "\t1 & Quin\\_gut\\_liver\\_cirrhosis & HD-10 & hd-10 & stool & n & 40 & female & $\\dots$ \\\\\n",
       "\t2 & Quin\\_gut\\_liver\\_cirrhosis & HD-11 & hd-11 & stool & n & 38 & female & $\\dots$ \\\\\n",
       "\t3 & Quin\\_gut\\_liver\\_cirrhosis & HD-12 & hd-12 & stool & n & 40 & male & $\\dots$ \\\\\n",
       "\t4 & Quin\\_gut\\_liver\\_cirrhosis & HD-13 & hd-13 & stool & n & 56 & female & $\\dots$ \\\\\n",
       "\t5 & Quin\\_gut\\_liver\\_cirrhosis & HD-14 & hd-14 & stool & n & 51 & male & $\\dots$ \\\\\n",
       "\t6 & Quin\\_gut\\_liver\\_cirrhosis & HD-15 & hd-15 & stool & n & 56 & male & $\\dots$ \\\\\n",
       "\t7 & Quin\\_gut\\_liver\\_cirrhosis & HD-16 & hd-16 & stool & n & 41 & female & $\\dots$ \\\\\n",
       "\t8 & Quin\\_gut\\_liver\\_cirrhosis & HD-17 & hd-17 & stool & n & 46 & male & $\\dots$ \\\\\n",
       "\t9 & Quin\\_gut\\_liver\\_cirrhosis & HD-18 & hd-18 & stool & n & 43 & male & $\\dots$ \\\\\n",
       "\t10 & Quin\\_gut\\_liver\\_cirrhosis & HD-19 & hd-19 & stool & n & 57 & male & $\\dots$ \\\\\n",
       "\\end{tabular}\n"
      ],
      "text/plain": [
       "\u001b[1m10×211 DataFrame\u001b[0m\n",
       "\u001b[1m Row \u001b[0m│\u001b[1m dataset_name             \u001b[0m\u001b[1m sampleID \u001b[0m\u001b[1m subjectID \u001b[0m\u001b[1m bodysite \u001b[0m\u001b[1m disease  \u001b[0m\u001b[1m age \u001b[0m ⋯\n",
       "\u001b[1m     \u001b[0m│\u001b[90m String                   \u001b[0m\u001b[90m String31 \u001b[0m\u001b[90m String31  \u001b[0m\u001b[90m String31 \u001b[0m\u001b[90m String31 \u001b[0m\u001b[90m Stri\u001b[0m ⋯\n",
       "─────┼──────────────────────────────────────────────────────────────────────────\n",
       "   1 │ Quin_gut_liver_cirrhosis  HD-10     hd-10      stool     n         40   ⋯\n",
       "   2 │ Quin_gut_liver_cirrhosis  HD-11     hd-11      stool     n         38\n",
       "   3 │ Quin_gut_liver_cirrhosis  HD-12     hd-12      stool     n         40\n",
       "   4 │ Quin_gut_liver_cirrhosis  HD-13     hd-13      stool     n         56\n",
       "   5 │ Quin_gut_liver_cirrhosis  HD-14     hd-14      stool     n         51   ⋯\n",
       "   6 │ Quin_gut_liver_cirrhosis  HD-15     hd-15      stool     n         56\n",
       "   7 │ Quin_gut_liver_cirrhosis  HD-16     hd-16      stool     n         41\n",
       "   8 │ Quin_gut_liver_cirrhosis  HD-17     hd-17      stool     n         46\n",
       "   9 │ Quin_gut_liver_cirrhosis  HD-18     hd-18      stool     n         43   ⋯\n",
       "  10 │ Quin_gut_liver_cirrhosis  HD-19     hd-19      stool     n         57\n",
       "\u001b[36m                                                             206 columns omitted\u001b[0m"
      ]
     },
     "execution_count": 17,
     "metadata": {},
     "output_type": "execute_result"
    }
   ],
   "source": [
    "first(cirr_meta, 10)"
   ]
  },
  {
   "cell_type": "markdown",
   "id": "6b01c25c-1ece-4750-8ec2-8a7dd6413afc",
   "metadata": {},
   "source": [
    "## Removing missing data"
   ]
  },
  {
   "cell_type": "code",
   "execution_count": 18,
   "id": "f9d5797b",
   "metadata": {},
   "outputs": [
    {
     "data": {
      "text/html": [
       "<div class=\"data-frame\"><p>10 rows × 28 columns (omitted printing of 21 columns)</p><table class=\"data-frame\"><thead><tr><th></th><th>dataset_name</th><th>sampleID</th><th>subjectID</th><th>bodysite</th><th>disease</th><th>age</th><th>gender</th></tr><tr><th></th><th title=\"String\">String</th><th title=\"String31\">String31</th><th title=\"String31\">String31</th><th title=\"String31\">String31</th><th title=\"String31\">String31</th><th title=\"String7\">String7</th><th title=\"String7\">String7</th></tr></thead><tbody><tr><th>1</th><td>Quin_gut_liver_cirrhosis</td><td>HD-10</td><td>hd-10</td><td>stool</td><td>n</td><td>40</td><td>female</td></tr><tr><th>2</th><td>Quin_gut_liver_cirrhosis</td><td>HD-11</td><td>hd-11</td><td>stool</td><td>n</td><td>38</td><td>female</td></tr><tr><th>3</th><td>Quin_gut_liver_cirrhosis</td><td>HD-12</td><td>hd-12</td><td>stool</td><td>n</td><td>40</td><td>male</td></tr><tr><th>4</th><td>Quin_gut_liver_cirrhosis</td><td>HD-13</td><td>hd-13</td><td>stool</td><td>n</td><td>56</td><td>female</td></tr><tr><th>5</th><td>Quin_gut_liver_cirrhosis</td><td>HD-14</td><td>hd-14</td><td>stool</td><td>n</td><td>51</td><td>male</td></tr><tr><th>6</th><td>Quin_gut_liver_cirrhosis</td><td>HD-15</td><td>hd-15</td><td>stool</td><td>n</td><td>56</td><td>male</td></tr><tr><th>7</th><td>Quin_gut_liver_cirrhosis</td><td>HD-16</td><td>hd-16</td><td>stool</td><td>n</td><td>41</td><td>female</td></tr><tr><th>8</th><td>Quin_gut_liver_cirrhosis</td><td>HD-17</td><td>hd-17</td><td>stool</td><td>n</td><td>46</td><td>male</td></tr><tr><th>9</th><td>Quin_gut_liver_cirrhosis</td><td>HD-18</td><td>hd-18</td><td>stool</td><td>n</td><td>43</td><td>male</td></tr><tr><th>10</th><td>Quin_gut_liver_cirrhosis</td><td>HD-19</td><td>hd-19</td><td>stool</td><td>n</td><td>57</td><td>male</td></tr></tbody></table></div>"
      ],
      "text/latex": [
       "\\begin{tabular}{r|cccccccc}\n",
       "\t& dataset\\_name & sampleID & subjectID & bodysite & disease & age & gender & \\\\\n",
       "\t\\hline\n",
       "\t& String & String31 & String31 & String31 & String31 & String7 & String7 & \\\\\n",
       "\t\\hline\n",
       "\t1 & Quin\\_gut\\_liver\\_cirrhosis & HD-10 & hd-10 & stool & n & 40 & female & $\\dots$ \\\\\n",
       "\t2 & Quin\\_gut\\_liver\\_cirrhosis & HD-11 & hd-11 & stool & n & 38 & female & $\\dots$ \\\\\n",
       "\t3 & Quin\\_gut\\_liver\\_cirrhosis & HD-12 & hd-12 & stool & n & 40 & male & $\\dots$ \\\\\n",
       "\t4 & Quin\\_gut\\_liver\\_cirrhosis & HD-13 & hd-13 & stool & n & 56 & female & $\\dots$ \\\\\n",
       "\t5 & Quin\\_gut\\_liver\\_cirrhosis & HD-14 & hd-14 & stool & n & 51 & male & $\\dots$ \\\\\n",
       "\t6 & Quin\\_gut\\_liver\\_cirrhosis & HD-15 & hd-15 & stool & n & 56 & male & $\\dots$ \\\\\n",
       "\t7 & Quin\\_gut\\_liver\\_cirrhosis & HD-16 & hd-16 & stool & n & 41 & female & $\\dots$ \\\\\n",
       "\t8 & Quin\\_gut\\_liver\\_cirrhosis & HD-17 & hd-17 & stool & n & 46 & male & $\\dots$ \\\\\n",
       "\t9 & Quin\\_gut\\_liver\\_cirrhosis & HD-18 & hd-18 & stool & n & 43 & male & $\\dots$ \\\\\n",
       "\t10 & Quin\\_gut\\_liver\\_cirrhosis & HD-19 & hd-19 & stool & n & 57 & male & $\\dots$ \\\\\n",
       "\\end{tabular}\n"
      ],
      "text/plain": [
       "\u001b[1m10×28 DataFrame\u001b[0m\n",
       "\u001b[1m Row \u001b[0m│\u001b[1m dataset_name             \u001b[0m\u001b[1m sampleID \u001b[0m\u001b[1m subjectID \u001b[0m\u001b[1m bodysite \u001b[0m\u001b[1m disease  \u001b[0m\u001b[1m age \u001b[0m ⋯\n",
       "\u001b[1m     \u001b[0m│\u001b[90m String                   \u001b[0m\u001b[90m String31 \u001b[0m\u001b[90m String31  \u001b[0m\u001b[90m String31 \u001b[0m\u001b[90m String31 \u001b[0m\u001b[90m Stri\u001b[0m ⋯\n",
       "─────┼──────────────────────────────────────────────────────────────────────────\n",
       "   1 │ Quin_gut_liver_cirrhosis  HD-10     hd-10      stool     n         40   ⋯\n",
       "   2 │ Quin_gut_liver_cirrhosis  HD-11     hd-11      stool     n         38\n",
       "   3 │ Quin_gut_liver_cirrhosis  HD-12     hd-12      stool     n         40\n",
       "   4 │ Quin_gut_liver_cirrhosis  HD-13     hd-13      stool     n         56\n",
       "   5 │ Quin_gut_liver_cirrhosis  HD-14     hd-14      stool     n         51   ⋯\n",
       "   6 │ Quin_gut_liver_cirrhosis  HD-15     hd-15      stool     n         56\n",
       "   7 │ Quin_gut_liver_cirrhosis  HD-16     hd-16      stool     n         41\n",
       "   8 │ Quin_gut_liver_cirrhosis  HD-17     hd-17      stool     n         46\n",
       "   9 │ Quin_gut_liver_cirrhosis  HD-18     hd-18      stool     n         43   ⋯\n",
       "  10 │ Quin_gut_liver_cirrhosis  HD-19     hd-19      stool     n         57\n",
       "\u001b[36m                                                              23 columns omitted\u001b[0m"
      ]
     },
     "execution_count": 18,
     "metadata": {},
     "output_type": "execute_result"
    }
   ],
   "source": [
    "cirr_meta_short = cirr_meta[:, any.(i -> (i!=(\"nd\") && i!=(\"-\")), eachcol(cirr_meta))]\n",
    "first(cirr_meta_short, 10)"
   ]
  },
  {
   "cell_type": "code",
   "execution_count": 19,
   "id": "4b591d39",
   "metadata": {},
   "outputs": [
    {
     "data": {
      "text/html": [
       "<div class=\"data-frame\"><p>10 rows × 1,362 columns (omitted printing of 1359 columns)</p><table class=\"data-frame\"><thead><tr><th></th><th>k__Archaea</th><th>k__Archaea|p__Euryarchaeota</th><th>k__Archaea|p__Euryarchaeota|c__Methanobacteria</th></tr><tr><th></th><th title=\"Float64\">Float64</th><th title=\"Float64\">Float64</th><th title=\"Float64\">Float64</th></tr></thead><tbody><tr><th>1</th><td>0.0</td><td>0.0</td><td>0.0</td></tr><tr><th>2</th><td>0.0</td><td>0.0</td><td>0.0</td></tr><tr><th>3</th><td>0.0</td><td>0.0</td><td>0.0</td></tr><tr><th>4</th><td>0.0</td><td>0.0</td><td>0.0</td></tr><tr><th>5</th><td>0.0</td><td>0.0</td><td>0.0</td></tr><tr><th>6</th><td>0.0</td><td>0.0</td><td>0.0</td></tr><tr><th>7</th><td>0.0</td><td>0.0</td><td>0.0</td></tr><tr><th>8</th><td>0.0</td><td>0.0</td><td>0.0</td></tr><tr><th>9</th><td>0.39518</td><td>0.39518</td><td>0.39518</td></tr><tr><th>10</th><td>0.0</td><td>0.0</td><td>0.0</td></tr></tbody></table></div>"
      ],
      "text/latex": [
       "\\begin{tabular}{r|cccc}\n",
       "\t& k\\_\\_Archaea & k\\_\\_Archaea|p\\_\\_Euryarchaeota & k\\_\\_Archaea|p\\_\\_Euryarchaeota|c\\_\\_Methanobacteria & \\\\\n",
       "\t\\hline\n",
       "\t& Float64 & Float64 & Float64 & \\\\\n",
       "\t\\hline\n",
       "\t1 & 0.0 & 0.0 & 0.0 & $\\dots$ \\\\\n",
       "\t2 & 0.0 & 0.0 & 0.0 & $\\dots$ \\\\\n",
       "\t3 & 0.0 & 0.0 & 0.0 & $\\dots$ \\\\\n",
       "\t4 & 0.0 & 0.0 & 0.0 & $\\dots$ \\\\\n",
       "\t5 & 0.0 & 0.0 & 0.0 & $\\dots$ \\\\\n",
       "\t6 & 0.0 & 0.0 & 0.0 & $\\dots$ \\\\\n",
       "\t7 & 0.0 & 0.0 & 0.0 & $\\dots$ \\\\\n",
       "\t8 & 0.0 & 0.0 & 0.0 & $\\dots$ \\\\\n",
       "\t9 & 0.39518 & 0.39518 & 0.39518 & $\\dots$ \\\\\n",
       "\t10 & 0.0 & 0.0 & 0.0 & $\\dots$ \\\\\n",
       "\\end{tabular}\n"
      ],
      "text/plain": [
       "\u001b[1m10×1362 DataFrame\u001b[0m\n",
       "\u001b[1m Row \u001b[0m│\u001b[1m k__Archaea \u001b[0m\u001b[1m k__Archaea|p__Euryarchaeota \u001b[0m\u001b[1m k__Archaea|p__Euryarchaeota|c_\u001b[0m ⋯\n",
       "\u001b[1m     \u001b[0m│\u001b[90m Float64    \u001b[0m\u001b[90m Float64                     \u001b[0m\u001b[90m Float64                       \u001b[0m ⋯\n",
       "─────┼──────────────────────────────────────────────────────────────────────────\n",
       "   1 │    0.0                          0.0                                     ⋯\n",
       "   2 │    0.0                          0.0\n",
       "   3 │    0.0                          0.0\n",
       "   4 │    0.0                          0.0\n",
       "   5 │    0.0                          0.0                                     ⋯\n",
       "   6 │    0.0                          0.0\n",
       "   7 │    0.0                          0.0\n",
       "   8 │    0.0                          0.0\n",
       "   9 │    0.39518                      0.39518                                 ⋯\n",
       "  10 │    0.0                          0.0\n",
       "\u001b[36m                                                            1360 columns omitted\u001b[0m"
      ]
     },
     "execution_count": 19,
     "metadata": {},
     "output_type": "execute_result"
    }
   ],
   "source": [
    "zero_col = String[]\n",
    "for i in names(cirr_species)\n",
    "    if (maximum(cirr_species[:, i]) == 0)\n",
    "        push!(zero_col, i)\n",
    "    end\n",
    "end\n",
    "\n",
    "cirr_species_full = copy(cirr_species[:, Not(zero_col)])\n",
    "first(cirr_species_full, 10)"
   ]
  },
  {
   "cell_type": "code",
   "execution_count": 20,
   "id": "f9c23679",
   "metadata": {},
   "outputs": [
    {
     "data": {
      "text/plain": [
       "186-element Vector{String}:\n",
       " \"k__Archaea|p__Euryarchaeota|c__\" ⋯ 51 bytes ⋯ \"teriaceae|g__Methanobrevibacter\"\n",
       " \"k__Archaea|p__Euryarchaeota|c__\" ⋯ 47 bytes ⋯ \"obacteriaceae|g__Methanosphaera\"\n",
       " \"k__Bacteria|p__Actinobacteria|c\" ⋯ 39 bytes ⋯ \"Actinomycetaceae|g__Actinomyces\"\n",
       " \"k__Bacteria|p__Actinobacteria|c\" ⋯ 32 bytes ⋯ \"les|f__Micrococcaceae|g__Rothia\"\n",
       " \"k__Bacteria|p__Actinobacteria|c\" ⋯ 47 bytes ⋯ \"bacteriaceae|g__Bifidobacterium\"\n",
       " \"k__Bacteria|p__Actinobacteria|c\" ⋯ 43 bytes ⋯ \"fidobacteriaceae|g__Gardnerella\"\n",
       " \"k__Bacteria|p__Actinobacteria|c\" ⋯ 43 bytes ⋯ \"iobacteriaceae|g__Adlercreutzia\"\n",
       " \"k__Bacteria|p__Actinobacteria|c\" ⋯ 39 bytes ⋯ \"_Coriobacteriaceae|g__Atopobium\"\n",
       " \"k__Bacteria|p__Actinobacteria|c\" ⋯ 41 bytes ⋯ \"oriobacteriaceae|g__Collinsella\"\n",
       " \"k__Bacteria|p__Actinobacteria|c\" ⋯ 54 bytes ⋯ \"eae|g__Coriobacteriaceae_noname\"\n",
       " \"k__Bacteria|p__Actinobacteria|c\" ⋯ 41 bytes ⋯ \"oriobacteriaceae|g__Eggerthella\"\n",
       " \"k__Bacteria|p__Actinobacteria|c\" ⋯ 43 bytes ⋯ \"iobacteriaceae|g__Gordonibacter\"\n",
       " \"k__Bacteria|p__Actinobacteria|c\" ⋯ 39 bytes ⋯ \"_Coriobacteriaceae|g__Olsenella\"\n",
       " ⋮\n",
       " \"k__Bacteria|p__Proteobacteria|c\" ⋯ 52 bytes ⋯ \"bacteriaceae|g__Cardiobacterium\"\n",
       " \"k__Bacteria|p__Synergistetes|c_\" ⋯ 34 bytes ⋯ \"ynergistaceae|g__Fretibacterium\"\n",
       " \"k__Bacteria|p__Proteobacteria|c\" ⋯ 49 bytes ⋯ \"ospirillaceae|g__Rhodospirillum\"\n",
       " \"k__Bacteria|p__Proteobacteria|c\" ⋯ 41 bytes ⋯ \"f__Shewanellaceae|g__Shewanella\"\n",
       " \"k__Bacteria|p__Actinobacteria|c\" ⋯ 46 bytes ⋯ \"olysporaceae|g__Actinopolyspora\"\n",
       " \"k__Bacteria|p__Actinobacteria|c\" ⋯ 44 bytes ⋯ \"onocardiaceae|g__Pseudonocardia\"\n",
       " \"k__Bacteria|p__Actinobacteria|c\" ⋯ 47 bytes ⋯ \"cardiaceae|g__Saccharomonospora\"\n",
       " \"k__Bacteria|p__Actinobacteria|c\" ⋯ 47 bytes ⋯ \"cardiaceae|g__Saccharopolyspora\"\n",
       " \"k__Bacteria|p__Firmicutes|c__Ba\" ⋯ 20 bytes ⋯ \"f__Bacillaceae|g__Anoxybacillus\"\n",
       " \"k__Bacteria|p__Fusobacteria|c__\" ⋯ 38 bytes ⋯ \"sobacteriaceae|g__Cetobacterium\"\n",
       " \"k__Bacteria|p__Proteobacteria|c\" ⋯ 46 bytes ⋯ \"Enterobacteriaceae|g__Kosakonia\"\n",
       " \"k__Bacteria|p__Proteobacteria|c\" ⋯ 48 bytes ⋯ \"terobacteriaceae|g__Plesiomonas\""
      ]
     },
     "execution_count": 20,
     "metadata": {},
     "output_type": "execute_result"
    }
   ],
   "source": [
    "genus_names = names((cirr_species_full), x -> contains(x, \"g__\") && !contains(x, \"s__\"))\n",
    "# cirr_genus = copy(cirr_species_full[:, genus_names])"
   ]
  },
  {
   "cell_type": "code",
   "execution_count": 21,
   "id": "1935028b-82c0-42ab-aaba-4a85d21d4d3d",
   "metadata": {},
   "outputs": [
    {
     "data": {
      "text/html": [
       "<div class=\"data-frame\"><p>10 rows × 186 columns (omitted printing of 185 columns)</p><table class=\"data-frame\"><thead><tr><th></th><th>k__Archaea|p__Euryarchaeota|c__Methanobacteria|o__Methanobacteriales|f__Methanobacteriaceae|g__Methanobrevibacter</th></tr><tr><th></th><th title=\"Float64\">Float64</th></tr></thead><tbody><tr><th>1</th><td>0.0</td></tr><tr><th>2</th><td>0.0</td></tr><tr><th>3</th><td>0.0</td></tr><tr><th>4</th><td>0.0</td></tr><tr><th>5</th><td>0.0</td></tr><tr><th>6</th><td>0.0</td></tr><tr><th>7</th><td>0.0</td></tr><tr><th>8</th><td>0.0</td></tr><tr><th>9</th><td>0.39518</td></tr><tr><th>10</th><td>0.0</td></tr></tbody></table></div>"
      ],
      "text/latex": [
       "\\begin{tabular}{r|cc}\n",
       "\t& k\\_\\_Archaea|p\\_\\_Euryarchaeota|c\\_\\_Methanobacteria|o\\_\\_Methanobacteriales|f\\_\\_Methanobacteriaceae|g\\_\\_Methanobrevibacter & \\\\\n",
       "\t\\hline\n",
       "\t& Float64 & \\\\\n",
       "\t\\hline\n",
       "\t1 & 0.0 & $\\dots$ \\\\\n",
       "\t2 & 0.0 & $\\dots$ \\\\\n",
       "\t3 & 0.0 & $\\dots$ \\\\\n",
       "\t4 & 0.0 & $\\dots$ \\\\\n",
       "\t5 & 0.0 & $\\dots$ \\\\\n",
       "\t6 & 0.0 & $\\dots$ \\\\\n",
       "\t7 & 0.0 & $\\dots$ \\\\\n",
       "\t8 & 0.0 & $\\dots$ \\\\\n",
       "\t9 & 0.39518 & $\\dots$ \\\\\n",
       "\t10 & 0.0 & $\\dots$ \\\\\n",
       "\\end{tabular}\n"
      ],
      "text/plain": [
       "\u001b[1m10×186 DataFrame\u001b[0m\n",
       "\u001b[1m Row \u001b[0m│\u001b[1m k__Archaea|p__Euryarchaeota|c__Methanobacteria|o__Methanobacteriales|f_\u001b[0m ⋯\n",
       "\u001b[1m     \u001b[0m│\u001b[90m Float64                                                                \u001b[0m ⋯\n",
       "─────┼──────────────────────────────────────────────────────────────────────────\n",
       "   1 │                                                                         ⋯\n",
       "   2 │\n",
       "   3 │\n",
       "   4 │\n",
       "   5 │                                                                         ⋯\n",
       "   6 │\n",
       "   7 │\n",
       "   8 │\n",
       "   9 │                                                                         ⋯\n",
       "  10 │\n",
       "\u001b[36m                                                             186 columns omitted\u001b[0m"
      ]
     },
     "execution_count": 21,
     "metadata": {},
     "output_type": "execute_result"
    }
   ],
   "source": [
    "cirr_genus_full = copy(cirr_species_full);\n",
    "cirr_genus_full = cirr_genus_full[:, genus_names];\n",
    "first(cirr_genus_full, 10)"
   ]
  },
  {
   "cell_type": "code",
   "execution_count": 22,
   "id": "c73d6bdb",
   "metadata": {},
   "outputs": [
    {
     "data": {
      "text/plain": [
       "186-element Vector{Vector{SubString{String}}}:\n",
       " [\"k__Archaea\", \"p__Euryarchaeota\", \"c__Methanobacteria\", \"o__Methanobacteriales\", \"f__Methanobacteriaceae\", \"g__Methanobrevibacter\"]\n",
       " [\"k__Archaea\", \"p__Euryarchaeota\", \"c__Methanobacteria\", \"o__Methanobacteriales\", \"f__Methanobacteriaceae\", \"g__Methanosphaera\"]\n",
       " [\"k__Bacteria\", \"p__Actinobacteria\", \"c__Actinobacteria\", \"o__Actinomycetales\", \"f__Actinomycetaceae\", \"g__Actinomyces\"]\n",
       " [\"k__Bacteria\", \"p__Actinobacteria\", \"c__Actinobacteria\", \"o__Actinomycetales\", \"f__Micrococcaceae\", \"g__Rothia\"]\n",
       " [\"k__Bacteria\", \"p__Actinobacteria\", \"c__Actinobacteria\", \"o__Bifidobacteriales\", \"f__Bifidobacteriaceae\", \"g__Bifidobacterium\"]\n",
       " [\"k__Bacteria\", \"p__Actinobacteria\", \"c__Actinobacteria\", \"o__Bifidobacteriales\", \"f__Bifidobacteriaceae\", \"g__Gardnerella\"]\n",
       " [\"k__Bacteria\", \"p__Actinobacteria\", \"c__Actinobacteria\", \"o__Coriobacteriales\", \"f__Coriobacteriaceae\", \"g__Adlercreutzia\"]\n",
       " [\"k__Bacteria\", \"p__Actinobacteria\", \"c__Actinobacteria\", \"o__Coriobacteriales\", \"f__Coriobacteriaceae\", \"g__Atopobium\"]\n",
       " [\"k__Bacteria\", \"p__Actinobacteria\", \"c__Actinobacteria\", \"o__Coriobacteriales\", \"f__Coriobacteriaceae\", \"g__Collinsella\"]\n",
       " [\"k__Bacteria\", \"p__Actinobacteria\", \"c__Actinobacteria\", \"o__Coriobacteriales\", \"f__Coriobacteriaceae\", \"g__Coriobacteriaceae_noname\"]\n",
       " [\"k__Bacteria\", \"p__Actinobacteria\", \"c__Actinobacteria\", \"o__Coriobacteriales\", \"f__Coriobacteriaceae\", \"g__Eggerthella\"]\n",
       " [\"k__Bacteria\", \"p__Actinobacteria\", \"c__Actinobacteria\", \"o__Coriobacteriales\", \"f__Coriobacteriaceae\", \"g__Gordonibacter\"]\n",
       " [\"k__Bacteria\", \"p__Actinobacteria\", \"c__Actinobacteria\", \"o__Coriobacteriales\", \"f__Coriobacteriaceae\", \"g__Olsenella\"]\n",
       " ⋮\n",
       " [\"k__Bacteria\", \"p__Proteobacteria\", \"c__Gammaproteobacteria\", \"o__Cardiobacteriales\", \"f__Cardiobacteriaceae\", \"g__Cardiobacterium\"]\n",
       " [\"k__Bacteria\", \"p__Synergistetes\", \"c__Synergistia\", \"o__Synergistales\", \"f__Synergistaceae\", \"g__Fretibacterium\"]\n",
       " [\"k__Bacteria\", \"p__Proteobacteria\", \"c__Alphaproteobacteria\", \"o__Rhodospirillales\", \"f__Rhodospirillaceae\", \"g__Rhodospirillum\"]\n",
       " [\"k__Bacteria\", \"p__Proteobacteria\", \"c__Gammaproteobacteria\", \"o__Alteromonadales\", \"f__Shewanellaceae\", \"g__Shewanella\"]\n",
       " [\"k__Bacteria\", \"p__Actinobacteria\", \"c__Actinobacteria\", \"o__Actinomycetales\", \"f__Actinopolysporaceae\", \"g__Actinopolyspora\"]\n",
       " [\"k__Bacteria\", \"p__Actinobacteria\", \"c__Actinobacteria\", \"o__Actinomycetales\", \"f__Pseudonocardiaceae\", \"g__Pseudonocardia\"]\n",
       " [\"k__Bacteria\", \"p__Actinobacteria\", \"c__Actinobacteria\", \"o__Actinomycetales\", \"f__Pseudonocardiaceae\", \"g__Saccharomonospora\"]\n",
       " [\"k__Bacteria\", \"p__Actinobacteria\", \"c__Actinobacteria\", \"o__Actinomycetales\", \"f__Pseudonocardiaceae\", \"g__Saccharopolyspora\"]\n",
       " [\"k__Bacteria\", \"p__Firmicutes\", \"c__Bacilli\", \"o__Bacillales\", \"f__Bacillaceae\", \"g__Anoxybacillus\"]\n",
       " [\"k__Bacteria\", \"p__Fusobacteria\", \"c__Fusobacteriia\", \"o__Fusobacteriales\", \"f__Fusobacteriaceae\", \"g__Cetobacterium\"]\n",
       " [\"k__Bacteria\", \"p__Proteobacteria\", \"c__Gammaproteobacteria\", \"o__Enterobacteriales\", \"f__Enterobacteriaceae\", \"g__Kosakonia\"]\n",
       " [\"k__Bacteria\", \"p__Proteobacteria\", \"c__Gammaproteobacteria\", \"o__Enterobacteriales\", \"f__Enterobacteriaceae\", \"g__Plesiomonas\"]"
      ]
     },
     "execution_count": 22,
     "metadata": {},
     "output_type": "execute_result"
    }
   ],
   "source": [
    "splitos = split.(genus_names, \"|\")"
   ]
  },
  {
   "cell_type": "code",
   "execution_count": 23,
   "id": "bf368610-9fb0-429c-97e5-ccb9b2464179",
   "metadata": {},
   "outputs": [],
   "source": [
    "genusnames = Symbol[]\n",
    "for i in 1:length(splitos)\n",
    "   push!(genusnames, Symbol(strip(splitos[i][6], ['g','_','_']))) \n",
    "end"
   ]
  },
  {
   "cell_type": "markdown",
   "id": "4a389a0a-3b92-4f73-ac31-abc46669676a",
   "metadata": {},
   "source": [
    "## Keeping only the genus"
   ]
  },
  {
   "cell_type": "code",
   "execution_count": 24,
   "id": "ec9bff00-cd00-42d1-a1ff-aa1272b4c2ad",
   "metadata": {},
   "outputs": [
    {
     "data": {
      "text/html": [
       "<div class=\"data-frame\"><p>10 rows × 186 columns (omitted printing of 180 columns)</p><table class=\"data-frame\"><thead><tr><th></th><th>Methanobrevibacter</th><th>Methanosphaera</th><th>Actinomyces</th><th>Rothia</th><th>Bifidobacterium</th><th>Gardnerella</th></tr><tr><th></th><th title=\"Float64\">Float64</th><th title=\"Float64\">Float64</th><th title=\"Float64\">Float64</th><th title=\"Float64\">Float64</th><th title=\"Float64\">Float64</th><th title=\"Float64\">Float64</th></tr></thead><tbody><tr><th>1</th><td>0.0</td><td>0.0</td><td>0.0</td><td>0.0</td><td>0.0</td><td>0.0</td></tr><tr><th>2</th><td>0.0</td><td>0.0</td><td>0.0</td><td>0.0</td><td>0.11273</td><td>0.0</td></tr><tr><th>3</th><td>0.0</td><td>0.0</td><td>0.0</td><td>0.0</td><td>0.05692</td><td>0.0</td></tr><tr><th>4</th><td>0.0</td><td>0.0</td><td>0.0</td><td>0.0</td><td>0.15253</td><td>0.0</td></tr><tr><th>5</th><td>0.0</td><td>0.0</td><td>0.0</td><td>0.0</td><td>0.29028</td><td>0.0</td></tr><tr><th>6</th><td>0.0</td><td>0.0</td><td>0.0</td><td>0.0</td><td>0.00448</td><td>0.0</td></tr><tr><th>7</th><td>0.0</td><td>0.0</td><td>0.0</td><td>0.00068</td><td>0.00366</td><td>0.0</td></tr><tr><th>8</th><td>0.0</td><td>0.0</td><td>0.0</td><td>0.0</td><td>5.57473</td><td>0.0</td></tr><tr><th>9</th><td>0.39518</td><td>0.0</td><td>0.03917</td><td>0.08068</td><td>0.07892</td><td>0.0</td></tr><tr><th>10</th><td>0.0</td><td>0.0</td><td>0.0</td><td>0.0</td><td>0.06806</td><td>0.0</td></tr></tbody></table></div>"
      ],
      "text/latex": [
       "\\begin{tabular}{r|ccccccc}\n",
       "\t& Methanobrevibacter & Methanosphaera & Actinomyces & Rothia & Bifidobacterium & Gardnerella & \\\\\n",
       "\t\\hline\n",
       "\t& Float64 & Float64 & Float64 & Float64 & Float64 & Float64 & \\\\\n",
       "\t\\hline\n",
       "\t1 & 0.0 & 0.0 & 0.0 & 0.0 & 0.0 & 0.0 & $\\dots$ \\\\\n",
       "\t2 & 0.0 & 0.0 & 0.0 & 0.0 & 0.11273 & 0.0 & $\\dots$ \\\\\n",
       "\t3 & 0.0 & 0.0 & 0.0 & 0.0 & 0.05692 & 0.0 & $\\dots$ \\\\\n",
       "\t4 & 0.0 & 0.0 & 0.0 & 0.0 & 0.15253 & 0.0 & $\\dots$ \\\\\n",
       "\t5 & 0.0 & 0.0 & 0.0 & 0.0 & 0.29028 & 0.0 & $\\dots$ \\\\\n",
       "\t6 & 0.0 & 0.0 & 0.0 & 0.0 & 0.00448 & 0.0 & $\\dots$ \\\\\n",
       "\t7 & 0.0 & 0.0 & 0.0 & 0.00068 & 0.00366 & 0.0 & $\\dots$ \\\\\n",
       "\t8 & 0.0 & 0.0 & 0.0 & 0.0 & 5.57473 & 0.0 & $\\dots$ \\\\\n",
       "\t9 & 0.39518 & 0.0 & 0.03917 & 0.08068 & 0.07892 & 0.0 & $\\dots$ \\\\\n",
       "\t10 & 0.0 & 0.0 & 0.0 & 0.0 & 0.06806 & 0.0 & $\\dots$ \\\\\n",
       "\\end{tabular}\n"
      ],
      "text/plain": [
       "\u001b[1m10×186 DataFrame\u001b[0m\n",
       "\u001b[1m Row \u001b[0m│\u001b[1m Methanobrevibacter \u001b[0m\u001b[1m Methanosphaera \u001b[0m\u001b[1m Actinomyces \u001b[0m\u001b[1m Rothia  \u001b[0m\u001b[1m Bifidobacteri\u001b[0m ⋯\n",
       "\u001b[1m     \u001b[0m│\u001b[90m Float64            \u001b[0m\u001b[90m Float64        \u001b[0m\u001b[90m Float64     \u001b[0m\u001b[90m Float64 \u001b[0m\u001b[90m Float64      \u001b[0m ⋯\n",
       "─────┼──────────────────────────────────────────────────────────────────────────\n",
       "   1 │            0.0                 0.0      0.0      0.0              0.0   ⋯\n",
       "   2 │            0.0                 0.0      0.0      0.0              0.112\n",
       "   3 │            0.0                 0.0      0.0      0.0              0.056\n",
       "   4 │            0.0                 0.0      0.0      0.0              0.152\n",
       "   5 │            0.0                 0.0      0.0      0.0              0.290 ⋯\n",
       "   6 │            0.0                 0.0      0.0      0.0              0.004\n",
       "   7 │            0.0                 0.0      0.0      0.00068          0.003\n",
       "   8 │            0.0                 0.0      0.0      0.0              5.574\n",
       "   9 │            0.39518             0.0      0.03917  0.08068          0.078 ⋯\n",
       "  10 │            0.0                 0.0      0.0      0.0              0.068\n",
       "\u001b[36m                                                             182 columns omitted\u001b[0m"
      ]
     },
     "execution_count": 24,
     "metadata": {},
     "output_type": "execute_result"
    }
   ],
   "source": [
    "DataFrames.rename!(cirr_genus_full, Symbol.(genusnames));\n",
    "first(cirr_genus_full, 10)"
   ]
  },
  {
   "cell_type": "code",
   "execution_count": 25,
   "id": "036b9543",
   "metadata": {},
   "outputs": [],
   "source": [
    "genus_count = String[]\n",
    "for i in eachindex(splitos)\n",
    "    for j in 1:length(splitos[i])\n",
    "        if contains(splitos[i][j], \"g__\")\n",
    "            push!(genus_count, String(splitos[i][j]))\n",
    "        end\n",
    "    end\n",
    "end"
   ]
  },
  {
   "cell_type": "code",
   "execution_count": 26,
   "id": "fed21a5f",
   "metadata": {},
   "outputs": [
    {
     "data": {
      "text/html": [
       "<div class=\"data-frame\"><p>10 rows × 1 columns</p><table class=\"data-frame\"><thead><tr><th></th><th>a1</th></tr><tr><th></th><th title=\"String\">String</th></tr></thead><tbody><tr><th>1</th><td>g__Methanobrevibacter</td></tr><tr><th>2</th><td>g__Methanosphaera</td></tr><tr><th>3</th><td>g__Actinomyces</td></tr><tr><th>4</th><td>g__Rothia</td></tr><tr><th>5</th><td>g__Bifidobacterium</td></tr><tr><th>6</th><td>g__Gardnerella</td></tr><tr><th>7</th><td>g__Adlercreutzia</td></tr><tr><th>8</th><td>g__Atopobium</td></tr><tr><th>9</th><td>g__Collinsella</td></tr><tr><th>10</th><td>g__Coriobacteriaceae_noname</td></tr></tbody></table></div>"
      ],
      "text/latex": [
       "\\begin{tabular}{r|c}\n",
       "\t& a1\\\\\n",
       "\t\\hline\n",
       "\t& String\\\\\n",
       "\t\\hline\n",
       "\t1 & g\\_\\_Methanobrevibacter \\\\\n",
       "\t2 & g\\_\\_Methanosphaera \\\\\n",
       "\t3 & g\\_\\_Actinomyces \\\\\n",
       "\t4 & g\\_\\_Rothia \\\\\n",
       "\t5 & g\\_\\_Bifidobacterium \\\\\n",
       "\t6 & g\\_\\_Gardnerella \\\\\n",
       "\t7 & g\\_\\_Adlercreutzia \\\\\n",
       "\t8 & g\\_\\_Atopobium \\\\\n",
       "\t9 & g\\_\\_Collinsella \\\\\n",
       "\t10 & g\\_\\_Coriobacteriaceae\\_noname \\\\\n",
       "\\end{tabular}\n"
      ],
      "text/plain": [
       "\u001b[1m10×1 DataFrame\u001b[0m\n",
       "\u001b[1m Row \u001b[0m│\u001b[1m a1                          \u001b[0m\n",
       "\u001b[1m     \u001b[0m│\u001b[90m String                      \u001b[0m\n",
       "─────┼─────────────────────────────\n",
       "   1 │ g__Methanobrevibacter\n",
       "   2 │ g__Methanosphaera\n",
       "   3 │ g__Actinomyces\n",
       "   4 │ g__Rothia\n",
       "   5 │ g__Bifidobacterium\n",
       "   6 │ g__Gardnerella\n",
       "   7 │ g__Adlercreutzia\n",
       "   8 │ g__Atopobium\n",
       "   9 │ g__Collinsella\n",
       "  10 │ g__Coriobacteriaceae_noname"
      ]
     },
     "execution_count": 26,
     "metadata": {},
     "output_type": "execute_result"
    }
   ],
   "source": [
    "genus_count_df = DataFrame(a1 = genus_count)\n",
    "first(genus_count_df, 10)\n",
    "# print(combine(groupby(genus_count_df, :a1), nrow => :count))"
   ]
  },
  {
   "cell_type": "code",
   "execution_count": 27,
   "id": "279e9ce7",
   "metadata": {},
   "outputs": [
    {
     "data": {
      "text/plain": [
       "(232, 186)"
      ]
     },
     "execution_count": 27,
     "metadata": {},
     "output_type": "execute_result"
    }
   ],
   "source": [
    "size(cirr_genus_full)"
   ]
  },
  {
   "cell_type": "code",
   "execution_count": 28,
   "id": "abb2859a",
   "metadata": {},
   "outputs": [
    {
     "data": {
      "text/plain": [
       "(232, 187)"
      ]
     },
     "execution_count": 28,
     "metadata": {},
     "output_type": "execute_result"
    }
   ],
   "source": [
    "cirr_genus_full.disease = cirr_meta_short.disease;\n",
    "size(cirr_genus_full)"
   ]
  },
  {
   "cell_type": "code",
   "execution_count": 29,
   "id": "1237b6d9-3bf0-4c0e-ae91-5bfeaad27e03",
   "metadata": {},
   "outputs": [
    {
     "data": {
      "text/html": [
       "<div class=\"data-frame\"><p>114 rows × 187 columns (omitted printing of 181 columns)</p><table class=\"data-frame\"><thead><tr><th></th><th>Methanobrevibacter</th><th>Methanosphaera</th><th>Actinomyces</th><th>Rothia</th><th>Bifidobacterium</th><th>Gardnerella</th></tr><tr><th></th><th title=\"Float64\">Float64</th><th title=\"Float64\">Float64</th><th title=\"Float64\">Float64</th><th title=\"Float64\">Float64</th><th title=\"Float64\">Float64</th><th title=\"Float64\">Float64</th></tr></thead><tbody><tr><th>1</th><td>0.0</td><td>0.0</td><td>0.0</td><td>0.0</td><td>0.0</td><td>0.0</td></tr><tr><th>2</th><td>0.0</td><td>0.0</td><td>0.0</td><td>0.0</td><td>0.11273</td><td>0.0</td></tr><tr><th>3</th><td>0.0</td><td>0.0</td><td>0.0</td><td>0.0</td><td>0.05692</td><td>0.0</td></tr><tr><th>4</th><td>0.0</td><td>0.0</td><td>0.0</td><td>0.0</td><td>0.15253</td><td>0.0</td></tr><tr><th>5</th><td>0.0</td><td>0.0</td><td>0.0</td><td>0.0</td><td>0.29028</td><td>0.0</td></tr><tr><th>6</th><td>0.0</td><td>0.0</td><td>0.0</td><td>0.0</td><td>0.00448</td><td>0.0</td></tr><tr><th>7</th><td>0.0</td><td>0.0</td><td>0.0</td><td>0.00068</td><td>0.00366</td><td>0.0</td></tr><tr><th>8</th><td>0.0</td><td>0.0</td><td>0.0</td><td>0.0</td><td>5.57473</td><td>0.0</td></tr><tr><th>9</th><td>0.39518</td><td>0.0</td><td>0.03917</td><td>0.08068</td><td>0.07892</td><td>0.0</td></tr><tr><th>10</th><td>0.0</td><td>0.0</td><td>0.0</td><td>0.0</td><td>0.06806</td><td>0.0</td></tr><tr><th>11</th><td>0.0</td><td>0.0</td><td>0.0</td><td>0.0</td><td>0.02955</td><td>0.0</td></tr><tr><th>12</th><td>0.0</td><td>0.0</td><td>0.0</td><td>0.0</td><td>0.14006</td><td>0.0</td></tr><tr><th>13</th><td>0.0</td><td>0.0</td><td>0.0</td><td>0.0</td><td>0.00584</td><td>0.0</td></tr><tr><th>14</th><td>0.0</td><td>0.0</td><td>0.0</td><td>0.00024</td><td>0.00377</td><td>0.0</td></tr><tr><th>15</th><td>0.0</td><td>0.0</td><td>0.0</td><td>0.0</td><td>0.008</td><td>0.0</td></tr><tr><th>16</th><td>0.0</td><td>0.0</td><td>0.0</td><td>0.0</td><td>0.03929</td><td>0.0</td></tr><tr><th>17</th><td>0.0</td><td>0.0</td><td>0.0</td><td>0.0</td><td>0.24682</td><td>0.0</td></tr><tr><th>18</th><td>0.0</td><td>0.0</td><td>0.0</td><td>0.0</td><td>0.95512</td><td>0.0</td></tr><tr><th>19</th><td>0.0</td><td>0.01755</td><td>0.0</td><td>0.0</td><td>0.0</td><td>0.0</td></tr><tr><th>20</th><td>0.0</td><td>0.0</td><td>0.0</td><td>0.0</td><td>0.0</td><td>0.0</td></tr><tr><th>21</th><td>0.00662</td><td>0.0</td><td>0.0</td><td>0.00736</td><td>0.16579</td><td>0.0</td></tr><tr><th>22</th><td>0.0</td><td>0.0</td><td>0.0</td><td>0.0</td><td>0.0</td><td>0.0</td></tr><tr><th>23</th><td>0.0</td><td>0.0</td><td>0.0</td><td>0.00223</td><td>0.03562</td><td>0.0</td></tr><tr><th>24</th><td>0.0</td><td>0.0</td><td>0.0</td><td>0.00177</td><td>1.28091</td><td>0.0</td></tr><tr><th>25</th><td>0.42596</td><td>0.06855</td><td>0.0</td><td>0.0</td><td>0.82589</td><td>0.0</td></tr><tr><th>26</th><td>0.29306</td><td>0.0</td><td>0.0</td><td>0.0</td><td>0.22192</td><td>0.0</td></tr><tr><th>27</th><td>0.0</td><td>0.0</td><td>0.0</td><td>0.0</td><td>2.41951</td><td>0.0</td></tr><tr><th>28</th><td>0.72748</td><td>0.0</td><td>0.0</td><td>0.0</td><td>0.00415</td><td>0.0</td></tr><tr><th>29</th><td>0.0</td><td>0.0</td><td>0.0</td><td>0.0</td><td>0.0</td><td>0.0</td></tr><tr><th>30</th><td>0.0</td><td>0.0</td><td>0.0</td><td>0.0</td><td>0.0</td><td>0.0051</td></tr><tr><th>&vellip;</th><td>&vellip;</td><td>&vellip;</td><td>&vellip;</td><td>&vellip;</td><td>&vellip;</td><td>&vellip;</td></tr></tbody></table></div>"
      ],
      "text/latex": [
       "\\begin{tabular}{r|ccccccc}\n",
       "\t& Methanobrevibacter & Methanosphaera & Actinomyces & Rothia & Bifidobacterium & Gardnerella & \\\\\n",
       "\t\\hline\n",
       "\t& Float64 & Float64 & Float64 & Float64 & Float64 & Float64 & \\\\\n",
       "\t\\hline\n",
       "\t1 & 0.0 & 0.0 & 0.0 & 0.0 & 0.0 & 0.0 & $\\dots$ \\\\\n",
       "\t2 & 0.0 & 0.0 & 0.0 & 0.0 & 0.11273 & 0.0 & $\\dots$ \\\\\n",
       "\t3 & 0.0 & 0.0 & 0.0 & 0.0 & 0.05692 & 0.0 & $\\dots$ \\\\\n",
       "\t4 & 0.0 & 0.0 & 0.0 & 0.0 & 0.15253 & 0.0 & $\\dots$ \\\\\n",
       "\t5 & 0.0 & 0.0 & 0.0 & 0.0 & 0.29028 & 0.0 & $\\dots$ \\\\\n",
       "\t6 & 0.0 & 0.0 & 0.0 & 0.0 & 0.00448 & 0.0 & $\\dots$ \\\\\n",
       "\t7 & 0.0 & 0.0 & 0.0 & 0.00068 & 0.00366 & 0.0 & $\\dots$ \\\\\n",
       "\t8 & 0.0 & 0.0 & 0.0 & 0.0 & 5.57473 & 0.0 & $\\dots$ \\\\\n",
       "\t9 & 0.39518 & 0.0 & 0.03917 & 0.08068 & 0.07892 & 0.0 & $\\dots$ \\\\\n",
       "\t10 & 0.0 & 0.0 & 0.0 & 0.0 & 0.06806 & 0.0 & $\\dots$ \\\\\n",
       "\t11 & 0.0 & 0.0 & 0.0 & 0.0 & 0.02955 & 0.0 & $\\dots$ \\\\\n",
       "\t12 & 0.0 & 0.0 & 0.0 & 0.0 & 0.14006 & 0.0 & $\\dots$ \\\\\n",
       "\t13 & 0.0 & 0.0 & 0.0 & 0.0 & 0.00584 & 0.0 & $\\dots$ \\\\\n",
       "\t14 & 0.0 & 0.0 & 0.0 & 0.00024 & 0.00377 & 0.0 & $\\dots$ \\\\\n",
       "\t15 & 0.0 & 0.0 & 0.0 & 0.0 & 0.008 & 0.0 & $\\dots$ \\\\\n",
       "\t16 & 0.0 & 0.0 & 0.0 & 0.0 & 0.03929 & 0.0 & $\\dots$ \\\\\n",
       "\t17 & 0.0 & 0.0 & 0.0 & 0.0 & 0.24682 & 0.0 & $\\dots$ \\\\\n",
       "\t18 & 0.0 & 0.0 & 0.0 & 0.0 & 0.95512 & 0.0 & $\\dots$ \\\\\n",
       "\t19 & 0.0 & 0.01755 & 0.0 & 0.0 & 0.0 & 0.0 & $\\dots$ \\\\\n",
       "\t20 & 0.0 & 0.0 & 0.0 & 0.0 & 0.0 & 0.0 & $\\dots$ \\\\\n",
       "\t21 & 0.00662 & 0.0 & 0.0 & 0.00736 & 0.16579 & 0.0 & $\\dots$ \\\\\n",
       "\t22 & 0.0 & 0.0 & 0.0 & 0.0 & 0.0 & 0.0 & $\\dots$ \\\\\n",
       "\t23 & 0.0 & 0.0 & 0.0 & 0.00223 & 0.03562 & 0.0 & $\\dots$ \\\\\n",
       "\t24 & 0.0 & 0.0 & 0.0 & 0.00177 & 1.28091 & 0.0 & $\\dots$ \\\\\n",
       "\t25 & 0.42596 & 0.06855 & 0.0 & 0.0 & 0.82589 & 0.0 & $\\dots$ \\\\\n",
       "\t26 & 0.29306 & 0.0 & 0.0 & 0.0 & 0.22192 & 0.0 & $\\dots$ \\\\\n",
       "\t27 & 0.0 & 0.0 & 0.0 & 0.0 & 2.41951 & 0.0 & $\\dots$ \\\\\n",
       "\t28 & 0.72748 & 0.0 & 0.0 & 0.0 & 0.00415 & 0.0 & $\\dots$ \\\\\n",
       "\t29 & 0.0 & 0.0 & 0.0 & 0.0 & 0.0 & 0.0 & $\\dots$ \\\\\n",
       "\t30 & 0.0 & 0.0 & 0.0 & 0.0 & 0.0 & 0.0051 & $\\dots$ \\\\\n",
       "\t$\\dots$ & $\\dots$ & $\\dots$ & $\\dots$ & $\\dots$ & $\\dots$ & $\\dots$ &  \\\\\n",
       "\\end{tabular}\n"
      ],
      "text/plain": [
       "\u001b[1m114×187 DataFrame\u001b[0m\n",
       "\u001b[1m Row \u001b[0m│\u001b[1m Methanobrevibacter \u001b[0m\u001b[1m Methanosphaera \u001b[0m\u001b[1m Actinomyces \u001b[0m\u001b[1m Rothia  \u001b[0m\u001b[1m Bifidobacteri\u001b[0m ⋯\n",
       "\u001b[1m     \u001b[0m│\u001b[90m Float64            \u001b[0m\u001b[90m Float64        \u001b[0m\u001b[90m Float64     \u001b[0m\u001b[90m Float64 \u001b[0m\u001b[90m Float64      \u001b[0m ⋯\n",
       "─────┼──────────────────────────────────────────────────────────────────────────\n",
       "   1 │            0.0             0.0          0.0      0.0              0.0   ⋯\n",
       "   2 │            0.0             0.0          0.0      0.0              0.112\n",
       "   3 │            0.0             0.0          0.0      0.0              0.056\n",
       "   4 │            0.0             0.0          0.0      0.0              0.152\n",
       "   5 │            0.0             0.0          0.0      0.0              0.290 ⋯\n",
       "   6 │            0.0             0.0          0.0      0.0              0.004\n",
       "   7 │            0.0             0.0          0.0      0.00068          0.003\n",
       "   8 │            0.0             0.0          0.0      0.0              5.574\n",
       "   9 │            0.39518         0.0          0.03917  0.08068          0.078 ⋯\n",
       "  10 │            0.0             0.0          0.0      0.0              0.068\n",
       "  11 │            0.0             0.0          0.0      0.0              0.029\n",
       "  ⋮  │         ⋮                 ⋮              ⋮          ⋮            ⋮      ⋱\n",
       " 105 │            0.0             0.0          0.0      0.0              0.084\n",
       " 106 │            0.0             0.0          0.0      0.0              0.009 ⋯\n",
       " 107 │            0.0             0.0          0.0      0.0              0.318\n",
       " 108 │            0.0             0.0          0.0      0.0              0.0\n",
       " 109 │            0.0             0.0          0.0      0.0              0.859\n",
       " 110 │            0.0             0.0          0.0      0.0              0.0   ⋯\n",
       " 111 │            0.0             0.0          0.0      0.0              0.025\n",
       " 112 │            0.0             0.0          0.0      0.0102           0.713\n",
       " 113 │            1.33496         0.0          0.0      0.0              0.143\n",
       " 114 │            0.0             0.0          0.0      0.00145          0.0   ⋯\n",
       "\u001b[36m                                                 183 columns and 93 rows omitted\u001b[0m"
      ]
     },
     "execution_count": 29,
     "metadata": {},
     "output_type": "execute_result"
    }
   ],
   "source": [
    "case = subset(cirr_genus_full, :disease => ByRow(==(\"cirrhosis\")))\n",
    "control = subset(cirr_genus_full, :disease => ByRow(==(\"n\")))"
   ]
  },
  {
   "cell_type": "code",
   "execution_count": 30,
   "id": "961e414f-de18-4946-b0af-dbdb83f392db",
   "metadata": {},
   "outputs": [
    {
     "data": {
      "image/svg+xml": [
       "<?xml version=\"1.0\" encoding=\"utf-8\"?>\n",
       "<svg xmlns=\"http://www.w3.org/2000/svg\" xmlns:xlink=\"http://www.w3.org/1999/xlink\" width=\"600\" height=\"400\" viewBox=\"0 0 2400 1600\">\n",
       "<defs>\n",
       "  <clipPath id=\"clip840\">\n",
       "    <rect x=\"0\" y=\"0\" width=\"2400\" height=\"1600\"/>\n",
       "  </clipPath>\n",
       "</defs>\n",
       "<path clip-path=\"url(#clip840)\" d=\"\n",
       "M0 1600 L2400 1600 L2400 0 L0 0  Z\n",
       "  \" fill=\"#ffffff\" fill-rule=\"evenodd\" fill-opacity=\"1\"/>\n",
       "<defs>\n",
       "  <clipPath id=\"clip841\">\n",
       "    <rect x=\"480\" y=\"0\" width=\"1681\" height=\"1600\"/>\n",
       "  </clipPath>\n",
       "</defs>\n",
       "<path clip-path=\"url(#clip840)\" d=\"\n",
       "M156.598 1486.45 L2352.76 1486.45 L2352.76 47.2441 L156.598 47.2441  Z\n",
       "  \" fill=\"#ffffff\" fill-rule=\"evenodd\" fill-opacity=\"1\"/>\n",
       "<defs>\n",
       "  <clipPath id=\"clip842\">\n",
       "    <rect x=\"156\" y=\"47\" width=\"2197\" height=\"1440\"/>\n",
       "  </clipPath>\n",
       "</defs>\n",
       "<polyline clip-path=\"url(#clip842)\" style=\"stroke:#000000; stroke-linecap:butt; stroke-linejoin:round; stroke-width:2; stroke-opacity:0.1; fill:none\" points=\"\n",
       "  207.554,1486.45 207.554,47.2441 \n",
       "  \"/>\n",
       "<polyline clip-path=\"url(#clip842)\" style=\"stroke:#000000; stroke-linecap:butt; stroke-linejoin:round; stroke-width:2; stroke-opacity:0.1; fill:none\" points=\"\n",
       "  767.513,1486.45 767.513,47.2441 \n",
       "  \"/>\n",
       "<polyline clip-path=\"url(#clip842)\" style=\"stroke:#000000; stroke-linecap:butt; stroke-linejoin:round; stroke-width:2; stroke-opacity:0.1; fill:none\" points=\"\n",
       "  1327.47,1486.45 1327.47,47.2441 \n",
       "  \"/>\n",
       "<polyline clip-path=\"url(#clip842)\" style=\"stroke:#000000; stroke-linecap:butt; stroke-linejoin:round; stroke-width:2; stroke-opacity:0.1; fill:none\" points=\"\n",
       "  1887.43,1486.45 1887.43,47.2441 \n",
       "  \"/>\n",
       "<polyline clip-path=\"url(#clip840)\" style=\"stroke:#000000; stroke-linecap:butt; stroke-linejoin:round; stroke-width:4; stroke-opacity:1; fill:none\" points=\"\n",
       "  156.598,1486.45 2352.76,1486.45 \n",
       "  \"/>\n",
       "<polyline clip-path=\"url(#clip840)\" style=\"stroke:#000000; stroke-linecap:butt; stroke-linejoin:round; stroke-width:4; stroke-opacity:1; fill:none\" points=\"\n",
       "  207.554,1486.45 207.554,1467.55 \n",
       "  \"/>\n",
       "<polyline clip-path=\"url(#clip840)\" style=\"stroke:#000000; stroke-linecap:butt; stroke-linejoin:round; stroke-width:4; stroke-opacity:1; fill:none\" points=\"\n",
       "  767.513,1486.45 767.513,1467.55 \n",
       "  \"/>\n",
       "<polyline clip-path=\"url(#clip840)\" style=\"stroke:#000000; stroke-linecap:butt; stroke-linejoin:round; stroke-width:4; stroke-opacity:1; fill:none\" points=\"\n",
       "  1327.47,1486.45 1327.47,1467.55 \n",
       "  \"/>\n",
       "<polyline clip-path=\"url(#clip840)\" style=\"stroke:#000000; stroke-linecap:butt; stroke-linejoin:round; stroke-width:4; stroke-opacity:1; fill:none\" points=\"\n",
       "  1887.43,1486.45 1887.43,1467.55 \n",
       "  \"/>\n",
       "<path clip-path=\"url(#clip840)\" d=\"M207.554 1517.37 Q203.943 1517.37 202.115 1520.93 Q200.309 1524.47 200.309 1531.6 Q200.309 1538.71 202.115 1542.27 Q203.943 1545.82 207.554 1545.82 Q211.189 1545.82 212.994 1542.27 Q214.823 1538.71 214.823 1531.6 Q214.823 1524.47 212.994 1520.93 Q211.189 1517.37 207.554 1517.37 M207.554 1513.66 Q213.365 1513.66 216.42 1518.27 Q219.499 1522.85 219.499 1531.6 Q219.499 1540.33 216.42 1544.94 Q213.365 1549.52 207.554 1549.52 Q201.744 1549.52 198.666 1544.94 Q195.61 1540.33 195.61 1531.6 Q195.61 1522.85 198.666 1518.27 Q201.744 1513.66 207.554 1513.66 Z\" fill=\"#000000\" fill-rule=\"evenodd\" fill-opacity=\"1\" /><path clip-path=\"url(#clip840)\" d=\"M742.212 1514.29 L760.569 1514.29 L760.569 1518.22 L746.495 1518.22 L746.495 1526.7 Q747.513 1526.35 748.532 1526.19 Q749.55 1526 750.569 1526 Q756.356 1526 759.735 1529.17 Q763.115 1532.34 763.115 1537.76 Q763.115 1543.34 759.643 1546.44 Q756.171 1549.52 749.851 1549.52 Q747.675 1549.52 745.407 1549.15 Q743.161 1548.78 740.754 1548.04 L740.754 1543.34 Q742.837 1544.47 745.059 1545.03 Q747.282 1545.58 749.759 1545.58 Q753.763 1545.58 756.101 1543.48 Q758.439 1541.37 758.439 1537.76 Q758.439 1534.15 756.101 1532.04 Q753.763 1529.94 749.759 1529.94 Q747.884 1529.94 746.009 1530.35 Q744.157 1530.77 742.212 1531.65 L742.212 1514.29 Z\" fill=\"#000000\" fill-rule=\"evenodd\" fill-opacity=\"1\" /><path clip-path=\"url(#clip840)\" d=\"M782.328 1517.37 Q778.717 1517.37 776.888 1520.93 Q775.082 1524.47 775.082 1531.6 Q775.082 1538.71 776.888 1542.27 Q778.717 1545.82 782.328 1545.82 Q785.962 1545.82 787.768 1542.27 Q789.596 1538.71 789.596 1531.6 Q789.596 1524.47 787.768 1520.93 Q785.962 1517.37 782.328 1517.37 M782.328 1513.66 Q788.138 1513.66 791.194 1518.27 Q794.272 1522.85 794.272 1531.6 Q794.272 1540.33 791.194 1544.94 Q788.138 1549.52 782.328 1549.52 Q776.518 1549.52 773.439 1544.94 Q770.383 1540.33 770.383 1531.6 Q770.383 1522.85 773.439 1518.27 Q776.518 1513.66 782.328 1513.66 Z\" fill=\"#000000\" fill-rule=\"evenodd\" fill-opacity=\"1\" /><path clip-path=\"url(#clip840)\" d=\"M1287.08 1544.91 L1294.72 1544.91 L1294.72 1518.55 L1286.41 1520.21 L1286.41 1515.95 L1294.67 1514.29 L1299.35 1514.29 L1299.35 1544.91 L1306.99 1544.91 L1306.99 1548.85 L1287.08 1548.85 L1287.08 1544.91 Z\" fill=\"#000000\" fill-rule=\"evenodd\" fill-opacity=\"1\" /><path clip-path=\"url(#clip840)\" d=\"M1326.43 1517.37 Q1322.82 1517.37 1320.99 1520.93 Q1319.18 1524.47 1319.18 1531.6 Q1319.18 1538.71 1320.99 1542.27 Q1322.82 1545.82 1326.43 1545.82 Q1330.06 1545.82 1331.87 1542.27 Q1333.7 1538.71 1333.7 1531.6 Q1333.7 1524.47 1331.87 1520.93 Q1330.06 1517.37 1326.43 1517.37 M1326.43 1513.66 Q1332.24 1513.66 1335.3 1518.27 Q1338.37 1522.85 1338.37 1531.6 Q1338.37 1540.33 1335.3 1544.94 Q1332.24 1549.52 1326.43 1549.52 Q1320.62 1549.52 1317.54 1544.94 Q1314.49 1540.33 1314.49 1531.6 Q1314.49 1522.85 1317.54 1518.27 Q1320.62 1513.66 1326.43 1513.66 Z\" fill=\"#000000\" fill-rule=\"evenodd\" fill-opacity=\"1\" /><path clip-path=\"url(#clip840)\" d=\"M1356.59 1517.37 Q1352.98 1517.37 1351.15 1520.93 Q1349.35 1524.47 1349.35 1531.6 Q1349.35 1538.71 1351.15 1542.27 Q1352.98 1545.82 1356.59 1545.82 Q1360.23 1545.82 1362.03 1542.27 Q1363.86 1538.71 1363.86 1531.6 Q1363.86 1524.47 1362.03 1520.93 Q1360.23 1517.37 1356.59 1517.37 M1356.59 1513.66 Q1362.4 1513.66 1365.46 1518.27 Q1368.54 1522.85 1368.54 1531.6 Q1368.54 1540.33 1365.46 1544.94 Q1362.4 1549.52 1356.59 1549.52 Q1350.78 1549.52 1347.7 1544.94 Q1344.65 1540.33 1344.65 1531.6 Q1344.65 1522.85 1347.7 1518.27 Q1350.78 1513.66 1356.59 1513.66 Z\" fill=\"#000000\" fill-rule=\"evenodd\" fill-opacity=\"1\" /><path clip-path=\"url(#clip840)\" d=\"M1847.04 1544.91 L1854.68 1544.91 L1854.68 1518.55 L1846.37 1520.21 L1846.37 1515.95 L1854.63 1514.29 L1859.31 1514.29 L1859.31 1544.91 L1866.94 1544.91 L1866.94 1548.85 L1847.04 1548.85 L1847.04 1544.91 Z\" fill=\"#000000\" fill-rule=\"evenodd\" fill-opacity=\"1\" /><path clip-path=\"url(#clip840)\" d=\"M1876.43 1514.29 L1894.79 1514.29 L1894.79 1518.22 L1880.72 1518.22 L1880.72 1526.7 Q1881.74 1526.35 1882.75 1526.19 Q1883.77 1526 1884.79 1526 Q1890.58 1526 1893.96 1529.17 Q1897.34 1532.34 1897.34 1537.76 Q1897.34 1543.34 1893.87 1546.44 Q1890.39 1549.52 1884.07 1549.52 Q1881.9 1549.52 1879.63 1549.15 Q1877.38 1548.78 1874.98 1548.04 L1874.98 1543.34 Q1877.06 1544.47 1879.28 1545.03 Q1881.5 1545.58 1883.98 1545.58 Q1887.99 1545.58 1890.32 1543.48 Q1892.66 1541.37 1892.66 1537.76 Q1892.66 1534.15 1890.32 1532.04 Q1887.99 1529.94 1883.98 1529.94 Q1882.11 1529.94 1880.23 1530.35 Q1878.38 1530.77 1876.43 1531.65 L1876.43 1514.29 Z\" fill=\"#000000\" fill-rule=\"evenodd\" fill-opacity=\"1\" /><path clip-path=\"url(#clip840)\" d=\"M1916.55 1517.37 Q1912.94 1517.37 1911.11 1520.93 Q1909.31 1524.47 1909.31 1531.6 Q1909.31 1538.71 1911.11 1542.27 Q1912.94 1545.82 1916.55 1545.82 Q1920.18 1545.82 1921.99 1542.27 Q1923.82 1538.71 1923.82 1531.6 Q1923.82 1524.47 1921.99 1520.93 Q1920.18 1517.37 1916.55 1517.37 M1916.55 1513.66 Q1922.36 1513.66 1925.42 1518.27 Q1928.49 1522.85 1928.49 1531.6 Q1928.49 1540.33 1925.42 1544.94 Q1922.36 1549.52 1916.55 1549.52 Q1910.74 1549.52 1907.66 1544.94 Q1904.61 1540.33 1904.61 1531.6 Q1904.61 1522.85 1907.66 1518.27 Q1910.74 1513.66 1916.55 1513.66 Z\" fill=\"#000000\" fill-rule=\"evenodd\" fill-opacity=\"1\" /><polyline clip-path=\"url(#clip842)\" style=\"stroke:#000000; stroke-linecap:butt; stroke-linejoin:round; stroke-width:2; stroke-opacity:0.1; fill:none\" points=\"\n",
       "  156.598,1486.45 2352.76,1486.45 \n",
       "  \"/>\n",
       "<polyline clip-path=\"url(#clip842)\" style=\"stroke:#000000; stroke-linecap:butt; stroke-linejoin:round; stroke-width:2; stroke-opacity:0.1; fill:none\" points=\"\n",
       "  156.598,1342.53 2352.76,1342.53 \n",
       "  \"/>\n",
       "<polyline clip-path=\"url(#clip842)\" style=\"stroke:#000000; stroke-linecap:butt; stroke-linejoin:round; stroke-width:2; stroke-opacity:0.1; fill:none\" points=\"\n",
       "  156.598,1198.61 2352.76,1198.61 \n",
       "  \"/>\n",
       "<polyline clip-path=\"url(#clip842)\" style=\"stroke:#000000; stroke-linecap:butt; stroke-linejoin:round; stroke-width:2; stroke-opacity:0.1; fill:none\" points=\"\n",
       "  156.598,1054.69 2352.76,1054.69 \n",
       "  \"/>\n",
       "<polyline clip-path=\"url(#clip842)\" style=\"stroke:#000000; stroke-linecap:butt; stroke-linejoin:round; stroke-width:2; stroke-opacity:0.1; fill:none\" points=\"\n",
       "  156.598,910.766 2352.76,910.766 \n",
       "  \"/>\n",
       "<polyline clip-path=\"url(#clip842)\" style=\"stroke:#000000; stroke-linecap:butt; stroke-linejoin:round; stroke-width:2; stroke-opacity:0.1; fill:none\" points=\"\n",
       "  156.598,766.846 2352.76,766.846 \n",
       "  \"/>\n",
       "<polyline clip-path=\"url(#clip842)\" style=\"stroke:#000000; stroke-linecap:butt; stroke-linejoin:round; stroke-width:2; stroke-opacity:0.1; fill:none\" points=\"\n",
       "  156.598,622.926 2352.76,622.926 \n",
       "  \"/>\n",
       "<polyline clip-path=\"url(#clip842)\" style=\"stroke:#000000; stroke-linecap:butt; stroke-linejoin:round; stroke-width:2; stroke-opacity:0.1; fill:none\" points=\"\n",
       "  156.598,479.005 2352.76,479.005 \n",
       "  \"/>\n",
       "<polyline clip-path=\"url(#clip842)\" style=\"stroke:#000000; stroke-linecap:butt; stroke-linejoin:round; stroke-width:2; stroke-opacity:0.1; fill:none\" points=\"\n",
       "  156.598,335.085 2352.76,335.085 \n",
       "  \"/>\n",
       "<polyline clip-path=\"url(#clip842)\" style=\"stroke:#000000; stroke-linecap:butt; stroke-linejoin:round; stroke-width:2; stroke-opacity:0.1; fill:none\" points=\"\n",
       "  156.598,191.164 2352.76,191.164 \n",
       "  \"/>\n",
       "<polyline clip-path=\"url(#clip842)\" style=\"stroke:#000000; stroke-linecap:butt; stroke-linejoin:round; stroke-width:2; stroke-opacity:0.1; fill:none\" points=\"\n",
       "  156.598,47.2441 2352.76,47.2441 \n",
       "  \"/>\n",
       "<polyline clip-path=\"url(#clip840)\" style=\"stroke:#000000; stroke-linecap:butt; stroke-linejoin:round; stroke-width:4; stroke-opacity:1; fill:none\" points=\"\n",
       "  156.598,1486.45 156.598,47.2441 \n",
       "  \"/>\n",
       "<polyline clip-path=\"url(#clip840)\" style=\"stroke:#000000; stroke-linecap:butt; stroke-linejoin:round; stroke-width:4; stroke-opacity:1; fill:none\" points=\"\n",
       "  156.598,1486.45 175.496,1486.45 \n",
       "  \"/>\n",
       "<polyline clip-path=\"url(#clip840)\" style=\"stroke:#000000; stroke-linecap:butt; stroke-linejoin:round; stroke-width:4; stroke-opacity:1; fill:none\" points=\"\n",
       "  156.598,1342.53 175.496,1342.53 \n",
       "  \"/>\n",
       "<polyline clip-path=\"url(#clip840)\" style=\"stroke:#000000; stroke-linecap:butt; stroke-linejoin:round; stroke-width:4; stroke-opacity:1; fill:none\" points=\"\n",
       "  156.598,1198.61 175.496,1198.61 \n",
       "  \"/>\n",
       "<polyline clip-path=\"url(#clip840)\" style=\"stroke:#000000; stroke-linecap:butt; stroke-linejoin:round; stroke-width:4; stroke-opacity:1; fill:none\" points=\"\n",
       "  156.598,1054.69 175.496,1054.69 \n",
       "  \"/>\n",
       "<polyline clip-path=\"url(#clip840)\" style=\"stroke:#000000; stroke-linecap:butt; stroke-linejoin:round; stroke-width:4; stroke-opacity:1; fill:none\" points=\"\n",
       "  156.598,910.766 175.496,910.766 \n",
       "  \"/>\n",
       "<polyline clip-path=\"url(#clip840)\" style=\"stroke:#000000; stroke-linecap:butt; stroke-linejoin:round; stroke-width:4; stroke-opacity:1; fill:none\" points=\"\n",
       "  156.598,766.846 175.496,766.846 \n",
       "  \"/>\n",
       "<polyline clip-path=\"url(#clip840)\" style=\"stroke:#000000; stroke-linecap:butt; stroke-linejoin:round; stroke-width:4; stroke-opacity:1; fill:none\" points=\"\n",
       "  156.598,622.926 175.496,622.926 \n",
       "  \"/>\n",
       "<polyline clip-path=\"url(#clip840)\" style=\"stroke:#000000; stroke-linecap:butt; stroke-linejoin:round; stroke-width:4; stroke-opacity:1; fill:none\" points=\"\n",
       "  156.598,479.005 175.496,479.005 \n",
       "  \"/>\n",
       "<polyline clip-path=\"url(#clip840)\" style=\"stroke:#000000; stroke-linecap:butt; stroke-linejoin:round; stroke-width:4; stroke-opacity:1; fill:none\" points=\"\n",
       "  156.598,335.085 175.496,335.085 \n",
       "  \"/>\n",
       "<polyline clip-path=\"url(#clip840)\" style=\"stroke:#000000; stroke-linecap:butt; stroke-linejoin:round; stroke-width:4; stroke-opacity:1; fill:none\" points=\"\n",
       "  156.598,191.164 175.496,191.164 \n",
       "  \"/>\n",
       "<polyline clip-path=\"url(#clip840)\" style=\"stroke:#000000; stroke-linecap:butt; stroke-linejoin:round; stroke-width:4; stroke-opacity:1; fill:none\" points=\"\n",
       "  156.598,47.2441 175.496,47.2441 \n",
       "  \"/>\n",
       "<path clip-path=\"url(#clip840)\" d=\"M63.4226 1472.25 Q59.8115 1472.25 57.9828 1475.81 Q56.1773 1479.35 56.1773 1486.48 Q56.1773 1493.59 57.9828 1497.15 Q59.8115 1500.7 63.4226 1500.7 Q67.0569 1500.7 68.8624 1497.15 Q70.6911 1493.59 70.6911 1486.48 Q70.6911 1479.35 68.8624 1475.81 Q67.0569 1472.25 63.4226 1472.25 M63.4226 1468.54 Q69.2328 1468.54 72.2883 1473.15 Q75.367 1477.73 75.367 1486.48 Q75.367 1495.21 72.2883 1499.82 Q69.2328 1504.4 63.4226 1504.4 Q57.6125 1504.4 54.5338 1499.82 Q51.4782 1495.21 51.4782 1486.48 Q51.4782 1477.73 54.5338 1473.15 Q57.6125 1468.54 63.4226 1468.54 Z\" fill=\"#000000\" fill-rule=\"evenodd\" fill-opacity=\"1\" /><path clip-path=\"url(#clip840)\" d=\"M83.5845 1497.85 L88.4688 1497.85 L88.4688 1503.73 L83.5845 1503.73 L83.5845 1497.85 Z\" fill=\"#000000\" fill-rule=\"evenodd\" fill-opacity=\"1\" /><path clip-path=\"url(#clip840)\" d=\"M108.654 1472.25 Q105.043 1472.25 103.214 1475.81 Q101.409 1479.35 101.409 1486.48 Q101.409 1493.59 103.214 1497.15 Q105.043 1500.7 108.654 1500.7 Q112.288 1500.7 114.094 1497.15 Q115.922 1493.59 115.922 1486.48 Q115.922 1479.35 114.094 1475.81 Q112.288 1472.25 108.654 1472.25 M108.654 1468.54 Q114.464 1468.54 117.52 1473.15 Q120.598 1477.73 120.598 1486.48 Q120.598 1495.21 117.52 1499.82 Q114.464 1504.4 108.654 1504.4 Q102.844 1504.4 99.765 1499.82 Q96.7095 1495.21 96.7095 1486.48 Q96.7095 1477.73 99.765 1473.15 Q102.844 1468.54 108.654 1468.54 Z\" fill=\"#000000\" fill-rule=\"evenodd\" fill-opacity=\"1\" /><path clip-path=\"url(#clip840)\" d=\"M64.6495 1328.33 Q61.0384 1328.33 59.2097 1331.89 Q57.4041 1335.43 57.4041 1342.56 Q57.4041 1349.67 59.2097 1353.23 Q61.0384 1356.78 64.6495 1356.78 Q68.2837 1356.78 70.0892 1353.23 Q71.9179 1349.67 71.9179 1342.56 Q71.9179 1335.43 70.0892 1331.89 Q68.2837 1328.33 64.6495 1328.33 M64.6495 1324.62 Q70.4596 1324.62 73.5152 1329.23 Q76.5938 1333.81 76.5938 1342.56 Q76.5938 1351.29 73.5152 1355.9 Q70.4596 1360.48 64.6495 1360.48 Q58.8393 1360.48 55.7606 1355.9 Q52.7051 1351.29 52.7051 1342.56 Q52.7051 1333.81 55.7606 1329.23 Q58.8393 1324.62 64.6495 1324.62 Z\" fill=\"#000000\" fill-rule=\"evenodd\" fill-opacity=\"1\" /><path clip-path=\"url(#clip840)\" d=\"M84.8114 1353.93 L89.6956 1353.93 L89.6956 1359.81 L84.8114 1359.81 L84.8114 1353.93 Z\" fill=\"#000000\" fill-rule=\"evenodd\" fill-opacity=\"1\" /><path clip-path=\"url(#clip840)\" d=\"M100.691 1355.87 L108.33 1355.87 L108.33 1329.51 L100.02 1331.17 L100.02 1326.91 L108.283 1325.25 L112.959 1325.25 L112.959 1355.87 L120.598 1355.87 L120.598 1359.81 L100.691 1359.81 L100.691 1355.87 Z\" fill=\"#000000\" fill-rule=\"evenodd\" fill-opacity=\"1\" /><path clip-path=\"url(#clip840)\" d=\"M65.0198 1184.41 Q61.4087 1184.41 59.58 1187.97 Q57.7745 1191.51 57.7745 1198.64 Q57.7745 1205.75 59.58 1209.31 Q61.4087 1212.85 65.0198 1212.85 Q68.6541 1212.85 70.4596 1209.31 Q72.2883 1205.75 72.2883 1198.64 Q72.2883 1191.51 70.4596 1187.97 Q68.6541 1184.41 65.0198 1184.41 M65.0198 1180.7 Q70.83 1180.7 73.8855 1185.31 Q76.9642 1189.89 76.9642 1198.64 Q76.9642 1207.37 73.8855 1211.98 Q70.83 1216.56 65.0198 1216.56 Q59.2097 1216.56 56.131 1211.98 Q53.0754 1207.37 53.0754 1198.64 Q53.0754 1189.89 56.131 1185.31 Q59.2097 1180.7 65.0198 1180.7 Z\" fill=\"#000000\" fill-rule=\"evenodd\" fill-opacity=\"1\" /><path clip-path=\"url(#clip840)\" d=\"M85.1818 1210.01 L90.066 1210.01 L90.066 1215.89 L85.1818 1215.89 L85.1818 1210.01 Z\" fill=\"#000000\" fill-rule=\"evenodd\" fill-opacity=\"1\" /><path clip-path=\"url(#clip840)\" d=\"M104.279 1211.95 L120.598 1211.95 L120.598 1215.89 L98.6539 1215.89 L98.6539 1211.95 Q101.316 1209.2 105.899 1204.57 Q110.506 1199.91 111.686 1198.57 Q113.932 1196.05 114.811 1194.31 Q115.714 1192.55 115.714 1190.86 Q115.714 1188.11 113.77 1186.37 Q111.848 1184.64 108.746 1184.64 Q106.547 1184.64 104.094 1185.4 Q101.663 1186.17 98.8854 1187.72 L98.8854 1182.99 Q101.709 1181.86 104.163 1181.28 Q106.617 1180.7 108.654 1180.7 Q114.024 1180.7 117.219 1183.39 Q120.413 1186.07 120.413 1190.56 Q120.413 1192.69 119.603 1194.61 Q118.816 1196.51 116.709 1199.1 Q116.131 1199.78 113.029 1202.99 Q109.927 1206.19 104.279 1211.95 Z\" fill=\"#000000\" fill-rule=\"evenodd\" fill-opacity=\"1\" /><path clip-path=\"url(#clip840)\" d=\"M64.0708 1040.49 Q60.4597 1040.49 58.631 1044.05 Q56.8254 1047.59 56.8254 1054.72 Q56.8254 1061.83 58.631 1065.39 Q60.4597 1068.93 64.0708 1068.93 Q67.705 1068.93 69.5105 1065.39 Q71.3392 1061.83 71.3392 1054.72 Q71.3392 1047.59 69.5105 1044.05 Q67.705 1040.49 64.0708 1040.49 M64.0708 1036.78 Q69.8809 1036.78 72.9365 1041.39 Q76.0151 1045.97 76.0151 1054.72 Q76.0151 1063.45 72.9365 1068.05 Q69.8809 1072.64 64.0708 1072.64 Q58.2606 1072.64 55.1819 1068.05 Q52.1264 1063.45 52.1264 1054.72 Q52.1264 1045.97 55.1819 1041.39 Q58.2606 1036.78 64.0708 1036.78 Z\" fill=\"#000000\" fill-rule=\"evenodd\" fill-opacity=\"1\" /><path clip-path=\"url(#clip840)\" d=\"M84.2327 1066.09 L89.1169 1066.09 L89.1169 1071.97 L84.2327 1071.97 L84.2327 1066.09 Z\" fill=\"#000000\" fill-rule=\"evenodd\" fill-opacity=\"1\" /><path clip-path=\"url(#clip840)\" d=\"M113.469 1053.33 Q116.825 1054.05 118.7 1056.32 Q120.598 1058.59 120.598 1061.92 Q120.598 1067.04 117.08 1069.84 Q113.561 1072.64 107.08 1072.64 Q104.904 1072.64 102.589 1072.2 Q100.297 1071.78 97.8437 1070.93 L97.8437 1066.41 Q99.7882 1067.55 102.103 1068.12 Q104.418 1068.7 106.941 1068.7 Q111.339 1068.7 113.631 1066.97 Q115.945 1065.23 115.945 1061.92 Q115.945 1058.86 113.793 1057.15 Q111.663 1055.42 107.844 1055.42 L103.816 1055.42 L103.816 1051.57 L108.029 1051.57 Q111.478 1051.57 113.307 1050.21 Q115.135 1048.82 115.135 1046.23 Q115.135 1043.56 113.237 1042.15 Q111.362 1040.72 107.844 1040.72 Q105.922 1040.72 103.723 1041.13 Q101.524 1041.55 98.8854 1042.43 L98.8854 1038.26 Q101.547 1037.52 103.862 1037.15 Q106.2 1036.78 108.26 1036.78 Q113.584 1036.78 116.686 1039.21 Q119.788 1041.62 119.788 1045.74 Q119.788 1048.61 118.145 1050.6 Q116.501 1052.57 113.469 1053.33 Z\" fill=\"#000000\" fill-rule=\"evenodd\" fill-opacity=\"1\" /><path clip-path=\"url(#clip840)\" d=\"M62.9365 896.565 Q59.3254 896.565 57.4967 900.13 Q55.6912 903.671 55.6912 910.801 Q55.6912 917.908 57.4967 921.472 Q59.3254 925.014 62.9365 925.014 Q66.5707 925.014 68.3763 921.472 Q70.205 917.908 70.205 910.801 Q70.205 903.671 68.3763 900.13 Q66.5707 896.565 62.9365 896.565 M62.9365 892.861 Q68.7467 892.861 71.8022 897.468 Q74.8809 902.051 74.8809 910.801 Q74.8809 919.528 71.8022 924.134 Q68.7467 928.718 62.9365 928.718 Q57.1264 928.718 54.0477 924.134 Q50.9921 919.528 50.9921 910.801 Q50.9921 902.051 54.0477 897.468 Q57.1264 892.861 62.9365 892.861 Z\" fill=\"#000000\" fill-rule=\"evenodd\" fill-opacity=\"1\" /><path clip-path=\"url(#clip840)\" d=\"M83.0984 922.167 L87.9827 922.167 L87.9827 928.046 L83.0984 928.046 L83.0984 922.167 Z\" fill=\"#000000\" fill-rule=\"evenodd\" fill-opacity=\"1\" /><path clip-path=\"url(#clip840)\" d=\"M111.015 897.56 L99.2095 916.009 L111.015 916.009 L111.015 897.56 M109.788 893.486 L115.668 893.486 L115.668 916.009 L120.598 916.009 L120.598 919.898 L115.668 919.898 L115.668 928.046 L111.015 928.046 L111.015 919.898 L95.4132 919.898 L95.4132 915.384 L109.788 893.486 Z\" fill=\"#000000\" fill-rule=\"evenodd\" fill-opacity=\"1\" /><path clip-path=\"url(#clip840)\" d=\"M64.418 752.645 Q60.8069 752.645 58.9782 756.209 Q57.1726 759.751 57.1726 766.881 Q57.1726 773.987 58.9782 777.552 Q60.8069 781.094 64.418 781.094 Q68.0522 781.094 69.8578 777.552 Q71.6865 773.987 71.6865 766.881 Q71.6865 759.751 69.8578 756.209 Q68.0522 752.645 64.418 752.645 M64.418 748.941 Q70.2281 748.941 73.2837 753.547 Q76.3624 758.131 76.3624 766.881 Q76.3624 775.608 73.2837 780.214 Q70.2281 784.797 64.418 784.797 Q58.6078 784.797 55.5291 780.214 Q52.4736 775.608 52.4736 766.881 Q52.4736 758.131 55.5291 753.547 Q58.6078 748.941 64.418 748.941 Z\" fill=\"#000000\" fill-rule=\"evenodd\" fill-opacity=\"1\" /><path clip-path=\"url(#clip840)\" d=\"M84.5799 778.246 L89.4641 778.246 L89.4641 784.126 L84.5799 784.126 L84.5799 778.246 Z\" fill=\"#000000\" fill-rule=\"evenodd\" fill-opacity=\"1\" /><path clip-path=\"url(#clip840)\" d=\"M99.6956 749.566 L118.052 749.566 L118.052 753.501 L103.978 753.501 L103.978 761.973 Q104.996 761.626 106.015 761.464 Q107.033 761.279 108.052 761.279 Q113.839 761.279 117.219 764.45 Q120.598 767.621 120.598 773.038 Q120.598 778.617 117.126 781.719 Q113.654 784.797 107.334 784.797 Q105.159 784.797 102.89 784.427 Q100.645 784.057 98.2372 783.316 L98.2372 778.617 Q100.321 779.751 102.543 780.307 Q104.765 780.862 107.242 780.862 Q111.246 780.862 113.584 778.756 Q115.922 776.649 115.922 773.038 Q115.922 769.427 113.584 767.321 Q111.246 765.214 107.242 765.214 Q105.367 765.214 103.492 765.631 Q101.64 766.047 99.6956 766.927 L99.6956 749.566 Z\" fill=\"#000000\" fill-rule=\"evenodd\" fill-opacity=\"1\" /><path clip-path=\"url(#clip840)\" d=\"M63.2606 608.724 Q59.6495 608.724 57.8208 612.289 Q56.0152 615.831 56.0152 622.96 Q56.0152 630.067 57.8208 633.632 Q59.6495 637.173 63.2606 637.173 Q66.8948 637.173 68.7004 633.632 Q70.5291 630.067 70.5291 622.96 Q70.5291 615.831 68.7004 612.289 Q66.8948 608.724 63.2606 608.724 M63.2606 605.021 Q69.0707 605.021 72.1263 609.627 Q75.205 614.21 75.205 622.96 Q75.205 631.687 72.1263 636.294 Q69.0707 640.877 63.2606 640.877 Q57.4504 640.877 54.3717 636.294 Q51.3162 631.687 51.3162 622.96 Q51.3162 614.21 54.3717 609.627 Q57.4504 605.021 63.2606 605.021 Z\" fill=\"#000000\" fill-rule=\"evenodd\" fill-opacity=\"1\" /><path clip-path=\"url(#clip840)\" d=\"M83.4225 634.326 L88.3067 634.326 L88.3067 640.206 L83.4225 640.206 L83.4225 634.326 Z\" fill=\"#000000\" fill-rule=\"evenodd\" fill-opacity=\"1\" /><path clip-path=\"url(#clip840)\" d=\"M109.071 621.062 Q105.922 621.062 104.071 623.215 Q102.242 625.368 102.242 629.118 Q102.242 632.845 104.071 635.02 Q105.922 637.173 109.071 637.173 Q112.219 637.173 114.047 635.02 Q115.899 632.845 115.899 629.118 Q115.899 625.368 114.047 623.215 Q112.219 621.062 109.071 621.062 M118.353 606.409 L118.353 610.669 Q116.594 609.835 114.788 609.396 Q113.006 608.956 111.246 608.956 Q106.617 608.956 104.163 612.081 Q101.733 615.206 101.385 621.525 Q102.751 619.511 104.811 618.446 Q106.871 617.359 109.348 617.359 Q114.557 617.359 117.566 620.53 Q120.598 623.678 120.598 629.118 Q120.598 634.442 117.45 637.659 Q114.302 640.877 109.071 640.877 Q103.075 640.877 99.9039 636.294 Q96.7326 631.687 96.7326 622.96 Q96.7326 614.766 100.621 609.905 Q104.51 605.021 111.061 605.021 Q112.82 605.021 114.603 605.368 Q116.408 605.715 118.353 606.409 Z\" fill=\"#000000\" fill-rule=\"evenodd\" fill-opacity=\"1\" /><path clip-path=\"url(#clip840)\" d=\"M64.3254 464.804 Q60.7143 464.804 58.8856 468.369 Q57.0801 471.91 57.0801 479.04 Q57.0801 486.146 58.8856 489.711 Q60.7143 493.253 64.3254 493.253 Q67.9596 493.253 69.7652 489.711 Q71.5939 486.146 71.5939 479.04 Q71.5939 471.91 69.7652 468.369 Q67.9596 464.804 64.3254 464.804 M64.3254 461.1 Q70.1355 461.1 73.1911 465.707 Q76.2698 470.29 76.2698 479.04 Q76.2698 487.767 73.1911 492.373 Q70.1355 496.957 64.3254 496.957 Q58.5152 496.957 55.4365 492.373 Q52.381 487.767 52.381 479.04 Q52.381 470.29 55.4365 465.707 Q58.5152 461.1 64.3254 461.1 Z\" fill=\"#000000\" fill-rule=\"evenodd\" fill-opacity=\"1\" /><path clip-path=\"url(#clip840)\" d=\"M84.4873 490.406 L89.3715 490.406 L89.3715 496.285 L84.4873 496.285 L84.4873 490.406 Z\" fill=\"#000000\" fill-rule=\"evenodd\" fill-opacity=\"1\" /><path clip-path=\"url(#clip840)\" d=\"M98.3761 461.725 L120.598 461.725 L120.598 463.716 L108.052 496.285 L103.168 496.285 L114.973 465.66 L98.3761 465.66 L98.3761 461.725 Z\" fill=\"#000000\" fill-rule=\"evenodd\" fill-opacity=\"1\" /><path clip-path=\"url(#clip840)\" d=\"M63.5152 320.884 Q59.9041 320.884 58.0754 324.448 Q56.2699 327.99 56.2699 335.12 Q56.2699 342.226 58.0754 345.791 Q59.9041 349.332 63.5152 349.332 Q67.1494 349.332 68.955 345.791 Q70.7837 342.226 70.7837 335.12 Q70.7837 327.99 68.955 324.448 Q67.1494 320.884 63.5152 320.884 M63.5152 317.18 Q69.3254 317.18 72.3809 321.786 Q75.4596 326.37 75.4596 335.12 Q75.4596 343.846 72.3809 348.453 Q69.3254 353.036 63.5152 353.036 Q57.7051 353.036 54.6264 348.453 Q51.5708 343.846 51.5708 335.12 Q51.5708 326.37 54.6264 321.786 Q57.7051 317.18 63.5152 317.18 Z\" fill=\"#000000\" fill-rule=\"evenodd\" fill-opacity=\"1\" /><path clip-path=\"url(#clip840)\" d=\"M83.6771 346.485 L88.5614 346.485 L88.5614 352.365 L83.6771 352.365 L83.6771 346.485 Z\" fill=\"#000000\" fill-rule=\"evenodd\" fill-opacity=\"1\" /><path clip-path=\"url(#clip840)\" d=\"M108.746 335.953 Q105.413 335.953 103.492 337.735 Q101.594 339.518 101.594 342.643 Q101.594 345.768 103.492 347.55 Q105.413 349.332 108.746 349.332 Q112.08 349.332 114.001 347.55 Q115.922 345.745 115.922 342.643 Q115.922 339.518 114.001 337.735 Q112.103 335.953 108.746 335.953 M104.071 333.962 Q101.061 333.221 99.3715 331.161 Q97.7048 329.101 97.7048 326.138 Q97.7048 321.995 100.645 319.587 Q103.608 317.18 108.746 317.18 Q113.908 317.18 116.848 319.587 Q119.788 321.995 119.788 326.138 Q119.788 329.101 118.098 331.161 Q116.432 333.221 113.445 333.962 Q116.825 334.749 118.7 337.041 Q120.598 339.333 120.598 342.643 Q120.598 347.666 117.52 350.351 Q114.464 353.036 108.746 353.036 Q103.029 353.036 99.9502 350.351 Q96.8947 347.666 96.8947 342.643 Q96.8947 339.333 98.7928 337.041 Q100.691 334.749 104.071 333.962 M102.358 326.578 Q102.358 329.263 104.024 330.768 Q105.714 332.272 108.746 332.272 Q111.756 332.272 113.445 330.768 Q115.158 329.263 115.158 326.578 Q115.158 323.893 113.445 322.388 Q111.756 320.884 108.746 320.884 Q105.714 320.884 104.024 322.388 Q102.358 323.893 102.358 326.578 Z\" fill=\"#000000\" fill-rule=\"evenodd\" fill-opacity=\"1\" /><path clip-path=\"url(#clip840)\" d=\"M63.6078 176.963 Q59.9967 176.963 58.168 180.528 Q56.3625 184.07 56.3625 191.199 Q56.3625 198.306 58.168 201.87 Q59.9967 205.412 63.6078 205.412 Q67.242 205.412 69.0476 201.87 Q70.8763 198.306 70.8763 191.199 Q70.8763 184.07 69.0476 180.528 Q67.242 176.963 63.6078 176.963 M63.6078 173.259 Q69.418 173.259 72.4735 177.866 Q75.5522 182.449 75.5522 191.199 Q75.5522 199.926 72.4735 204.532 Q69.418 209.116 63.6078 209.116 Q57.7976 209.116 54.719 204.532 Q51.6634 199.926 51.6634 191.199 Q51.6634 182.449 54.719 177.866 Q57.7976 173.259 63.6078 173.259 Z\" fill=\"#000000\" fill-rule=\"evenodd\" fill-opacity=\"1\" /><path clip-path=\"url(#clip840)\" d=\"M83.7697 202.565 L88.654 202.565 L88.654 208.444 L83.7697 208.444 L83.7697 202.565 Z\" fill=\"#000000\" fill-rule=\"evenodd\" fill-opacity=\"1\" /><path clip-path=\"url(#clip840)\" d=\"M98.978 207.727 L98.978 203.468 Q100.737 204.301 102.543 204.741 Q104.348 205.181 106.084 205.181 Q110.714 205.181 113.145 202.079 Q115.598 198.954 115.945 192.611 Q114.603 194.602 112.543 195.667 Q110.483 196.732 107.983 196.732 Q102.797 196.732 99.765 193.607 Q96.7558 190.458 96.7558 185.019 Q96.7558 179.695 99.9039 176.477 Q103.052 173.259 108.283 173.259 Q114.279 173.259 117.427 177.866 Q120.598 182.449 120.598 191.199 Q120.598 199.37 116.709 204.255 Q112.844 209.116 106.293 209.116 Q104.534 209.116 102.728 208.769 Q100.922 208.421 98.978 207.727 M108.283 193.074 Q111.432 193.074 113.26 190.921 Q115.112 188.769 115.112 185.019 Q115.112 181.292 113.26 179.139 Q111.432 176.963 108.283 176.963 Q105.135 176.963 103.284 179.139 Q101.455 181.292 101.455 185.019 Q101.455 188.769 103.284 190.921 Q105.135 193.074 108.283 193.074 Z\" fill=\"#000000\" fill-rule=\"evenodd\" fill-opacity=\"1\" /><path clip-path=\"url(#clip840)\" d=\"M54.2328 60.5889 L61.8717 60.5889 L61.8717 34.2233 L53.5616 35.89 L53.5616 31.6308 L61.8254 29.9641 L66.5013 29.9641 L66.5013 60.5889 L74.1402 60.5889 L74.1402 64.5241 L54.2328 64.5241 L54.2328 60.5889 Z\" fill=\"#000000\" fill-rule=\"evenodd\" fill-opacity=\"1\" /><path clip-path=\"url(#clip840)\" d=\"M83.5845 58.6445 L88.4688 58.6445 L88.4688 64.5241 L83.5845 64.5241 L83.5845 58.6445 Z\" fill=\"#000000\" fill-rule=\"evenodd\" fill-opacity=\"1\" /><path clip-path=\"url(#clip840)\" d=\"M108.654 33.0428 Q105.043 33.0428 103.214 36.6076 Q101.409 40.1492 101.409 47.2788 Q101.409 54.3853 103.214 57.9501 Q105.043 61.4917 108.654 61.4917 Q112.288 61.4917 114.094 57.9501 Q115.922 54.3853 115.922 47.2788 Q115.922 40.1492 114.094 36.6076 Q112.288 33.0428 108.654 33.0428 M108.654 29.3391 Q114.464 29.3391 117.52 33.9456 Q120.598 38.5289 120.598 47.2788 Q120.598 56.0056 117.52 60.6121 Q114.464 65.1954 108.654 65.1954 Q102.844 65.1954 99.765 60.6121 Q96.7095 56.0056 96.7095 47.2788 Q96.7095 38.5289 99.765 33.9456 Q102.844 29.3391 108.654 29.3391 Z\" fill=\"#000000\" fill-rule=\"evenodd\" fill-opacity=\"1\" /><circle clip-path=\"url(#clip842)\" cx=\"218.754\" cy=\"1440.26\" r=\"14\" fill=\"#008000\" fill-rule=\"evenodd\" fill-opacity=\"1\" stroke=\"#000000\" stroke-opacity=\"1\" stroke-width=\"3.2\"/>\n",
       "<circle clip-path=\"url(#clip842)\" cx=\"229.953\" cy=\"1480.65\" r=\"14\" fill=\"#008000\" fill-rule=\"evenodd\" fill-opacity=\"1\" stroke=\"#000000\" stroke-opacity=\"1\" stroke-width=\"3.2\"/>\n",
       "<circle clip-path=\"url(#clip842)\" cx=\"241.152\" cy=\"1484.23\" r=\"14\" fill=\"#008000\" fill-rule=\"evenodd\" fill-opacity=\"1\" stroke=\"#000000\" stroke-opacity=\"1\" stroke-width=\"3.2\"/>\n",
       "<circle clip-path=\"url(#clip842)\" cx=\"252.351\" cy=\"1483.36\" r=\"14\" fill=\"#008000\" fill-rule=\"evenodd\" fill-opacity=\"1\" stroke=\"#000000\" stroke-opacity=\"1\" stroke-width=\"3.2\"/>\n",
       "<circle clip-path=\"url(#clip842)\" cx=\"263.55\" cy=\"487.21\" r=\"14\" fill=\"#008000\" fill-rule=\"evenodd\" fill-opacity=\"1\" stroke=\"#000000\" stroke-opacity=\"1\" stroke-width=\"3.2\"/>\n",
       "<circle clip-path=\"url(#clip842)\" cx=\"274.75\" cy=\"1486.25\" r=\"14\" fill=\"#008000\" fill-rule=\"evenodd\" fill-opacity=\"1\" stroke=\"#000000\" stroke-opacity=\"1\" stroke-width=\"3.2\"/>\n",
       "<circle clip-path=\"url(#clip842)\" cx=\"285.949\" cy=\"1428.3\" r=\"14\" fill=\"#008000\" fill-rule=\"evenodd\" fill-opacity=\"1\" stroke=\"#000000\" stroke-opacity=\"1\" stroke-width=\"3.2\"/>\n",
       "<circle clip-path=\"url(#clip842)\" cx=\"297.148\" cy=\"1486.39\" r=\"14\" fill=\"#008000\" fill-rule=\"evenodd\" fill-opacity=\"1\" stroke=\"#000000\" stroke-opacity=\"1\" stroke-width=\"3.2\"/>\n",
       "<circle clip-path=\"url(#clip842)\" cx=\"308.347\" cy=\"1332.16\" r=\"14\" fill=\"#008000\" fill-rule=\"evenodd\" fill-opacity=\"1\" stroke=\"#000000\" stroke-opacity=\"1\" stroke-width=\"3.2\"/>\n",
       "<circle clip-path=\"url(#clip842)\" cx=\"319.546\" cy=\"1484.75\" r=\"14\" fill=\"#008000\" fill-rule=\"evenodd\" fill-opacity=\"1\" stroke=\"#000000\" stroke-opacity=\"1\" stroke-width=\"3.2\"/>\n",
       "<circle clip-path=\"url(#clip842)\" cx=\"330.745\" cy=\"1452.71\" r=\"14\" fill=\"#008000\" fill-rule=\"evenodd\" fill-opacity=\"1\" stroke=\"#000000\" stroke-opacity=\"1\" stroke-width=\"3.2\"/>\n",
       "<circle clip-path=\"url(#clip842)\" cx=\"341.945\" cy=\"1481.36\" r=\"14\" fill=\"#008000\" fill-rule=\"evenodd\" fill-opacity=\"1\" stroke=\"#000000\" stroke-opacity=\"1\" stroke-width=\"3.2\"/>\n",
       "<circle clip-path=\"url(#clip842)\" cx=\"353.144\" cy=\"1486.37\" r=\"14\" fill=\"#008000\" fill-rule=\"evenodd\" fill-opacity=\"1\" stroke=\"#000000\" stroke-opacity=\"1\" stroke-width=\"3.2\"/>\n",
       "<circle clip-path=\"url(#clip842)\" cx=\"364.343\" cy=\"1483.83\" r=\"14\" fill=\"#008000\" fill-rule=\"evenodd\" fill-opacity=\"1\" stroke=\"#000000\" stroke-opacity=\"1\" stroke-width=\"3.2\"/>\n",
       "<circle clip-path=\"url(#clip842)\" cx=\"386.741\" cy=\"996.323\" r=\"14\" fill=\"#008000\" fill-rule=\"evenodd\" fill-opacity=\"1\" stroke=\"#000000\" stroke-opacity=\"1\" stroke-width=\"3.2\"/>\n",
       "<circle clip-path=\"url(#clip842)\" cx=\"397.94\" cy=\"433.16\" r=\"14\" fill=\"#008000\" fill-rule=\"evenodd\" fill-opacity=\"1\" stroke=\"#000000\" stroke-opacity=\"1\" stroke-width=\"3.2\"/>\n",
       "<circle clip-path=\"url(#clip842)\" cx=\"409.14\" cy=\"1410.35\" r=\"14\" fill=\"#008000\" fill-rule=\"evenodd\" fill-opacity=\"1\" stroke=\"#000000\" stroke-opacity=\"1\" stroke-width=\"3.2\"/>\n",
       "<circle clip-path=\"url(#clip842)\" cx=\"420.339\" cy=\"470.684\" r=\"14\" fill=\"#008000\" fill-rule=\"evenodd\" fill-opacity=\"1\" stroke=\"#000000\" stroke-opacity=\"1\" stroke-width=\"3.2\"/>\n",
       "<circle clip-path=\"url(#clip842)\" cx=\"442.737\" cy=\"1484.97\" r=\"14\" fill=\"#008000\" fill-rule=\"evenodd\" fill-opacity=\"1\" stroke=\"#000000\" stroke-opacity=\"1\" stroke-width=\"3.2\"/>\n",
       "<circle clip-path=\"url(#clip842)\" cx=\"453.936\" cy=\"1485.96\" r=\"14\" fill=\"#008000\" fill-rule=\"evenodd\" fill-opacity=\"1\" stroke=\"#000000\" stroke-opacity=\"1\" stroke-width=\"3.2\"/>\n",
       "<circle clip-path=\"url(#clip842)\" cx=\"465.135\" cy=\"627.574\" r=\"14\" fill=\"#008000\" fill-rule=\"evenodd\" fill-opacity=\"1\" stroke=\"#000000\" stroke-opacity=\"1\" stroke-width=\"3.2\"/>\n",
       "<circle clip-path=\"url(#clip842)\" cx=\"498.733\" cy=\"1484.88\" r=\"14\" fill=\"#008000\" fill-rule=\"evenodd\" fill-opacity=\"1\" stroke=\"#000000\" stroke-opacity=\"1\" stroke-width=\"3.2\"/>\n",
       "<circle clip-path=\"url(#clip842)\" cx=\"509.932\" cy=\"1475.12\" r=\"14\" fill=\"#008000\" fill-rule=\"evenodd\" fill-opacity=\"1\" stroke=\"#000000\" stroke-opacity=\"1\" stroke-width=\"3.2\"/>\n",
       "<circle clip-path=\"url(#clip842)\" cx=\"521.131\" cy=\"1373.7\" r=\"14\" fill=\"#008000\" fill-rule=\"evenodd\" fill-opacity=\"1\" stroke=\"#000000\" stroke-opacity=\"1\" stroke-width=\"3.2\"/>\n",
       "<circle clip-path=\"url(#clip842)\" cx=\"532.33\" cy=\"1484.7\" r=\"14\" fill=\"#008000\" fill-rule=\"evenodd\" fill-opacity=\"1\" stroke=\"#000000\" stroke-opacity=\"1\" stroke-width=\"3.2\"/>\n",
       "<circle clip-path=\"url(#clip842)\" cx=\"543.53\" cy=\"1483.6\" r=\"14\" fill=\"#008000\" fill-rule=\"evenodd\" fill-opacity=\"1\" stroke=\"#000000\" stroke-opacity=\"1\" stroke-width=\"3.2\"/>\n",
       "<circle clip-path=\"url(#clip842)\" cx=\"554.729\" cy=\"1485.75\" r=\"14\" fill=\"#008000\" fill-rule=\"evenodd\" fill-opacity=\"1\" stroke=\"#000000\" stroke-opacity=\"1\" stroke-width=\"3.2\"/>\n",
       "<circle clip-path=\"url(#clip842)\" cx=\"565.928\" cy=\"1142.54\" r=\"14\" fill=\"#008000\" fill-rule=\"evenodd\" fill-opacity=\"1\" stroke=\"#000000\" stroke-opacity=\"1\" stroke-width=\"3.2\"/>\n",
       "<circle clip-path=\"url(#clip842)\" cx=\"577.127\" cy=\"346.578\" r=\"14\" fill=\"#008000\" fill-rule=\"evenodd\" fill-opacity=\"1\" stroke=\"#000000\" stroke-opacity=\"1\" stroke-width=\"3.2\"/>\n",
       "<circle clip-path=\"url(#clip842)\" cx=\"588.326\" cy=\"1486.41\" r=\"14\" fill=\"#008000\" fill-rule=\"evenodd\" fill-opacity=\"1\" stroke=\"#000000\" stroke-opacity=\"1\" stroke-width=\"3.2\"/>\n",
       "<circle clip-path=\"url(#clip842)\" cx=\"599.525\" cy=\"1483.95\" r=\"14\" fill=\"#008000\" fill-rule=\"evenodd\" fill-opacity=\"1\" stroke=\"#000000\" stroke-opacity=\"1\" stroke-width=\"3.2\"/>\n",
       "<circle clip-path=\"url(#clip842)\" cx=\"610.725\" cy=\"1486.31\" r=\"14\" fill=\"#008000\" fill-rule=\"evenodd\" fill-opacity=\"1\" stroke=\"#000000\" stroke-opacity=\"1\" stroke-width=\"3.2\"/>\n",
       "<circle clip-path=\"url(#clip842)\" cx=\"621.924\" cy=\"1475.19\" r=\"14\" fill=\"#008000\" fill-rule=\"evenodd\" fill-opacity=\"1\" stroke=\"#000000\" stroke-opacity=\"1\" stroke-width=\"3.2\"/>\n",
       "<circle clip-path=\"url(#clip842)\" cx=\"633.123\" cy=\"1381.3\" r=\"14\" fill=\"#008000\" fill-rule=\"evenodd\" fill-opacity=\"1\" stroke=\"#000000\" stroke-opacity=\"1\" stroke-width=\"3.2\"/>\n",
       "<circle clip-path=\"url(#clip842)\" cx=\"644.322\" cy=\"1484.15\" r=\"14\" fill=\"#008000\" fill-rule=\"evenodd\" fill-opacity=\"1\" stroke=\"#000000\" stroke-opacity=\"1\" stroke-width=\"3.2\"/>\n",
       "<circle clip-path=\"url(#clip842)\" cx=\"666.721\" cy=\"1445.87\" r=\"14\" fill=\"#008000\" fill-rule=\"evenodd\" fill-opacity=\"1\" stroke=\"#000000\" stroke-opacity=\"1\" stroke-width=\"3.2\"/>\n",
       "<circle clip-path=\"url(#clip842)\" cx=\"689.119\" cy=\"1007.99\" r=\"14\" fill=\"#008000\" fill-rule=\"evenodd\" fill-opacity=\"1\" stroke=\"#000000\" stroke-opacity=\"1\" stroke-width=\"3.2\"/>\n",
       "<circle clip-path=\"url(#clip842)\" cx=\"700.318\" cy=\"285.542\" r=\"14\" fill=\"#008000\" fill-rule=\"evenodd\" fill-opacity=\"1\" stroke=\"#000000\" stroke-opacity=\"1\" stroke-width=\"3.2\"/>\n",
       "<circle clip-path=\"url(#clip842)\" cx=\"711.517\" cy=\"1055.81\" r=\"14\" fill=\"#008000\" fill-rule=\"evenodd\" fill-opacity=\"1\" stroke=\"#000000\" stroke-opacity=\"1\" stroke-width=\"3.2\"/>\n",
       "<circle clip-path=\"url(#clip842)\" cx=\"745.115\" cy=\"680.081\" r=\"14\" fill=\"#008000\" fill-rule=\"evenodd\" fill-opacity=\"1\" stroke=\"#000000\" stroke-opacity=\"1\" stroke-width=\"3.2\"/>\n",
       "<circle clip-path=\"url(#clip842)\" cx=\"756.314\" cy=\"1066.31\" r=\"14\" fill=\"#008000\" fill-rule=\"evenodd\" fill-opacity=\"1\" stroke=\"#000000\" stroke-opacity=\"1\" stroke-width=\"3.2\"/>\n",
       "<circle clip-path=\"url(#clip842)\" cx=\"767.513\" cy=\"1486.03\" r=\"14\" fill=\"#008000\" fill-rule=\"evenodd\" fill-opacity=\"1\" stroke=\"#000000\" stroke-opacity=\"1\" stroke-width=\"3.2\"/>\n",
       "<circle clip-path=\"url(#clip842)\" cx=\"778.712\" cy=\"1443.18\" r=\"14\" fill=\"#008000\" fill-rule=\"evenodd\" fill-opacity=\"1\" stroke=\"#000000\" stroke-opacity=\"1\" stroke-width=\"3.2\"/>\n",
       "<circle clip-path=\"url(#clip842)\" cx=\"801.111\" cy=\"1475.74\" r=\"14\" fill=\"#008000\" fill-rule=\"evenodd\" fill-opacity=\"1\" stroke=\"#000000\" stroke-opacity=\"1\" stroke-width=\"3.2\"/>\n",
       "<circle clip-path=\"url(#clip842)\" cx=\"834.708\" cy=\"1461.99\" r=\"14\" fill=\"#008000\" fill-rule=\"evenodd\" fill-opacity=\"1\" stroke=\"#000000\" stroke-opacity=\"1\" stroke-width=\"3.2\"/>\n",
       "<circle clip-path=\"url(#clip842)\" cx=\"845.907\" cy=\"1420.96\" r=\"14\" fill=\"#008000\" fill-rule=\"evenodd\" fill-opacity=\"1\" stroke=\"#000000\" stroke-opacity=\"1\" stroke-width=\"3.2\"/>\n",
       "<circle clip-path=\"url(#clip842)\" cx=\"857.106\" cy=\"1205.86\" r=\"14\" fill=\"#008000\" fill-rule=\"evenodd\" fill-opacity=\"1\" stroke=\"#000000\" stroke-opacity=\"1\" stroke-width=\"3.2\"/>\n",
       "<circle clip-path=\"url(#clip842)\" cx=\"868.306\" cy=\"1434.97\" r=\"14\" fill=\"#008000\" fill-rule=\"evenodd\" fill-opacity=\"1\" stroke=\"#000000\" stroke-opacity=\"1\" stroke-width=\"3.2\"/>\n",
       "<circle clip-path=\"url(#clip842)\" cx=\"879.505\" cy=\"1486.27\" r=\"14\" fill=\"#008000\" fill-rule=\"evenodd\" fill-opacity=\"1\" stroke=\"#000000\" stroke-opacity=\"1\" stroke-width=\"3.2\"/>\n",
       "<circle clip-path=\"url(#clip842)\" cx=\"890.704\" cy=\"1481.83\" r=\"14\" fill=\"#008000\" fill-rule=\"evenodd\" fill-opacity=\"1\" stroke=\"#000000\" stroke-opacity=\"1\" stroke-width=\"3.2\"/>\n",
       "<circle clip-path=\"url(#clip842)\" cx=\"901.903\" cy=\"1484.24\" r=\"14\" fill=\"#008000\" fill-rule=\"evenodd\" fill-opacity=\"1\" stroke=\"#000000\" stroke-opacity=\"1\" stroke-width=\"3.2\"/>\n",
       "<circle clip-path=\"url(#clip842)\" cx=\"913.102\" cy=\"1467.28\" r=\"14\" fill=\"#008000\" fill-rule=\"evenodd\" fill-opacity=\"1\" stroke=\"#000000\" stroke-opacity=\"1\" stroke-width=\"3.2\"/>\n",
       "<circle clip-path=\"url(#clip842)\" cx=\"924.301\" cy=\"1184.61\" r=\"14\" fill=\"#008000\" fill-rule=\"evenodd\" fill-opacity=\"1\" stroke=\"#000000\" stroke-opacity=\"1\" stroke-width=\"3.2\"/>\n",
       "<circle clip-path=\"url(#clip842)\" cx=\"935.501\" cy=\"1380.93\" r=\"14\" fill=\"#008000\" fill-rule=\"evenodd\" fill-opacity=\"1\" stroke=\"#000000\" stroke-opacity=\"1\" stroke-width=\"3.2\"/>\n",
       "<circle clip-path=\"url(#clip842)\" cx=\"946.7\" cy=\"1414.19\" r=\"14\" fill=\"#008000\" fill-rule=\"evenodd\" fill-opacity=\"1\" stroke=\"#000000\" stroke-opacity=\"1\" stroke-width=\"3.2\"/>\n",
       "<circle clip-path=\"url(#clip842)\" cx=\"957.899\" cy=\"1464.32\" r=\"14\" fill=\"#008000\" fill-rule=\"evenodd\" fill-opacity=\"1\" stroke=\"#000000\" stroke-opacity=\"1\" stroke-width=\"3.2\"/>\n",
       "<circle clip-path=\"url(#clip842)\" cx=\"969.098\" cy=\"922.661\" r=\"14\" fill=\"#008000\" fill-rule=\"evenodd\" fill-opacity=\"1\" stroke=\"#000000\" stroke-opacity=\"1\" stroke-width=\"3.2\"/>\n",
       "<circle clip-path=\"url(#clip842)\" cx=\"980.297\" cy=\"795.554\" r=\"14\" fill=\"#008000\" fill-rule=\"evenodd\" fill-opacity=\"1\" stroke=\"#000000\" stroke-opacity=\"1\" stroke-width=\"3.2\"/>\n",
       "<circle clip-path=\"url(#clip842)\" cx=\"991.497\" cy=\"1485.39\" r=\"14\" fill=\"#008000\" fill-rule=\"evenodd\" fill-opacity=\"1\" stroke=\"#000000\" stroke-opacity=\"1\" stroke-width=\"3.2\"/>\n",
       "<circle clip-path=\"url(#clip842)\" cx=\"1002.7\" cy=\"1277.25\" r=\"14\" fill=\"#008000\" fill-rule=\"evenodd\" fill-opacity=\"1\" stroke=\"#000000\" stroke-opacity=\"1\" stroke-width=\"3.2\"/>\n",
       "<circle clip-path=\"url(#clip842)\" cx=\"1013.89\" cy=\"1450.05\" r=\"14\" fill=\"#008000\" fill-rule=\"evenodd\" fill-opacity=\"1\" stroke=\"#000000\" stroke-opacity=\"1\" stroke-width=\"3.2\"/>\n",
       "<circle clip-path=\"url(#clip842)\" cx=\"1025.09\" cy=\"1280.28\" r=\"14\" fill=\"#008000\" fill-rule=\"evenodd\" fill-opacity=\"1\" stroke=\"#000000\" stroke-opacity=\"1\" stroke-width=\"3.2\"/>\n",
       "<circle clip-path=\"url(#clip842)\" cx=\"1036.29\" cy=\"1054.02\" r=\"14\" fill=\"#008000\" fill-rule=\"evenodd\" fill-opacity=\"1\" stroke=\"#000000\" stroke-opacity=\"1\" stroke-width=\"3.2\"/>\n",
       "<circle clip-path=\"url(#clip842)\" cx=\"1047.49\" cy=\"1129.28\" r=\"14\" fill=\"#008000\" fill-rule=\"evenodd\" fill-opacity=\"1\" stroke=\"#000000\" stroke-opacity=\"1\" stroke-width=\"3.2\"/>\n",
       "<circle clip-path=\"url(#clip842)\" cx=\"1058.69\" cy=\"1485.27\" r=\"14\" fill=\"#008000\" fill-rule=\"evenodd\" fill-opacity=\"1\" stroke=\"#000000\" stroke-opacity=\"1\" stroke-width=\"3.2\"/>\n",
       "<circle clip-path=\"url(#clip842)\" cx=\"1069.89\" cy=\"711.553\" r=\"14\" fill=\"#008000\" fill-rule=\"evenodd\" fill-opacity=\"1\" stroke=\"#000000\" stroke-opacity=\"1\" stroke-width=\"3.2\"/>\n",
       "<circle clip-path=\"url(#clip842)\" cx=\"1081.09\" cy=\"1316.43\" r=\"14\" fill=\"#008000\" fill-rule=\"evenodd\" fill-opacity=\"1\" stroke=\"#000000\" stroke-opacity=\"1\" stroke-width=\"3.2\"/>\n",
       "<circle clip-path=\"url(#clip842)\" cx=\"1092.29\" cy=\"1482.22\" r=\"14\" fill=\"#008000\" fill-rule=\"evenodd\" fill-opacity=\"1\" stroke=\"#000000\" stroke-opacity=\"1\" stroke-width=\"3.2\"/>\n",
       "<circle clip-path=\"url(#clip842)\" cx=\"1103.49\" cy=\"1486.45\" r=\"14\" fill=\"#008000\" fill-rule=\"evenodd\" fill-opacity=\"1\" stroke=\"#000000\" stroke-opacity=\"1\" stroke-width=\"3.2\"/>\n",
       "<circle clip-path=\"url(#clip842)\" cx=\"1114.69\" cy=\"1480.98\" r=\"14\" fill=\"#008000\" fill-rule=\"evenodd\" fill-opacity=\"1\" stroke=\"#000000\" stroke-opacity=\"1\" stroke-width=\"3.2\"/>\n",
       "<circle clip-path=\"url(#clip842)\" cx=\"1125.89\" cy=\"1459.83\" r=\"14\" fill=\"#008000\" fill-rule=\"evenodd\" fill-opacity=\"1\" stroke=\"#000000\" stroke-opacity=\"1\" stroke-width=\"3.2\"/>\n",
       "<circle clip-path=\"url(#clip842)\" cx=\"1137.09\" cy=\"1430.97\" r=\"14\" fill=\"#008000\" fill-rule=\"evenodd\" fill-opacity=\"1\" stroke=\"#000000\" stroke-opacity=\"1\" stroke-width=\"3.2\"/>\n",
       "<circle clip-path=\"url(#clip842)\" cx=\"1159.48\" cy=\"1027.62\" r=\"14\" fill=\"#008000\" fill-rule=\"evenodd\" fill-opacity=\"1\" stroke=\"#000000\" stroke-opacity=\"1\" stroke-width=\"3.2\"/>\n",
       "<circle clip-path=\"url(#clip842)\" cx=\"1170.68\" cy=\"1486.14\" r=\"14\" fill=\"#008000\" fill-rule=\"evenodd\" fill-opacity=\"1\" stroke=\"#000000\" stroke-opacity=\"1\" stroke-width=\"3.2\"/>\n",
       "<circle clip-path=\"url(#clip842)\" cx=\"1181.88\" cy=\"1485.25\" r=\"14\" fill=\"#008000\" fill-rule=\"evenodd\" fill-opacity=\"1\" stroke=\"#000000\" stroke-opacity=\"1\" stroke-width=\"3.2\"/>\n",
       "<circle clip-path=\"url(#clip842)\" cx=\"1193.08\" cy=\"1106.36\" r=\"14\" fill=\"#008000\" fill-rule=\"evenodd\" fill-opacity=\"1\" stroke=\"#000000\" stroke-opacity=\"1\" stroke-width=\"3.2\"/>\n",
       "<circle clip-path=\"url(#clip842)\" cx=\"1204.28\" cy=\"1486.45\" r=\"14\" fill=\"#008000\" fill-rule=\"evenodd\" fill-opacity=\"1\" stroke=\"#000000\" stroke-opacity=\"1\" stroke-width=\"3.2\"/>\n",
       "<circle clip-path=\"url(#clip842)\" cx=\"1215.48\" cy=\"1486.45\" r=\"14\" fill=\"#008000\" fill-rule=\"evenodd\" fill-opacity=\"1\" stroke=\"#000000\" stroke-opacity=\"1\" stroke-width=\"3.2\"/>\n",
       "<circle clip-path=\"url(#clip842)\" cx=\"1226.68\" cy=\"704.451\" r=\"14\" fill=\"#008000\" fill-rule=\"evenodd\" fill-opacity=\"1\" stroke=\"#000000\" stroke-opacity=\"1\" stroke-width=\"3.2\"/>\n",
       "<circle clip-path=\"url(#clip842)\" cx=\"1237.88\" cy=\"1486.45\" r=\"14\" fill=\"#008000\" fill-rule=\"evenodd\" fill-opacity=\"1\" stroke=\"#000000\" stroke-opacity=\"1\" stroke-width=\"3.2\"/>\n",
       "<circle clip-path=\"url(#clip842)\" cx=\"1249.08\" cy=\"1486.25\" r=\"14\" fill=\"#008000\" fill-rule=\"evenodd\" fill-opacity=\"1\" stroke=\"#000000\" stroke-opacity=\"1\" stroke-width=\"3.2\"/>\n",
       "<circle clip-path=\"url(#clip842)\" cx=\"1260.28\" cy=\"1486.45\" r=\"14\" fill=\"#008000\" fill-rule=\"evenodd\" fill-opacity=\"1\" stroke=\"#000000\" stroke-opacity=\"1\" stroke-width=\"3.2\"/>\n",
       "<circle clip-path=\"url(#clip842)\" cx=\"1271.48\" cy=\"1486.45\" r=\"14\" fill=\"#008000\" fill-rule=\"evenodd\" fill-opacity=\"1\" stroke=\"#000000\" stroke-opacity=\"1\" stroke-width=\"3.2\"/>\n",
       "<circle clip-path=\"url(#clip842)\" cx=\"1282.68\" cy=\"1486.18\" r=\"14\" fill=\"#008000\" fill-rule=\"evenodd\" fill-opacity=\"1\" stroke=\"#000000\" stroke-opacity=\"1\" stroke-width=\"3.2\"/>\n",
       "<circle clip-path=\"url(#clip842)\" cx=\"1293.87\" cy=\"1486.45\" r=\"14\" fill=\"#008000\" fill-rule=\"evenodd\" fill-opacity=\"1\" stroke=\"#000000\" stroke-opacity=\"1\" stroke-width=\"3.2\"/>\n",
       "<circle clip-path=\"url(#clip842)\" cx=\"1305.07\" cy=\"1486.44\" r=\"14\" fill=\"#008000\" fill-rule=\"evenodd\" fill-opacity=\"1\" stroke=\"#000000\" stroke-opacity=\"1\" stroke-width=\"3.2\"/>\n",
       "<circle clip-path=\"url(#clip842)\" cx=\"1316.27\" cy=\"1486.45\" r=\"14\" fill=\"#008000\" fill-rule=\"evenodd\" fill-opacity=\"1\" stroke=\"#000000\" stroke-opacity=\"1\" stroke-width=\"3.2\"/>\n",
       "<circle clip-path=\"url(#clip842)\" cx=\"1327.47\" cy=\"1486.08\" r=\"14\" fill=\"#008000\" fill-rule=\"evenodd\" fill-opacity=\"1\" stroke=\"#000000\" stroke-opacity=\"1\" stroke-width=\"3.2\"/>\n",
       "<circle clip-path=\"url(#clip842)\" cx=\"1338.67\" cy=\"1470.71\" r=\"14\" fill=\"#008000\" fill-rule=\"evenodd\" fill-opacity=\"1\" stroke=\"#000000\" stroke-opacity=\"1\" stroke-width=\"3.2\"/>\n",
       "<circle clip-path=\"url(#clip842)\" cx=\"1349.87\" cy=\"1486.45\" r=\"14\" fill=\"#008000\" fill-rule=\"evenodd\" fill-opacity=\"1\" stroke=\"#000000\" stroke-opacity=\"1\" stroke-width=\"3.2\"/>\n",
       "<circle clip-path=\"url(#clip842)\" cx=\"1361.07\" cy=\"1486.45\" r=\"14\" fill=\"#008000\" fill-rule=\"evenodd\" fill-opacity=\"1\" stroke=\"#000000\" stroke-opacity=\"1\" stroke-width=\"3.2\"/>\n",
       "<circle clip-path=\"url(#clip842)\" cx=\"1372.27\" cy=\"1483.88\" r=\"14\" fill=\"#008000\" fill-rule=\"evenodd\" fill-opacity=\"1\" stroke=\"#000000\" stroke-opacity=\"1\" stroke-width=\"3.2\"/>\n",
       "<circle clip-path=\"url(#clip842)\" cx=\"1383.47\" cy=\"1486.35\" r=\"14\" fill=\"#008000\" fill-rule=\"evenodd\" fill-opacity=\"1\" stroke=\"#000000\" stroke-opacity=\"1\" stroke-width=\"3.2\"/>\n",
       "<circle clip-path=\"url(#clip842)\" cx=\"1394.67\" cy=\"1486.45\" r=\"14\" fill=\"#008000\" fill-rule=\"evenodd\" fill-opacity=\"1\" stroke=\"#000000\" stroke-opacity=\"1\" stroke-width=\"3.2\"/>\n",
       "<circle clip-path=\"url(#clip842)\" cx=\"1405.87\" cy=\"1486.36\" r=\"14\" fill=\"#008000\" fill-rule=\"evenodd\" fill-opacity=\"1\" stroke=\"#000000\" stroke-opacity=\"1\" stroke-width=\"3.2\"/>\n",
       "<circle clip-path=\"url(#clip842)\" cx=\"1417.07\" cy=\"1486.21\" r=\"14\" fill=\"#008000\" fill-rule=\"evenodd\" fill-opacity=\"1\" stroke=\"#000000\" stroke-opacity=\"1\" stroke-width=\"3.2\"/>\n",
       "<circle clip-path=\"url(#clip842)\" cx=\"1428.26\" cy=\"1486.39\" r=\"14\" fill=\"#008000\" fill-rule=\"evenodd\" fill-opacity=\"1\" stroke=\"#000000\" stroke-opacity=\"1\" stroke-width=\"3.2\"/>\n",
       "<circle clip-path=\"url(#clip842)\" cx=\"1439.46\" cy=\"1485.39\" r=\"14\" fill=\"#008000\" fill-rule=\"evenodd\" fill-opacity=\"1\" stroke=\"#000000\" stroke-opacity=\"1\" stroke-width=\"3.2\"/>\n",
       "<circle clip-path=\"url(#clip842)\" cx=\"1450.66\" cy=\"1486.37\" r=\"14\" fill=\"#008000\" fill-rule=\"evenodd\" fill-opacity=\"1\" stroke=\"#000000\" stroke-opacity=\"1\" stroke-width=\"3.2\"/>\n",
       "<circle clip-path=\"url(#clip842)\" cx=\"1461.86\" cy=\"1426.32\" r=\"14\" fill=\"#008000\" fill-rule=\"evenodd\" fill-opacity=\"1\" stroke=\"#000000\" stroke-opacity=\"1\" stroke-width=\"3.2\"/>\n",
       "<circle clip-path=\"url(#clip842)\" cx=\"1473.06\" cy=\"1486.45\" r=\"14\" fill=\"#008000\" fill-rule=\"evenodd\" fill-opacity=\"1\" stroke=\"#000000\" stroke-opacity=\"1\" stroke-width=\"3.2\"/>\n",
       "<circle clip-path=\"url(#clip842)\" cx=\"1484.26\" cy=\"1486.45\" r=\"14\" fill=\"#008000\" fill-rule=\"evenodd\" fill-opacity=\"1\" stroke=\"#000000\" stroke-opacity=\"1\" stroke-width=\"3.2\"/>\n",
       "<circle clip-path=\"url(#clip842)\" cx=\"1495.46\" cy=\"1485.94\" r=\"14\" fill=\"#008000\" fill-rule=\"evenodd\" fill-opacity=\"1\" stroke=\"#000000\" stroke-opacity=\"1\" stroke-width=\"3.2\"/>\n",
       "<circle clip-path=\"url(#clip842)\" cx=\"1506.66\" cy=\"1481.38\" r=\"14\" fill=\"#008000\" fill-rule=\"evenodd\" fill-opacity=\"1\" stroke=\"#000000\" stroke-opacity=\"1\" stroke-width=\"3.2\"/>\n",
       "<circle clip-path=\"url(#clip842)\" cx=\"1517.86\" cy=\"1486\" r=\"14\" fill=\"#008000\" fill-rule=\"evenodd\" fill-opacity=\"1\" stroke=\"#000000\" stroke-opacity=\"1\" stroke-width=\"3.2\"/>\n",
       "<circle clip-path=\"url(#clip842)\" cx=\"1529.06\" cy=\"1486.45\" r=\"14\" fill=\"#008000\" fill-rule=\"evenodd\" fill-opacity=\"1\" stroke=\"#000000\" stroke-opacity=\"1\" stroke-width=\"3.2\"/>\n",
       "<circle clip-path=\"url(#clip842)\" cx=\"1540.26\" cy=\"1486.41\" r=\"14\" fill=\"#008000\" fill-rule=\"evenodd\" fill-opacity=\"1\" stroke=\"#000000\" stroke-opacity=\"1\" stroke-width=\"3.2\"/>\n",
       "<circle clip-path=\"url(#clip842)\" cx=\"1551.46\" cy=\"1486.44\" r=\"14\" fill=\"#008000\" fill-rule=\"evenodd\" fill-opacity=\"1\" stroke=\"#000000\" stroke-opacity=\"1\" stroke-width=\"3.2\"/>\n",
       "<circle clip-path=\"url(#clip842)\" cx=\"1562.65\" cy=\"1486.45\" r=\"14\" fill=\"#008000\" fill-rule=\"evenodd\" fill-opacity=\"1\" stroke=\"#000000\" stroke-opacity=\"1\" stroke-width=\"3.2\"/>\n",
       "<circle clip-path=\"url(#clip842)\" cx=\"1573.85\" cy=\"1486.44\" r=\"14\" fill=\"#008000\" fill-rule=\"evenodd\" fill-opacity=\"1\" stroke=\"#000000\" stroke-opacity=\"1\" stroke-width=\"3.2\"/>\n",
       "<circle clip-path=\"url(#clip842)\" cx=\"1585.05\" cy=\"1486.45\" r=\"14\" fill=\"#008000\" fill-rule=\"evenodd\" fill-opacity=\"1\" stroke=\"#000000\" stroke-opacity=\"1\" stroke-width=\"3.2\"/>\n",
       "<circle clip-path=\"url(#clip842)\" cx=\"1596.25\" cy=\"1486.45\" r=\"14\" fill=\"#008000\" fill-rule=\"evenodd\" fill-opacity=\"1\" stroke=\"#000000\" stroke-opacity=\"1\" stroke-width=\"3.2\"/>\n",
       "<circle clip-path=\"url(#clip842)\" cx=\"1607.45\" cy=\"1486.41\" r=\"14\" fill=\"#008000\" fill-rule=\"evenodd\" fill-opacity=\"1\" stroke=\"#000000\" stroke-opacity=\"1\" stroke-width=\"3.2\"/>\n",
       "<circle clip-path=\"url(#clip842)\" cx=\"1629.85\" cy=\"1486.23\" r=\"14\" fill=\"#008000\" fill-rule=\"evenodd\" fill-opacity=\"1\" stroke=\"#000000\" stroke-opacity=\"1\" stroke-width=\"3.2\"/>\n",
       "<circle clip-path=\"url(#clip842)\" cx=\"1641.05\" cy=\"1486.45\" r=\"14\" fill=\"#008000\" fill-rule=\"evenodd\" fill-opacity=\"1\" stroke=\"#000000\" stroke-opacity=\"1\" stroke-width=\"3.2\"/>\n",
       "<circle clip-path=\"url(#clip842)\" cx=\"1652.25\" cy=\"1486.45\" r=\"14\" fill=\"#008000\" fill-rule=\"evenodd\" fill-opacity=\"1\" stroke=\"#000000\" stroke-opacity=\"1\" stroke-width=\"3.2\"/>\n",
       "<circle clip-path=\"url(#clip842)\" cx=\"1663.45\" cy=\"1483.28\" r=\"14\" fill=\"#008000\" fill-rule=\"evenodd\" fill-opacity=\"1\" stroke=\"#000000\" stroke-opacity=\"1\" stroke-width=\"3.2\"/>\n",
       "<circle clip-path=\"url(#clip842)\" cx=\"1674.65\" cy=\"1485.6\" r=\"14\" fill=\"#008000\" fill-rule=\"evenodd\" fill-opacity=\"1\" stroke=\"#000000\" stroke-opacity=\"1\" stroke-width=\"3.2\"/>\n",
       "<circle clip-path=\"url(#clip842)\" cx=\"1685.85\" cy=\"1485.07\" r=\"14\" fill=\"#008000\" fill-rule=\"evenodd\" fill-opacity=\"1\" stroke=\"#000000\" stroke-opacity=\"1\" stroke-width=\"3.2\"/>\n",
       "<circle clip-path=\"url(#clip842)\" cx=\"1697.04\" cy=\"1483.93\" r=\"14\" fill=\"#008000\" fill-rule=\"evenodd\" fill-opacity=\"1\" stroke=\"#000000\" stroke-opacity=\"1\" stroke-width=\"3.2\"/>\n",
       "<circle clip-path=\"url(#clip842)\" cx=\"1708.24\" cy=\"1486\" r=\"14\" fill=\"#008000\" fill-rule=\"evenodd\" fill-opacity=\"1\" stroke=\"#000000\" stroke-opacity=\"1\" stroke-width=\"3.2\"/>\n",
       "<circle clip-path=\"url(#clip842)\" cx=\"1719.44\" cy=\"1486.45\" r=\"14\" fill=\"#008000\" fill-rule=\"evenodd\" fill-opacity=\"1\" stroke=\"#000000\" stroke-opacity=\"1\" stroke-width=\"3.2\"/>\n",
       "<circle clip-path=\"url(#clip842)\" cx=\"1730.64\" cy=\"1486.26\" r=\"14\" fill=\"#008000\" fill-rule=\"evenodd\" fill-opacity=\"1\" stroke=\"#000000\" stroke-opacity=\"1\" stroke-width=\"3.2\"/>\n",
       "<circle clip-path=\"url(#clip842)\" cx=\"1741.84\" cy=\"1483.12\" r=\"14\" fill=\"#008000\" fill-rule=\"evenodd\" fill-opacity=\"1\" stroke=\"#000000\" stroke-opacity=\"1\" stroke-width=\"3.2\"/>\n",
       "<circle clip-path=\"url(#clip842)\" cx=\"1753.04\" cy=\"1484.41\" r=\"14\" fill=\"#008000\" fill-rule=\"evenodd\" fill-opacity=\"1\" stroke=\"#000000\" stroke-opacity=\"1\" stroke-width=\"3.2\"/>\n",
       "<circle clip-path=\"url(#clip842)\" cx=\"1764.24\" cy=\"1486.37\" r=\"14\" fill=\"#008000\" fill-rule=\"evenodd\" fill-opacity=\"1\" stroke=\"#000000\" stroke-opacity=\"1\" stroke-width=\"3.2\"/>\n",
       "<circle clip-path=\"url(#clip842)\" cx=\"1775.44\" cy=\"1485.8\" r=\"14\" fill=\"#008000\" fill-rule=\"evenodd\" fill-opacity=\"1\" stroke=\"#000000\" stroke-opacity=\"1\" stroke-width=\"3.2\"/>\n",
       "<circle clip-path=\"url(#clip842)\" cx=\"1786.64\" cy=\"1486.45\" r=\"14\" fill=\"#008000\" fill-rule=\"evenodd\" fill-opacity=\"1\" stroke=\"#000000\" stroke-opacity=\"1\" stroke-width=\"3.2\"/>\n",
       "<circle clip-path=\"url(#clip842)\" cx=\"1797.84\" cy=\"1486.45\" r=\"14\" fill=\"#008000\" fill-rule=\"evenodd\" fill-opacity=\"1\" stroke=\"#000000\" stroke-opacity=\"1\" stroke-width=\"3.2\"/>\n",
       "<circle clip-path=\"url(#clip842)\" cx=\"1809.04\" cy=\"1483.37\" r=\"14\" fill=\"#008000\" fill-rule=\"evenodd\" fill-opacity=\"1\" stroke=\"#000000\" stroke-opacity=\"1\" stroke-width=\"3.2\"/>\n",
       "<circle clip-path=\"url(#clip842)\" cx=\"1820.24\" cy=\"1486.45\" r=\"14\" fill=\"#008000\" fill-rule=\"evenodd\" fill-opacity=\"1\" stroke=\"#000000\" stroke-opacity=\"1\" stroke-width=\"3.2\"/>\n",
       "<circle clip-path=\"url(#clip842)\" cx=\"1831.43\" cy=\"1486\" r=\"14\" fill=\"#008000\" fill-rule=\"evenodd\" fill-opacity=\"1\" stroke=\"#000000\" stroke-opacity=\"1\" stroke-width=\"3.2\"/>\n",
       "<circle clip-path=\"url(#clip842)\" cx=\"1842.63\" cy=\"1486.24\" r=\"14\" fill=\"#008000\" fill-rule=\"evenodd\" fill-opacity=\"1\" stroke=\"#000000\" stroke-opacity=\"1\" stroke-width=\"3.2\"/>\n",
       "<circle clip-path=\"url(#clip842)\" cx=\"1853.83\" cy=\"1465.16\" r=\"14\" fill=\"#008000\" fill-rule=\"evenodd\" fill-opacity=\"1\" stroke=\"#000000\" stroke-opacity=\"1\" stroke-width=\"3.2\"/>\n",
       "<circle clip-path=\"url(#clip842)\" cx=\"1865.03\" cy=\"1482.37\" r=\"14\" fill=\"#008000\" fill-rule=\"evenodd\" fill-opacity=\"1\" stroke=\"#000000\" stroke-opacity=\"1\" stroke-width=\"3.2\"/>\n",
       "<circle clip-path=\"url(#clip842)\" cx=\"1876.23\" cy=\"1485.58\" r=\"14\" fill=\"#008000\" fill-rule=\"evenodd\" fill-opacity=\"1\" stroke=\"#000000\" stroke-opacity=\"1\" stroke-width=\"3.2\"/>\n",
       "<circle clip-path=\"url(#clip842)\" cx=\"1887.43\" cy=\"1486.45\" r=\"14\" fill=\"#008000\" fill-rule=\"evenodd\" fill-opacity=\"1\" stroke=\"#000000\" stroke-opacity=\"1\" stroke-width=\"3.2\"/>\n",
       "<circle clip-path=\"url(#clip842)\" cx=\"1898.63\" cy=\"1486.45\" r=\"14\" fill=\"#008000\" fill-rule=\"evenodd\" fill-opacity=\"1\" stroke=\"#000000\" stroke-opacity=\"1\" stroke-width=\"3.2\"/>\n",
       "<circle clip-path=\"url(#clip842)\" cx=\"1909.83\" cy=\"1486.45\" r=\"14\" fill=\"#008000\" fill-rule=\"evenodd\" fill-opacity=\"1\" stroke=\"#000000\" stroke-opacity=\"1\" stroke-width=\"3.2\"/>\n",
       "<circle clip-path=\"url(#clip842)\" cx=\"1921.03\" cy=\"1483.84\" r=\"14\" fill=\"#008000\" fill-rule=\"evenodd\" fill-opacity=\"1\" stroke=\"#000000\" stroke-opacity=\"1\" stroke-width=\"3.2\"/>\n",
       "<circle clip-path=\"url(#clip842)\" cx=\"1932.23\" cy=\"1486.45\" r=\"14\" fill=\"#008000\" fill-rule=\"evenodd\" fill-opacity=\"1\" stroke=\"#000000\" stroke-opacity=\"1\" stroke-width=\"3.2\"/>\n",
       "<circle clip-path=\"url(#clip842)\" cx=\"1943.43\" cy=\"1486.26\" r=\"14\" fill=\"#008000\" fill-rule=\"evenodd\" fill-opacity=\"1\" stroke=\"#000000\" stroke-opacity=\"1\" stroke-width=\"3.2\"/>\n",
       "<circle clip-path=\"url(#clip842)\" cx=\"1954.63\" cy=\"1486.41\" r=\"14\" fill=\"#008000\" fill-rule=\"evenodd\" fill-opacity=\"1\" stroke=\"#000000\" stroke-opacity=\"1\" stroke-width=\"3.2\"/>\n",
       "<circle clip-path=\"url(#clip842)\" cx=\"1965.82\" cy=\"1486.45\" r=\"14\" fill=\"#008000\" fill-rule=\"evenodd\" fill-opacity=\"1\" stroke=\"#000000\" stroke-opacity=\"1\" stroke-width=\"3.2\"/>\n",
       "<circle clip-path=\"url(#clip842)\" cx=\"1977.02\" cy=\"1486.35\" r=\"14\" fill=\"#008000\" fill-rule=\"evenodd\" fill-opacity=\"1\" stroke=\"#000000\" stroke-opacity=\"1\" stroke-width=\"3.2\"/>\n",
       "<circle clip-path=\"url(#clip842)\" cx=\"1988.22\" cy=\"1486.45\" r=\"14\" fill=\"#008000\" fill-rule=\"evenodd\" fill-opacity=\"1\" stroke=\"#000000\" stroke-opacity=\"1\" stroke-width=\"3.2\"/>\n",
       "<circle clip-path=\"url(#clip842)\" cx=\"1999.42\" cy=\"1486.19\" r=\"14\" fill=\"#008000\" fill-rule=\"evenodd\" fill-opacity=\"1\" stroke=\"#000000\" stroke-opacity=\"1\" stroke-width=\"3.2\"/>\n",
       "<circle clip-path=\"url(#clip842)\" cx=\"2010.62\" cy=\"1486.35\" r=\"14\" fill=\"#008000\" fill-rule=\"evenodd\" fill-opacity=\"1\" stroke=\"#000000\" stroke-opacity=\"1\" stroke-width=\"3.2\"/>\n",
       "<circle clip-path=\"url(#clip842)\" cx=\"2021.82\" cy=\"1486.45\" r=\"14\" fill=\"#008000\" fill-rule=\"evenodd\" fill-opacity=\"1\" stroke=\"#000000\" stroke-opacity=\"1\" stroke-width=\"3.2\"/>\n",
       "<circle clip-path=\"url(#clip842)\" cx=\"2033.02\" cy=\"1486.45\" r=\"14\" fill=\"#008000\" fill-rule=\"evenodd\" fill-opacity=\"1\" stroke=\"#000000\" stroke-opacity=\"1\" stroke-width=\"3.2\"/>\n",
       "<circle clip-path=\"url(#clip842)\" cx=\"2044.22\" cy=\"1486.45\" r=\"14\" fill=\"#008000\" fill-rule=\"evenodd\" fill-opacity=\"1\" stroke=\"#000000\" stroke-opacity=\"1\" stroke-width=\"3.2\"/>\n",
       "<circle clip-path=\"url(#clip842)\" cx=\"2055.42\" cy=\"1486.43\" r=\"14\" fill=\"#008000\" fill-rule=\"evenodd\" fill-opacity=\"1\" stroke=\"#000000\" stroke-opacity=\"1\" stroke-width=\"3.2\"/>\n",
       "<circle clip-path=\"url(#clip842)\" cx=\"2066.62\" cy=\"1486.44\" r=\"14\" fill=\"#008000\" fill-rule=\"evenodd\" fill-opacity=\"1\" stroke=\"#000000\" stroke-opacity=\"1\" stroke-width=\"3.2\"/>\n",
       "<circle clip-path=\"url(#clip842)\" cx=\"2077.82\" cy=\"1486.45\" r=\"14\" fill=\"#008000\" fill-rule=\"evenodd\" fill-opacity=\"1\" stroke=\"#000000\" stroke-opacity=\"1\" stroke-width=\"3.2\"/>\n",
       "<circle clip-path=\"url(#clip842)\" cx=\"2089.02\" cy=\"1473.21\" r=\"14\" fill=\"#008000\" fill-rule=\"evenodd\" fill-opacity=\"1\" stroke=\"#000000\" stroke-opacity=\"1\" stroke-width=\"3.2\"/>\n",
       "<circle clip-path=\"url(#clip842)\" cx=\"2100.21\" cy=\"1486.39\" r=\"14\" fill=\"#008000\" fill-rule=\"evenodd\" fill-opacity=\"1\" stroke=\"#000000\" stroke-opacity=\"1\" stroke-width=\"3.2\"/>\n",
       "<circle clip-path=\"url(#clip842)\" cx=\"2111.41\" cy=\"1486.45\" r=\"14\" fill=\"#008000\" fill-rule=\"evenodd\" fill-opacity=\"1\" stroke=\"#000000\" stroke-opacity=\"1\" stroke-width=\"3.2\"/>\n",
       "<circle clip-path=\"url(#clip842)\" cx=\"2122.61\" cy=\"1486.45\" r=\"14\" fill=\"#008000\" fill-rule=\"evenodd\" fill-opacity=\"1\" stroke=\"#000000\" stroke-opacity=\"1\" stroke-width=\"3.2\"/>\n",
       "<circle clip-path=\"url(#clip842)\" cx=\"2133.81\" cy=\"1486.45\" r=\"14\" fill=\"#008000\" fill-rule=\"evenodd\" fill-opacity=\"1\" stroke=\"#000000\" stroke-opacity=\"1\" stroke-width=\"3.2\"/>\n",
       "<circle clip-path=\"url(#clip842)\" cx=\"2145.01\" cy=\"1485.82\" r=\"14\" fill=\"#008000\" fill-rule=\"evenodd\" fill-opacity=\"1\" stroke=\"#000000\" stroke-opacity=\"1\" stroke-width=\"3.2\"/>\n",
       "<circle clip-path=\"url(#clip842)\" cx=\"2156.21\" cy=\"1486.43\" r=\"14\" fill=\"#008000\" fill-rule=\"evenodd\" fill-opacity=\"1\" stroke=\"#000000\" stroke-opacity=\"1\" stroke-width=\"3.2\"/>\n",
       "<circle clip-path=\"url(#clip842)\" cx=\"2167.41\" cy=\"1486.45\" r=\"14\" fill=\"#008000\" fill-rule=\"evenodd\" fill-opacity=\"1\" stroke=\"#000000\" stroke-opacity=\"1\" stroke-width=\"3.2\"/>\n",
       "<circle clip-path=\"url(#clip842)\" cx=\"2178.61\" cy=\"1486.45\" r=\"14\" fill=\"#008000\" fill-rule=\"evenodd\" fill-opacity=\"1\" stroke=\"#000000\" stroke-opacity=\"1\" stroke-width=\"3.2\"/>\n",
       "<circle clip-path=\"url(#clip842)\" cx=\"2189.81\" cy=\"1486.29\" r=\"14\" fill=\"#008000\" fill-rule=\"evenodd\" fill-opacity=\"1\" stroke=\"#000000\" stroke-opacity=\"1\" stroke-width=\"3.2\"/>\n",
       "<circle clip-path=\"url(#clip842)\" cx=\"2201.01\" cy=\"1486.45\" r=\"14\" fill=\"#008000\" fill-rule=\"evenodd\" fill-opacity=\"1\" stroke=\"#000000\" stroke-opacity=\"1\" stroke-width=\"3.2\"/>\n",
       "<circle clip-path=\"url(#clip842)\" cx=\"2212.21\" cy=\"1486.05\" r=\"14\" fill=\"#008000\" fill-rule=\"evenodd\" fill-opacity=\"1\" stroke=\"#000000\" stroke-opacity=\"1\" stroke-width=\"3.2\"/>\n",
       "<circle clip-path=\"url(#clip842)\" cx=\"2223.41\" cy=\"1486.42\" r=\"14\" fill=\"#008000\" fill-rule=\"evenodd\" fill-opacity=\"1\" stroke=\"#000000\" stroke-opacity=\"1\" stroke-width=\"3.2\"/>\n",
       "<circle clip-path=\"url(#clip842)\" cx=\"2234.6\" cy=\"1486.1\" r=\"14\" fill=\"#008000\" fill-rule=\"evenodd\" fill-opacity=\"1\" stroke=\"#000000\" stroke-opacity=\"1\" stroke-width=\"3.2\"/>\n",
       "<circle clip-path=\"url(#clip842)\" cx=\"2245.8\" cy=\"1451.55\" r=\"14\" fill=\"#008000\" fill-rule=\"evenodd\" fill-opacity=\"1\" stroke=\"#000000\" stroke-opacity=\"1\" stroke-width=\"3.2\"/>\n",
       "<circle clip-path=\"url(#clip842)\" cx=\"2257\" cy=\"1486.45\" r=\"14\" fill=\"#008000\" fill-rule=\"evenodd\" fill-opacity=\"1\" stroke=\"#000000\" stroke-opacity=\"1\" stroke-width=\"3.2\"/>\n",
       "<circle clip-path=\"url(#clip842)\" cx=\"2268.2\" cy=\"1330.89\" r=\"14\" fill=\"#008000\" fill-rule=\"evenodd\" fill-opacity=\"1\" stroke=\"#000000\" stroke-opacity=\"1\" stroke-width=\"3.2\"/>\n",
       "<circle clip-path=\"url(#clip842)\" cx=\"2279.4\" cy=\"1486.45\" r=\"14\" fill=\"#008000\" fill-rule=\"evenodd\" fill-opacity=\"1\" stroke=\"#000000\" stroke-opacity=\"1\" stroke-width=\"3.2\"/>\n",
       "<circle clip-path=\"url(#clip842)\" cx=\"2290.6\" cy=\"1482.39\" r=\"14\" fill=\"#008000\" fill-rule=\"evenodd\" fill-opacity=\"1\" stroke=\"#000000\" stroke-opacity=\"1\" stroke-width=\"3.2\"/>\n",
       "<circle clip-path=\"url(#clip842)\" cx=\"218.754\" cy=\"1451.47\" r=\"14\" fill=\"#ff0000\" fill-rule=\"evenodd\" fill-opacity=\"1\" stroke=\"#000000\" stroke-opacity=\"1\" stroke-width=\"3.2\"/>\n",
       "<circle clip-path=\"url(#clip842)\" cx=\"229.953\" cy=\"1486.39\" r=\"14\" fill=\"#ff0000\" fill-rule=\"evenodd\" fill-opacity=\"1\" stroke=\"#000000\" stroke-opacity=\"1\" stroke-width=\"3.2\"/>\n",
       "<circle clip-path=\"url(#clip842)\" cx=\"241.152\" cy=\"1471.39\" r=\"14\" fill=\"#ff0000\" fill-rule=\"evenodd\" fill-opacity=\"1\" stroke=\"#000000\" stroke-opacity=\"1\" stroke-width=\"3.2\"/>\n",
       "<circle clip-path=\"url(#clip842)\" cx=\"252.351\" cy=\"1459.71\" r=\"14\" fill=\"#ff0000\" fill-rule=\"evenodd\" fill-opacity=\"1\" stroke=\"#000000\" stroke-opacity=\"1\" stroke-width=\"3.2\"/>\n",
       "<circle clip-path=\"url(#clip842)\" cx=\"263.55\" cy=\"395.296\" r=\"14\" fill=\"#ff0000\" fill-rule=\"evenodd\" fill-opacity=\"1\" stroke=\"#000000\" stroke-opacity=\"1\" stroke-width=\"3.2\"/>\n",
       "<circle clip-path=\"url(#clip842)\" cx=\"274.75\" cy=\"1486.01\" r=\"14\" fill=\"#ff0000\" fill-rule=\"evenodd\" fill-opacity=\"1\" stroke=\"#000000\" stroke-opacity=\"1\" stroke-width=\"3.2\"/>\n",
       "<circle clip-path=\"url(#clip842)\" cx=\"285.949\" cy=\"1477.67\" r=\"14\" fill=\"#ff0000\" fill-rule=\"evenodd\" fill-opacity=\"1\" stroke=\"#000000\" stroke-opacity=\"1\" stroke-width=\"3.2\"/>\n",
       "<circle clip-path=\"url(#clip842)\" cx=\"297.148\" cy=\"1473.51\" r=\"14\" fill=\"#ff0000\" fill-rule=\"evenodd\" fill-opacity=\"1\" stroke=\"#000000\" stroke-opacity=\"1\" stroke-width=\"3.2\"/>\n",
       "<circle clip-path=\"url(#clip842)\" cx=\"308.347\" cy=\"1378.35\" r=\"14\" fill=\"#ff0000\" fill-rule=\"evenodd\" fill-opacity=\"1\" stroke=\"#000000\" stroke-opacity=\"1\" stroke-width=\"3.2\"/>\n",
       "<circle clip-path=\"url(#clip842)\" cx=\"319.546\" cy=\"1484.51\" r=\"14\" fill=\"#ff0000\" fill-rule=\"evenodd\" fill-opacity=\"1\" stroke=\"#000000\" stroke-opacity=\"1\" stroke-width=\"3.2\"/>\n",
       "<circle clip-path=\"url(#clip842)\" cx=\"330.745\" cy=\"1436.48\" r=\"14\" fill=\"#ff0000\" fill-rule=\"evenodd\" fill-opacity=\"1\" stroke=\"#000000\" stroke-opacity=\"1\" stroke-width=\"3.2\"/>\n",
       "<circle clip-path=\"url(#clip842)\" cx=\"341.945\" cy=\"1483.99\" r=\"14\" fill=\"#ff0000\" fill-rule=\"evenodd\" fill-opacity=\"1\" stroke=\"#000000\" stroke-opacity=\"1\" stroke-width=\"3.2\"/>\n",
       "<circle clip-path=\"url(#clip842)\" cx=\"353.144\" cy=\"1484.86\" r=\"14\" fill=\"#ff0000\" fill-rule=\"evenodd\" fill-opacity=\"1\" stroke=\"#000000\" stroke-opacity=\"1\" stroke-width=\"3.2\"/>\n",
       "<circle clip-path=\"url(#clip842)\" cx=\"364.343\" cy=\"1485.66\" r=\"14\" fill=\"#ff0000\" fill-rule=\"evenodd\" fill-opacity=\"1\" stroke=\"#000000\" stroke-opacity=\"1\" stroke-width=\"3.2\"/>\n",
       "<circle clip-path=\"url(#clip842)\" cx=\"386.741\" cy=\"1398.41\" r=\"14\" fill=\"#ff0000\" fill-rule=\"evenodd\" fill-opacity=\"1\" stroke=\"#000000\" stroke-opacity=\"1\" stroke-width=\"3.2\"/>\n",
       "<circle clip-path=\"url(#clip842)\" cx=\"397.94\" cy=\"986.684\" r=\"14\" fill=\"#ff0000\" fill-rule=\"evenodd\" fill-opacity=\"1\" stroke=\"#000000\" stroke-opacity=\"1\" stroke-width=\"3.2\"/>\n",
       "<circle clip-path=\"url(#clip842)\" cx=\"409.14\" cy=\"1474.58\" r=\"14\" fill=\"#ff0000\" fill-rule=\"evenodd\" fill-opacity=\"1\" stroke=\"#000000\" stroke-opacity=\"1\" stroke-width=\"3.2\"/>\n",
       "<circle clip-path=\"url(#clip842)\" cx=\"420.339\" cy=\"774.344\" r=\"14\" fill=\"#ff0000\" fill-rule=\"evenodd\" fill-opacity=\"1\" stroke=\"#000000\" stroke-opacity=\"1\" stroke-width=\"3.2\"/>\n",
       "<circle clip-path=\"url(#clip842)\" cx=\"442.737\" cy=\"1484.65\" r=\"14\" fill=\"#ff0000\" fill-rule=\"evenodd\" fill-opacity=\"1\" stroke=\"#000000\" stroke-opacity=\"1\" stroke-width=\"3.2\"/>\n",
       "<circle clip-path=\"url(#clip842)\" cx=\"453.936\" cy=\"1457.57\" r=\"14\" fill=\"#ff0000\" fill-rule=\"evenodd\" fill-opacity=\"1\" stroke=\"#000000\" stroke-opacity=\"1\" stroke-width=\"3.2\"/>\n",
       "<circle clip-path=\"url(#clip842)\" cx=\"465.135\" cy=\"1111.91\" r=\"14\" fill=\"#ff0000\" fill-rule=\"evenodd\" fill-opacity=\"1\" stroke=\"#000000\" stroke-opacity=\"1\" stroke-width=\"3.2\"/>\n",
       "<circle clip-path=\"url(#clip842)\" cx=\"498.733\" cy=\"1468.72\" r=\"14\" fill=\"#ff0000\" fill-rule=\"evenodd\" fill-opacity=\"1\" stroke=\"#000000\" stroke-opacity=\"1\" stroke-width=\"3.2\"/>\n",
       "<circle clip-path=\"url(#clip842)\" cx=\"509.932\" cy=\"1452.95\" r=\"14\" fill=\"#ff0000\" fill-rule=\"evenodd\" fill-opacity=\"1\" stroke=\"#000000\" stroke-opacity=\"1\" stroke-width=\"3.2\"/>\n",
       "<circle clip-path=\"url(#clip842)\" cx=\"532.33\" cy=\"1464\" r=\"14\" fill=\"#ff0000\" fill-rule=\"evenodd\" fill-opacity=\"1\" stroke=\"#000000\" stroke-opacity=\"1\" stroke-width=\"3.2\"/>\n",
       "<circle clip-path=\"url(#clip842)\" cx=\"543.53\" cy=\"1445.75\" r=\"14\" fill=\"#ff0000\" fill-rule=\"evenodd\" fill-opacity=\"1\" stroke=\"#000000\" stroke-opacity=\"1\" stroke-width=\"3.2\"/>\n",
       "<circle clip-path=\"url(#clip842)\" cx=\"554.729\" cy=\"1478.54\" r=\"14\" fill=\"#ff0000\" fill-rule=\"evenodd\" fill-opacity=\"1\" stroke=\"#000000\" stroke-opacity=\"1\" stroke-width=\"3.2\"/>\n",
       "<circle clip-path=\"url(#clip842)\" cx=\"588.326\" cy=\"1486.45\" r=\"14\" fill=\"#ff0000\" fill-rule=\"evenodd\" fill-opacity=\"1\" stroke=\"#000000\" stroke-opacity=\"1\" stroke-width=\"3.2\"/>\n",
       "<circle clip-path=\"url(#clip842)\" cx=\"599.525\" cy=\"1473.12\" r=\"14\" fill=\"#ff0000\" fill-rule=\"evenodd\" fill-opacity=\"1\" stroke=\"#000000\" stroke-opacity=\"1\" stroke-width=\"3.2\"/>\n",
       "<circle clip-path=\"url(#clip842)\" cx=\"610.725\" cy=\"1486.42\" r=\"14\" fill=\"#ff0000\" fill-rule=\"evenodd\" fill-opacity=\"1\" stroke=\"#000000\" stroke-opacity=\"1\" stroke-width=\"3.2\"/>\n",
       "<circle clip-path=\"url(#clip842)\" cx=\"621.924\" cy=\"1430.73\" r=\"14\" fill=\"#ff0000\" fill-rule=\"evenodd\" fill-opacity=\"1\" stroke=\"#000000\" stroke-opacity=\"1\" stroke-width=\"3.2\"/>\n",
       "<circle clip-path=\"url(#clip842)\" cx=\"633.123\" cy=\"1402.21\" r=\"14\" fill=\"#ff0000\" fill-rule=\"evenodd\" fill-opacity=\"1\" stroke=\"#000000\" stroke-opacity=\"1\" stroke-width=\"3.2\"/>\n",
       "<circle clip-path=\"url(#clip842)\" cx=\"644.322\" cy=\"1485.77\" r=\"14\" fill=\"#ff0000\" fill-rule=\"evenodd\" fill-opacity=\"1\" stroke=\"#000000\" stroke-opacity=\"1\" stroke-width=\"3.2\"/>\n",
       "<circle clip-path=\"url(#clip842)\" cx=\"666.721\" cy=\"1375.84\" r=\"14\" fill=\"#ff0000\" fill-rule=\"evenodd\" fill-opacity=\"1\" stroke=\"#000000\" stroke-opacity=\"1\" stroke-width=\"3.2\"/>\n",
       "<circle clip-path=\"url(#clip842)\" cx=\"689.119\" cy=\"1388.77\" r=\"14\" fill=\"#ff0000\" fill-rule=\"evenodd\" fill-opacity=\"1\" stroke=\"#000000\" stroke-opacity=\"1\" stroke-width=\"3.2\"/>\n",
       "<circle clip-path=\"url(#clip842)\" cx=\"700.318\" cy=\"1305.03\" r=\"14\" fill=\"#ff0000\" fill-rule=\"evenodd\" fill-opacity=\"1\" stroke=\"#000000\" stroke-opacity=\"1\" stroke-width=\"3.2\"/>\n",
       "<circle clip-path=\"url(#clip842)\" cx=\"711.517\" cy=\"1213.08\" r=\"14\" fill=\"#ff0000\" fill-rule=\"evenodd\" fill-opacity=\"1\" stroke=\"#000000\" stroke-opacity=\"1\" stroke-width=\"3.2\"/>\n",
       "<circle clip-path=\"url(#clip842)\" cx=\"722.716\" cy=\"213.494\" r=\"14\" fill=\"#ff0000\" fill-rule=\"evenodd\" fill-opacity=\"1\" stroke=\"#000000\" stroke-opacity=\"1\" stroke-width=\"3.2\"/>\n",
       "<circle clip-path=\"url(#clip842)\" cx=\"745.115\" cy=\"1078.12\" r=\"14\" fill=\"#ff0000\" fill-rule=\"evenodd\" fill-opacity=\"1\" stroke=\"#000000\" stroke-opacity=\"1\" stroke-width=\"3.2\"/>\n",
       "<circle clip-path=\"url(#clip842)\" cx=\"756.314\" cy=\"1250.17\" r=\"14\" fill=\"#ff0000\" fill-rule=\"evenodd\" fill-opacity=\"1\" stroke=\"#000000\" stroke-opacity=\"1\" stroke-width=\"3.2\"/>\n",
       "<circle clip-path=\"url(#clip842)\" cx=\"767.513\" cy=\"1464.27\" r=\"14\" fill=\"#ff0000\" fill-rule=\"evenodd\" fill-opacity=\"1\" stroke=\"#000000\" stroke-opacity=\"1\" stroke-width=\"3.2\"/>\n",
       "<circle clip-path=\"url(#clip842)\" cx=\"778.712\" cy=\"1469.53\" r=\"14\" fill=\"#ff0000\" fill-rule=\"evenodd\" fill-opacity=\"1\" stroke=\"#000000\" stroke-opacity=\"1\" stroke-width=\"3.2\"/>\n",
       "<circle clip-path=\"url(#clip842)\" cx=\"801.111\" cy=\"1427.09\" r=\"14\" fill=\"#ff0000\" fill-rule=\"evenodd\" fill-opacity=\"1\" stroke=\"#000000\" stroke-opacity=\"1\" stroke-width=\"3.2\"/>\n",
       "<circle clip-path=\"url(#clip842)\" cx=\"823.509\" cy=\"681.424\" r=\"14\" fill=\"#ff0000\" fill-rule=\"evenodd\" fill-opacity=\"1\" stroke=\"#000000\" stroke-opacity=\"1\" stroke-width=\"3.2\"/>\n",
       "<circle clip-path=\"url(#clip842)\" cx=\"834.708\" cy=\"1479.05\" r=\"14\" fill=\"#ff0000\" fill-rule=\"evenodd\" fill-opacity=\"1\" stroke=\"#000000\" stroke-opacity=\"1\" stroke-width=\"3.2\"/>\n",
       "<circle clip-path=\"url(#clip842)\" cx=\"845.907\" cy=\"1285.96\" r=\"14\" fill=\"#ff0000\" fill-rule=\"evenodd\" fill-opacity=\"1\" stroke=\"#000000\" stroke-opacity=\"1\" stroke-width=\"3.2\"/>\n",
       "<circle clip-path=\"url(#clip842)\" cx=\"857.106\" cy=\"1252.45\" r=\"14\" fill=\"#ff0000\" fill-rule=\"evenodd\" fill-opacity=\"1\" stroke=\"#000000\" stroke-opacity=\"1\" stroke-width=\"3.2\"/>\n",
       "<circle clip-path=\"url(#clip842)\" cx=\"868.306\" cy=\"1443.4\" r=\"14\" fill=\"#ff0000\" fill-rule=\"evenodd\" fill-opacity=\"1\" stroke=\"#000000\" stroke-opacity=\"1\" stroke-width=\"3.2\"/>\n",
       "<circle clip-path=\"url(#clip842)\" cx=\"879.505\" cy=\"1482.4\" r=\"14\" fill=\"#ff0000\" fill-rule=\"evenodd\" fill-opacity=\"1\" stroke=\"#000000\" stroke-opacity=\"1\" stroke-width=\"3.2\"/>\n",
       "<circle clip-path=\"url(#clip842)\" cx=\"890.704\" cy=\"1473.21\" r=\"14\" fill=\"#ff0000\" fill-rule=\"evenodd\" fill-opacity=\"1\" stroke=\"#000000\" stroke-opacity=\"1\" stroke-width=\"3.2\"/>\n",
       "<circle clip-path=\"url(#clip842)\" cx=\"901.903\" cy=\"1479.14\" r=\"14\" fill=\"#ff0000\" fill-rule=\"evenodd\" fill-opacity=\"1\" stroke=\"#000000\" stroke-opacity=\"1\" stroke-width=\"3.2\"/>\n",
       "<circle clip-path=\"url(#clip842)\" cx=\"913.102\" cy=\"1463.85\" r=\"14\" fill=\"#ff0000\" fill-rule=\"evenodd\" fill-opacity=\"1\" stroke=\"#000000\" stroke-opacity=\"1\" stroke-width=\"3.2\"/>\n",
       "<circle clip-path=\"url(#clip842)\" cx=\"924.301\" cy=\"1018.29\" r=\"14\" fill=\"#ff0000\" fill-rule=\"evenodd\" fill-opacity=\"1\" stroke=\"#000000\" stroke-opacity=\"1\" stroke-width=\"3.2\"/>\n",
       "<circle clip-path=\"url(#clip842)\" cx=\"935.501\" cy=\"1352.62\" r=\"14\" fill=\"#ff0000\" fill-rule=\"evenodd\" fill-opacity=\"1\" stroke=\"#000000\" stroke-opacity=\"1\" stroke-width=\"3.2\"/>\n",
       "<circle clip-path=\"url(#clip842)\" cx=\"946.7\" cy=\"759.418\" r=\"14\" fill=\"#ff0000\" fill-rule=\"evenodd\" fill-opacity=\"1\" stroke=\"#000000\" stroke-opacity=\"1\" stroke-width=\"3.2\"/>\n",
       "<circle clip-path=\"url(#clip842)\" cx=\"957.899\" cy=\"1440.55\" r=\"14\" fill=\"#ff0000\" fill-rule=\"evenodd\" fill-opacity=\"1\" stroke=\"#000000\" stroke-opacity=\"1\" stroke-width=\"3.2\"/>\n",
       "<circle clip-path=\"url(#clip842)\" cx=\"991.497\" cy=\"1471.19\" r=\"14\" fill=\"#ff0000\" fill-rule=\"evenodd\" fill-opacity=\"1\" stroke=\"#000000\" stroke-opacity=\"1\" stroke-width=\"3.2\"/>\n",
       "<circle clip-path=\"url(#clip842)\" cx=\"1002.7\" cy=\"1378.62\" r=\"14\" fill=\"#ff0000\" fill-rule=\"evenodd\" fill-opacity=\"1\" stroke=\"#000000\" stroke-opacity=\"1\" stroke-width=\"3.2\"/>\n",
       "<circle clip-path=\"url(#clip842)\" cx=\"1013.89\" cy=\"1479.64\" r=\"14\" fill=\"#ff0000\" fill-rule=\"evenodd\" fill-opacity=\"1\" stroke=\"#000000\" stroke-opacity=\"1\" stroke-width=\"3.2\"/>\n",
       "<circle clip-path=\"url(#clip842)\" cx=\"1025.09\" cy=\"1369.73\" r=\"14\" fill=\"#ff0000\" fill-rule=\"evenodd\" fill-opacity=\"1\" stroke=\"#000000\" stroke-opacity=\"1\" stroke-width=\"3.2\"/>\n",
       "<circle clip-path=\"url(#clip842)\" cx=\"1036.29\" cy=\"878.064\" r=\"14\" fill=\"#ff0000\" fill-rule=\"evenodd\" fill-opacity=\"1\" stroke=\"#000000\" stroke-opacity=\"1\" stroke-width=\"3.2\"/>\n",
       "<circle clip-path=\"url(#clip842)\" cx=\"1047.49\" cy=\"1038.83\" r=\"14\" fill=\"#ff0000\" fill-rule=\"evenodd\" fill-opacity=\"1\" stroke=\"#000000\" stroke-opacity=\"1\" stroke-width=\"3.2\"/>\n",
       "<circle clip-path=\"url(#clip842)\" cx=\"1058.69\" cy=\"1425.93\" r=\"14\" fill=\"#ff0000\" fill-rule=\"evenodd\" fill-opacity=\"1\" stroke=\"#000000\" stroke-opacity=\"1\" stroke-width=\"3.2\"/>\n",
       "<circle clip-path=\"url(#clip842)\" cx=\"1069.89\" cy=\"1140.3\" r=\"14\" fill=\"#ff0000\" fill-rule=\"evenodd\" fill-opacity=\"1\" stroke=\"#000000\" stroke-opacity=\"1\" stroke-width=\"3.2\"/>\n",
       "<circle clip-path=\"url(#clip842)\" cx=\"1081.09\" cy=\"1445.69\" r=\"14\" fill=\"#ff0000\" fill-rule=\"evenodd\" fill-opacity=\"1\" stroke=\"#000000\" stroke-opacity=\"1\" stroke-width=\"3.2\"/>\n",
       "<circle clip-path=\"url(#clip842)\" cx=\"1092.29\" cy=\"1429.04\" r=\"14\" fill=\"#ff0000\" fill-rule=\"evenodd\" fill-opacity=\"1\" stroke=\"#000000\" stroke-opacity=\"1\" stroke-width=\"3.2\"/>\n",
       "<circle clip-path=\"url(#clip842)\" cx=\"1103.49\" cy=\"1486.36\" r=\"14\" fill=\"#ff0000\" fill-rule=\"evenodd\" fill-opacity=\"1\" stroke=\"#000000\" stroke-opacity=\"1\" stroke-width=\"3.2\"/>\n",
       "<circle clip-path=\"url(#clip842)\" cx=\"1114.69\" cy=\"1438.11\" r=\"14\" fill=\"#ff0000\" fill-rule=\"evenodd\" fill-opacity=\"1\" stroke=\"#000000\" stroke-opacity=\"1\" stroke-width=\"3.2\"/>\n",
       "<circle clip-path=\"url(#clip842)\" cx=\"1125.89\" cy=\"1347.08\" r=\"14\" fill=\"#ff0000\" fill-rule=\"evenodd\" fill-opacity=\"1\" stroke=\"#000000\" stroke-opacity=\"1\" stroke-width=\"3.2\"/>\n",
       "<circle clip-path=\"url(#clip842)\" cx=\"1137.09\" cy=\"782.439\" r=\"14\" fill=\"#ff0000\" fill-rule=\"evenodd\" fill-opacity=\"1\" stroke=\"#000000\" stroke-opacity=\"1\" stroke-width=\"3.2\"/>\n",
       "<circle clip-path=\"url(#clip842)\" cx=\"1170.68\" cy=\"1485.51\" r=\"14\" fill=\"#ff0000\" fill-rule=\"evenodd\" fill-opacity=\"1\" stroke=\"#000000\" stroke-opacity=\"1\" stroke-width=\"3.2\"/>\n",
       "<circle clip-path=\"url(#clip842)\" cx=\"1181.88\" cy=\"1367.41\" r=\"14\" fill=\"#ff0000\" fill-rule=\"evenodd\" fill-opacity=\"1\" stroke=\"#000000\" stroke-opacity=\"1\" stroke-width=\"3.2\"/>\n",
       "<circle clip-path=\"url(#clip842)\" cx=\"1204.28\" cy=\"1482\" r=\"14\" fill=\"#ff0000\" fill-rule=\"evenodd\" fill-opacity=\"1\" stroke=\"#000000\" stroke-opacity=\"1\" stroke-width=\"3.2\"/>\n",
       "<circle clip-path=\"url(#clip842)\" cx=\"1215.48\" cy=\"1484.21\" r=\"14\" fill=\"#ff0000\" fill-rule=\"evenodd\" fill-opacity=\"1\" stroke=\"#000000\" stroke-opacity=\"1\" stroke-width=\"3.2\"/>\n",
       "<circle clip-path=\"url(#clip842)\" cx=\"1237.88\" cy=\"1486.34\" r=\"14\" fill=\"#ff0000\" fill-rule=\"evenodd\" fill-opacity=\"1\" stroke=\"#000000\" stroke-opacity=\"1\" stroke-width=\"3.2\"/>\n",
       "<circle clip-path=\"url(#clip842)\" cx=\"1249.08\" cy=\"1486.42\" r=\"14\" fill=\"#ff0000\" fill-rule=\"evenodd\" fill-opacity=\"1\" stroke=\"#000000\" stroke-opacity=\"1\" stroke-width=\"3.2\"/>\n",
       "<circle clip-path=\"url(#clip842)\" cx=\"1260.28\" cy=\"1486.15\" r=\"14\" fill=\"#ff0000\" fill-rule=\"evenodd\" fill-opacity=\"1\" stroke=\"#000000\" stroke-opacity=\"1\" stroke-width=\"3.2\"/>\n",
       "<circle clip-path=\"url(#clip842)\" cx=\"1271.48\" cy=\"1485.61\" r=\"14\" fill=\"#ff0000\" fill-rule=\"evenodd\" fill-opacity=\"1\" stroke=\"#000000\" stroke-opacity=\"1\" stroke-width=\"3.2\"/>\n",
       "<circle clip-path=\"url(#clip842)\" cx=\"1282.68\" cy=\"1486.25\" r=\"14\" fill=\"#ff0000\" fill-rule=\"evenodd\" fill-opacity=\"1\" stroke=\"#000000\" stroke-opacity=\"1\" stroke-width=\"3.2\"/>\n",
       "<circle clip-path=\"url(#clip842)\" cx=\"1293.87\" cy=\"1486.43\" r=\"14\" fill=\"#ff0000\" fill-rule=\"evenodd\" fill-opacity=\"1\" stroke=\"#000000\" stroke-opacity=\"1\" stroke-width=\"3.2\"/>\n",
       "<circle clip-path=\"url(#clip842)\" cx=\"1305.07\" cy=\"1466.34\" r=\"14\" fill=\"#ff0000\" fill-rule=\"evenodd\" fill-opacity=\"1\" stroke=\"#000000\" stroke-opacity=\"1\" stroke-width=\"3.2\"/>\n",
       "<circle clip-path=\"url(#clip842)\" cx=\"1316.27\" cy=\"1486.34\" r=\"14\" fill=\"#ff0000\" fill-rule=\"evenodd\" fill-opacity=\"1\" stroke=\"#000000\" stroke-opacity=\"1\" stroke-width=\"3.2\"/>\n",
       "<circle clip-path=\"url(#clip842)\" cx=\"1327.47\" cy=\"1484.64\" r=\"14\" fill=\"#ff0000\" fill-rule=\"evenodd\" fill-opacity=\"1\" stroke=\"#000000\" stroke-opacity=\"1\" stroke-width=\"3.2\"/>\n",
       "<circle clip-path=\"url(#clip842)\" cx=\"1338.67\" cy=\"1483.65\" r=\"14\" fill=\"#ff0000\" fill-rule=\"evenodd\" fill-opacity=\"1\" stroke=\"#000000\" stroke-opacity=\"1\" stroke-width=\"3.2\"/>\n",
       "<circle clip-path=\"url(#clip842)\" cx=\"1349.87\" cy=\"1482.92\" r=\"14\" fill=\"#ff0000\" fill-rule=\"evenodd\" fill-opacity=\"1\" stroke=\"#000000\" stroke-opacity=\"1\" stroke-width=\"3.2\"/>\n",
       "<circle clip-path=\"url(#clip842)\" cx=\"1361.07\" cy=\"1485.68\" r=\"14\" fill=\"#ff0000\" fill-rule=\"evenodd\" fill-opacity=\"1\" stroke=\"#000000\" stroke-opacity=\"1\" stroke-width=\"3.2\"/>\n",
       "<circle clip-path=\"url(#clip842)\" cx=\"1372.27\" cy=\"1485.4\" r=\"14\" fill=\"#ff0000\" fill-rule=\"evenodd\" fill-opacity=\"1\" stroke=\"#000000\" stroke-opacity=\"1\" stroke-width=\"3.2\"/>\n",
       "<circle clip-path=\"url(#clip842)\" cx=\"1383.47\" cy=\"1485.75\" r=\"14\" fill=\"#ff0000\" fill-rule=\"evenodd\" fill-opacity=\"1\" stroke=\"#000000\" stroke-opacity=\"1\" stroke-width=\"3.2\"/>\n",
       "<circle clip-path=\"url(#clip842)\" cx=\"1394.67\" cy=\"1486.44\" r=\"14\" fill=\"#ff0000\" fill-rule=\"evenodd\" fill-opacity=\"1\" stroke=\"#000000\" stroke-opacity=\"1\" stroke-width=\"3.2\"/>\n",
       "<circle clip-path=\"url(#clip842)\" cx=\"1405.87\" cy=\"1485.11\" r=\"14\" fill=\"#ff0000\" fill-rule=\"evenodd\" fill-opacity=\"1\" stroke=\"#000000\" stroke-opacity=\"1\" stroke-width=\"3.2\"/>\n",
       "<circle clip-path=\"url(#clip842)\" cx=\"1417.07\" cy=\"1485.93\" r=\"14\" fill=\"#ff0000\" fill-rule=\"evenodd\" fill-opacity=\"1\" stroke=\"#000000\" stroke-opacity=\"1\" stroke-width=\"3.2\"/>\n",
       "<circle clip-path=\"url(#clip842)\" cx=\"1428.26\" cy=\"1486.4\" r=\"14\" fill=\"#ff0000\" fill-rule=\"evenodd\" fill-opacity=\"1\" stroke=\"#000000\" stroke-opacity=\"1\" stroke-width=\"3.2\"/>\n",
       "<circle clip-path=\"url(#clip842)\" cx=\"1439.46\" cy=\"1485.78\" r=\"14\" fill=\"#ff0000\" fill-rule=\"evenodd\" fill-opacity=\"1\" stroke=\"#000000\" stroke-opacity=\"1\" stroke-width=\"3.2\"/>\n",
       "<circle clip-path=\"url(#clip842)\" cx=\"1450.66\" cy=\"1476.05\" r=\"14\" fill=\"#ff0000\" fill-rule=\"evenodd\" fill-opacity=\"1\" stroke=\"#000000\" stroke-opacity=\"1\" stroke-width=\"3.2\"/>\n",
       "<circle clip-path=\"url(#clip842)\" cx=\"1461.86\" cy=\"1477.43\" r=\"14\" fill=\"#ff0000\" fill-rule=\"evenodd\" fill-opacity=\"1\" stroke=\"#000000\" stroke-opacity=\"1\" stroke-width=\"3.2\"/>\n",
       "<circle clip-path=\"url(#clip842)\" cx=\"1473.06\" cy=\"1486.15\" r=\"14\" fill=\"#ff0000\" fill-rule=\"evenodd\" fill-opacity=\"1\" stroke=\"#000000\" stroke-opacity=\"1\" stroke-width=\"3.2\"/>\n",
       "<circle clip-path=\"url(#clip842)\" cx=\"1484.26\" cy=\"1486.34\" r=\"14\" fill=\"#ff0000\" fill-rule=\"evenodd\" fill-opacity=\"1\" stroke=\"#000000\" stroke-opacity=\"1\" stroke-width=\"3.2\"/>\n",
       "<circle clip-path=\"url(#clip842)\" cx=\"1495.46\" cy=\"1478.57\" r=\"14\" fill=\"#ff0000\" fill-rule=\"evenodd\" fill-opacity=\"1\" stroke=\"#000000\" stroke-opacity=\"1\" stroke-width=\"3.2\"/>\n",
       "<circle clip-path=\"url(#clip842)\" cx=\"1506.66\" cy=\"1434.68\" r=\"14\" fill=\"#ff0000\" fill-rule=\"evenodd\" fill-opacity=\"1\" stroke=\"#000000\" stroke-opacity=\"1\" stroke-width=\"3.2\"/>\n",
       "<circle clip-path=\"url(#clip842)\" cx=\"1517.86\" cy=\"1483.21\" r=\"14\" fill=\"#ff0000\" fill-rule=\"evenodd\" fill-opacity=\"1\" stroke=\"#000000\" stroke-opacity=\"1\" stroke-width=\"3.2\"/>\n",
       "<circle clip-path=\"url(#clip842)\" cx=\"1529.06\" cy=\"1486.41\" r=\"14\" fill=\"#ff0000\" fill-rule=\"evenodd\" fill-opacity=\"1\" stroke=\"#000000\" stroke-opacity=\"1\" stroke-width=\"3.2\"/>\n",
       "<circle clip-path=\"url(#clip842)\" cx=\"1540.26\" cy=\"1486.44\" r=\"14\" fill=\"#ff0000\" fill-rule=\"evenodd\" fill-opacity=\"1\" stroke=\"#000000\" stroke-opacity=\"1\" stroke-width=\"3.2\"/>\n",
       "<circle clip-path=\"url(#clip842)\" cx=\"1551.46\" cy=\"1486.37\" r=\"14\" fill=\"#ff0000\" fill-rule=\"evenodd\" fill-opacity=\"1\" stroke=\"#000000\" stroke-opacity=\"1\" stroke-width=\"3.2\"/>\n",
       "<circle clip-path=\"url(#clip842)\" cx=\"1562.65\" cy=\"1485.88\" r=\"14\" fill=\"#ff0000\" fill-rule=\"evenodd\" fill-opacity=\"1\" stroke=\"#000000\" stroke-opacity=\"1\" stroke-width=\"3.2\"/>\n",
       "<circle clip-path=\"url(#clip842)\" cx=\"1573.85\" cy=\"1480.4\" r=\"14\" fill=\"#ff0000\" fill-rule=\"evenodd\" fill-opacity=\"1\" stroke=\"#000000\" stroke-opacity=\"1\" stroke-width=\"3.2\"/>\n",
       "<circle clip-path=\"url(#clip842)\" cx=\"1585.05\" cy=\"1486.01\" r=\"14\" fill=\"#ff0000\" fill-rule=\"evenodd\" fill-opacity=\"1\" stroke=\"#000000\" stroke-opacity=\"1\" stroke-width=\"3.2\"/>\n",
       "<circle clip-path=\"url(#clip842)\" cx=\"1596.25\" cy=\"1486.25\" r=\"14\" fill=\"#ff0000\" fill-rule=\"evenodd\" fill-opacity=\"1\" stroke=\"#000000\" stroke-opacity=\"1\" stroke-width=\"3.2\"/>\n",
       "<circle clip-path=\"url(#clip842)\" cx=\"1607.45\" cy=\"1472.75\" r=\"14\" fill=\"#ff0000\" fill-rule=\"evenodd\" fill-opacity=\"1\" stroke=\"#000000\" stroke-opacity=\"1\" stroke-width=\"3.2\"/>\n",
       "<circle clip-path=\"url(#clip842)\" cx=\"1629.85\" cy=\"1481.57\" r=\"14\" fill=\"#ff0000\" fill-rule=\"evenodd\" fill-opacity=\"1\" stroke=\"#000000\" stroke-opacity=\"1\" stroke-width=\"3.2\"/>\n",
       "<circle clip-path=\"url(#clip842)\" cx=\"1641.05\" cy=\"1486.34\" r=\"14\" fill=\"#ff0000\" fill-rule=\"evenodd\" fill-opacity=\"1\" stroke=\"#000000\" stroke-opacity=\"1\" stroke-width=\"3.2\"/>\n",
       "<circle clip-path=\"url(#clip842)\" cx=\"1652.25\" cy=\"1486.38\" r=\"14\" fill=\"#ff0000\" fill-rule=\"evenodd\" fill-opacity=\"1\" stroke=\"#000000\" stroke-opacity=\"1\" stroke-width=\"3.2\"/>\n",
       "<circle clip-path=\"url(#clip842)\" cx=\"1663.45\" cy=\"1485.79\" r=\"14\" fill=\"#ff0000\" fill-rule=\"evenodd\" fill-opacity=\"1\" stroke=\"#000000\" stroke-opacity=\"1\" stroke-width=\"3.2\"/>\n",
       "<circle clip-path=\"url(#clip842)\" cx=\"1674.65\" cy=\"1481.24\" r=\"14\" fill=\"#ff0000\" fill-rule=\"evenodd\" fill-opacity=\"1\" stroke=\"#000000\" stroke-opacity=\"1\" stroke-width=\"3.2\"/>\n",
       "<circle clip-path=\"url(#clip842)\" cx=\"1685.85\" cy=\"1485.71\" r=\"14\" fill=\"#ff0000\" fill-rule=\"evenodd\" fill-opacity=\"1\" stroke=\"#000000\" stroke-opacity=\"1\" stroke-width=\"3.2\"/>\n",
       "<circle clip-path=\"url(#clip842)\" cx=\"1697.04\" cy=\"1485.31\" r=\"14\" fill=\"#ff0000\" fill-rule=\"evenodd\" fill-opacity=\"1\" stroke=\"#000000\" stroke-opacity=\"1\" stroke-width=\"3.2\"/>\n",
       "<circle clip-path=\"url(#clip842)\" cx=\"1708.24\" cy=\"1486.45\" r=\"14\" fill=\"#ff0000\" fill-rule=\"evenodd\" fill-opacity=\"1\" stroke=\"#000000\" stroke-opacity=\"1\" stroke-width=\"3.2\"/>\n",
       "<circle clip-path=\"url(#clip842)\" cx=\"1719.44\" cy=\"1485.43\" r=\"14\" fill=\"#ff0000\" fill-rule=\"evenodd\" fill-opacity=\"1\" stroke=\"#000000\" stroke-opacity=\"1\" stroke-width=\"3.2\"/>\n",
       "<circle clip-path=\"url(#clip842)\" cx=\"1730.64\" cy=\"1486.42\" r=\"14\" fill=\"#ff0000\" fill-rule=\"evenodd\" fill-opacity=\"1\" stroke=\"#000000\" stroke-opacity=\"1\" stroke-width=\"3.2\"/>\n",
       "<circle clip-path=\"url(#clip842)\" cx=\"1741.84\" cy=\"1467.74\" r=\"14\" fill=\"#ff0000\" fill-rule=\"evenodd\" fill-opacity=\"1\" stroke=\"#000000\" stroke-opacity=\"1\" stroke-width=\"3.2\"/>\n",
       "<circle clip-path=\"url(#clip842)\" cx=\"1753.04\" cy=\"1480.52\" r=\"14\" fill=\"#ff0000\" fill-rule=\"evenodd\" fill-opacity=\"1\" stroke=\"#000000\" stroke-opacity=\"1\" stroke-width=\"3.2\"/>\n",
       "<circle clip-path=\"url(#clip842)\" cx=\"1764.24\" cy=\"1483.71\" r=\"14\" fill=\"#ff0000\" fill-rule=\"evenodd\" fill-opacity=\"1\" stroke=\"#000000\" stroke-opacity=\"1\" stroke-width=\"3.2\"/>\n",
       "<circle clip-path=\"url(#clip842)\" cx=\"1775.44\" cy=\"1485.84\" r=\"14\" fill=\"#ff0000\" fill-rule=\"evenodd\" fill-opacity=\"1\" stroke=\"#000000\" stroke-opacity=\"1\" stroke-width=\"3.2\"/>\n",
       "<circle clip-path=\"url(#clip842)\" cx=\"1786.64\" cy=\"1486.41\" r=\"14\" fill=\"#ff0000\" fill-rule=\"evenodd\" fill-opacity=\"1\" stroke=\"#000000\" stroke-opacity=\"1\" stroke-width=\"3.2\"/>\n",
       "<circle clip-path=\"url(#clip842)\" cx=\"1797.84\" cy=\"1486.18\" r=\"14\" fill=\"#ff0000\" fill-rule=\"evenodd\" fill-opacity=\"1\" stroke=\"#000000\" stroke-opacity=\"1\" stroke-width=\"3.2\"/>\n",
       "<circle clip-path=\"url(#clip842)\" cx=\"1809.04\" cy=\"1423.92\" r=\"14\" fill=\"#ff0000\" fill-rule=\"evenodd\" fill-opacity=\"1\" stroke=\"#000000\" stroke-opacity=\"1\" stroke-width=\"3.2\"/>\n",
       "<circle clip-path=\"url(#clip842)\" cx=\"1820.24\" cy=\"1486.02\" r=\"14\" fill=\"#ff0000\" fill-rule=\"evenodd\" fill-opacity=\"1\" stroke=\"#000000\" stroke-opacity=\"1\" stroke-width=\"3.2\"/>\n",
       "<circle clip-path=\"url(#clip842)\" cx=\"1831.43\" cy=\"1486.07\" r=\"14\" fill=\"#ff0000\" fill-rule=\"evenodd\" fill-opacity=\"1\" stroke=\"#000000\" stroke-opacity=\"1\" stroke-width=\"3.2\"/>\n",
       "<circle clip-path=\"url(#clip842)\" cx=\"1842.63\" cy=\"1486.26\" r=\"14\" fill=\"#ff0000\" fill-rule=\"evenodd\" fill-opacity=\"1\" stroke=\"#000000\" stroke-opacity=\"1\" stroke-width=\"3.2\"/>\n",
       "<circle clip-path=\"url(#clip842)\" cx=\"1853.83\" cy=\"1459.47\" r=\"14\" fill=\"#ff0000\" fill-rule=\"evenodd\" fill-opacity=\"1\" stroke=\"#000000\" stroke-opacity=\"1\" stroke-width=\"3.2\"/>\n",
       "<circle clip-path=\"url(#clip842)\" cx=\"1865.03\" cy=\"1486.45\" r=\"14\" fill=\"#ff0000\" fill-rule=\"evenodd\" fill-opacity=\"1\" stroke=\"#000000\" stroke-opacity=\"1\" stroke-width=\"3.2\"/>\n",
       "<circle clip-path=\"url(#clip842)\" cx=\"1876.23\" cy=\"1486.45\" r=\"14\" fill=\"#ff0000\" fill-rule=\"evenodd\" fill-opacity=\"1\" stroke=\"#000000\" stroke-opacity=\"1\" stroke-width=\"3.2\"/>\n",
       "<circle clip-path=\"url(#clip842)\" cx=\"1887.43\" cy=\"1486.14\" r=\"14\" fill=\"#ff0000\" fill-rule=\"evenodd\" fill-opacity=\"1\" stroke=\"#000000\" stroke-opacity=\"1\" stroke-width=\"3.2\"/>\n",
       "<circle clip-path=\"url(#clip842)\" cx=\"1898.63\" cy=\"1486.36\" r=\"14\" fill=\"#ff0000\" fill-rule=\"evenodd\" fill-opacity=\"1\" stroke=\"#000000\" stroke-opacity=\"1\" stroke-width=\"3.2\"/>\n",
       "<circle clip-path=\"url(#clip842)\" cx=\"1909.83\" cy=\"1486.22\" r=\"14\" fill=\"#ff0000\" fill-rule=\"evenodd\" fill-opacity=\"1\" stroke=\"#000000\" stroke-opacity=\"1\" stroke-width=\"3.2\"/>\n",
       "<circle clip-path=\"url(#clip842)\" cx=\"1921.03\" cy=\"1485.75\" r=\"14\" fill=\"#ff0000\" fill-rule=\"evenodd\" fill-opacity=\"1\" stroke=\"#000000\" stroke-opacity=\"1\" stroke-width=\"3.2\"/>\n",
       "<circle clip-path=\"url(#clip842)\" cx=\"1932.23\" cy=\"1483.52\" r=\"14\" fill=\"#ff0000\" fill-rule=\"evenodd\" fill-opacity=\"1\" stroke=\"#000000\" stroke-opacity=\"1\" stroke-width=\"3.2\"/>\n",
       "<circle clip-path=\"url(#clip842)\" cx=\"1943.43\" cy=\"1454.55\" r=\"14\" fill=\"#ff0000\" fill-rule=\"evenodd\" fill-opacity=\"1\" stroke=\"#000000\" stroke-opacity=\"1\" stroke-width=\"3.2\"/>\n",
       "<circle clip-path=\"url(#clip842)\" cx=\"1954.63\" cy=\"1486.45\" r=\"14\" fill=\"#ff0000\" fill-rule=\"evenodd\" fill-opacity=\"1\" stroke=\"#000000\" stroke-opacity=\"1\" stroke-width=\"3.2\"/>\n",
       "<circle clip-path=\"url(#clip842)\" cx=\"1965.82\" cy=\"1486.43\" r=\"14\" fill=\"#ff0000\" fill-rule=\"evenodd\" fill-opacity=\"1\" stroke=\"#000000\" stroke-opacity=\"1\" stroke-width=\"3.2\"/>\n",
       "<circle clip-path=\"url(#clip842)\" cx=\"1977.02\" cy=\"1480.27\" r=\"14\" fill=\"#ff0000\" fill-rule=\"evenodd\" fill-opacity=\"1\" stroke=\"#000000\" stroke-opacity=\"1\" stroke-width=\"3.2\"/>\n",
       "<circle clip-path=\"url(#clip842)\" cx=\"1988.22\" cy=\"1486.09\" r=\"14\" fill=\"#ff0000\" fill-rule=\"evenodd\" fill-opacity=\"1\" stroke=\"#000000\" stroke-opacity=\"1\" stroke-width=\"3.2\"/>\n",
       "<circle clip-path=\"url(#clip842)\" cx=\"1999.42\" cy=\"1485.94\" r=\"14\" fill=\"#ff0000\" fill-rule=\"evenodd\" fill-opacity=\"1\" stroke=\"#000000\" stroke-opacity=\"1\" stroke-width=\"3.2\"/>\n",
       "<circle clip-path=\"url(#clip842)\" cx=\"2010.62\" cy=\"1459.91\" r=\"14\" fill=\"#ff0000\" fill-rule=\"evenodd\" fill-opacity=\"1\" stroke=\"#000000\" stroke-opacity=\"1\" stroke-width=\"3.2\"/>\n",
       "<circle clip-path=\"url(#clip842)\" cx=\"2021.82\" cy=\"1486.41\" r=\"14\" fill=\"#ff0000\" fill-rule=\"evenodd\" fill-opacity=\"1\" stroke=\"#000000\" stroke-opacity=\"1\" stroke-width=\"3.2\"/>\n",
       "<circle clip-path=\"url(#clip842)\" cx=\"2033.02\" cy=\"1486.09\" r=\"14\" fill=\"#ff0000\" fill-rule=\"evenodd\" fill-opacity=\"1\" stroke=\"#000000\" stroke-opacity=\"1\" stroke-width=\"3.2\"/>\n",
       "<circle clip-path=\"url(#clip842)\" cx=\"2044.22\" cy=\"1486.44\" r=\"14\" fill=\"#ff0000\" fill-rule=\"evenodd\" fill-opacity=\"1\" stroke=\"#000000\" stroke-opacity=\"1\" stroke-width=\"3.2\"/>\n",
       "<circle clip-path=\"url(#clip842)\" cx=\"2055.42\" cy=\"1486.45\" r=\"14\" fill=\"#ff0000\" fill-rule=\"evenodd\" fill-opacity=\"1\" stroke=\"#000000\" stroke-opacity=\"1\" stroke-width=\"3.2\"/>\n",
       "<circle clip-path=\"url(#clip842)\" cx=\"2066.62\" cy=\"1486.16\" r=\"14\" fill=\"#ff0000\" fill-rule=\"evenodd\" fill-opacity=\"1\" stroke=\"#000000\" stroke-opacity=\"1\" stroke-width=\"3.2\"/>\n",
       "<circle clip-path=\"url(#clip842)\" cx=\"2077.82\" cy=\"1485.67\" r=\"14\" fill=\"#ff0000\" fill-rule=\"evenodd\" fill-opacity=\"1\" stroke=\"#000000\" stroke-opacity=\"1\" stroke-width=\"3.2\"/>\n",
       "<circle clip-path=\"url(#clip842)\" cx=\"2089.02\" cy=\"1483.74\" r=\"14\" fill=\"#ff0000\" fill-rule=\"evenodd\" fill-opacity=\"1\" stroke=\"#000000\" stroke-opacity=\"1\" stroke-width=\"3.2\"/>\n",
       "<circle clip-path=\"url(#clip842)\" cx=\"2100.21\" cy=\"1484.24\" r=\"14\" fill=\"#ff0000\" fill-rule=\"evenodd\" fill-opacity=\"1\" stroke=\"#000000\" stroke-opacity=\"1\" stroke-width=\"3.2\"/>\n",
       "<circle clip-path=\"url(#clip842)\" cx=\"2111.41\" cy=\"1486.44\" r=\"14\" fill=\"#ff0000\" fill-rule=\"evenodd\" fill-opacity=\"1\" stroke=\"#000000\" stroke-opacity=\"1\" stroke-width=\"3.2\"/>\n",
       "<circle clip-path=\"url(#clip842)\" cx=\"2122.61\" cy=\"1486.44\" r=\"14\" fill=\"#ff0000\" fill-rule=\"evenodd\" fill-opacity=\"1\" stroke=\"#000000\" stroke-opacity=\"1\" stroke-width=\"3.2\"/>\n",
       "<circle clip-path=\"url(#clip842)\" cx=\"2133.81\" cy=\"1486.17\" r=\"14\" fill=\"#ff0000\" fill-rule=\"evenodd\" fill-opacity=\"1\" stroke=\"#000000\" stroke-opacity=\"1\" stroke-width=\"3.2\"/>\n",
       "<circle clip-path=\"url(#clip842)\" cx=\"2145.01\" cy=\"1486.45\" r=\"14\" fill=\"#ff0000\" fill-rule=\"evenodd\" fill-opacity=\"1\" stroke=\"#000000\" stroke-opacity=\"1\" stroke-width=\"3.2\"/>\n",
       "<circle clip-path=\"url(#clip842)\" cx=\"2156.21\" cy=\"1485.98\" r=\"14\" fill=\"#ff0000\" fill-rule=\"evenodd\" fill-opacity=\"1\" stroke=\"#000000\" stroke-opacity=\"1\" stroke-width=\"3.2\"/>\n",
       "<circle clip-path=\"url(#clip842)\" cx=\"2167.41\" cy=\"1486.16\" r=\"14\" fill=\"#ff0000\" fill-rule=\"evenodd\" fill-opacity=\"1\" stroke=\"#000000\" stroke-opacity=\"1\" stroke-width=\"3.2\"/>\n",
       "<circle clip-path=\"url(#clip842)\" cx=\"2178.61\" cy=\"1485.72\" r=\"14\" fill=\"#ff0000\" fill-rule=\"evenodd\" fill-opacity=\"1\" stroke=\"#000000\" stroke-opacity=\"1\" stroke-width=\"3.2\"/>\n",
       "<circle clip-path=\"url(#clip842)\" cx=\"2189.81\" cy=\"1486.45\" r=\"14\" fill=\"#ff0000\" fill-rule=\"evenodd\" fill-opacity=\"1\" stroke=\"#000000\" stroke-opacity=\"1\" stroke-width=\"3.2\"/>\n",
       "<circle clip-path=\"url(#clip842)\" cx=\"2201.01\" cy=\"1485.46\" r=\"14\" fill=\"#ff0000\" fill-rule=\"evenodd\" fill-opacity=\"1\" stroke=\"#000000\" stroke-opacity=\"1\" stroke-width=\"3.2\"/>\n",
       "<circle clip-path=\"url(#clip842)\" cx=\"2212.21\" cy=\"1486.45\" r=\"14\" fill=\"#ff0000\" fill-rule=\"evenodd\" fill-opacity=\"1\" stroke=\"#000000\" stroke-opacity=\"1\" stroke-width=\"3.2\"/>\n",
       "<circle clip-path=\"url(#clip842)\" cx=\"2223.41\" cy=\"1486.45\" r=\"14\" fill=\"#ff0000\" fill-rule=\"evenodd\" fill-opacity=\"1\" stroke=\"#000000\" stroke-opacity=\"1\" stroke-width=\"3.2\"/>\n",
       "<circle clip-path=\"url(#clip842)\" cx=\"2234.6\" cy=\"1486.45\" r=\"14\" fill=\"#ff0000\" fill-rule=\"evenodd\" fill-opacity=\"1\" stroke=\"#000000\" stroke-opacity=\"1\" stroke-width=\"3.2\"/>\n",
       "<circle clip-path=\"url(#clip842)\" cx=\"2245.8\" cy=\"1486.21\" r=\"14\" fill=\"#ff0000\" fill-rule=\"evenodd\" fill-opacity=\"1\" stroke=\"#000000\" stroke-opacity=\"1\" stroke-width=\"3.2\"/>\n",
       "<circle clip-path=\"url(#clip842)\" cx=\"2257\" cy=\"1486.44\" r=\"14\" fill=\"#ff0000\" fill-rule=\"evenodd\" fill-opacity=\"1\" stroke=\"#000000\" stroke-opacity=\"1\" stroke-width=\"3.2\"/>\n",
       "<circle clip-path=\"url(#clip842)\" cx=\"2268.2\" cy=\"1461.08\" r=\"14\" fill=\"#ff0000\" fill-rule=\"evenodd\" fill-opacity=\"1\" stroke=\"#000000\" stroke-opacity=\"1\" stroke-width=\"3.2\"/>\n",
       "<circle clip-path=\"url(#clip842)\" cx=\"2279.4\" cy=\"1478.15\" r=\"14\" fill=\"#ff0000\" fill-rule=\"evenodd\" fill-opacity=\"1\" stroke=\"#000000\" stroke-opacity=\"1\" stroke-width=\"3.2\"/>\n",
       "<circle clip-path=\"url(#clip842)\" cx=\"2290.6\" cy=\"1484.81\" r=\"14\" fill=\"#ff0000\" fill-rule=\"evenodd\" fill-opacity=\"1\" stroke=\"#000000\" stroke-opacity=\"1\" stroke-width=\"3.2\"/>\n",
       "<path clip-path=\"url(#clip840)\" d=\"\n",
       "M1847.18 250.738 L2279.55 250.738 L2279.55 95.2176 L1847.18 95.2176  Z\n",
       "  \" fill=\"#ffffff\" fill-rule=\"evenodd\" fill-opacity=\"1\"/>\n",
       "<polyline clip-path=\"url(#clip840)\" style=\"stroke:#000000; stroke-linecap:butt; stroke-linejoin:round; stroke-width:4; stroke-opacity:1; fill:none\" points=\"\n",
       "  1847.18,250.738 2279.55,250.738 2279.55,95.2176 1847.18,95.2176 1847.18,250.738 \n",
       "  \"/>\n",
       "<circle clip-path=\"url(#clip840)\" cx=\"1944.78\" cy=\"147.058\" r=\"23\" fill=\"#008000\" fill-rule=\"evenodd\" fill-opacity=\"1\" stroke=\"#000000\" stroke-opacity=\"1\" stroke-width=\"5.12\"/>\n",
       "<path clip-path=\"url(#clip840)\" d=\"M2062.9 139.407 L2062.9 143.389 Q2061.1 142.393 2059.27 141.907 Q2057.46 141.398 2055.61 141.398 Q2051.47 141.398 2049.17 144.037 Q2046.88 146.652 2046.88 151.398 Q2046.88 156.143 2049.17 158.782 Q2051.47 161.398 2055.61 161.398 Q2057.46 161.398 2059.27 160.912 Q2061.1 160.402 2062.9 159.407 L2062.9 163.342 Q2061.12 164.176 2059.2 164.592 Q2057.3 165.009 2055.15 165.009 Q2049.29 165.009 2045.84 161.328 Q2042.39 157.648 2042.39 151.398 Q2042.39 145.055 2045.86 141.421 Q2049.36 137.787 2055.42 137.787 Q2057.39 137.787 2059.27 138.203 Q2061.14 138.597 2062.9 139.407 Z\" fill=\"#000000\" fill-rule=\"evenodd\" fill-opacity=\"1\" /><path clip-path=\"url(#clip840)\" d=\"M2080.35 141.398 Q2076.93 141.398 2074.94 144.083 Q2072.95 146.745 2072.95 151.398 Q2072.95 156.051 2074.91 158.736 Q2076.91 161.398 2080.35 161.398 Q2083.76 161.398 2085.75 158.713 Q2087.74 156.027 2087.74 151.398 Q2087.74 146.791 2085.75 144.106 Q2083.76 141.398 2080.35 141.398 M2080.35 137.787 Q2085.91 137.787 2089.08 141.398 Q2092.25 145.009 2092.25 151.398 Q2092.25 157.764 2089.08 161.398 Q2085.91 165.009 2080.35 165.009 Q2074.78 165.009 2071.6 161.398 Q2068.46 157.764 2068.46 151.398 Q2068.46 145.009 2071.6 141.398 Q2074.78 137.787 2080.35 137.787 Z\" fill=\"#000000\" fill-rule=\"evenodd\" fill-opacity=\"1\" /><path clip-path=\"url(#clip840)\" d=\"M2120.86 148.689 L2120.86 164.338 L2116.6 164.338 L2116.6 148.828 Q2116.6 145.148 2115.17 143.319 Q2113.73 141.49 2110.86 141.49 Q2107.41 141.49 2105.42 143.69 Q2103.43 145.889 2103.43 149.685 L2103.43 164.338 L2099.15 164.338 L2099.15 138.412 L2103.43 138.412 L2103.43 142.44 Q2104.96 140.102 2107.02 138.944 Q2109.1 137.787 2111.81 137.787 Q2116.28 137.787 2118.57 140.565 Q2120.86 143.319 2120.86 148.689 Z\" fill=\"#000000\" fill-rule=\"evenodd\" fill-opacity=\"1\" /><path clip-path=\"url(#clip840)\" d=\"M2133.57 131.051 L2133.57 138.412 L2142.34 138.412 L2142.34 141.722 L2133.57 141.722 L2133.57 155.796 Q2133.57 158.967 2134.43 159.87 Q2135.31 160.773 2137.97 160.773 L2142.34 160.773 L2142.34 164.338 L2137.97 164.338 Q2133.04 164.338 2131.16 162.509 Q2129.29 160.657 2129.29 155.796 L2129.29 141.722 L2126.16 141.722 L2126.16 138.412 L2129.29 138.412 L2129.29 131.051 L2133.57 131.051 Z\" fill=\"#000000\" fill-rule=\"evenodd\" fill-opacity=\"1\" /><path clip-path=\"url(#clip840)\" d=\"M2162.97 142.393 Q2162.25 141.977 2161.4 141.791 Q2160.56 141.583 2159.54 141.583 Q2155.93 141.583 2153.99 143.944 Q2152.07 146.282 2152.07 150.68 L2152.07 164.338 L2147.78 164.338 L2147.78 138.412 L2152.07 138.412 L2152.07 142.44 Q2153.41 140.078 2155.56 138.944 Q2157.72 137.787 2160.79 137.787 Q2161.23 137.787 2161.77 137.856 Q2162.3 137.903 2162.95 138.018 L2162.97 142.393 Z\" fill=\"#000000\" fill-rule=\"evenodd\" fill-opacity=\"1\" /><path clip-path=\"url(#clip840)\" d=\"M2176.44 141.398 Q2173.02 141.398 2171.03 144.083 Q2169.03 146.745 2169.03 151.398 Q2169.03 156.051 2171 158.736 Q2172.99 161.398 2176.44 161.398 Q2179.84 161.398 2181.84 158.713 Q2183.83 156.027 2183.83 151.398 Q2183.83 146.791 2181.84 144.106 Q2179.84 141.398 2176.44 141.398 M2176.44 137.787 Q2182 137.787 2185.17 141.398 Q2188.34 145.009 2188.34 151.398 Q2188.34 157.764 2185.17 161.398 Q2182 165.009 2176.44 165.009 Q2170.86 165.009 2167.69 161.398 Q2164.54 157.764 2164.54 151.398 Q2164.54 145.009 2167.69 141.398 Q2170.86 137.787 2176.44 137.787 Z\" fill=\"#000000\" fill-rule=\"evenodd\" fill-opacity=\"1\" /><path clip-path=\"url(#clip840)\" d=\"M2195.4 128.319 L2199.66 128.319 L2199.66 164.338 L2195.4 164.338 L2195.4 128.319 Z\" fill=\"#000000\" fill-rule=\"evenodd\" fill-opacity=\"1\" /><path clip-path=\"url(#clip840)\" d=\"M2230.75 150.31 L2230.75 152.393 L2211.16 152.393 Q2211.44 156.791 2213.8 159.106 Q2216.19 161.398 2220.42 161.398 Q2222.88 161.398 2225.17 160.796 Q2227.48 160.194 2229.75 158.99 L2229.75 163.018 Q2227.46 163.99 2225.05 164.5 Q2222.65 165.009 2220.17 165.009 Q2213.96 165.009 2210.33 161.398 Q2206.72 157.787 2206.72 151.629 Q2206.72 145.264 2210.15 141.537 Q2213.59 137.787 2219.43 137.787 Q2224.66 137.787 2227.69 141.166 Q2230.75 144.523 2230.75 150.31 M2226.49 149.06 Q2226.44 145.565 2224.52 143.481 Q2222.62 141.398 2219.47 141.398 Q2215.91 141.398 2213.76 143.412 Q2211.63 145.426 2211.3 149.083 L2226.49 149.06 Z\" fill=\"#000000\" fill-rule=\"evenodd\" fill-opacity=\"1\" /><circle clip-path=\"url(#clip840)\" cx=\"1944.78\" cy=\"198.898\" r=\"23\" fill=\"#ff0000\" fill-rule=\"evenodd\" fill-opacity=\"1\" stroke=\"#000000\" stroke-opacity=\"1\" stroke-width=\"5.12\"/>\n",
       "<path clip-path=\"url(#clip840)\" d=\"M2062.9 191.247 L2062.9 195.229 Q2061.1 194.233 2059.27 193.747 Q2057.46 193.238 2055.61 193.238 Q2051.47 193.238 2049.17 195.877 Q2046.88 198.492 2046.88 203.238 Q2046.88 207.983 2049.17 210.622 Q2051.47 213.238 2055.61 213.238 Q2057.46 213.238 2059.27 212.752 Q2061.1 212.242 2062.9 211.247 L2062.9 215.182 Q2061.12 216.016 2059.2 216.432 Q2057.3 216.849 2055.15 216.849 Q2049.29 216.849 2045.84 213.168 Q2042.39 209.488 2042.39 203.238 Q2042.39 196.895 2045.86 193.261 Q2049.36 189.627 2055.42 189.627 Q2057.39 189.627 2059.27 190.043 Q2061.14 190.437 2062.9 191.247 Z\" fill=\"#000000\" fill-rule=\"evenodd\" fill-opacity=\"1\" /><path clip-path=\"url(#clip840)\" d=\"M2082.09 203.145 Q2076.93 203.145 2074.94 204.326 Q2072.95 205.506 2072.95 208.354 Q2072.95 210.622 2074.43 211.965 Q2075.93 213.284 2078.5 213.284 Q2082.04 213.284 2084.17 210.784 Q2086.33 208.261 2086.33 204.094 L2086.33 203.145 L2082.09 203.145 M2090.59 201.386 L2090.59 216.178 L2086.33 216.178 L2086.33 212.242 Q2084.87 214.603 2082.69 215.738 Q2080.52 216.849 2077.37 216.849 Q2073.39 216.849 2071.03 214.627 Q2068.69 212.381 2068.69 208.631 Q2068.69 204.256 2071.6 202.034 Q2074.54 199.812 2080.35 199.812 L2086.33 199.812 L2086.33 199.395 Q2086.33 196.455 2084.38 194.858 Q2082.46 193.238 2078.97 193.238 Q2076.74 193.238 2074.64 193.77 Q2072.53 194.303 2070.59 195.367 L2070.59 191.432 Q2072.92 190.53 2075.12 190.09 Q2077.32 189.627 2079.41 189.627 Q2085.03 189.627 2087.81 192.543 Q2090.59 195.46 2090.59 201.386 Z\" fill=\"#000000\" fill-rule=\"evenodd\" fill-opacity=\"1\" /><path clip-path=\"url(#clip840)\" d=\"M2115.89 191.016 L2115.89 195.043 Q2114.08 194.117 2112.14 193.655 Q2110.19 193.192 2108.11 193.192 Q2104.94 193.192 2103.34 194.164 Q2101.77 195.136 2101.77 197.08 Q2101.77 198.562 2102.9 199.418 Q2104.03 200.252 2107.46 201.016 L2108.92 201.34 Q2113.46 202.312 2115.35 204.094 Q2117.28 205.854 2117.28 209.025 Q2117.28 212.636 2114.41 214.742 Q2111.56 216.849 2106.56 216.849 Q2104.47 216.849 2102.21 216.432 Q2099.96 216.039 2097.46 215.228 L2097.46 210.83 Q2099.82 212.057 2102.11 212.682 Q2104.41 213.284 2106.65 213.284 Q2109.66 213.284 2111.28 212.266 Q2112.9 211.224 2112.9 209.349 Q2112.9 207.613 2111.72 206.687 Q2110.56 205.761 2106.6 204.904 L2105.12 204.557 Q2101.16 203.724 2099.41 202.011 Q2097.65 200.275 2097.65 197.266 Q2097.65 193.608 2100.24 191.618 Q2102.83 189.627 2107.6 189.627 Q2109.96 189.627 2112.04 189.974 Q2114.13 190.321 2115.89 191.016 Z\" fill=\"#000000\" fill-rule=\"evenodd\" fill-opacity=\"1\" /><path clip-path=\"url(#clip840)\" d=\"M2134.1 193.238 Q2130.68 193.238 2128.69 195.923 Q2126.7 198.585 2126.7 203.238 Q2126.7 207.891 2128.66 210.576 Q2130.66 213.238 2134.1 213.238 Q2137.51 213.238 2139.5 210.553 Q2141.49 207.867 2141.49 203.238 Q2141.49 198.631 2139.5 195.946 Q2137.51 193.238 2134.1 193.238 M2134.1 189.627 Q2139.66 189.627 2142.83 193.238 Q2146 196.849 2146 203.238 Q2146 209.604 2142.83 213.238 Q2139.66 216.849 2134.1 216.849 Q2128.53 216.849 2125.35 213.238 Q2122.21 209.604 2122.21 203.238 Q2122.21 196.849 2125.35 193.238 Q2128.53 189.627 2134.1 189.627 Z\" fill=\"#000000\" fill-rule=\"evenodd\" fill-opacity=\"1\" /></svg>\n"
      ]
     },
     "execution_count": 30,
     "metadata": {},
     "output_type": "execute_result"
    }
   ],
   "source": [
    "case_mean = Float64[]\n",
    "control_mean = Float64[]\n",
    "for name in names(case[:, Not(:disease)])\n",
    "    append!(case_mean, mean(case[:, Symbol(name)]))\n",
    "    append!(control_mean, mean(control[:, Symbol(name)]))\n",
    "end\n",
    "\n",
    "plot(seriestype = :scatter, control_mean, ylims = ((0, 1)), ytick = 0:0.1:1, color=:green, label = \"controle\")\n",
    "scatter!(case_mean, color = :red, label = \"caso\")"
   ]
  },
  {
   "cell_type": "code",
   "execution_count": 31,
   "id": "e3c1a055-fc6d-45af-bb7f-7c511d6269e2",
   "metadata": {},
   "outputs": [
    {
     "data": {
      "image/svg+xml": [
       "<?xml version=\"1.0\" encoding=\"utf-8\"?>\n",
       "<svg xmlns=\"http://www.w3.org/2000/svg\" xmlns:xlink=\"http://www.w3.org/1999/xlink\" width=\"600\" height=\"400\" viewBox=\"0 0 2400 1600\">\n",
       "<defs>\n",
       "  <clipPath id=\"clip880\">\n",
       "    <rect x=\"0\" y=\"0\" width=\"2400\" height=\"1600\"/>\n",
       "  </clipPath>\n",
       "</defs>\n",
       "<path clip-path=\"url(#clip880)\" d=\"\n",
       "M0 1600 L2400 1600 L2400 0 L0 0  Z\n",
       "  \" fill=\"#ffffff\" fill-rule=\"evenodd\" fill-opacity=\"1\"/>\n",
       "<defs>\n",
       "  <clipPath id=\"clip881\">\n",
       "    <rect x=\"480\" y=\"0\" width=\"1681\" height=\"1600\"/>\n",
       "  </clipPath>\n",
       "</defs>\n",
       "<path clip-path=\"url(#clip880)\" d=\"\n",
       "M186.76 1486.45 L2352.76 1486.45 L2352.76 47.2441 L186.76 47.2441  Z\n",
       "  \" fill=\"#ffffff\" fill-rule=\"evenodd\" fill-opacity=\"1\"/>\n",
       "<defs>\n",
       "  <clipPath id=\"clip882\">\n",
       "    <rect x=\"186\" y=\"47\" width=\"2167\" height=\"1440\"/>\n",
       "  </clipPath>\n",
       "</defs>\n",
       "<polyline clip-path=\"url(#clip882)\" style=\"stroke:#000000; stroke-linecap:butt; stroke-linejoin:round; stroke-width:2; stroke-opacity:0.1; fill:none\" points=\"\n",
       "  588.627,1486.45 588.627,47.2441 \n",
       "  \"/>\n",
       "<polyline clip-path=\"url(#clip882)\" style=\"stroke:#000000; stroke-linecap:butt; stroke-linejoin:round; stroke-width:2; stroke-opacity:0.1; fill:none\" points=\"\n",
       "  1950.89,1486.45 1950.89,47.2441 \n",
       "  \"/>\n",
       "<polyline clip-path=\"url(#clip880)\" style=\"stroke:#000000; stroke-linecap:butt; stroke-linejoin:round; stroke-width:4; stroke-opacity:1; fill:none\" points=\"\n",
       "  186.76,1486.45 2352.76,1486.45 \n",
       "  \"/>\n",
       "<polyline clip-path=\"url(#clip880)\" style=\"stroke:#000000; stroke-linecap:butt; stroke-linejoin:round; stroke-width:4; stroke-opacity:1; fill:none\" points=\"\n",
       "  588.627,1486.45 588.627,1467.55 \n",
       "  \"/>\n",
       "<polyline clip-path=\"url(#clip880)\" style=\"stroke:#000000; stroke-linecap:butt; stroke-linejoin:round; stroke-width:4; stroke-opacity:1; fill:none\" points=\"\n",
       "  1950.89,1486.45 1950.89,1467.55 \n",
       "  \"/>\n",
       "<path clip-path=\"url(#clip880)\" d=\"M512.517 1523.92 L512.517 1527.9 Q510.711 1526.9 508.882 1526.42 Q507.077 1525.91 505.225 1525.91 Q501.081 1525.91 498.79 1528.55 Q496.498 1531.16 496.498 1535.91 Q496.498 1540.65 498.79 1543.29 Q501.081 1545.91 505.225 1545.91 Q507.077 1545.91 508.882 1545.42 Q510.711 1544.91 512.517 1543.92 L512.517 1547.85 Q510.734 1548.69 508.813 1549.1 Q506.915 1549.52 504.762 1549.52 Q498.906 1549.52 495.456 1545.84 Q492.007 1542.16 492.007 1535.91 Q492.007 1529.57 495.48 1525.93 Q498.975 1522.3 505.04 1522.3 Q507.007 1522.3 508.882 1522.71 Q510.757 1523.11 512.517 1523.92 Z\" fill=\"#000000\" fill-rule=\"evenodd\" fill-opacity=\"1\" /><path clip-path=\"url(#clip880)\" d=\"M519.924 1522.92 L524.183 1522.92 L524.183 1548.85 L519.924 1548.85 L519.924 1522.92 M519.924 1512.83 L524.183 1512.83 L524.183 1518.22 L519.924 1518.22 L519.924 1512.83 Z\" fill=\"#000000\" fill-rule=\"evenodd\" fill-opacity=\"1\" /><path clip-path=\"url(#clip880)\" d=\"M548.118 1526.9 Q547.401 1526.49 546.544 1526.3 Q545.711 1526.09 544.692 1526.09 Q541.081 1526.09 539.137 1528.45 Q537.215 1530.79 537.215 1535.19 L537.215 1548.85 L532.933 1548.85 L532.933 1522.92 L537.215 1522.92 L537.215 1526.95 Q538.558 1524.59 540.711 1523.45 Q542.864 1522.3 545.942 1522.3 Q546.382 1522.3 546.915 1522.37 Q547.447 1522.41 548.095 1522.53 L548.118 1526.9 Z\" fill=\"#000000\" fill-rule=\"evenodd\" fill-opacity=\"1\" /><path clip-path=\"url(#clip880)\" d=\"M566.776 1526.9 Q566.058 1526.49 565.201 1526.3 Q564.368 1526.09 563.35 1526.09 Q559.739 1526.09 557.794 1528.45 Q555.873 1530.79 555.873 1535.19 L555.873 1548.85 L551.59 1548.85 L551.59 1522.92 L555.873 1522.92 L555.873 1526.95 Q557.215 1524.59 559.368 1523.45 Q561.521 1522.3 564.6 1522.3 Q565.039 1522.3 565.572 1522.37 Q566.104 1522.41 566.752 1522.53 L566.776 1526.9 Z\" fill=\"#000000\" fill-rule=\"evenodd\" fill-opacity=\"1\" /><path clip-path=\"url(#clip880)\" d=\"M591.961 1533.2 L591.961 1548.85 L587.701 1548.85 L587.701 1533.34 Q587.701 1529.66 586.266 1527.83 Q584.831 1526 581.961 1526 Q578.512 1526 576.521 1528.2 Q574.53 1530.4 574.53 1534.2 L574.53 1548.85 L570.248 1548.85 L570.248 1512.83 L574.53 1512.83 L574.53 1526.95 Q576.058 1524.61 578.118 1523.45 Q580.201 1522.3 582.91 1522.3 Q587.377 1522.3 589.669 1525.07 Q591.961 1527.83 591.961 1533.2 Z\" fill=\"#000000\" fill-rule=\"evenodd\" fill-opacity=\"1\" /><path clip-path=\"url(#clip880)\" d=\"M610.502 1525.91 Q607.076 1525.91 605.085 1528.59 Q603.095 1531.26 603.095 1535.91 Q603.095 1540.56 605.062 1543.25 Q607.053 1545.91 610.502 1545.91 Q613.905 1545.91 615.896 1543.22 Q617.886 1540.54 617.886 1535.91 Q617.886 1531.3 615.896 1528.62 Q613.905 1525.91 610.502 1525.91 M610.502 1522.3 Q616.058 1522.3 619.229 1525.91 Q622.4 1529.52 622.4 1535.91 Q622.4 1542.27 619.229 1545.91 Q616.058 1549.52 610.502 1549.52 Q604.923 1549.52 601.752 1545.91 Q598.604 1542.27 598.604 1535.91 Q598.604 1529.52 601.752 1525.91 Q604.923 1522.3 610.502 1522.3 Z\" fill=\"#000000\" fill-rule=\"evenodd\" fill-opacity=\"1\" /><path clip-path=\"url(#clip880)\" d=\"M645.988 1523.69 L645.988 1527.71 Q644.183 1526.79 642.238 1526.32 Q640.294 1525.86 638.21 1525.86 Q635.039 1525.86 633.442 1526.83 Q631.868 1527.81 631.868 1529.75 Q631.868 1531.23 633.002 1532.09 Q634.136 1532.92 637.562 1533.69 L639.021 1534.01 Q643.558 1534.98 645.456 1536.76 Q647.377 1538.52 647.377 1541.7 Q647.377 1545.31 644.507 1547.41 Q641.659 1549.52 636.659 1549.52 Q634.576 1549.52 632.308 1549.1 Q630.062 1548.71 627.562 1547.9 L627.562 1543.5 Q629.923 1544.73 632.215 1545.35 Q634.507 1545.95 636.752 1545.95 Q639.761 1545.95 641.382 1544.94 Q643.002 1543.89 643.002 1542.02 Q643.002 1540.28 641.821 1539.36 Q640.664 1538.43 636.706 1537.57 L635.224 1537.23 Q631.266 1536.39 629.507 1534.68 Q627.747 1532.95 627.747 1529.94 Q627.747 1526.28 630.34 1524.29 Q632.933 1522.3 637.701 1522.3 Q640.062 1522.3 642.145 1522.64 Q644.229 1522.99 645.988 1523.69 Z\" fill=\"#000000\" fill-rule=\"evenodd\" fill-opacity=\"1\" /><path clip-path=\"url(#clip880)\" d=\"M654.159 1522.92 L658.419 1522.92 L658.419 1548.85 L654.159 1548.85 L654.159 1522.92 M654.159 1512.83 L658.419 1512.83 L658.419 1518.22 L654.159 1518.22 L654.159 1512.83 Z\" fill=\"#000000\" fill-rule=\"evenodd\" fill-opacity=\"1\" /><path clip-path=\"url(#clip880)\" d=\"M683.858 1523.69 L683.858 1527.71 Q682.053 1526.79 680.108 1526.32 Q678.164 1525.86 676.08 1525.86 Q672.909 1525.86 671.312 1526.83 Q669.738 1527.81 669.738 1529.75 Q669.738 1531.23 670.872 1532.09 Q672.006 1532.92 675.432 1533.69 L676.891 1534.01 Q681.428 1534.98 683.326 1536.76 Q685.247 1538.52 685.247 1541.7 Q685.247 1545.31 682.377 1547.41 Q679.53 1549.52 674.53 1549.52 Q672.446 1549.52 670.178 1549.1 Q667.932 1548.71 665.432 1547.9 L665.432 1543.5 Q667.793 1544.73 670.085 1545.35 Q672.377 1545.95 674.622 1545.95 Q677.631 1545.95 679.252 1544.94 Q680.872 1543.89 680.872 1542.02 Q680.872 1540.28 679.692 1539.36 Q678.534 1538.43 674.576 1537.57 L673.094 1537.23 Q669.136 1536.39 667.377 1534.68 Q665.618 1532.95 665.618 1529.94 Q665.618 1526.28 668.21 1524.29 Q670.803 1522.3 675.571 1522.3 Q677.932 1522.3 680.016 1522.64 Q682.099 1522.99 683.858 1523.69 Z\" fill=\"#000000\" fill-rule=\"evenodd\" fill-opacity=\"1\" /><path clip-path=\"url(#clip880)\" d=\"M1961.75 1533.2 L1961.75 1548.85 L1957.49 1548.85 L1957.49 1533.34 Q1957.49 1529.66 1956.05 1527.83 Q1954.62 1526 1951.75 1526 Q1948.3 1526 1946.31 1528.2 Q1944.31 1530.4 1944.31 1534.2 L1944.31 1548.85 L1940.03 1548.85 L1940.03 1522.92 L1944.31 1522.92 L1944.31 1526.95 Q1945.84 1524.61 1947.9 1523.45 Q1949.99 1522.3 1952.69 1522.3 Q1957.16 1522.3 1959.45 1525.07 Q1961.75 1527.83 1961.75 1533.2 Z\" fill=\"#000000\" fill-rule=\"evenodd\" fill-opacity=\"1\" /><polyline clip-path=\"url(#clip882)\" style=\"stroke:#000000; stroke-linecap:butt; stroke-linejoin:round; stroke-width:2; stroke-opacity:0.1; fill:none\" points=\"\n",
       "  186.76,1445.72 2352.76,1445.72 \n",
       "  \"/>\n",
       "<polyline clip-path=\"url(#clip882)\" style=\"stroke:#000000; stroke-linecap:butt; stroke-linejoin:round; stroke-width:2; stroke-opacity:0.1; fill:none\" points=\"\n",
       "  186.76,1160.54 2352.76,1160.54 \n",
       "  \"/>\n",
       "<polyline clip-path=\"url(#clip882)\" style=\"stroke:#000000; stroke-linecap:butt; stroke-linejoin:round; stroke-width:2; stroke-opacity:0.1; fill:none\" points=\"\n",
       "  186.76,875.357 2352.76,875.357 \n",
       "  \"/>\n",
       "<polyline clip-path=\"url(#clip882)\" style=\"stroke:#000000; stroke-linecap:butt; stroke-linejoin:round; stroke-width:2; stroke-opacity:0.1; fill:none\" points=\"\n",
       "  186.76,590.177 2352.76,590.177 \n",
       "  \"/>\n",
       "<polyline clip-path=\"url(#clip882)\" style=\"stroke:#000000; stroke-linecap:butt; stroke-linejoin:round; stroke-width:2; stroke-opacity:0.1; fill:none\" points=\"\n",
       "  186.76,304.998 2352.76,304.998 \n",
       "  \"/>\n",
       "<polyline clip-path=\"url(#clip880)\" style=\"stroke:#000000; stroke-linecap:butt; stroke-linejoin:round; stroke-width:4; stroke-opacity:1; fill:none\" points=\"\n",
       "  186.76,1486.45 186.76,47.2441 \n",
       "  \"/>\n",
       "<polyline clip-path=\"url(#clip880)\" style=\"stroke:#000000; stroke-linecap:butt; stroke-linejoin:round; stroke-width:4; stroke-opacity:1; fill:none\" points=\"\n",
       "  186.76,1445.72 205.658,1445.72 \n",
       "  \"/>\n",
       "<polyline clip-path=\"url(#clip880)\" style=\"stroke:#000000; stroke-linecap:butt; stroke-linejoin:round; stroke-width:4; stroke-opacity:1; fill:none\" points=\"\n",
       "  186.76,1160.54 205.658,1160.54 \n",
       "  \"/>\n",
       "<polyline clip-path=\"url(#clip880)\" style=\"stroke:#000000; stroke-linecap:butt; stroke-linejoin:round; stroke-width:4; stroke-opacity:1; fill:none\" points=\"\n",
       "  186.76,875.357 205.658,875.357 \n",
       "  \"/>\n",
       "<polyline clip-path=\"url(#clip880)\" style=\"stroke:#000000; stroke-linecap:butt; stroke-linejoin:round; stroke-width:4; stroke-opacity:1; fill:none\" points=\"\n",
       "  186.76,590.177 205.658,590.177 \n",
       "  \"/>\n",
       "<polyline clip-path=\"url(#clip880)\" style=\"stroke:#000000; stroke-linecap:butt; stroke-linejoin:round; stroke-width:4; stroke-opacity:1; fill:none\" points=\"\n",
       "  186.76,304.998 205.658,304.998 \n",
       "  \"/>\n",
       "<path clip-path=\"url(#clip880)\" d=\"M63.4226 1431.51 Q59.8115 1431.51 57.9828 1435.08 Q56.1773 1438.62 56.1773 1445.75 Q56.1773 1452.86 57.9828 1456.42 Q59.8115 1459.96 63.4226 1459.96 Q67.0569 1459.96 68.8624 1456.42 Q70.6911 1452.86 70.6911 1445.75 Q70.6911 1438.62 68.8624 1435.08 Q67.0569 1431.51 63.4226 1431.51 M63.4226 1427.81 Q69.2328 1427.81 72.2883 1432.42 Q75.367 1437 75.367 1445.75 Q75.367 1454.48 72.2883 1459.08 Q69.2328 1463.67 63.4226 1463.67 Q57.6125 1463.67 54.5338 1459.08 Q51.4782 1454.48 51.4782 1445.75 Q51.4782 1437 54.5338 1432.42 Q57.6125 1427.81 63.4226 1427.81 Z\" fill=\"#000000\" fill-rule=\"evenodd\" fill-opacity=\"1\" /><path clip-path=\"url(#clip880)\" d=\"M83.5845 1457.12 L88.4688 1457.12 L88.4688 1463 L83.5845 1463 L83.5845 1457.12 Z\" fill=\"#000000\" fill-rule=\"evenodd\" fill-opacity=\"1\" /><path clip-path=\"url(#clip880)\" d=\"M108.654 1431.51 Q105.043 1431.51 103.214 1435.08 Q101.409 1438.62 101.409 1445.75 Q101.409 1452.86 103.214 1456.42 Q105.043 1459.96 108.654 1459.96 Q112.288 1459.96 114.094 1456.42 Q115.922 1452.86 115.922 1445.75 Q115.922 1438.62 114.094 1435.08 Q112.288 1431.51 108.654 1431.51 M108.654 1427.81 Q114.464 1427.81 117.52 1432.42 Q120.598 1437 120.598 1445.75 Q120.598 1454.48 117.52 1459.08 Q114.464 1463.67 108.654 1463.67 Q102.844 1463.67 99.765 1459.08 Q96.7095 1454.48 96.7095 1445.75 Q96.7095 1437 99.765 1432.42 Q102.844 1427.81 108.654 1427.81 Z\" fill=\"#000000\" fill-rule=\"evenodd\" fill-opacity=\"1\" /><path clip-path=\"url(#clip880)\" d=\"M138.816 1431.51 Q135.205 1431.51 133.376 1435.08 Q131.57 1438.62 131.57 1445.75 Q131.57 1452.86 133.376 1456.42 Q135.205 1459.96 138.816 1459.96 Q142.45 1459.96 144.256 1456.42 Q146.084 1452.86 146.084 1445.75 Q146.084 1438.62 144.256 1435.08 Q142.45 1431.51 138.816 1431.51 M138.816 1427.81 Q144.626 1427.81 147.681 1432.42 Q150.76 1437 150.76 1445.75 Q150.76 1454.48 147.681 1459.08 Q144.626 1463.67 138.816 1463.67 Q133.006 1463.67 129.927 1459.08 Q126.871 1454.48 126.871 1445.75 Q126.871 1437 129.927 1432.42 Q133.006 1427.81 138.816 1427.81 Z\" fill=\"#000000\" fill-rule=\"evenodd\" fill-opacity=\"1\" /><path clip-path=\"url(#clip880)\" d=\"M65.0198 1146.33 Q61.4087 1146.33 59.58 1149.9 Q57.7745 1153.44 57.7745 1160.57 Q57.7745 1167.68 59.58 1171.24 Q61.4087 1174.78 65.0198 1174.78 Q68.6541 1174.78 70.4596 1171.24 Q72.2883 1167.68 72.2883 1160.57 Q72.2883 1153.44 70.4596 1149.9 Q68.6541 1146.33 65.0198 1146.33 M65.0198 1142.63 Q70.83 1142.63 73.8855 1147.24 Q76.9642 1151.82 76.9642 1160.57 Q76.9642 1169.3 73.8855 1173.9 Q70.83 1178.49 65.0198 1178.49 Q59.2097 1178.49 56.131 1173.9 Q53.0754 1169.3 53.0754 1160.57 Q53.0754 1151.82 56.131 1147.24 Q59.2097 1142.63 65.0198 1142.63 Z\" fill=\"#000000\" fill-rule=\"evenodd\" fill-opacity=\"1\" /><path clip-path=\"url(#clip880)\" d=\"M85.1818 1171.94 L90.066 1171.94 L90.066 1177.82 L85.1818 1177.82 L85.1818 1171.94 Z\" fill=\"#000000\" fill-rule=\"evenodd\" fill-opacity=\"1\" /><path clip-path=\"url(#clip880)\" d=\"M110.251 1146.33 Q106.64 1146.33 104.811 1149.9 Q103.006 1153.44 103.006 1160.57 Q103.006 1167.68 104.811 1171.24 Q106.64 1174.78 110.251 1174.78 Q113.885 1174.78 115.691 1171.24 Q117.52 1167.68 117.52 1160.57 Q117.52 1153.44 115.691 1149.9 Q113.885 1146.33 110.251 1146.33 M110.251 1142.63 Q116.061 1142.63 119.117 1147.24 Q122.195 1151.82 122.195 1160.57 Q122.195 1169.3 119.117 1173.9 Q116.061 1178.49 110.251 1178.49 Q104.441 1178.49 101.362 1173.9 Q98.3067 1169.3 98.3067 1160.57 Q98.3067 1151.82 101.362 1147.24 Q104.441 1142.63 110.251 1142.63 Z\" fill=\"#000000\" fill-rule=\"evenodd\" fill-opacity=\"1\" /><path clip-path=\"url(#clip880)\" d=\"M134.441 1173.88 L150.76 1173.88 L150.76 1177.82 L128.816 1177.82 L128.816 1173.88 Q131.478 1171.13 136.061 1166.5 Q140.668 1161.84 141.848 1160.5 Q144.093 1157.98 144.973 1156.24 Q145.876 1154.48 145.876 1152.79 Q145.876 1150.04 143.931 1148.3 Q142.01 1146.57 138.908 1146.57 Q136.709 1146.57 134.256 1147.33 Q131.825 1148.09 129.047 1149.65 L129.047 1144.92 Q131.871 1143.79 134.325 1143.21 Q136.779 1142.63 138.816 1142.63 Q144.186 1142.63 147.38 1145.32 Q150.575 1148 150.575 1152.49 Q150.575 1154.62 149.765 1156.54 Q148.978 1158.44 146.871 1161.03 Q146.293 1161.71 143.191 1164.92 Q140.089 1168.12 134.441 1173.88 Z\" fill=\"#000000\" fill-rule=\"evenodd\" fill-opacity=\"1\" /><path clip-path=\"url(#clip880)\" d=\"M62.9365 861.155 Q59.3254 861.155 57.4967 864.72 Q55.6912 868.262 55.6912 875.391 Q55.6912 882.498 57.4967 886.063 Q59.3254 889.604 62.9365 889.604 Q66.5707 889.604 68.3763 886.063 Q70.205 882.498 70.205 875.391 Q70.205 868.262 68.3763 864.72 Q66.5707 861.155 62.9365 861.155 M62.9365 857.452 Q68.7467 857.452 71.8022 862.058 Q74.8809 866.642 74.8809 875.391 Q74.8809 884.118 71.8022 888.725 Q68.7467 893.308 62.9365 893.308 Q57.1264 893.308 54.0477 888.725 Q50.9921 884.118 50.9921 875.391 Q50.9921 866.642 54.0477 862.058 Q57.1264 857.452 62.9365 857.452 Z\" fill=\"#000000\" fill-rule=\"evenodd\" fill-opacity=\"1\" /><path clip-path=\"url(#clip880)\" d=\"M83.0984 886.757 L87.9827 886.757 L87.9827 892.637 L83.0984 892.637 L83.0984 886.757 Z\" fill=\"#000000\" fill-rule=\"evenodd\" fill-opacity=\"1\" /><path clip-path=\"url(#clip880)\" d=\"M108.168 861.155 Q104.557 861.155 102.728 864.72 Q100.922 868.262 100.922 875.391 Q100.922 882.498 102.728 886.063 Q104.557 889.604 108.168 889.604 Q111.802 889.604 113.608 886.063 Q115.436 882.498 115.436 875.391 Q115.436 868.262 113.608 864.72 Q111.802 861.155 108.168 861.155 M108.168 857.452 Q113.978 857.452 117.033 862.058 Q120.112 866.642 120.112 875.391 Q120.112 884.118 117.033 888.725 Q113.978 893.308 108.168 893.308 Q102.358 893.308 99.2789 888.725 Q96.2234 884.118 96.2234 875.391 Q96.2234 866.642 99.2789 862.058 Q102.358 857.452 108.168 857.452 Z\" fill=\"#000000\" fill-rule=\"evenodd\" fill-opacity=\"1\" /><path clip-path=\"url(#clip880)\" d=\"M141.177 862.151 L129.371 880.6 L141.177 880.6 L141.177 862.151 M139.95 858.077 L145.83 858.077 L145.83 880.6 L150.76 880.6 L150.76 884.489 L145.83 884.489 L145.83 892.637 L141.177 892.637 L141.177 884.489 L125.575 884.489 L125.575 879.975 L139.95 858.077 Z\" fill=\"#000000\" fill-rule=\"evenodd\" fill-opacity=\"1\" /><path clip-path=\"url(#clip880)\" d=\"M63.2606 575.976 Q59.6495 575.976 57.8208 579.541 Q56.0152 583.082 56.0152 590.212 Q56.0152 597.318 57.8208 600.883 Q59.6495 604.425 63.2606 604.425 Q66.8948 604.425 68.7004 600.883 Q70.5291 597.318 70.5291 590.212 Q70.5291 583.082 68.7004 579.541 Q66.8948 575.976 63.2606 575.976 M63.2606 572.272 Q69.0707 572.272 72.1263 576.879 Q75.205 581.462 75.205 590.212 Q75.205 598.939 72.1263 603.545 Q69.0707 608.129 63.2606 608.129 Q57.4504 608.129 54.3717 603.545 Q51.3162 598.939 51.3162 590.212 Q51.3162 581.462 54.3717 576.879 Q57.4504 572.272 63.2606 572.272 Z\" fill=\"#000000\" fill-rule=\"evenodd\" fill-opacity=\"1\" /><path clip-path=\"url(#clip880)\" d=\"M83.4225 601.578 L88.3067 601.578 L88.3067 607.457 L83.4225 607.457 L83.4225 601.578 Z\" fill=\"#000000\" fill-rule=\"evenodd\" fill-opacity=\"1\" /><path clip-path=\"url(#clip880)\" d=\"M108.492 575.976 Q104.881 575.976 103.052 579.541 Q101.246 583.082 101.246 590.212 Q101.246 597.318 103.052 600.883 Q104.881 604.425 108.492 604.425 Q112.126 604.425 113.932 600.883 Q115.76 597.318 115.76 590.212 Q115.76 583.082 113.932 579.541 Q112.126 575.976 108.492 575.976 M108.492 572.272 Q114.302 572.272 117.358 576.879 Q120.436 581.462 120.436 590.212 Q120.436 598.939 117.358 603.545 Q114.302 608.129 108.492 608.129 Q102.682 608.129 99.603 603.545 Q96.5474 598.939 96.5474 590.212 Q96.5474 581.462 99.603 576.879 Q102.682 572.272 108.492 572.272 Z\" fill=\"#000000\" fill-rule=\"evenodd\" fill-opacity=\"1\" /><path clip-path=\"url(#clip880)\" d=\"M139.232 588.314 Q136.084 588.314 134.232 590.467 Q132.404 592.619 132.404 596.369 Q132.404 600.096 134.232 602.272 Q136.084 604.425 139.232 604.425 Q142.381 604.425 144.209 602.272 Q146.061 600.096 146.061 596.369 Q146.061 592.619 144.209 590.467 Q142.381 588.314 139.232 588.314 M148.515 573.661 L148.515 577.92 Q146.756 577.087 144.95 576.647 Q143.168 576.207 141.408 576.207 Q136.779 576.207 134.325 579.332 Q131.894 582.457 131.547 588.777 Q132.913 586.763 134.973 585.698 Q137.033 584.61 139.51 584.61 Q144.718 584.61 147.728 587.781 Q150.76 590.93 150.76 596.369 Q150.76 601.693 147.612 604.911 Q144.464 608.129 139.232 608.129 Q133.237 608.129 130.066 603.545 Q126.894 598.939 126.894 590.212 Q126.894 582.018 130.783 577.157 Q134.672 572.272 141.223 572.272 Q142.982 572.272 144.765 572.62 Q146.57 572.967 148.515 573.661 Z\" fill=\"#000000\" fill-rule=\"evenodd\" fill-opacity=\"1\" /><path clip-path=\"url(#clip880)\" d=\"M63.5152 290.797 Q59.9041 290.797 58.0754 294.361 Q56.2699 297.903 56.2699 305.033 Q56.2699 312.139 58.0754 315.704 Q59.9041 319.245 63.5152 319.245 Q67.1494 319.245 68.955 315.704 Q70.7837 312.139 70.7837 305.033 Q70.7837 297.903 68.955 294.361 Q67.1494 290.797 63.5152 290.797 M63.5152 287.093 Q69.3254 287.093 72.3809 291.699 Q75.4596 296.283 75.4596 305.033 Q75.4596 313.759 72.3809 318.366 Q69.3254 322.949 63.5152 322.949 Q57.7051 322.949 54.6264 318.366 Q51.5708 313.759 51.5708 305.033 Q51.5708 296.283 54.6264 291.699 Q57.7051 287.093 63.5152 287.093 Z\" fill=\"#000000\" fill-rule=\"evenodd\" fill-opacity=\"1\" /><path clip-path=\"url(#clip880)\" d=\"M83.6771 316.398 L88.5614 316.398 L88.5614 322.278 L83.6771 322.278 L83.6771 316.398 Z\" fill=\"#000000\" fill-rule=\"evenodd\" fill-opacity=\"1\" /><path clip-path=\"url(#clip880)\" d=\"M108.746 290.797 Q105.135 290.797 103.307 294.361 Q101.501 297.903 101.501 305.033 Q101.501 312.139 103.307 315.704 Q105.135 319.245 108.746 319.245 Q112.381 319.245 114.186 315.704 Q116.015 312.139 116.015 305.033 Q116.015 297.903 114.186 294.361 Q112.381 290.797 108.746 290.797 M108.746 287.093 Q114.557 287.093 117.612 291.699 Q120.691 296.283 120.691 305.033 Q120.691 313.759 117.612 318.366 Q114.557 322.949 108.746 322.949 Q102.936 322.949 99.8576 318.366 Q96.8021 313.759 96.8021 305.033 Q96.8021 296.283 99.8576 291.699 Q102.936 287.093 108.746 287.093 Z\" fill=\"#000000\" fill-rule=\"evenodd\" fill-opacity=\"1\" /><path clip-path=\"url(#clip880)\" d=\"M138.908 305.866 Q135.575 305.866 133.654 307.648 Q131.756 309.431 131.756 312.556 Q131.756 315.681 133.654 317.463 Q135.575 319.245 138.908 319.245 Q142.242 319.245 144.163 317.463 Q146.084 315.658 146.084 312.556 Q146.084 309.431 144.163 307.648 Q142.265 305.866 138.908 305.866 M134.232 303.875 Q131.223 303.134 129.533 301.074 Q127.867 299.014 127.867 296.051 Q127.867 291.908 130.807 289.5 Q133.769 287.093 138.908 287.093 Q144.07 287.093 147.01 289.5 Q149.95 291.908 149.95 296.051 Q149.95 299.014 148.26 301.074 Q146.593 303.134 143.607 303.875 Q146.987 304.662 148.862 306.954 Q150.76 309.246 150.76 312.556 Q150.76 317.579 147.681 320.264 Q144.626 322.949 138.908 322.949 Q133.191 322.949 130.112 320.264 Q127.057 317.579 127.057 312.556 Q127.057 309.246 128.955 306.954 Q130.853 304.662 134.232 303.875 M132.519 296.491 Q132.519 299.176 134.186 300.681 Q135.876 302.185 138.908 302.185 Q141.918 302.185 143.607 300.681 Q145.32 299.176 145.32 296.491 Q145.32 293.806 143.607 292.301 Q141.918 290.797 138.908 290.797 Q135.876 290.797 134.186 292.301 Q132.519 293.806 132.519 296.491 Z\" fill=\"#000000\" fill-rule=\"evenodd\" fill-opacity=\"1\" /><path clip-path=\"url(#clip882)\" d=\"\n",
       "M588.627 1445.72 L248.062 1445.72 L929.193 1445.72 L588.627 1445.72 L588.627 1445.72 L588.627 1445.72  Z\n",
       "  \" fill=\"#ffc125\" fill-rule=\"evenodd\" fill-opacity=\"1\"/>\n",
       "<polyline clip-path=\"url(#clip882)\" style=\"stroke:#000000; stroke-linecap:butt; stroke-linejoin:round; stroke-width:4; stroke-opacity:1; fill:none\" points=\"\n",
       "  588.627,1445.72 248.062,1445.72 929.193,1445.72 588.627,1445.72 \n",
       "  \"/>\n",
       "<path clip-path=\"url(#clip882)\" d=\"\n",
       "M929.193 1445.72 L929.193 1445.72 L248.062 1445.72 L248.062 1445.72 L929.193 1445.72 L929.193 1445.72 L929.193 1445.72  Z\n",
       "  \" fill=\"#ffc125\" fill-rule=\"evenodd\" fill-opacity=\"1\"/>\n",
       "<polyline clip-path=\"url(#clip882)\" style=\"stroke:#000000; stroke-linecap:butt; stroke-linejoin:round; stroke-width:4; stroke-opacity:1; fill:none\" points=\"\n",
       "  929.193,1445.72 929.193,1445.72 248.062,1445.72 929.193,1445.72 \n",
       "  \"/>\n",
       "<path clip-path=\"url(#clip882)\" d=\"\n",
       "M929.193 1445.72 L248.062 1445.72 L248.062 1445.72 L929.193 1445.72 L929.193 1445.72 L588.627 1445.72 L929.193 1445.72  Z\n",
       "  \" fill=\"#ffc125\" fill-rule=\"evenodd\" fill-opacity=\"1\"/>\n",
       "<polyline clip-path=\"url(#clip882)\" style=\"stroke:#000000; stroke-linecap:butt; stroke-linejoin:round; stroke-width:4; stroke-opacity:1; fill:none\" points=\"\n",
       "  929.193,1445.72 248.062,1445.72 929.193,1445.72 588.627,1445.72 929.193,1445.72 \n",
       "  \"/>\n",
       "<path clip-path=\"url(#clip882)\" d=\"\n",
       "M588.627 1445.72 L248.062 1445.72 L929.193 1445.72 L588.627 1445.72 L588.627 1445.72 L588.627 1445.72  Z\n",
       "  \" fill=\"#ffc125\" fill-rule=\"evenodd\" fill-opacity=\"1\"/>\n",
       "<polyline clip-path=\"url(#clip882)\" style=\"stroke:#000000; stroke-linecap:butt; stroke-linejoin:round; stroke-width:4; stroke-opacity:1; fill:none\" points=\"\n",
       "  588.627,1445.72 248.062,1445.72 929.193,1445.72 588.627,1445.72 \n",
       "  \"/>\n",
       "<path clip-path=\"url(#clip882)\" d=\"\n",
       "M1950.89 1445.72 L1610.32 1445.72 L2291.45 1445.72 L1950.89 1445.72 L1950.89 1445.72 L1950.89 1445.72  Z\n",
       "  \" fill=\"#ffc125\" fill-rule=\"evenodd\" fill-opacity=\"1\"/>\n",
       "<polyline clip-path=\"url(#clip882)\" style=\"stroke:#000000; stroke-linecap:butt; stroke-linejoin:round; stroke-width:4; stroke-opacity:1; fill:none\" points=\"\n",
       "  1950.89,1445.72 1610.32,1445.72 2291.45,1445.72 1950.89,1445.72 \n",
       "  \"/>\n",
       "<path clip-path=\"url(#clip882)\" d=\"\n",
       "M2291.45 1445.72 L2291.45 1445.72 L1610.32 1445.72 L1610.32 1445.72 L2291.45 1445.72 L2291.45 1445.72 L2291.45 1445.72  Z\n",
       "  \" fill=\"#ffc125\" fill-rule=\"evenodd\" fill-opacity=\"1\"/>\n",
       "<polyline clip-path=\"url(#clip882)\" style=\"stroke:#000000; stroke-linecap:butt; stroke-linejoin:round; stroke-width:4; stroke-opacity:1; fill:none\" points=\"\n",
       "  2291.45,1445.72 2291.45,1445.72 1610.32,1445.72 2291.45,1445.72 \n",
       "  \"/>\n",
       "<path clip-path=\"url(#clip882)\" d=\"\n",
       "M2291.45 1445.72 L1610.32 1445.72 L1610.32 1445.72 L2291.45 1445.72 L2291.45 1445.72 L1950.89 1445.72 L2291.45 1445.72  Z\n",
       "  \" fill=\"#ffc125\" fill-rule=\"evenodd\" fill-opacity=\"1\"/>\n",
       "<polyline clip-path=\"url(#clip882)\" style=\"stroke:#000000; stroke-linecap:butt; stroke-linejoin:round; stroke-width:4; stroke-opacity:1; fill:none\" points=\"\n",
       "  2291.45,1445.72 1610.32,1445.72 2291.45,1445.72 1950.89,1445.72 2291.45,1445.72 \n",
       "  \"/>\n",
       "<path clip-path=\"url(#clip882)\" d=\"\n",
       "M1950.89 1445.72 L1610.32 1445.72 L2291.45 1445.72 L1950.89 1445.72 L1950.89 1445.72 L1950.89 1445.72  Z\n",
       "  \" fill=\"#ffc125\" fill-rule=\"evenodd\" fill-opacity=\"1\"/>\n",
       "<polyline clip-path=\"url(#clip882)\" style=\"stroke:#000000; stroke-linecap:butt; stroke-linejoin:round; stroke-width:4; stroke-opacity:1; fill:none\" points=\"\n",
       "  1950.89,1445.72 1610.32,1445.72 2291.45,1445.72 1950.89,1445.72 \n",
       "  \"/>\n",
       "<circle clip-path=\"url(#clip882)\" cx=\"588.627\" cy=\"1149.7\" r=\"14\" fill=\"#ffc125\" fill-rule=\"evenodd\" fill-opacity=\"1\" stroke=\"#000000\" stroke-opacity=\"1\" stroke-width=\"3.2\"/>\n",
       "<circle clip-path=\"url(#clip882)\" cx=\"588.627\" cy=\"1436.02\" r=\"14\" fill=\"#ffc125\" fill-rule=\"evenodd\" fill-opacity=\"1\" stroke=\"#000000\" stroke-opacity=\"1\" stroke-width=\"3.2\"/>\n",
       "<circle clip-path=\"url(#clip882)\" cx=\"588.627\" cy=\"1234.68\" r=\"14\" fill=\"#ffc125\" fill-rule=\"evenodd\" fill-opacity=\"1\" stroke=\"#000000\" stroke-opacity=\"1\" stroke-width=\"3.2\"/>\n",
       "<circle clip-path=\"url(#clip882)\" cx=\"588.627\" cy=\"1431.74\" r=\"14\" fill=\"#ffc125\" fill-rule=\"evenodd\" fill-opacity=\"1\" stroke=\"#000000\" stroke-opacity=\"1\" stroke-width=\"3.2\"/>\n",
       "<circle clip-path=\"url(#clip882)\" cx=\"588.627\" cy=\"87.9763\" r=\"14\" fill=\"#ffc125\" fill-rule=\"evenodd\" fill-opacity=\"1\" stroke=\"#000000\" stroke-opacity=\"1\" stroke-width=\"3.2\"/>\n",
       "<circle clip-path=\"url(#clip882)\" cx=\"588.627\" cy=\"1436.88\" r=\"14\" fill=\"#ffc125\" fill-rule=\"evenodd\" fill-opacity=\"1\" stroke=\"#000000\" stroke-opacity=\"1\" stroke-width=\"3.2\"/>\n",
       "<circle clip-path=\"url(#clip882)\" cx=\"588.627\" cy=\"1306.55\" r=\"14\" fill=\"#ffc125\" fill-rule=\"evenodd\" fill-opacity=\"1\" stroke=\"#000000\" stroke-opacity=\"1\" stroke-width=\"3.2\"/>\n",
       "<circle clip-path=\"url(#clip882)\" cx=\"588.627\" cy=\"1414.06\" r=\"14\" fill=\"#ffc125\" fill-rule=\"evenodd\" fill-opacity=\"1\" stroke=\"#000000\" stroke-opacity=\"1\" stroke-width=\"3.2\"/>\n",
       "<circle clip-path=\"url(#clip882)\" cx=\"588.627\" cy=\"1243.95\" r=\"14\" fill=\"#ffc125\" fill-rule=\"evenodd\" fill-opacity=\"1\" stroke=\"#000000\" stroke-opacity=\"1\" stroke-width=\"3.2\"/>\n",
       "<circle clip-path=\"url(#clip882)\" cx=\"588.627\" cy=\"1436.16\" r=\"14\" fill=\"#ffc125\" fill-rule=\"evenodd\" fill-opacity=\"1\" stroke=\"#000000\" stroke-opacity=\"1\" stroke-width=\"3.2\"/>\n",
       "<circle clip-path=\"url(#clip882)\" cx=\"588.627\" cy=\"1432.74\" r=\"14\" fill=\"#ffc125\" fill-rule=\"evenodd\" fill-opacity=\"1\" stroke=\"#000000\" stroke-opacity=\"1\" stroke-width=\"3.2\"/>\n",
       "<circle clip-path=\"url(#clip882)\" cx=\"588.627\" cy=\"1372.85\" r=\"14\" fill=\"#ffc125\" fill-rule=\"evenodd\" fill-opacity=\"1\" stroke=\"#000000\" stroke-opacity=\"1\" stroke-width=\"3.2\"/>\n",
       "<circle clip-path=\"url(#clip882)\" cx=\"588.627\" cy=\"1411.78\" r=\"14\" fill=\"#ffc125\" fill-rule=\"evenodd\" fill-opacity=\"1\" stroke=\"#000000\" stroke-opacity=\"1\" stroke-width=\"3.2\"/>\n",
       "<circle clip-path=\"url(#clip882)\" cx=\"588.627\" cy=\"1319.67\" r=\"14\" fill=\"#ffc125\" fill-rule=\"evenodd\" fill-opacity=\"1\" stroke=\"#000000\" stroke-opacity=\"1\" stroke-width=\"3.2\"/>\n",
       "<circle clip-path=\"url(#clip882)\" cx=\"588.627\" cy=\"1352.89\" r=\"14\" fill=\"#ffc125\" fill-rule=\"evenodd\" fill-opacity=\"1\" stroke=\"#000000\" stroke-opacity=\"1\" stroke-width=\"3.2\"/>\n",
       "<circle clip-path=\"url(#clip882)\" cx=\"588.627\" cy=\"313.696\" r=\"14\" fill=\"#ffc125\" fill-rule=\"evenodd\" fill-opacity=\"1\" stroke=\"#000000\" stroke-opacity=\"1\" stroke-width=\"3.2\"/>\n",
       "<circle clip-path=\"url(#clip882)\" cx=\"588.627\" cy=\"1421.48\" r=\"14\" fill=\"#ffc125\" fill-rule=\"evenodd\" fill-opacity=\"1\" stroke=\"#000000\" stroke-opacity=\"1\" stroke-width=\"3.2\"/>\n",
       "<circle clip-path=\"url(#clip882)\" cx=\"588.627\" cy=\"1438.73\" r=\"14\" fill=\"#ffc125\" fill-rule=\"evenodd\" fill-opacity=\"1\" stroke=\"#000000\" stroke-opacity=\"1\" stroke-width=\"3.2\"/>\n",
       "<circle clip-path=\"url(#clip882)\" cx=\"588.627\" cy=\"1245.09\" r=\"14\" fill=\"#ffc125\" fill-rule=\"evenodd\" fill-opacity=\"1\" stroke=\"#000000\" stroke-opacity=\"1\" stroke-width=\"3.2\"/>\n",
       "<circle clip-path=\"url(#clip882)\" cx=\"588.627\" cy=\"1100.51\" r=\"14\" fill=\"#ffc125\" fill-rule=\"evenodd\" fill-opacity=\"1\" stroke=\"#000000\" stroke-opacity=\"1\" stroke-width=\"3.2\"/>\n",
       "<circle clip-path=\"url(#clip882)\" cx=\"588.627\" cy=\"1311.82\" r=\"14\" fill=\"#ffc125\" fill-rule=\"evenodd\" fill-opacity=\"1\" stroke=\"#000000\" stroke-opacity=\"1\" stroke-width=\"3.2\"/>\n",
       "<circle clip-path=\"url(#clip882)\" cx=\"588.627\" cy=\"1170.66\" r=\"14\" fill=\"#ffc125\" fill-rule=\"evenodd\" fill-opacity=\"1\" stroke=\"#000000\" stroke-opacity=\"1\" stroke-width=\"3.2\"/>\n",
       "<circle clip-path=\"url(#clip882)\" cx=\"1950.89\" cy=\"1369.29\" r=\"14\" fill=\"#ffc125\" fill-rule=\"evenodd\" fill-opacity=\"1\" stroke=\"#000000\" stroke-opacity=\"1\" stroke-width=\"3.2\"/>\n",
       "<circle clip-path=\"url(#clip882)\" cx=\"1950.89\" cy=\"1420.05\" r=\"14\" fill=\"#ffc125\" fill-rule=\"evenodd\" fill-opacity=\"1\" stroke=\"#000000\" stroke-opacity=\"1\" stroke-width=\"3.2\"/>\n",
       "<circle clip-path=\"url(#clip882)\" cx=\"1950.89\" cy=\"1415.91\" r=\"14\" fill=\"#ffc125\" fill-rule=\"evenodd\" fill-opacity=\"1\" stroke=\"#000000\" stroke-opacity=\"1\" stroke-width=\"3.2\"/>\n",
       "<circle clip-path=\"url(#clip882)\" cx=\"1950.89\" cy=\"1433.74\" r=\"14\" fill=\"#ffc125\" fill-rule=\"evenodd\" fill-opacity=\"1\" stroke=\"#000000\" stroke-opacity=\"1\" stroke-width=\"3.2\"/>\n",
       "<circle clip-path=\"url(#clip882)\" cx=\"1950.89\" cy=\"1390.53\" r=\"14\" fill=\"#ffc125\" fill-rule=\"evenodd\" fill-opacity=\"1\" stroke=\"#000000\" stroke-opacity=\"1\" stroke-width=\"3.2\"/>\n",
       "<polyline clip-path=\"url(#clip882)\" style=\"stroke:#ffc125; stroke-linecap:butt; stroke-linejoin:round; stroke-width:0; stroke-opacity:1; fill:none\" points=\"\n",
       "  588.627,1445.72 248.062,1445.72 929.193,1445.72 588.627,1445.72 \n",
       "  \"/>\n",
       "<polyline clip-path=\"url(#clip882)\" style=\"stroke:#ffc125; stroke-linecap:butt; stroke-linejoin:round; stroke-width:0; stroke-opacity:1; fill:none\" points=\"\n",
       "  929.193,1445.72 929.193,1445.72 248.062,1445.72 929.193,1445.72 \n",
       "  \"/>\n",
       "<polyline clip-path=\"url(#clip882)\" style=\"stroke:#ffc125; stroke-linecap:butt; stroke-linejoin:round; stroke-width:0; stroke-opacity:1; fill:none\" points=\"\n",
       "  929.193,1445.72 248.062,1445.72 929.193,1445.72 588.627,1445.72 \n",
       "  \"/>\n",
       "<polyline clip-path=\"url(#clip882)\" style=\"stroke:#ffc125; stroke-linecap:butt; stroke-linejoin:round; stroke-width:0; stroke-opacity:1; fill:none\" points=\"\n",
       "  588.627,1445.72 248.062,1445.72 929.193,1445.72 588.627,1445.72 \n",
       "  \"/>\n",
       "<polyline clip-path=\"url(#clip882)\" style=\"stroke:#ffc125; stroke-linecap:butt; stroke-linejoin:round; stroke-width:0; stroke-opacity:1; fill:none\" points=\"\n",
       "  1950.89,1445.72 1610.32,1445.72 2291.45,1445.72 1950.89,1445.72 \n",
       "  \"/>\n",
       "<polyline clip-path=\"url(#clip882)\" style=\"stroke:#ffc125; stroke-linecap:butt; stroke-linejoin:round; stroke-width:0; stroke-opacity:1; fill:none\" points=\"\n",
       "  2291.45,1445.72 2291.45,1445.72 1610.32,1445.72 2291.45,1445.72 \n",
       "  \"/>\n",
       "<polyline clip-path=\"url(#clip882)\" style=\"stroke:#ffc125; stroke-linecap:butt; stroke-linejoin:round; stroke-width:0; stroke-opacity:1; fill:none\" points=\"\n",
       "  2291.45,1445.72 1610.32,1445.72 2291.45,1445.72 1950.89,1445.72 \n",
       "  \"/>\n",
       "<polyline clip-path=\"url(#clip882)\" style=\"stroke:#ffc125; stroke-linecap:butt; stroke-linejoin:round; stroke-width:0; stroke-opacity:1; fill:none\" points=\"\n",
       "  1950.89,1445.72 1610.32,1445.72 2291.45,1445.72 1950.89,1445.72 \n",
       "  \"/>\n",
       "</svg>\n"
      ]
     },
     "execution_count": 31,
     "metadata": {},
     "output_type": "execute_result"
    }
   ],
   "source": [
    "using StatsPlots\n",
    "boxplot(cirr_genus_full.disease, cirr_genus_full[:, :Solobacterium],\n",
    "color = :goldenrod1, whisker_width = 0.5, bar_width = 0.5, legend = false)"
   ]
  },
  {
   "cell_type": "code",
   "execution_count": 32,
   "id": "ccfb2592-3bc2-4086-b9e9-0f584aaad6ed",
   "metadata": {},
   "outputs": [
    {
     "data": {
      "text/plain": [
       "One sample t-test\n",
       "-----------------\n",
       "Population details:\n",
       "    parameter of interest:   Mean\n",
       "    value under h_0:         0\n",
       "    point estimate:          0.00262193\n",
       "    95% confidence interval: (0.0003718, 0.004872)\n",
       "\n",
       "Test summary:\n",
       "    outcome with 95% confidence: reject h_0\n",
       "    two-sided p-value:           0.0228\n",
       "\n",
       "Details:\n",
       "    number of observations:   114\n",
       "    t-statistic:              2.308540395102963\n",
       "    degrees of freedom:       113\n",
       "    empirical standard error: 0.0011357521965494838\n"
      ]
     },
     "execution_count": 32,
     "metadata": {},
     "output_type": "execute_result"
    }
   ],
   "source": [
    "OneSampleTTest(case[1:114, :Solobacterium], control[:, :Solobacterium])"
   ]
  },
  {
   "cell_type": "markdown",
   "id": "1434bd36-865b-49d6-9c1a-2838264a9082",
   "metadata": {},
   "source": [
    "## Keeping only the relevant features using hypothesis test."
   ]
  },
  {
   "cell_type": "code",
   "execution_count": 33,
   "id": "143736ef-795d-4a73-940b-c1d9ed7df342",
   "metadata": {},
   "outputs": [
    {
     "name": "stdout",
     "output_type": "stream",
     "text": [
      "[\"Actinomyces\", \"Rothia\", \"Adlercreutzia\", \"Atopobium\", \"Olsenella\", \"Bacteroides\", \"Bacteroidales_noname\", \"Barnesiella\", \"Coprobacter\", \"Odoribacter\", \"Alloprevotella\", \"Paraprevotella\", \"Alistipes\", \"Granulicatella\", \"Lactobacillus\", \"Weissella\", \"Streptococcus\", \"Clostridium\", \"Clostridiales_noname\", \"Eubacterium\", \"Blautia\", \"Coprococcus\", \"Dorea\", \"Roseburia\", \"Oscillibacter\", \"Anaerotruncus\", \"Faecalibacterium\", \"Ruminococcus\", \"Subdoligranulum\", \"Coprobacillus\", \"Solobacterium\", \"Megasphaera\", \"Veillonella\", \"Leptotrichiaceae_unclassified\", \"Burkholderiales_noname\", \"Oxalobacter\", \"Neisseria\", \"Bilophila\", \"Desulfovibrio\", \"Campylobacter\", \"Citrobacter\", \"Escherichia\", \"Klebsiella\", \"Aggregatibacter\", \"Haemophilus\", \"Butyricimonas\", \"Gemella\", \"Staphylococcus\", \"Butyricicoccus\", \"Clostridiales_Family_XIII_Incertae_Sedis_unclassified\", \"Oribacterium\", \"Selenomonas\", \"Burkholderia\", \"Pantoea\", \"Raoultella\", \"Actinobacillus\", \"Leptotrichia\", \"Eikenella\", \"disease\"]"
     ]
    }
   ],
   "source": [
    "genus_diff = String[]\n",
    "for name in names(cirr_genus_full[:, Not(:disease)])\n",
    "    pvalor = pvalue(OneSampleTTest(case[1:114, name], control[:, name]))\n",
    "    if (pvalor <= 0.05)\n",
    "       push!(genus_diff, name) \n",
    "    end\n",
    "end\n",
    "\n",
    "genus_diff_df = copy(cirr_genus_full[:, genus_diff]);\n",
    "genus_diff_df.disease = cirr_genus_full.disease\n",
    "print(names(genus_diff_df))\n",
    "# print(OneSampleTTest(control[:, 3], case[1:114, 3]))\n",
    "# pvalue(OneSampleTTest(case[1:114, 3], control[:, 3]))"
   ]
  },
  {
   "cell_type": "code",
   "execution_count": 29,
   "id": "4a57d4d9-826f-42ea-86c5-a5ef2909d7a9",
   "metadata": {},
   "outputs": [],
   "source": [
    "# genus_test = copy(cirr_genus_full[:, Not(:disease)])\n",
    "# for name in names(genus_test)\n",
    "#     genus_test[:, name] = genus_test[:, name] .+ 0.001\n",
    "#     genus_test[:, name] = log.(2, genus_test[:, name])\n",
    "# end\n",
    "# first(genus_test, 10)"
   ]
  },
  {
   "cell_type": "code",
   "execution_count": 34,
   "id": "b10c99ef-0369-4d55-bb7a-bc7933c9397f",
   "metadata": {},
   "outputs": [
    {
     "data": {
      "text/html": [
       "<div class=\"data-frame\"><p>10 rows × 59 columns (omitted printing of 52 columns)</p><table class=\"data-frame\"><thead><tr><th></th><th>Actinomyces</th><th>Rothia</th><th>Adlercreutzia</th><th>Atopobium</th><th>Olsenella</th><th>Bacteroides</th><th>Bacteroidales_noname</th></tr><tr><th></th><th title=\"Float64\">Float64</th><th title=\"Float64\">Float64</th><th title=\"Float64\">Float64</th><th title=\"Float64\">Float64</th><th title=\"Float64\">Float64</th><th title=\"Float64\">Float64</th><th title=\"Float64\">Float64</th></tr></thead><tbody><tr><th>1</th><td>0.0</td><td>0.0</td><td>0.0</td><td>0.0</td><td>0.0</td><td>57.415</td><td>0.0</td></tr><tr><th>2</th><td>0.0</td><td>0.0</td><td>0.08773</td><td>0.0</td><td>0.0</td><td>26.5831</td><td>0.0</td></tr><tr><th>3</th><td>0.0</td><td>0.0</td><td>0.05996</td><td>0.0</td><td>0.0</td><td>40.8567</td><td>0.32786</td></tr><tr><th>4</th><td>0.0</td><td>0.0</td><td>0.0</td><td>0.0</td><td>0.0</td><td>41.0404</td><td>0.0</td></tr><tr><th>5</th><td>0.0</td><td>0.0</td><td>0.0</td><td>0.0</td><td>0.0</td><td>23.8563</td><td>1.3074</td></tr><tr><th>6</th><td>0.0</td><td>0.0</td><td>0.02209</td><td>0.0</td><td>0.0</td><td>17.8417</td><td>0.17071</td></tr><tr><th>7</th><td>0.0</td><td>0.00068</td><td>0.08967</td><td>0.0</td><td>0.0</td><td>28.2141</td><td>0.0</td></tr><tr><th>8</th><td>0.0</td><td>0.0</td><td>0.0</td><td>0.0</td><td>0.0</td><td>12.9702</td><td>0.36746</td></tr><tr><th>9</th><td>0.03917</td><td>0.08068</td><td>0.06967</td><td>0.0</td><td>0.0</td><td>8.5884</td><td>0.18227</td></tr><tr><th>10</th><td>0.0</td><td>0.0</td><td>0.0</td><td>0.0</td><td>0.0</td><td>46.6273</td><td>0.0041</td></tr></tbody></table></div>"
      ],
      "text/latex": [
       "\\begin{tabular}{r|cccccccc}\n",
       "\t& Actinomyces & Rothia & Adlercreutzia & Atopobium & Olsenella & Bacteroides & Bacteroidales\\_noname & \\\\\n",
       "\t\\hline\n",
       "\t& Float64 & Float64 & Float64 & Float64 & Float64 & Float64 & Float64 & \\\\\n",
       "\t\\hline\n",
       "\t1 & 0.0 & 0.0 & 0.0 & 0.0 & 0.0 & 57.415 & 0.0 & $\\dots$ \\\\\n",
       "\t2 & 0.0 & 0.0 & 0.08773 & 0.0 & 0.0 & 26.5831 & 0.0 & $\\dots$ \\\\\n",
       "\t3 & 0.0 & 0.0 & 0.05996 & 0.0 & 0.0 & 40.8567 & 0.32786 & $\\dots$ \\\\\n",
       "\t4 & 0.0 & 0.0 & 0.0 & 0.0 & 0.0 & 41.0404 & 0.0 & $\\dots$ \\\\\n",
       "\t5 & 0.0 & 0.0 & 0.0 & 0.0 & 0.0 & 23.8563 & 1.3074 & $\\dots$ \\\\\n",
       "\t6 & 0.0 & 0.0 & 0.02209 & 0.0 & 0.0 & 17.8417 & 0.17071 & $\\dots$ \\\\\n",
       "\t7 & 0.0 & 0.00068 & 0.08967 & 0.0 & 0.0 & 28.2141 & 0.0 & $\\dots$ \\\\\n",
       "\t8 & 0.0 & 0.0 & 0.0 & 0.0 & 0.0 & 12.9702 & 0.36746 & $\\dots$ \\\\\n",
       "\t9 & 0.03917 & 0.08068 & 0.06967 & 0.0 & 0.0 & 8.5884 & 0.18227 & $\\dots$ \\\\\n",
       "\t10 & 0.0 & 0.0 & 0.0 & 0.0 & 0.0 & 46.6273 & 0.0041 & $\\dots$ \\\\\n",
       "\\end{tabular}\n"
      ],
      "text/plain": [
       "\u001b[1m10×59 DataFrame\u001b[0m\n",
       "\u001b[1m Row \u001b[0m│\u001b[1m Actinomyces \u001b[0m\u001b[1m Rothia  \u001b[0m\u001b[1m Adlercreutzia \u001b[0m\u001b[1m Atopobium \u001b[0m\u001b[1m Olsenella \u001b[0m\u001b[1m Bacteroides \u001b[0m\u001b[1m\u001b[0m ⋯\n",
       "\u001b[1m     \u001b[0m│\u001b[90m Float64     \u001b[0m\u001b[90m Float64 \u001b[0m\u001b[90m Float64       \u001b[0m\u001b[90m Float64   \u001b[0m\u001b[90m Float64   \u001b[0m\u001b[90m Float64     \u001b[0m\u001b[90m\u001b[0m ⋯\n",
       "─────┼──────────────────────────────────────────────────────────────────────────\n",
       "   1 │     0.0      0.0            0.0            0.0        0.0      57.415   ⋯\n",
       "   2 │     0.0      0.0            0.08773        0.0        0.0      26.5831\n",
       "   3 │     0.0      0.0            0.05996        0.0        0.0      40.8567\n",
       "   4 │     0.0      0.0            0.0            0.0        0.0      41.0404\n",
       "   5 │     0.0      0.0            0.0            0.0        0.0      23.8563  ⋯\n",
       "   6 │     0.0      0.0            0.02209        0.0        0.0      17.8417\n",
       "   7 │     0.0      0.00068        0.08967        0.0        0.0      28.2141\n",
       "   8 │     0.0      0.0            0.0            0.0        0.0      12.9702\n",
       "   9 │     0.03917  0.08068        0.06967        0.0        0.0       8.5884  ⋯\n",
       "  10 │     0.0      0.0            0.0            0.0        0.0      46.6273\n",
       "\u001b[36m                                                              53 columns omitted\u001b[0m"
      ]
     },
     "execution_count": 34,
     "metadata": {},
     "output_type": "execute_result"
    }
   ],
   "source": [
    "first(genus_diff_df, 10)"
   ]
  },
  {
   "cell_type": "code",
   "execution_count": 35,
   "id": "cf9087be",
   "metadata": {},
   "outputs": [
    {
     "data": {
      "text/plain": [
       "(String31[\"n\", \"n\", \"n\", \"n\", \"n\", \"n\", \"n\", \"n\", \"n\", \"n\"  …  \"cirrhosis\", \"cirrhosis\", \"cirrhosis\", \"cirrhosis\", \"cirrhosis\", \"cirrhosis\", \"cirrhosis\", \"cirrhosis\", \"cirrhosis\", \"cirrhosis\"], \u001b[1m232×186 DataFrame\u001b[0m\n",
       "\u001b[1m Row \u001b[0m│\u001b[1m Methanobrevibacter \u001b[0m\u001b[1m Methanosphaera \u001b[0m\u001b[1m Actinomyces \u001b[0m\u001b[1m Rothia  \u001b[0m\u001b[1m Bifidobacteri\u001b[0m ⋯\n",
       "\u001b[1m     \u001b[0m│\u001b[90m Float64            \u001b[0m\u001b[90m Float64        \u001b[0m\u001b[90m Float64     \u001b[0m\u001b[90m Float64 \u001b[0m\u001b[90m Float64      \u001b[0m ⋯\n",
       "─────┼──────────────────────────────────────────────────────────────────────────\n",
       "   1 │            0.0                 0.0      0.0      0.0              0.0   ⋯\n",
       "   2 │            0.0                 0.0      0.0      0.0              0.112\n",
       "   3 │            0.0                 0.0      0.0      0.0              0.056\n",
       "   4 │            0.0                 0.0      0.0      0.0              0.152\n",
       "   5 │            0.0                 0.0      0.0      0.0              0.290 ⋯\n",
       "   6 │            0.0                 0.0      0.0      0.0              0.004\n",
       "   7 │            0.0                 0.0      0.0      0.00068          0.003\n",
       "   8 │            0.0                 0.0      0.0      0.0              5.574\n",
       "   9 │            0.39518             0.0      0.03917  0.08068          0.078 ⋯\n",
       "  10 │            0.0                 0.0      0.0      0.0              0.068\n",
       "  11 │            0.0                 0.0      0.0      0.0              0.029\n",
       "  ⋮  │         ⋮                 ⋮              ⋮          ⋮            ⋮      ⋱\n",
       " 223 │            0.0                 0.0      0.0      0.0              0.357\n",
       " 224 │            0.0                 0.0      0.0      0.0              0.002 ⋯\n",
       " 225 │            0.0                 0.0      0.0      0.01193          1.498\n",
       " 226 │            0.0                 0.0      0.0      0.0              5.628\n",
       " 227 │            0.0                 0.0      0.0      0.25532          0.0\n",
       " 228 │            0.0                 0.0      0.0      0.0              0.016 ⋯\n",
       " 229 │            0.0                 0.0      0.0      0.0              0.341\n",
       " 230 │            0.0                 0.0      0.0      0.00213          0.231\n",
       " 231 │            0.0                 0.0      0.02245  0.00959          0.083\n",
       " 232 │            0.0                 0.0      0.0      0.00961          0.029 ⋯\n",
       "\u001b[36m                                                182 columns and 211 rows omitted\u001b[0m, \u001b[1m0×0 DataFrame\u001b[0m)"
      ]
     },
     "execution_count": 35,
     "metadata": {},
     "output_type": "execute_result"
    }
   ],
   "source": [
    "y, X = unpack(cirr_genus_full, ==(:disease), colname->true)"
   ]
  },
  {
   "cell_type": "markdown",
   "id": "6d53ea20-91c8-43e1-96c0-29b4570cd1fd",
   "metadata": {},
   "source": [
    "## Loading the SGDC model"
   ]
  },
  {
   "cell_type": "code",
   "execution_count": 36,
   "id": "bbdaa17d-c30b-4774-84b2-c19d5a1e6266",
   "metadata": {},
   "outputs": [
    {
     "name": "stderr",
     "output_type": "stream",
     "text": [
      "┌ Info: Training machine(Standardizer(features = Symbol[], …), …).\n",
      "└ @ MLJBase /home/lucas/.julia/packages/MLJBase/rQDaq/src/machines.jl:487\n"
     ]
    }
   ],
   "source": [
    "transformer_instance = Standardizer()\n",
    "transformer_model = machine(transformer_instance, X)\n",
    "fit!(transformer_model)\n",
    "X = MLJ.transform(transformer_model, X);"
   ]
  },
  {
   "cell_type": "code",
   "execution_count": 38,
   "id": "6ba64b70",
   "metadata": {},
   "outputs": [
    {
     "data": {
      "text/plain": [
       "10-element CategoricalArray{String31,1,UInt32}:\n",
       " \"n\"\n",
       " \"n\"\n",
       " \"n\"\n",
       " \"n\"\n",
       " \"n\"\n",
       " \"n\"\n",
       " \"n\"\n",
       " \"n\"\n",
       " \"n\"\n",
       " \"n\""
      ]
     },
     "execution_count": 38,
     "metadata": {},
     "output_type": "execute_result"
    }
   ],
   "source": [
    "yc = coerce(y, OrderedFactor)\n",
    "first(yc, 10)"
   ]
  },
  {
   "cell_type": "code",
   "execution_count": 39,
   "id": "fc14df49",
   "metadata": {},
   "outputs": [
    {
     "data": {
      "text/plain": [
       "([221, 29, 101, 80, 57, 219, 8, 134, 33, 211  …  192, 10, 155, 97, 39, 194, 46, 116, 124, 171], [12, 203, 227, 16, 18, 225, 148, 25, 122, 81  …  138, 35, 70, 165, 95, 174, 216, 85, 69, 163])"
      ]
     },
     "execution_count": 39,
     "metadata": {},
     "output_type": "execute_result"
    }
   ],
   "source": [
    "train, test = partition(collect(eachindex(yc)), 0.7, shuffle = true, rng = 223)"
   ]
  },
  {
   "cell_type": "code",
   "execution_count": 40,
   "id": "05ce70a6",
   "metadata": {},
   "outputs": [
    {
     "name": "stdout",
     "output_type": "stream",
     "text": [
      "import MLJScikitLearnInterface ✔\n"
     ]
    },
    {
     "name": "stderr",
     "output_type": "stream",
     "text": [
      "┌ Info: For silent loading, specify `verbosity=0`. \n",
      "└ @ Main /home/lucas/.julia/packages/MLJModels/lDzCR/src/loading.jl:168\n"
     ]
    },
    {
     "data": {
      "text/plain": [
       "SGDClassifier(\n",
       "  loss = \"hinge\", \n",
       "  penalty = \"l2\", \n",
       "  alpha = 0.0001, \n",
       "  l1_ratio = 0.15, \n",
       "  fit_intercept = true, \n",
       "  max_iter = 1000, \n",
       "  tol = 0.001, \n",
       "  shuffle = true, \n",
       "  verbose = 0, \n",
       "  epsilon = 0.1, \n",
       "  n_jobs = nothing, \n",
       "  random_state = nothing, \n",
       "  learning_rate = \"optimal\", \n",
       "  eta0 = 0.0, \n",
       "  power_t = 0.5, \n",
       "  early_stopping = false, \n",
       "  validation_fraction = 0.1, \n",
       "  n_iter_no_change = 5, \n",
       "  class_weight = nothing, \n",
       "  warm_start = false, \n",
       "  average = false)"
      ]
     },
     "execution_count": 40,
     "metadata": {},
     "output_type": "execute_result"
    }
   ],
   "source": [
    "SGDC = @load SGDClassifier pkg = ScikitLearn\n",
    "sgdc = SGDC()"
   ]
  },
  {
   "cell_type": "markdown",
   "id": "630b628e-2673-4745-b199-c279a44c0659",
   "metadata": {},
   "source": [
    "## Training steps"
   ]
  },
  {
   "cell_type": "code",
   "execution_count": 41,
   "id": "fcd77f8e",
   "metadata": {},
   "outputs": [
    {
     "name": "stderr",
     "output_type": "stream",
     "text": [
      "┌ Info: Creating subsamples from a subset of all rows. \n",
      "└ @ MLJBase /home/lucas/.julia/packages/MLJBase/rQDaq/src/resampling.jl:599\n",
      "\u001b[33mEvaluating over 30 folds: 100%[=========================] Time: 0:00:11\u001b[39m\n"
     ]
    },
    {
     "data": {
      "text/plain": [
       "PerformanceEvaluation object with these fields:\n",
       "  measure, operation, measurement, per_fold,\n",
       "  per_observation, fitted_params_per_fold,\n",
       "  report_per_fold, train_test_rows\n",
       "Extract:\n",
       "┌──────────────────┬───────────┬─────────────┬─────────┬────────────────────────\n",
       "│\u001b[22m measure          \u001b[0m│\u001b[22m operation \u001b[0m│\u001b[22m measurement \u001b[0m│\u001b[22m 1.96*SE \u001b[0m│\u001b[22m per_fold             \u001b[0m ⋯\n",
       "├──────────────────┼───────────┼─────────────┼─────────┼────────────────────────\n",
       "│ Accuracy()       │ predict   │ 0.743       │ 0.0263  │ [0.758, 0.697, 0.781, ⋯\n",
       "│ FScore(          │ predict   │ 0.727       │ 0.0296  │ [0.765, 0.667, 0.759, ⋯\n",
       "│   β = 1.0,       │           │             │         │                       ⋯\n",
       "│   rev = nothing) │           │             │         │                       ⋯\n",
       "└──────────────────┴───────────┴─────────────┴─────────┴────────────────────────\n",
       "\u001b[36m                                                                1 column omitted\u001b[0m\n"
      ]
     },
     "execution_count": 41,
     "metadata": {},
     "output_type": "execute_result"
    }
   ],
   "source": [
    "sgdc_mach = machine(sgdc, X, yc)\n",
    "evalu = evaluate!(sgdc_mach, \n",
    "    resampling = CV(nfolds=5, rng=223),\n",
    "    measures = [accuracy, f1score],\n",
    "    rows = train,\n",
    "    repeats = 6)\n",
    "#fit!(sgdc_mach, rows=train)"
   ]
  },
  {
   "cell_type": "code",
   "execution_count": 42,
   "id": "df58c17a",
   "metadata": {},
   "outputs": [],
   "source": [
    "feature_power_sgdc_1 = DataFrame(genus = names(cirr_genus_full[:, Not(:disease)]), power = vec(fitted_params(sgdc_mach).coef))\n",
    "sort!(feature_power_sgdc_1, [:power], rev = true);"
   ]
  },
  {
   "cell_type": "code",
   "execution_count": 43,
   "id": "da96444f",
   "metadata": {},
   "outputs": [
    {
     "data": {
      "text/plain": [
       "Machine trained 0 times; does not cache data\n",
       "  model: DeterministicTunedModel(model = SGDClassifier(loss = hinge, …), …)\n",
       "  args: \n",
       "    1:\tSource @399 ⏎ `Table{AbstractVector{ScientificTypesBase.Continuous}}`\n",
       "    2:\tSource @459 ⏎ `AbstractVector{OrderedFactor{2}}`\n"
      ]
     },
     "execution_count": 43,
     "metadata": {},
     "output_type": "execute_result"
    }
   ],
   "source": [
    "r = [range(sgdc, :loss, values = [\"log_loss\", \"hinge\"]),\n",
    "range(sgdc, :penalty, values = [\"l2\", \"l1\"]),\n",
    "range(sgdc, :alpha, lower = 1e-3, upper=1e-1, scale=:log10)];\n",
    "\n",
    "self_tuning_sgdc = TunedModel(model = sgdc, range = r, tuning = Grid(resolution = 5), \n",
    "resampling = StratifiedCV(nfolds = 6, rng = 123), measure = MisclassificationRate());\n",
    "\n",
    "sgdc_tuned_mach = machine(self_tuning_sgdc, X, yc)"
   ]
  },
  {
   "cell_type": "code",
   "execution_count": 44,
   "id": "a641840c",
   "metadata": {},
   "outputs": [
    {
     "name": "stderr",
     "output_type": "stream",
     "text": [
      "┌ Info: Creating subsamples from a subset of all rows. \n",
      "└ @ MLJBase /home/lucas/.julia/packages/MLJBase/rQDaq/src/resampling.jl:599\n",
      "\u001b[33mEvaluating over 25 folds: 100%[=========================] Time: 0:00:48\u001b[39m\n"
     ]
    },
    {
     "data": {
      "text/plain": [
       "PerformanceEvaluation object with these fields:\n",
       "  measure, operation, measurement, per_fold,\n",
       "  per_observation, fitted_params_per_fold,\n",
       "  report_per_fold, train_test_rows\n",
       "Extract:\n",
       "┌──────────────────┬───────────┬─────────────┬─────────┬────────────────────────\n",
       "│\u001b[22m measure          \u001b[0m│\u001b[22m operation \u001b[0m│\u001b[22m measurement \u001b[0m│\u001b[22m 1.96*SE \u001b[0m│\u001b[22m per_fold             \u001b[0m ⋯\n",
       "├──────────────────┼───────────┼─────────────┼─────────┼────────────────────────\n",
       "│ Accuracy()       │ predict   │ 0.759       │ 0.0284  │ [0.697, 0.697, 0.875, ⋯\n",
       "│ FScore(          │ predict   │ 0.751       │ 0.0338  │ [0.688, 0.722, 0.889, ⋯\n",
       "│   β = 1.0,       │           │             │         │                       ⋯\n",
       "│   rev = nothing) │           │             │         │                       ⋯\n",
       "└──────────────────┴───────────┴─────────────┴─────────┴────────────────────────\n",
       "\u001b[36m                                                                1 column omitted\u001b[0m\n"
      ]
     },
     "execution_count": 44,
     "metadata": {},
     "output_type": "execute_result"
    }
   ],
   "source": [
    "evalu_tune = evaluate!(sgdc_tuned_mach, \n",
    "    resampling = CV(nfolds=5, rng=123),\n",
    "    measures = [accuracy, f1score],\n",
    "    rows = train,\n",
    "    repeats = 5)"
   ]
  },
  {
   "cell_type": "code",
   "execution_count": 45,
   "id": "68990b76",
   "metadata": {},
   "outputs": [
    {
     "data": {
      "text/plain": [
       "SGDClassifier(\n",
       "  loss = \"hinge\", \n",
       "  penalty = \"l1\", \n",
       "  alpha = 0.01, \n",
       "  l1_ratio = 0.15, \n",
       "  fit_intercept = true, \n",
       "  max_iter = 1000, \n",
       "  tol = 0.001, \n",
       "  shuffle = true, \n",
       "  verbose = 0, \n",
       "  epsilon = 0.1, \n",
       "  n_jobs = nothing, \n",
       "  random_state = nothing, \n",
       "  learning_rate = \"optimal\", \n",
       "  eta0 = 0.0, \n",
       "  power_t = 0.5, \n",
       "  early_stopping = false, \n",
       "  validation_fraction = 0.1, \n",
       "  n_iter_no_change = 5, \n",
       "  class_weight = nothing, \n",
       "  warm_start = false, \n",
       "  average = false)"
      ]
     },
     "execution_count": 45,
     "metadata": {},
     "output_type": "execute_result"
    }
   ],
   "source": [
    "fitted_params(sgdc_tuned_mach).best_model"
   ]
  },
  {
   "cell_type": "code",
   "execution_count": 46,
   "id": "e0c3b6ab",
   "metadata": {},
   "outputs": [],
   "source": [
    "feature_power_tuned_sgdc = DataFrame(genus = names(cirr_genus_full[:, Not(:disease)]), \n",
    "power = vec(fitted_params(sgdc_tuned_mach).best_fitted_params.coef))\n",
    "\n",
    "sort!(feature_power_tuned_sgdc, [:power], rev = true);"
   ]
  },
  {
   "cell_type": "code",
   "execution_count": 47,
   "id": "b0d54f42",
   "metadata": {},
   "outputs": [
    {
     "data": {
      "text/plain": [
       "(String31[\"n\", \"n\", \"n\", \"n\", \"n\", \"n\", \"n\", \"n\", \"n\", \"n\"  …  \"cirrhosis\", \"cirrhosis\", \"cirrhosis\", \"cirrhosis\", \"cirrhosis\", \"cirrhosis\", \"cirrhosis\", \"cirrhosis\", \"cirrhosis\", \"cirrhosis\"], \u001b[1m232×58 DataFrame\u001b[0m\n",
       "\u001b[1m Row \u001b[0m│\u001b[1m Actinomyces \u001b[0m\u001b[1m Rothia  \u001b[0m\u001b[1m Adlercreutzia \u001b[0m\u001b[1m Atopobium \u001b[0m\u001b[1m Olsenella \u001b[0m\u001b[1m Bacteroides \u001b[0m\u001b[1m\u001b[0m ⋯\n",
       "\u001b[1m     \u001b[0m│\u001b[90m Float64     \u001b[0m\u001b[90m Float64 \u001b[0m\u001b[90m Float64       \u001b[0m\u001b[90m Float64   \u001b[0m\u001b[90m Float64   \u001b[0m\u001b[90m Float64     \u001b[0m\u001b[90m\u001b[0m ⋯\n",
       "─────┼──────────────────────────────────────────────────────────────────────────\n",
       "   1 │     0.0      0.0            0.0        0.0        0.0         57.415    ⋯\n",
       "   2 │     0.0      0.0            0.08773    0.0        0.0         26.5831\n",
       "   3 │     0.0      0.0            0.05996    0.0        0.0         40.8567\n",
       "   4 │     0.0      0.0            0.0        0.0        0.0         41.0404\n",
       "   5 │     0.0      0.0            0.0        0.0        0.0         23.8563   ⋯\n",
       "   6 │     0.0      0.0            0.02209    0.0        0.0         17.8417\n",
       "   7 │     0.0      0.00068        0.08967    0.0        0.0         28.2141\n",
       "   8 │     0.0      0.0            0.0        0.0        0.0         12.9702\n",
       "   9 │     0.03917  0.08068        0.06967    0.0        0.0          8.5884   ⋯\n",
       "  10 │     0.0      0.0            0.0        0.0        0.0         46.6273\n",
       "  11 │     0.0      0.0            0.0        0.0        0.0         65.9577\n",
       "  ⋮  │      ⋮          ⋮           ⋮            ⋮          ⋮           ⋮       ⋱\n",
       " 223 │     0.0      0.0            0.02174    0.0        0.0         57.8763\n",
       " 224 │     0.0      0.0            0.0        0.0        0.0         49.4863   ⋯\n",
       " 225 │     0.0      0.01193        0.0        0.0        0.0         18.3903\n",
       " 226 │     0.0      0.0            0.0        0.0        0.0         25.524\n",
       " 227 │     0.0      0.25532        0.0        0.30454    0.0122      21.3517\n",
       " 228 │     0.0      0.0            0.0        0.0        0.0         11.7138   ⋯\n",
       " 229 │     0.0      0.0            0.0        0.0        0.0         72.618\n",
       " 230 │     0.0      0.00213        0.0        0.0        0.0         58.9692\n",
       " 231 │     0.02245  0.00959        0.0        0.03236    0.00519     33.828\n",
       " 232 │     0.0      0.00961        0.01581    0.0        0.0         11.6317   ⋯\n",
       "\u001b[36m                                                 52 columns and 211 rows omitted\u001b[0m, \u001b[1m0×0 DataFrame\u001b[0m)"
      ]
     },
     "execution_count": 47,
     "metadata": {},
     "output_type": "execute_result"
    }
   ],
   "source": [
    "y1, X1 = unpack(genus_diff_df, ==(:disease), colname->true)"
   ]
  },
  {
   "cell_type": "code",
   "execution_count": 48,
   "id": "3f68a0a2-5fd6-4ef9-96b2-e880db9382c2",
   "metadata": {},
   "outputs": [
    {
     "data": {
      "text/plain": [
       "10-element CategoricalArray{String31,1,UInt32}:\n",
       " \"n\"\n",
       " \"n\"\n",
       " \"n\"\n",
       " \"n\"\n",
       " \"n\"\n",
       " \"n\"\n",
       " \"n\"\n",
       " \"n\"\n",
       " \"n\"\n",
       " \"n\""
      ]
     },
     "execution_count": 48,
     "metadata": {},
     "output_type": "execute_result"
    }
   ],
   "source": [
    "yc1 = coerce(y1, OrderedFactor)\n",
    "first(yc1, 10)"
   ]
  },
  {
   "cell_type": "code",
   "execution_count": 49,
   "id": "11b8bff6-14e8-4372-8fda-638da06013ea",
   "metadata": {},
   "outputs": [
    {
     "data": {
      "text/plain": [
       "([221, 29, 101, 80, 57, 219, 8, 134, 33, 211  …  192, 10, 155, 97, 39, 194, 46, 116, 124, 171], [12, 203, 227, 16, 18, 225, 148, 25, 122, 81  …  138, 35, 70, 165, 95, 174, 216, 85, 69, 163])"
      ]
     },
     "execution_count": 49,
     "metadata": {},
     "output_type": "execute_result"
    }
   ],
   "source": [
    "train1, test1 = partition(collect(eachindex(yc1)), 0.7, shuffle = true, rng = 223)"
   ]
  },
  {
   "cell_type": "code",
   "execution_count": 50,
   "id": "5b7bd36b-8534-463d-b7ff-514a16df8eb8",
   "metadata": {},
   "outputs": [
    {
     "name": "stderr",
     "output_type": "stream",
     "text": [
      "┌ Info: Creating subsamples from a subset of all rows. \n",
      "└ @ MLJBase /home/lucas/.julia/packages/MLJBase/rQDaq/src/resampling.jl:599\n",
      "\u001b[33mEvaluating over 30 folds: 100%[=========================] Time: 0:00:00\u001b[39m\n"
     ]
    },
    {
     "data": {
      "text/plain": [
       "PerformanceEvaluation object with these fields:\n",
       "  measure, operation, measurement, per_fold,\n",
       "  per_observation, fitted_params_per_fold,\n",
       "  report_per_fold, train_test_rows\n",
       "Extract:\n",
       "┌──────────────────┬───────────┬─────────────┬─────────┬────────────────────────\n",
       "│\u001b[22m measure          \u001b[0m│\u001b[22m operation \u001b[0m│\u001b[22m measurement \u001b[0m│\u001b[22m 1.96*SE \u001b[0m│\u001b[22m per_fold             \u001b[0m ⋯\n",
       "├──────────────────┼───────────┼─────────────┼─────────┼────────────────────────\n",
       "│ Accuracy()       │ predict   │ 0.746       │ 0.0348  │ [0.788, 0.667, 0.688, ⋯\n",
       "│ FScore(          │ predict   │ 0.742       │ 0.0587  │ [0.829, 0.732, 0.75,  ⋯\n",
       "│   β = 1.0,       │           │             │         │                       ⋯\n",
       "│   rev = nothing) │           │             │         │                       ⋯\n",
       "└──────────────────┴───────────┴─────────────┴─────────┴────────────────────────\n",
       "\u001b[36m                                                                1 column omitted\u001b[0m\n"
      ]
     },
     "execution_count": 50,
     "metadata": {},
     "output_type": "execute_result"
    }
   ],
   "source": [
    "sgdc_mach_sel = machine(sgdc, X1, yc1)\n",
    "evalu_sel = evaluate!(sgdc_mach_sel, \n",
    "    resampling = CV(nfolds=5, rng=223),\n",
    "    measures = [accuracy, f1score],\n",
    "    rows = train1,\n",
    "    repeats = 6)"
   ]
  },
  {
   "cell_type": "code",
   "execution_count": 51,
   "id": "46c463cc-5274-4e25-ac35-befa1110c8b4",
   "metadata": {},
   "outputs": [],
   "source": [
    "feature_power_sgdc_2 = DataFrame(genus = names(genus_diff_df[:, Not(:disease)]), power = vec(fitted_params(sgdc_mach_sel).coef))\n",
    "sort!(feature_power_sgdc_2, [:power], rev = true);"
   ]
  },
  {
   "cell_type": "code",
   "execution_count": 52,
   "id": "39deddad-886c-4715-9028-7c3f639e4240",
   "metadata": {},
   "outputs": [
    {
     "data": {
      "text/plain": [
       "Machine trained 0 times; does not cache data\n",
       "  model: DeterministicTunedModel(model = SGDClassifier(loss = hinge, …), …)\n",
       "  args: \n",
       "    1:\tSource @621 ⏎ `Table{AbstractVector{ScientificTypesBase.Continuous}}`\n",
       "    2:\tSource @678 ⏎ `AbstractVector{OrderedFactor{2}}`\n"
      ]
     },
     "execution_count": 52,
     "metadata": {},
     "output_type": "execute_result"
    }
   ],
   "source": [
    "r = [range(sgdc, :loss, values = [\"log_loss\", \"hinge\"]),\n",
    "range(sgdc, :penalty, values = [\"l2\", \"l1\"]),\n",
    "range(sgdc, :alpha, lower = 1e-3, upper=1e-1, scale=:log10)];\n",
    "\n",
    "self_tuning_sgdc_sel = TunedModel(model = sgdc, range = r, tuning = Grid(resolution = 5), \n",
    "resampling = StratifiedCV(nfolds = 6, rng = 223), measure = MisclassificationRate());\n",
    "\n",
    "sgdc_tuned_mach_sel = machine(self_tuning_sgdc_sel, X1, yc1)"
   ]
  },
  {
   "cell_type": "code",
   "execution_count": 53,
   "id": "5689b461-8117-4bfc-a203-8ac2d40b5a89",
   "metadata": {},
   "outputs": [
    {
     "name": "stderr",
     "output_type": "stream",
     "text": [
      "┌ Info: Creating subsamples from a subset of all rows. \n",
      "└ @ MLJBase /home/lucas/.julia/packages/MLJBase/rQDaq/src/resampling.jl:599\n",
      "/home/lucas/.julia/conda/3/lib/python3.9/site-packages/sklearn/linear_model/_stochastic_gradient.py:705: ConvergenceWarning: Maximum number of iteration reached before convergence. Consider increasing max_iter to improve the fit.\n",
      "  warnings.warn(\n",
      "\u001b[33mEvaluating over 25 folds:  16%[====>                    ]  ETA: 0:00:13\u001b[39m/home/lucas/.julia/conda/3/lib/python3.9/site-packages/sklearn/linear_model/_stochastic_gradient.py:705: ConvergenceWarning: Maximum number of iteration reached before convergence. Consider increasing max_iter to improve the fit.\n",
      "  warnings.warn(\n",
      "\u001b[33mEvaluating over 25 folds:  24%[======>                  ]  ETA: 0:00:12\u001b[39m/home/lucas/.julia/conda/3/lib/python3.9/site-packages/sklearn/linear_model/_stochastic_gradient.py:705: ConvergenceWarning: Maximum number of iteration reached before convergence. Consider increasing max_iter to improve the fit.\n",
      "  warnings.warn(\n",
      "/home/lucas/.julia/conda/3/lib/python3.9/site-packages/sklearn/linear_model/_stochastic_gradient.py:705: ConvergenceWarning: Maximum number of iteration reached before convergence. Consider increasing max_iter to improve the fit.\n",
      "  warnings.warn(\n",
      "\u001b[33mEvaluating over 25 folds:  36%[=========>               ]  ETA: 0:00:10\u001b[39m/home/lucas/.julia/conda/3/lib/python3.9/site-packages/sklearn/linear_model/_stochastic_gradient.py:705: ConvergenceWarning: Maximum number of iteration reached before convergence. Consider increasing max_iter to improve the fit.\n",
      "  warnings.warn(\n",
      "\u001b[33mEvaluating over 25 folds:  44%[===========>             ]  ETA: 0:00:10\u001b[39m/home/lucas/.julia/conda/3/lib/python3.9/site-packages/sklearn/linear_model/_stochastic_gradient.py:705: ConvergenceWarning: Maximum number of iteration reached before convergence. Consider increasing max_iter to improve the fit.\n",
      "  warnings.warn(\n",
      "\u001b[33mEvaluating over 25 folds:  48%[============>            ]  ETA: 0:00:09\u001b[39m/home/lucas/.julia/conda/3/lib/python3.9/site-packages/sklearn/linear_model/_stochastic_gradient.py:705: ConvergenceWarning: Maximum number of iteration reached before convergence. Consider increasing max_iter to improve the fit.\n",
      "  warnings.warn(\n",
      "\u001b[33mEvaluating over 25 folds:  60%[===============>         ]  ETA: 0:00:08\u001b[39m/home/lucas/.julia/conda/3/lib/python3.9/site-packages/sklearn/linear_model/_stochastic_gradient.py:705: ConvergenceWarning: Maximum number of iteration reached before convergence. Consider increasing max_iter to improve the fit.\n",
      "  warnings.warn(\n",
      "/home/lucas/.julia/conda/3/lib/python3.9/site-packages/sklearn/linear_model/_stochastic_gradient.py:705: ConvergenceWarning: Maximum number of iteration reached before convergence. Consider increasing max_iter to improve the fit.\n",
      "  warnings.warn(\n",
      "\u001b[33mEvaluating over 25 folds:  68%[=================>       ]  ETA: 0:00:07\u001b[39m/home/lucas/.julia/conda/3/lib/python3.9/site-packages/sklearn/linear_model/_stochastic_gradient.py:705: ConvergenceWarning: Maximum number of iteration reached before convergence. Consider increasing max_iter to improve the fit.\n",
      "  warnings.warn(\n",
      "\u001b[33mEvaluating over 25 folds:  72%[==================>      ]  ETA: 0:00:06\u001b[39m/home/lucas/.julia/conda/3/lib/python3.9/site-packages/sklearn/linear_model/_stochastic_gradient.py:705: ConvergenceWarning: Maximum number of iteration reached before convergence. Consider increasing max_iter to improve the fit.\n",
      "  warnings.warn(\n",
      "/home/lucas/.julia/conda/3/lib/python3.9/site-packages/sklearn/linear_model/_stochastic_gradient.py:705: ConvergenceWarning: Maximum number of iteration reached before convergence. Consider increasing max_iter to improve the fit.\n",
      "  warnings.warn(\n",
      "\u001b[33mEvaluating over 25 folds:  76%[===================>     ]  ETA: 0:00:05\u001b[39m/home/lucas/.julia/conda/3/lib/python3.9/site-packages/sklearn/linear_model/_stochastic_gradient.py:705: ConvergenceWarning: Maximum number of iteration reached before convergence. Consider increasing max_iter to improve the fit.\n",
      "  warnings.warn(\n",
      "\u001b[33mEvaluating over 25 folds:  80%[====================>    ]  ETA: 0:00:04\u001b[39m/home/lucas/.julia/conda/3/lib/python3.9/site-packages/sklearn/linear_model/_stochastic_gradient.py:705: ConvergenceWarning: Maximum number of iteration reached before convergence. Consider increasing max_iter to improve the fit.\n",
      "  warnings.warn(\n",
      "\u001b[33mEvaluating over 25 folds: 100%[=========================] Time: 0:00:20\u001b[39m\n"
     ]
    },
    {
     "data": {
      "text/plain": [
       "PerformanceEvaluation object with these fields:\n",
       "  measure, operation, measurement, per_fold,\n",
       "  per_observation, fitted_params_per_fold,\n",
       "  report_per_fold, train_test_rows\n",
       "Extract:\n",
       "┌──────────────────┬───────────┬─────────────┬─────────┬────────────────────────\n",
       "│\u001b[22m measure          \u001b[0m│\u001b[22m operation \u001b[0m│\u001b[22m measurement \u001b[0m│\u001b[22m 1.96*SE \u001b[0m│\u001b[22m per_fold             \u001b[0m ⋯\n",
       "├──────────────────┼───────────┼─────────────┼─────────┼────────────────────────\n",
       "│ Accuracy()       │ predict   │ 0.815       │ 0.0199  │ [0.818, 0.818, 0.75,  ⋯\n",
       "│ FScore(          │ predict   │ 0.801       │ 0.0282  │ [0.824, 0.824, 0.75,  ⋯\n",
       "│   β = 1.0,       │           │             │         │                       ⋯\n",
       "│   rev = nothing) │           │             │         │                       ⋯\n",
       "└──────────────────┴───────────┴─────────────┴─────────┴────────────────────────\n",
       "\u001b[36m                                                                1 column omitted\u001b[0m\n"
      ]
     },
     "execution_count": 53,
     "metadata": {},
     "output_type": "execute_result"
    }
   ],
   "source": [
    "evalu_tune_sel = evaluate!(sgdc_tuned_mach_sel, \n",
    "    resampling = CV(nfolds=5, rng=223),\n",
    "    measures = [accuracy, f1score],\n",
    "    rows = train1,\n",
    "    repeats = 5)"
   ]
  },
  {
   "cell_type": "markdown",
   "id": "99b2cf0a-18ce-4ef5-a55f-81d732f450ec",
   "metadata": {},
   "source": [
    "## Results"
   ]
  },
  {
   "cell_type": "code",
   "execution_count": 54,
   "id": "1ad6fefc-ccb2-4842-8032-e7b7ed8966c5",
   "metadata": {},
   "outputs": [
    {
     "data": {
      "text/plain": [
       "SGDClassifier(\n",
       "  loss = \"hinge\", \n",
       "  penalty = \"l1\", \n",
       "  alpha = 0.1, \n",
       "  l1_ratio = 0.15, \n",
       "  fit_intercept = true, \n",
       "  max_iter = 1000, \n",
       "  tol = 0.001, \n",
       "  shuffle = true, \n",
       "  verbose = 0, \n",
       "  epsilon = 0.1, \n",
       "  n_jobs = nothing, \n",
       "  random_state = nothing, \n",
       "  learning_rate = \"optimal\", \n",
       "  eta0 = 0.0, \n",
       "  power_t = 0.5, \n",
       "  early_stopping = false, \n",
       "  validation_fraction = 0.1, \n",
       "  n_iter_no_change = 5, \n",
       "  class_weight = nothing, \n",
       "  warm_start = false, \n",
       "  average = false)"
      ]
     },
     "execution_count": 54,
     "metadata": {},
     "output_type": "execute_result"
    }
   ],
   "source": [
    "fitted_params(sgdc_tuned_mach_sel).best_model"
   ]
  },
  {
   "cell_type": "code",
   "execution_count": 55,
   "id": "ac8fceb2-adb5-4add-83c4-a5d72c39c088",
   "metadata": {},
   "outputs": [],
   "source": [
    "feature_power_tuned_sgdc_sel = DataFrame(genus = names(genus_diff_df[:, Not(:disease)]), \n",
    "power = vec(fitted_params(sgdc_tuned_mach_sel).best_fitted_params.coef))\n",
    "\n",
    "sort!(feature_power_tuned_sgdc_sel, [:power], rev = true);"
   ]
  },
  {
   "cell_type": "code",
   "execution_count": 56,
   "id": "a401b68f-ebbc-43d2-a91c-811c049aa42c",
   "metadata": {},
   "outputs": [
    {
     "data": {
      "text/html": [
       "<div class=\"data-frame\"><p>10 rows × 2 columns</p><table class=\"data-frame\"><thead><tr><th></th><th>genus</th><th>power</th></tr><tr><th></th><th title=\"String\">String</th><th title=\"Float64\">Float64</th></tr></thead><tbody><tr><th>1</th><td>Cetobacterium</td><td>57.8756</td></tr><tr><th>2</th><td>Anaerofustis</td><td>53.085</td></tr><tr><th>3</th><td>Propionibacteriaceae_unclassified</td><td>52.0049</td></tr><tr><th>4</th><td>Oxalobacter</td><td>51.2242</td></tr><tr><th>5</th><td>Burkholderia</td><td>51.004</td></tr><tr><th>6</th><td>Granulicella</td><td>50.6311</td></tr><tr><th>7</th><td>Peptostreptococcaceae_noname</td><td>50.1489</td></tr><tr><th>8</th><td>Dorea</td><td>49.4051</td></tr><tr><th>9</th><td>Adlercreutzia</td><td>47.8357</td></tr><tr><th>10</th><td>Bilophila</td><td>42.7035</td></tr></tbody></table></div>"
      ],
      "text/latex": [
       "\\begin{tabular}{r|cc}\n",
       "\t& genus & power\\\\\n",
       "\t\\hline\n",
       "\t& String & Float64\\\\\n",
       "\t\\hline\n",
       "\t1 & Cetobacterium & 57.8756 \\\\\n",
       "\t2 & Anaerofustis & 53.085 \\\\\n",
       "\t3 & Propionibacteriaceae\\_unclassified & 52.0049 \\\\\n",
       "\t4 & Oxalobacter & 51.2242 \\\\\n",
       "\t5 & Burkholderia & 51.004 \\\\\n",
       "\t6 & Granulicella & 50.6311 \\\\\n",
       "\t7 & Peptostreptococcaceae\\_noname & 50.1489 \\\\\n",
       "\t8 & Dorea & 49.4051 \\\\\n",
       "\t9 & Adlercreutzia & 47.8357 \\\\\n",
       "\t10 & Bilophila & 42.7035 \\\\\n",
       "\\end{tabular}\n"
      ],
      "text/plain": [
       "\u001b[1m10×2 DataFrame\u001b[0m\n",
       "\u001b[1m Row \u001b[0m│\u001b[1m genus                             \u001b[0m\u001b[1m power   \u001b[0m\n",
       "\u001b[1m     \u001b[0m│\u001b[90m String                            \u001b[0m\u001b[90m Float64 \u001b[0m\n",
       "─────┼────────────────────────────────────────────\n",
       "   1 │ Cetobacterium                      57.8756\n",
       "   2 │ Anaerofustis                       53.085\n",
       "   3 │ Propionibacteriaceae_unclassified  52.0049\n",
       "   4 │ Oxalobacter                        51.2242\n",
       "   5 │ Burkholderia                       51.004\n",
       "   6 │ Granulicella                       50.6311\n",
       "   7 │ Peptostreptococcaceae_noname       50.1489\n",
       "   8 │ Dorea                              49.4051\n",
       "   9 │ Adlercreutzia                      47.8357\n",
       "  10 │ Bilophila                          42.7035"
      ]
     },
     "execution_count": 56,
     "metadata": {},
     "output_type": "execute_result"
    }
   ],
   "source": [
    "first(feature_power_sgdc_1, 10)"
   ]
  },
  {
   "cell_type": "code",
   "execution_count": 57,
   "id": "1d83840e-f8a8-4f84-9ab2-dfc439d1f7ea",
   "metadata": {},
   "outputs": [
    {
     "data": {
      "text/html": [
       "<div class=\"data-frame\"><p>10 rows × 2 columns</p><table class=\"data-frame\"><thead><tr><th></th><th>genus</th><th>power</th></tr><tr><th></th><th title=\"String\">String</th><th title=\"Float64\">Float64</th></tr></thead><tbody><tr><th>1</th><td>Butyricimonas</td><td>15.408</td></tr><tr><th>2</th><td>Cetobacterium</td><td>14.1971</td></tr><tr><th>3</th><td>Bilophila</td><td>12.8411</td></tr><tr><th>4</th><td>Pseudoflavonifractor</td><td>8.9381</td></tr><tr><th>5</th><td>Dorea</td><td>6.92519</td></tr><tr><th>6</th><td>Bacteroides</td><td>6.84129</td></tr><tr><th>7</th><td>Rhodopseudomonas</td><td>5.68702</td></tr><tr><th>8</th><td>Catenibacterium</td><td>4.41126</td></tr><tr><th>9</th><td>Peptostreptococcaceae_noname</td><td>3.65317</td></tr><tr><th>10</th><td>Coprobacter</td><td>3.10052</td></tr></tbody></table></div>"
      ],
      "text/latex": [
       "\\begin{tabular}{r|cc}\n",
       "\t& genus & power\\\\\n",
       "\t\\hline\n",
       "\t& String & Float64\\\\\n",
       "\t\\hline\n",
       "\t1 & Butyricimonas & 15.408 \\\\\n",
       "\t2 & Cetobacterium & 14.1971 \\\\\n",
       "\t3 & Bilophila & 12.8411 \\\\\n",
       "\t4 & Pseudoflavonifractor & 8.9381 \\\\\n",
       "\t5 & Dorea & 6.92519 \\\\\n",
       "\t6 & Bacteroides & 6.84129 \\\\\n",
       "\t7 & Rhodopseudomonas & 5.68702 \\\\\n",
       "\t8 & Catenibacterium & 4.41126 \\\\\n",
       "\t9 & Peptostreptococcaceae\\_noname & 3.65317 \\\\\n",
       "\t10 & Coprobacter & 3.10052 \\\\\n",
       "\\end{tabular}\n"
      ],
      "text/plain": [
       "\u001b[1m10×2 DataFrame\u001b[0m\n",
       "\u001b[1m Row \u001b[0m│\u001b[1m genus                        \u001b[0m\u001b[1m power    \u001b[0m\n",
       "\u001b[1m     \u001b[0m│\u001b[90m String                       \u001b[0m\u001b[90m Float64  \u001b[0m\n",
       "─────┼────────────────────────────────────────\n",
       "   1 │ Butyricimonas                 15.408\n",
       "   2 │ Cetobacterium                 14.1971\n",
       "   3 │ Bilophila                     12.8411\n",
       "   4 │ Pseudoflavonifractor           8.9381\n",
       "   5 │ Dorea                          6.92519\n",
       "   6 │ Bacteroides                    6.84129\n",
       "   7 │ Rhodopseudomonas               5.68702\n",
       "   8 │ Catenibacterium                4.41126\n",
       "   9 │ Peptostreptococcaceae_noname   3.65317\n",
       "  10 │ Coprobacter                    3.10052"
      ]
     },
     "execution_count": 57,
     "metadata": {},
     "output_type": "execute_result"
    }
   ],
   "source": [
    "first(feature_power_tuned_sgdc, 10)"
   ]
  },
  {
   "cell_type": "code",
   "execution_count": 58,
   "id": "1a55e97e-7bfb-41f0-b2f7-8a9bc6d303d8",
   "metadata": {},
   "outputs": [
    {
     "data": {
      "text/html": [
       "<div class=\"data-frame\"><p>10 rows × 2 columns</p><table class=\"data-frame\"><thead><tr><th></th><th>genus</th><th>power</th></tr><tr><th></th><th title=\"String\">String</th><th title=\"Float64\">Float64</th></tr></thead><tbody><tr><th>1</th><td>Coprococcus</td><td>247.994</td></tr><tr><th>2</th><td>Bilophila</td><td>225.374</td></tr><tr><th>3</th><td>Subdoligranulum</td><td>220.402</td></tr><tr><th>4</th><td>Paraprevotella</td><td>122.731</td></tr><tr><th>5</th><td>Bacteroidales_noname</td><td>114.001</td></tr><tr><th>6</th><td>Dorea</td><td>47.3339</td></tr><tr><th>7</th><td>Burkholderiales_noname</td><td>44.2802</td></tr><tr><th>8</th><td>Desulfovibrio</td><td>42.8921</td></tr><tr><th>9</th><td>Roseburia</td><td>41.8871</td></tr><tr><th>10</th><td>Eubacterium</td><td>41.5277</td></tr></tbody></table></div>"
      ],
      "text/latex": [
       "\\begin{tabular}{r|cc}\n",
       "\t& genus & power\\\\\n",
       "\t\\hline\n",
       "\t& String & Float64\\\\\n",
       "\t\\hline\n",
       "\t1 & Coprococcus & 247.994 \\\\\n",
       "\t2 & Bilophila & 225.374 \\\\\n",
       "\t3 & Subdoligranulum & 220.402 \\\\\n",
       "\t4 & Paraprevotella & 122.731 \\\\\n",
       "\t5 & Bacteroidales\\_noname & 114.001 \\\\\n",
       "\t6 & Dorea & 47.3339 \\\\\n",
       "\t7 & Burkholderiales\\_noname & 44.2802 \\\\\n",
       "\t8 & Desulfovibrio & 42.8921 \\\\\n",
       "\t9 & Roseburia & 41.8871 \\\\\n",
       "\t10 & Eubacterium & 41.5277 \\\\\n",
       "\\end{tabular}\n"
      ],
      "text/plain": [
       "\u001b[1m10×2 DataFrame\u001b[0m\n",
       "\u001b[1m Row \u001b[0m│\u001b[1m genus                  \u001b[0m\u001b[1m power    \u001b[0m\n",
       "\u001b[1m     \u001b[0m│\u001b[90m String                 \u001b[0m\u001b[90m Float64  \u001b[0m\n",
       "─────┼──────────────────────────────────\n",
       "   1 │ Coprococcus             247.994\n",
       "   2 │ Bilophila               225.374\n",
       "   3 │ Subdoligranulum         220.402\n",
       "   4 │ Paraprevotella          122.731\n",
       "   5 │ Bacteroidales_noname    114.001\n",
       "   6 │ Dorea                    47.3339\n",
       "   7 │ Burkholderiales_noname   44.2802\n",
       "   8 │ Desulfovibrio            42.8921\n",
       "   9 │ Roseburia                41.8871\n",
       "  10 │ Eubacterium              41.5277"
      ]
     },
     "execution_count": 58,
     "metadata": {},
     "output_type": "execute_result"
    }
   ],
   "source": [
    "first(feature_power_sgdc_2, 10)"
   ]
  },
  {
   "cell_type": "code",
   "execution_count": 59,
   "id": "1c2206ea-8a1c-438e-8aea-264f84288b82",
   "metadata": {},
   "outputs": [
    {
     "data": {
      "text/html": [
       "<div class=\"data-frame\"><p>10 rows × 2 columns</p><table class=\"data-frame\"><thead><tr><th></th><th>genus</th><th>power</th></tr><tr><th></th><th title=\"String\">String</th><th title=\"Float64\">Float64</th></tr></thead><tbody><tr><th>1</th><td>Bacteroides</td><td>0.178165</td></tr><tr><th>2</th><td>Alistipes</td><td>0.154622</td></tr><tr><th>3</th><td>Roseburia</td><td>0.0938888</td></tr><tr><th>4</th><td>Actinomyces</td><td>0.0</td></tr><tr><th>5</th><td>Rothia</td><td>0.0</td></tr><tr><th>6</th><td>Adlercreutzia</td><td>0.0</td></tr><tr><th>7</th><td>Atopobium</td><td>0.0</td></tr><tr><th>8</th><td>Olsenella</td><td>0.0</td></tr><tr><th>9</th><td>Bacteroidales_noname</td><td>0.0</td></tr><tr><th>10</th><td>Barnesiella</td><td>0.0</td></tr></tbody></table></div>"
      ],
      "text/latex": [
       "\\begin{tabular}{r|cc}\n",
       "\t& genus & power\\\\\n",
       "\t\\hline\n",
       "\t& String & Float64\\\\\n",
       "\t\\hline\n",
       "\t1 & Bacteroides & 0.178165 \\\\\n",
       "\t2 & Alistipes & 0.154622 \\\\\n",
       "\t3 & Roseburia & 0.0938888 \\\\\n",
       "\t4 & Actinomyces & 0.0 \\\\\n",
       "\t5 & Rothia & 0.0 \\\\\n",
       "\t6 & Adlercreutzia & 0.0 \\\\\n",
       "\t7 & Atopobium & 0.0 \\\\\n",
       "\t8 & Olsenella & 0.0 \\\\\n",
       "\t9 & Bacteroidales\\_noname & 0.0 \\\\\n",
       "\t10 & Barnesiella & 0.0 \\\\\n",
       "\\end{tabular}\n"
      ],
      "text/plain": [
       "\u001b[1m10×2 DataFrame\u001b[0m\n",
       "\u001b[1m Row \u001b[0m│\u001b[1m genus                \u001b[0m\u001b[1m power     \u001b[0m\n",
       "\u001b[1m     \u001b[0m│\u001b[90m String               \u001b[0m\u001b[90m Float64   \u001b[0m\n",
       "─────┼─────────────────────────────────\n",
       "   1 │ Bacteroides           0.178165\n",
       "   2 │ Alistipes             0.154622\n",
       "   3 │ Roseburia             0.0938888\n",
       "   4 │ Actinomyces           0.0\n",
       "   5 │ Rothia                0.0\n",
       "   6 │ Adlercreutzia         0.0\n",
       "   7 │ Atopobium             0.0\n",
       "   8 │ Olsenella             0.0\n",
       "   9 │ Bacteroidales_noname  0.0\n",
       "  10 │ Barnesiella           0.0"
      ]
     },
     "execution_count": 59,
     "metadata": {},
     "output_type": "execute_result"
    }
   ],
   "source": [
    "first(feature_power_tuned_sgdc_sel, 10)"
   ]
  },
  {
   "cell_type": "markdown",
   "id": "1ed30289-fb8c-4b56-bcdd-b2fab9f1e076",
   "metadata": {},
   "source": [
    "## Resultado sem tunagem nem feature selection"
   ]
  },
  {
   "cell_type": "code",
   "execution_count": 60,
   "id": "574a1f60-b890-4f5b-b50e-d506cde9a6bf",
   "metadata": {},
   "outputs": [
    {
     "name": "stdout",
     "output_type": "stream",
     "text": [
      "Measurements:\n",
      "  f1 score: 0.7428571428571429\n",
      "  accuracy:   0.7428571428571429\n"
     ]
    },
    {
     "data": {
      "text/plain": [
       "              ┌───────────────────────────┐\n",
       "              │       Ground Truth        │\n",
       "┌─────────────┼─────────────┬─────────────┤\n",
       "│  Predicted  │  cirrhosis  │      n      │\n",
       "├─────────────┼─────────────┼─────────────┤\n",
       "│  cirrhosis  │     26      │      9      │\n",
       "├─────────────┼─────────────┼─────────────┤\n",
       "│      n      │      9      │     26      │\n",
       "└─────────────┴─────────────┴─────────────┘\n"
      ]
     },
     "execution_count": 60,
     "metadata": {},
     "output_type": "execute_result"
    }
   ],
   "source": [
    "yhat = MLJ.predict(sgdc_mach, rows = test);\n",
    "print(\n",
    "    \"Measurements:\\n\",\n",
    "    \"  f1 score: \", f1score(yhat, yc[test]), \"\\n\",\n",
    "    \"  accuracy:   \", accuracy(yhat, yc[test]), \"\\n\"\n",
    ")\n",
    "ConfusionMatrix()(yhat, yc[test])"
   ]
  },
  {
   "cell_type": "markdown",
   "id": "7c28f97a-c58f-4648-bd08-3d9fbd185d5c",
   "metadata": {},
   "source": [
    "## Resultado com tunagem e sem feature selection "
   ]
  },
  {
   "cell_type": "code",
   "execution_count": 61,
   "id": "c210f46c-28f8-46cc-9fb9-e9c06161e278",
   "metadata": {},
   "outputs": [
    {
     "name": "stdout",
     "output_type": "stream",
     "text": [
      "Measurements:\n",
      "  f1 score: 0.7671232876712328\n",
      "  accuracy:   0.7571428571428571\n"
     ]
    },
    {
     "data": {
      "text/plain": [
       "              ┌───────────────────────────┐\n",
       "              │       Ground Truth        │\n",
       "┌─────────────┼─────────────┬─────────────┤\n",
       "│  Predicted  │  cirrhosis  │      n      │\n",
       "├─────────────┼─────────────┼─────────────┤\n",
       "│  cirrhosis  │     25      │      7      │\n",
       "├─────────────┼─────────────┼─────────────┤\n",
       "│      n      │     10      │     28      │\n",
       "└─────────────┴─────────────┴─────────────┘\n"
      ]
     },
     "execution_count": 61,
     "metadata": {},
     "output_type": "execute_result"
    }
   ],
   "source": [
    "yhat = MLJ.predict(sgdc_tuned_mach, rows = test);\n",
    "print(\n",
    "    \"Measurements:\\n\",\n",
    "    \"  f1 score: \", f1score(yhat, yc[test]), \"\\n\",\n",
    "    \"  accuracy:   \", accuracy(yhat, yc[test]), \"\\n\"\n",
    ")\n",
    "ConfusionMatrix()(yhat, yc[test])"
   ]
  },
  {
   "cell_type": "markdown",
   "id": "fb918fda-1a65-4df7-9ddd-d604da0621fd",
   "metadata": {},
   "source": [
    "## Resultado sem tunagem e com feature selection "
   ]
  },
  {
   "cell_type": "code",
   "execution_count": 63,
   "id": "7552d867-72c6-43e9-ae19-c62718981e4b",
   "metadata": {},
   "outputs": [
    {
     "name": "stdout",
     "output_type": "stream",
     "text": [
      "Measurements:\n",
      "  f1 score: 0.8405797101449275\n",
      "  accuracy:   0.8428571428571429\n"
     ]
    },
    {
     "data": {
      "text/plain": [
       "              ┌───────────────────────────┐\n",
       "              │       Ground Truth        │\n",
       "┌─────────────┼─────────────┬─────────────┤\n",
       "│  Predicted  │  cirrhosis  │      n      │\n",
       "├─────────────┼─────────────┼─────────────┤\n",
       "│  cirrhosis  │     30      │      6      │\n",
       "├─────────────┼─────────────┼─────────────┤\n",
       "│      n      │      5      │     29      │\n",
       "└─────────────┴─────────────┴─────────────┘\n"
      ]
     },
     "execution_count": 63,
     "metadata": {},
     "output_type": "execute_result"
    }
   ],
   "source": [
    "yhat_sel = MLJ.predict(sgdc_mach_sel, rows = test1);\n",
    "print(\n",
    "    \"Measurements:\\n\",\n",
    "    \"  f1 score: \", f1score(yhat_sel, yc1[test1]), \"\\n\",\n",
    "    \"  accuracy:   \", accuracy(yhat_sel, yc1[test1]), \"\\n\"\n",
    ")\n",
    "ConfusionMatrix()(yhat_sel, yc1[test1])"
   ]
  },
  {
   "cell_type": "markdown",
   "id": "33febe06-64cf-4f84-a7ad-d41e517246a0",
   "metadata": {},
   "source": [
    "## Resultado com tunagem e com feature selection"
   ]
  },
  {
   "cell_type": "code",
   "execution_count": 64,
   "id": "928f3195-2186-4cee-80c4-6cddd14e2582",
   "metadata": {},
   "outputs": [
    {
     "name": "stdout",
     "output_type": "stream",
     "text": [
      "Measurements:\n",
      "  f1 score: 0.85\n",
      "  accuracy:   0.8285714285714285\n"
     ]
    },
    {
     "data": {
      "text/plain": [
       "              ┌───────────────────────────┐\n",
       "              │       Ground Truth        │\n",
       "┌─────────────┼─────────────┬─────────────┤\n",
       "│  Predicted  │  cirrhosis  │      n      │\n",
       "├─────────────┼─────────────┼─────────────┤\n",
       "│  cirrhosis  │     24      │      1      │\n",
       "├─────────────┼─────────────┼─────────────┤\n",
       "│      n      │     11      │     34      │\n",
       "└─────────────┴─────────────┴─────────────┘\n"
      ]
     },
     "execution_count": 64,
     "metadata": {},
     "output_type": "execute_result"
    }
   ],
   "source": [
    "yhat_sel_tune = MLJ.predict(sgdc_tuned_mach_sel, rows = test1);\n",
    "print(\n",
    "    \"Measurements:\\n\",\n",
    "    \"  f1 score: \", f1score(yhat_sel_tune, yc1[test1]), \"\\n\",\n",
    "    \"  accuracy:   \", accuracy(yhat_sel_tune, yc1[test1]), \"\\n\"\n",
    ")\n",
    "ConfusionMatrix()(yhat_sel_tune, yc1[test1])"
   ]
  },
  {
   "cell_type": "code",
   "execution_count": null,
   "id": "bb5355e3-5266-4c58-85f2-4028448bda86",
   "metadata": {},
   "outputs": [],
   "source": []
  }
 ],
 "metadata": {
  "kernelspec": {
   "display_name": "Julia 1.7.2",
   "language": "julia",
   "name": "julia-1.7"
  },
  "language_info": {
   "file_extension": ".jl",
   "mimetype": "application/julia",
   "name": "julia",
   "version": "1.7.2"
  }
 },
 "nbformat": 4,
 "nbformat_minor": 5
}
