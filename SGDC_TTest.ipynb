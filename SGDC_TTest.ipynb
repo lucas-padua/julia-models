{
 "cells": [
  {
   "cell_type": "code",
   "execution_count": 82,
   "id": "665cfb5f",
   "metadata": {
    "scrolled": true
   },
   "outputs": [],
   "source": [
    "using CSV\n",
    "using DataFrames\n",
    "using MLJ\n",
    "using Plots\n",
    "using Statistics\n",
    "using Random\n",
    "using StatsPlots"
   ]
  },
  {
   "cell_type": "markdown",
   "id": "d63294e0-dda8-4321-b643-a4a72cb8eff2",
   "metadata": {},
   "source": [
    "## Functions"
   ]
  },
  {
   "cell_type": "code",
   "execution_count": 6,
   "id": "ccd51d71-4def-4a9b-b797-76ef815dc715",
   "metadata": {},
   "outputs": [
    {
     "data": {
      "text/plain": [
       "removeByMax"
      ]
     },
     "execution_count": 6,
     "metadata": {},
     "output_type": "execute_result"
    }
   ],
   "source": [
    "\"\"\"\n",
    "`removeByMax(df,threshold)`\n",
    "    \n",
    "Returns column names from DataFrame `df` where the maximum value is smaller or equal to `threshold`.\n",
    "\"\"\"\n",
    "function removeByMax(df, threshold)\n",
    "   zero_col = String[]\n",
    "    for i in names(df)\n",
    "        if (maximum(df[:, i]) <= threshold)\n",
    "            push!(zero_col, i)\n",
    "        end\n",
    "    end\n",
    "    return zero_col\n",
    "end"
   ]
  },
  {
   "cell_type": "code",
   "execution_count": 7,
   "id": "b2d16b66-a0a9-4b04-85f9-dddd4129e286",
   "metadata": {},
   "outputs": [
    {
     "data": {
      "text/plain": [
       "getGenus"
      ]
     },
     "execution_count": 7,
     "metadata": {},
     "output_type": "execute_result"
    }
   ],
   "source": [
    "\"\"\"\n",
    "`getGenus(df)`\n",
    "\n",
    "Returns relative abundance Dataframe, where only genus level columns from `df` are kept.\n",
    "\"\"\"\n",
    "function getGenus(df)\n",
    "    genus = names((df), x -> contains(x, \"g__\") && !contains(x, \"s__\"))\n",
    "    splits = split.(genus, \"|\")\n",
    "    \n",
    "    G = copy(df)\n",
    "    G = G[:,genus]\n",
    "    \n",
    "    genusnames = Symbol[]\n",
    "    for i in 1:length(splits)\n",
    "        push!(genusnames, Symbol(strip(splits[i][6], ['g','_','_']))) \n",
    "    end\n",
    "    DataFrames.rename!(G, Symbol.(genusnames));\n",
    "    return G\n",
    "end"
   ]
  },
  {
   "cell_type": "code",
   "execution_count": 8,
   "id": "1ddc8c00-5186-4a6f-b87a-da2be65734c9",
   "metadata": {},
   "outputs": [
    {
     "data": {
      "text/plain": [
       "orderByMax"
      ]
     },
     "execution_count": 8,
     "metadata": {},
     "output_type": "execute_result"
    }
   ],
   "source": [
    "\"\"\"\n",
    "`orderByMax(df,n)`\n",
    "\n",
    "Returns the dataframe `df` with only the top `n` columns when ordered by the maximum value.\n",
    "\"\"\"\n",
    "function orderByMax(df,n)\n",
    "    rdf = DataFrame(Genus=String[],Max=Float64[])\n",
    "    for i in names(df)\n",
    "        push!(rdf,[i maximum(df[:,i])])\n",
    "    end\n",
    "    rdf = sort(rdf,:Max, rev=true)[1:n,:]\n",
    "    c_names = Symbol.(rdf[:,1])\n",
    "    return select(df,c_names)\n",
    "end"
   ]
  },
  {
   "cell_type": "markdown",
   "id": "0d5e632c-dcf5-4e29-96d5-d8f1d7c6690a",
   "metadata": {},
   "source": [
    "## Loading the dataset"
   ]
  },
  {
   "cell_type": "code",
   "execution_count": 10,
   "id": "6130d3c6",
   "metadata": {
    "scrolled": true
   },
   "outputs": [
    {
     "data": {
      "text/html": [
       "<div class=\"data-frame\"><p>5 rows × 3,513 columns (omitted printing of 3505 columns)</p><table class=\"data-frame\"><thead><tr><th></th><th>dataset_name</th><th>sampleID</th><th>subjectID</th><th>bodysite</th><th>disease</th><th>age</th><th>gender</th><th>country</th></tr><tr><th></th><th title=\"String\">String</th><th title=\"String31\">String31</th><th title=\"String31\">String31</th><th title=\"String31\">String31</th><th title=\"String31\">String31</th><th title=\"String7\">String7</th><th title=\"String7\">String7</th><th title=\"String15\">String15</th></tr></thead><tbody><tr><th>1</th><td>Candela_Africa</td><td>H10</td><td>h10</td><td>stool</td><td>n</td><td>40</td><td>female</td><td>tanzania</td></tr><tr><th>2</th><td>Candela_Africa</td><td>H11</td><td>h11</td><td>stool</td><td>n</td><td>29</td><td>female</td><td>tanzania</td></tr><tr><th>3</th><td>Candela_Africa</td><td>H12</td><td>h12</td><td>stool</td><td>n</td><td>8</td><td>female</td><td>tanzania</td></tr><tr><th>4</th><td>Candela_Africa</td><td>H13</td><td>h13</td><td>stool</td><td>n</td><td>34</td><td>male</td><td>tanzania</td></tr><tr><th>5</th><td>Candela_Africa</td><td>H14</td><td>h14</td><td>stool</td><td>n</td><td>30</td><td>male</td><td>tanzania</td></tr></tbody></table></div>"
      ],
      "text/latex": [
       "\\begin{tabular}{r|ccccccccc}\n",
       "\t& dataset\\_name & sampleID & subjectID & bodysite & disease & age & gender & country & \\\\\n",
       "\t\\hline\n",
       "\t& String & String31 & String31 & String31 & String31 & String7 & String7 & String15 & \\\\\n",
       "\t\\hline\n",
       "\t1 & Candela\\_Africa & H10 & h10 & stool & n & 40 & female & tanzania & $\\dots$ \\\\\n",
       "\t2 & Candela\\_Africa & H11 & h11 & stool & n & 29 & female & tanzania & $\\dots$ \\\\\n",
       "\t3 & Candela\\_Africa & H12 & h12 & stool & n & 8 & female & tanzania & $\\dots$ \\\\\n",
       "\t4 & Candela\\_Africa & H13 & h13 & stool & n & 34 & male & tanzania & $\\dots$ \\\\\n",
       "\t5 & Candela\\_Africa & H14 & h14 & stool & n & 30 & male & tanzania & $\\dots$ \\\\\n",
       "\\end{tabular}\n"
      ],
      "text/plain": [
       "\u001b[1m5×3513 DataFrame\u001b[0m\n",
       "\u001b[1m Row \u001b[0m│\u001b[1m dataset_name   \u001b[0m\u001b[1m sampleID \u001b[0m\u001b[1m subjectID \u001b[0m\u001b[1m bodysite \u001b[0m\u001b[1m disease  \u001b[0m\u001b[1m age     \u001b[0m\u001b[1m gende\u001b[0m ⋯\n",
       "\u001b[1m     \u001b[0m│\u001b[90m String         \u001b[0m\u001b[90m String31 \u001b[0m\u001b[90m String31  \u001b[0m\u001b[90m String31 \u001b[0m\u001b[90m String31 \u001b[0m\u001b[90m String7 \u001b[0m\u001b[90m Strin\u001b[0m ⋯\n",
       "─────┼──────────────────────────────────────────────────────────────────────────\n",
       "   1 │ Candela_Africa  H10       h10        stool     n         40       femal ⋯\n",
       "   2 │ Candela_Africa  H11       h11        stool     n         29       femal\n",
       "   3 │ Candela_Africa  H12       h12        stool     n         8        femal\n",
       "   4 │ Candela_Africa  H13       h13        stool     n         34       male\n",
       "   5 │ Candela_Africa  H14       h14        stool     n         30       male  ⋯\n",
       "\u001b[36m                                                            3507 columns omitted\u001b[0m"
      ]
     },
     "execution_count": 10,
     "metadata": {},
     "output_type": "execute_result"
    }
   ],
   "source": [
    "# data available at: https://www.kaggle.com/datasets/antaresnyc/human-metagenomics\n",
    "\n",
    "abundance_df = CSV.read(\"abundance.csv\", DataFrame)\n",
    "first(abundance_df, 5)"
   ]
  },
  {
   "cell_type": "code",
   "execution_count": 13,
   "id": "bfe3a37b",
   "metadata": {},
   "outputs": [
    {
     "data": {
      "text/plain": [
       "(3610, 3513)"
      ]
     },
     "execution_count": 13,
     "metadata": {},
     "output_type": "execute_result"
    }
   ],
   "source": [
    "size(abundance_df)"
   ]
  },
  {
   "cell_type": "code",
   "execution_count": 15,
   "id": "ab2085dc",
   "metadata": {},
   "outputs": [],
   "source": [
    "gd = combine(groupby(abundance_df, [:dataset_name, :disease]), nrow => :count);"
   ]
  },
  {
   "cell_type": "code",
   "execution_count": 17,
   "id": "b02b8c82",
   "metadata": {},
   "outputs": [
    {
     "name": "stdout",
     "output_type": "stream",
     "text": [
      "\u001b[1m40×3 DataFrame\u001b[0m\n",
      "\u001b[1m Row \u001b[0m│\u001b[1m dataset_name                      \u001b[0m\u001b[1m disease                    \u001b[0m\u001b[1m count \u001b[0m\n",
      "\u001b[1m     \u001b[0m│\u001b[90m String                            \u001b[0m\u001b[90m String31                   \u001b[0m\u001b[90m Int64 \u001b[0m\n",
      "─────┼──────────────────────────────────────────────────────────────────────\n",
      "   1 │ Candela_Africa                     n                              38\n",
      "   2 │ Chatelier_gut_obesity              n                              25\n",
      "   3 │ Chatelier_gut_obesity              obesity                       164\n",
      "   4 │ Chatelier_gut_obesity              leaness                        89\n",
      "   5 │ doyle_bt2                          nd                            458\n",
      "   6 │ hmp                                n                             762\n",
      "   7 │ hmpii                              n                             219\n",
      "   8 │ Loman2013_EcoliOutbreak_DNA_HiSeq  stec2-positive                 43\n",
      "   9 │ Loman2013_EcoliOutbreak_DNA_HiSeq   -                              1\n",
      "  10 │ Loman2013_EcoliOutbreak_DNA_MiSeq  stec2-positive                  9\n",
      "  11 │ metahit                            n                              85\n",
      "  12 │ metahit                            ibd_ulcerative_colitis         21\n",
      "  13 │ metahit                            ibd_crohn_disease               4\n",
      "  14 │ Neilsen_genome_assembly            n                             187\n",
      "  15 │ Neilsen_genome_assembly            ibd_ulcerative_colitis        127\n",
      "  16 │ Neilsen_genome_assembly            ibd_crohn_disease              21\n",
      "  17 │ Neilsen_genome_assembly            n_relative                     47\n",
      "  18 │ Psoriasis_2014                     n                              34\n",
      "  19 │ Psoriasis_2014                     y                              36\n",
      "  20 │ Quin_gut_liver_cirrhosis           n                             114\n",
      "  21 │ Quin_gut_liver_cirrhosis           cirrhosis                     118\n",
      "  22 │ Segre_Human_Skin                   n                             291\n",
      "  23 │ Tito_subsistence_gut               n                              35\n",
      "  24 │ Tito_subsistence_gut               obese                           5\n",
      "  25 │ Tito_subsistence_gut               overweight                     10\n",
      "  26 │ Tito_subsistence_gut               -                               7\n",
      "  27 │ Tito_subsistence_gut               underweight                     1\n",
      "  28 │ t2dmeta_long                       n                             136\n",
      "  29 │ t2dmeta_long                        -                             19\n",
      "  30 │ t2dmeta_long                       t2d                           135\n",
      "  31 │ t2dmeta_short                      n                              38\n",
      "  32 │ t2dmeta_short                      t2d                            35\n",
      "  33 │ VerticalTransmissionPilot          nd                             17\n",
      "  34 │ WT2D                               n                              43\n",
      "  35 │ WT2D                               t2d                            53\n",
      "  36 │ WT2D                               impaired_glucose_tolerance     49\n",
      "  37 │ Zeller_fecal_colorectal_cancer     n                              47\n",
      "  38 │ Zeller_fecal_colorectal_cancer     cancer                         48\n",
      "  39 │ Zeller_fecal_colorectal_cancer     small_adenoma                  26\n",
      "  40 │ Zeller_fecal_colorectal_cancer     large_adenoma                  13"
     ]
    }
   ],
   "source": [
    "print(gd)"
   ]
  },
  {
   "cell_type": "markdown",
   "id": "7d97203a-bfc0-402e-9a27-92b158d92705",
   "metadata": {},
   "source": [
    "## Taking only the cirrhosis data"
   ]
  },
  {
   "cell_type": "code",
   "execution_count": 19,
   "id": "5583e083",
   "metadata": {},
   "outputs": [
    {
     "data": {
      "text/html": [
       "<div class=\"data-frame\"><p>3 rows × 3,513 columns (omitted printing of 3506 columns)</p><table class=\"data-frame\"><thead><tr><th></th><th>dataset_name</th><th>sampleID</th><th>subjectID</th><th>bodysite</th><th>disease</th><th>age</th><th>gender</th></tr><tr><th></th><th title=\"String\">String</th><th title=\"String31\">String31</th><th title=\"String31\">String31</th><th title=\"String31\">String31</th><th title=\"String31\">String31</th><th title=\"String7\">String7</th><th title=\"String7\">String7</th></tr></thead><tbody><tr><th>1</th><td>Quin_gut_liver_cirrhosis</td><td>HD-10</td><td>hd-10</td><td>stool</td><td>n</td><td>40</td><td>female</td></tr><tr><th>2</th><td>Quin_gut_liver_cirrhosis</td><td>HD-11</td><td>hd-11</td><td>stool</td><td>n</td><td>38</td><td>female</td></tr><tr><th>3</th><td>Quin_gut_liver_cirrhosis</td><td>HD-12</td><td>hd-12</td><td>stool</td><td>n</td><td>40</td><td>male</td></tr></tbody></table></div>"
      ],
      "text/latex": [
       "\\begin{tabular}{r|cccccccc}\n",
       "\t& dataset\\_name & sampleID & subjectID & bodysite & disease & age & gender & \\\\\n",
       "\t\\hline\n",
       "\t& String & String31 & String31 & String31 & String31 & String7 & String7 & \\\\\n",
       "\t\\hline\n",
       "\t1 & Quin\\_gut\\_liver\\_cirrhosis & HD-10 & hd-10 & stool & n & 40 & female & $\\dots$ \\\\\n",
       "\t2 & Quin\\_gut\\_liver\\_cirrhosis & HD-11 & hd-11 & stool & n & 38 & female & $\\dots$ \\\\\n",
       "\t3 & Quin\\_gut\\_liver\\_cirrhosis & HD-12 & hd-12 & stool & n & 40 & male & $\\dots$ \\\\\n",
       "\\end{tabular}\n"
      ],
      "text/plain": [
       "\u001b[1m3×3513 DataFrame\u001b[0m\n",
       "\u001b[1m Row \u001b[0m│\u001b[1m dataset_name             \u001b[0m\u001b[1m sampleID \u001b[0m\u001b[1m subjectID \u001b[0m\u001b[1m bodysite \u001b[0m\u001b[1m disease  \u001b[0m\u001b[1m age \u001b[0m ⋯\n",
       "\u001b[1m     \u001b[0m│\u001b[90m String                   \u001b[0m\u001b[90m String31 \u001b[0m\u001b[90m String31  \u001b[0m\u001b[90m String31 \u001b[0m\u001b[90m String31 \u001b[0m\u001b[90m Stri\u001b[0m ⋯\n",
       "─────┼──────────────────────────────────────────────────────────────────────────\n",
       "   1 │ Quin_gut_liver_cirrhosis  HD-10     hd-10      stool     n         40   ⋯\n",
       "   2 │ Quin_gut_liver_cirrhosis  HD-11     hd-11      stool     n         38\n",
       "   3 │ Quin_gut_liver_cirrhosis  HD-12     hd-12      stool     n         40\n",
       "\u001b[36m                                                            3508 columns omitted\u001b[0m"
      ]
     },
     "execution_count": 19,
     "metadata": {},
     "output_type": "execute_result"
    }
   ],
   "source": [
    "cirrhosis = subset(abundance_df, :dataset_name => ByRow(==(\"Quin_gut_liver_cirrhosis\")));\n",
    "first(cirrhosis, 3)"
   ]
  },
  {
   "cell_type": "code",
   "execution_count": 65,
   "id": "b7b30465-9429-49a5-89cc-1b15c1cb9cff",
   "metadata": {},
   "outputs": [
    {
     "data": {
      "text/html": [
       "<div class=\"data-frame\"><p>2 rows × 2 columns</p><table class=\"data-frame\"><thead><tr><th></th><th>disease</th><th>count</th></tr><tr><th></th><th title=\"String31\">String31</th><th title=\"Int64\">Int64</th></tr></thead><tbody><tr><th>1</th><td>n</td><td>114</td></tr><tr><th>2</th><td>cirrhosis</td><td>118</td></tr></tbody></table></div>"
      ],
      "text/latex": [
       "\\begin{tabular}{r|cc}\n",
       "\t& disease & count\\\\\n",
       "\t\\hline\n",
       "\t& String31 & Int64\\\\\n",
       "\t\\hline\n",
       "\t1 & n & 114 \\\\\n",
       "\t2 & cirrhosis & 118 \\\\\n",
       "\\end{tabular}\n"
      ],
      "text/plain": [
       "\u001b[1m2×2 DataFrame\u001b[0m\n",
       "\u001b[1m Row \u001b[0m│\u001b[1m disease   \u001b[0m\u001b[1m count \u001b[0m\n",
       "\u001b[1m     \u001b[0m│\u001b[90m String31  \u001b[0m\u001b[90m Int64 \u001b[0m\n",
       "─────┼──────────────────\n",
       "   1 │ n            114\n",
       "   2 │ cirrhosis    118"
      ]
     },
     "execution_count": 65,
     "metadata": {},
     "output_type": "execute_result"
    }
   ],
   "source": [
    "xd = combine(groupby(cirrhosis, :disease), nrow => :count)"
   ]
  },
  {
   "cell_type": "code",
   "execution_count": 71,
   "id": "9b129d22-2950-47f9-972a-ede431c5e4cb",
   "metadata": {},
   "outputs": [
    {
     "data": {
      "image/svg+xml": [
       "<?xml version=\"1.0\" encoding=\"utf-8\"?>\n",
       "<svg xmlns=\"http://www.w3.org/2000/svg\" xmlns:xlink=\"http://www.w3.org/1999/xlink\" width=\"600\" height=\"400\" viewBox=\"0 0 2400 1600\">\n",
       "<defs>\n",
       "  <clipPath id=\"clip620\">\n",
       "    <rect x=\"0\" y=\"0\" width=\"2400\" height=\"1600\"/>\n",
       "  </clipPath>\n",
       "</defs>\n",
       "<path clip-path=\"url(#clip620)\" d=\"\n",
       "M0 1600 L2400 1600 L2400 0 L0 0  Z\n",
       "  \" fill=\"#ffffff\" fill-rule=\"evenodd\" fill-opacity=\"1\"/>\n",
       "<defs>\n",
       "  <clipPath id=\"clip621\">\n",
       "    <rect x=\"480\" y=\"0\" width=\"1681\" height=\"1600\"/>\n",
       "  </clipPath>\n",
       "</defs>\n",
       "<path clip-path=\"url(#clip620)\" d=\"\n",
       "M169.121 1486.45 L2352.76 1486.45 L2352.76 47.2441 L169.121 47.2441  Z\n",
       "  \" fill=\"#ffffff\" fill-rule=\"evenodd\" fill-opacity=\"1\"/>\n",
       "<defs>\n",
       "  <clipPath id=\"clip622\">\n",
       "    <rect x=\"169\" y=\"47\" width=\"2185\" height=\"1440\"/>\n",
       "  </clipPath>\n",
       "</defs>\n",
       "<polyline clip-path=\"url(#clip622)\" style=\"stroke:#000000; stroke-linecap:butt; stroke-linejoin:round; stroke-width:2; stroke-opacity:0.1; fill:none\" points=\"\n",
       "  721.098,1486.45 721.098,47.2441 \n",
       "  \"/>\n",
       "<polyline clip-path=\"url(#clip622)\" style=\"stroke:#000000; stroke-linecap:butt; stroke-linejoin:round; stroke-width:2; stroke-opacity:0.1; fill:none\" points=\"\n",
       "  1800.78,1486.45 1800.78,47.2441 \n",
       "  \"/>\n",
       "<polyline clip-path=\"url(#clip620)\" style=\"stroke:#000000; stroke-linecap:butt; stroke-linejoin:round; stroke-width:4; stroke-opacity:1; fill:none\" points=\"\n",
       "  169.121,1486.45 2352.76,1486.45 \n",
       "  \"/>\n",
       "<polyline clip-path=\"url(#clip620)\" style=\"stroke:#000000; stroke-linecap:butt; stroke-linejoin:round; stroke-width:4; stroke-opacity:1; fill:none\" points=\"\n",
       "  721.098,1486.45 721.098,1467.55 \n",
       "  \"/>\n",
       "<polyline clip-path=\"url(#clip620)\" style=\"stroke:#000000; stroke-linecap:butt; stroke-linejoin:round; stroke-width:4; stroke-opacity:1; fill:none\" points=\"\n",
       "  1800.78,1486.45 1800.78,1467.55 \n",
       "  \"/>\n",
       "<path clip-path=\"url(#clip620)\" d=\"M644.987 1523.92 L644.987 1527.9 Q643.182 1526.9 641.353 1526.42 Q639.547 1525.91 637.695 1525.91 Q633.552 1525.91 631.26 1528.55 Q628.969 1531.16 628.969 1535.91 Q628.969 1540.65 631.26 1543.29 Q633.552 1545.91 637.695 1545.91 Q639.547 1545.91 641.353 1545.42 Q643.182 1544.91 644.987 1543.92 L644.987 1547.85 Q643.205 1548.69 641.283 1549.1 Q639.385 1549.52 637.232 1549.52 Q631.376 1549.52 627.927 1545.84 Q624.478 1542.16 624.478 1535.91 Q624.478 1529.57 627.95 1525.93 Q631.445 1522.3 637.51 1522.3 Q639.478 1522.3 641.353 1522.71 Q643.228 1523.11 644.987 1523.92 Z\" fill=\"#000000\" fill-rule=\"evenodd\" fill-opacity=\"1\" /><path clip-path=\"url(#clip620)\" d=\"M652.394 1522.92 L656.654 1522.92 L656.654 1548.85 L652.394 1548.85 L652.394 1522.92 M652.394 1512.83 L656.654 1512.83 L656.654 1518.22 L652.394 1518.22 L652.394 1512.83 Z\" fill=\"#000000\" fill-rule=\"evenodd\" fill-opacity=\"1\" /><path clip-path=\"url(#clip620)\" d=\"M680.589 1526.9 Q679.871 1526.49 679.015 1526.3 Q678.181 1526.09 677.163 1526.09 Q673.552 1526.09 671.607 1528.45 Q669.686 1530.79 669.686 1535.19 L669.686 1548.85 L665.404 1548.85 L665.404 1522.92 L669.686 1522.92 L669.686 1526.95 Q671.029 1524.59 673.181 1523.45 Q675.334 1522.3 678.413 1522.3 Q678.853 1522.3 679.385 1522.37 Q679.917 1522.41 680.566 1522.53 L680.589 1526.9 Z\" fill=\"#000000\" fill-rule=\"evenodd\" fill-opacity=\"1\" /><path clip-path=\"url(#clip620)\" d=\"M699.246 1526.9 Q698.528 1526.49 697.672 1526.3 Q696.839 1526.09 695.82 1526.09 Q692.209 1526.09 690.265 1528.45 Q688.343 1530.79 688.343 1535.19 L688.343 1548.85 L684.061 1548.85 L684.061 1522.92 L688.343 1522.92 L688.343 1526.95 Q689.686 1524.59 691.839 1523.45 Q693.991 1522.3 697.07 1522.3 Q697.51 1522.3 698.042 1522.37 Q698.575 1522.41 699.223 1522.53 L699.246 1526.9 Z\" fill=\"#000000\" fill-rule=\"evenodd\" fill-opacity=\"1\" /><path clip-path=\"url(#clip620)\" d=\"M724.431 1533.2 L724.431 1548.85 L720.172 1548.85 L720.172 1533.34 Q720.172 1529.66 718.737 1527.83 Q717.301 1526 714.431 1526 Q710.982 1526 708.991 1528.2 Q707.001 1530.4 707.001 1534.2 L707.001 1548.85 L702.718 1548.85 L702.718 1512.83 L707.001 1512.83 L707.001 1526.95 Q708.528 1524.61 710.589 1523.45 Q712.672 1522.3 715.38 1522.3 Q719.848 1522.3 722.139 1525.07 Q724.431 1527.83 724.431 1533.2 Z\" fill=\"#000000\" fill-rule=\"evenodd\" fill-opacity=\"1\" /><path clip-path=\"url(#clip620)\" d=\"M742.973 1525.91 Q739.547 1525.91 737.556 1528.59 Q735.565 1531.26 735.565 1535.91 Q735.565 1540.56 737.533 1543.25 Q739.524 1545.91 742.973 1545.91 Q746.375 1545.91 748.366 1543.22 Q750.357 1540.54 750.357 1535.91 Q750.357 1531.3 748.366 1528.62 Q746.375 1525.91 742.973 1525.91 M742.973 1522.3 Q748.528 1522.3 751.699 1525.91 Q754.871 1529.52 754.871 1535.91 Q754.871 1542.27 751.699 1545.91 Q748.528 1549.52 742.973 1549.52 Q737.394 1549.52 734.223 1545.91 Q731.075 1542.27 731.075 1535.91 Q731.075 1529.52 734.223 1525.91 Q737.394 1522.3 742.973 1522.3 Z\" fill=\"#000000\" fill-rule=\"evenodd\" fill-opacity=\"1\" /><path clip-path=\"url(#clip620)\" d=\"M778.459 1523.69 L778.459 1527.71 Q776.653 1526.79 774.709 1526.32 Q772.764 1525.86 770.681 1525.86 Q767.51 1525.86 765.912 1526.83 Q764.338 1527.81 764.338 1529.75 Q764.338 1531.23 765.473 1532.09 Q766.607 1532.92 770.033 1533.69 L771.491 1534.01 Q776.028 1534.98 777.926 1536.76 Q779.847 1538.52 779.847 1541.7 Q779.847 1545.31 776.977 1547.41 Q774.13 1549.52 769.13 1549.52 Q767.047 1549.52 764.778 1549.1 Q762.533 1548.71 760.033 1547.9 L760.033 1543.5 Q762.394 1544.73 764.686 1545.35 Q766.977 1545.95 769.223 1545.95 Q772.232 1545.95 773.852 1544.94 Q775.472 1543.89 775.472 1542.02 Q775.472 1540.28 774.292 1539.36 Q773.135 1538.43 769.176 1537.57 L767.695 1537.23 Q763.736 1536.39 761.977 1534.68 Q760.218 1532.95 760.218 1529.94 Q760.218 1526.28 762.811 1524.29 Q765.403 1522.3 770.172 1522.3 Q772.533 1522.3 774.616 1522.64 Q776.699 1522.99 778.459 1523.69 Z\" fill=\"#000000\" fill-rule=\"evenodd\" fill-opacity=\"1\" /><path clip-path=\"url(#clip620)\" d=\"M786.63 1522.92 L790.889 1522.92 L790.889 1548.85 L786.63 1548.85 L786.63 1522.92 M786.63 1512.83 L790.889 1512.83 L790.889 1518.22 L786.63 1518.22 L786.63 1512.83 Z\" fill=\"#000000\" fill-rule=\"evenodd\" fill-opacity=\"1\" /><path clip-path=\"url(#clip620)\" d=\"M816.329 1523.69 L816.329 1527.71 Q814.523 1526.79 812.579 1526.32 Q810.634 1525.86 808.551 1525.86 Q805.38 1525.86 803.783 1526.83 Q802.208 1527.81 802.208 1529.75 Q802.208 1531.23 803.343 1532.09 Q804.477 1532.92 807.903 1533.69 L809.361 1534.01 Q813.898 1534.98 815.796 1536.76 Q817.718 1538.52 817.718 1541.7 Q817.718 1545.31 814.847 1547.41 Q812 1549.52 807 1549.52 Q804.917 1549.52 802.648 1549.1 Q800.403 1548.71 797.903 1547.9 L797.903 1543.5 Q800.264 1544.73 802.556 1545.35 Q804.847 1545.95 807.093 1545.95 Q810.102 1545.95 811.722 1544.94 Q813.343 1543.89 813.343 1542.02 Q813.343 1540.28 812.162 1539.36 Q811.005 1538.43 807.046 1537.57 L805.565 1537.23 Q801.607 1536.39 799.847 1534.68 Q798.088 1532.95 798.088 1529.94 Q798.088 1526.28 800.681 1524.29 Q803.273 1522.3 808.042 1522.3 Q810.403 1522.3 812.486 1522.64 Q814.569 1522.99 816.329 1523.69 Z\" fill=\"#000000\" fill-rule=\"evenodd\" fill-opacity=\"1\" /><path clip-path=\"url(#clip620)\" d=\"M1811.64 1533.2 L1811.64 1548.85 L1807.38 1548.85 L1807.38 1533.34 Q1807.38 1529.66 1805.94 1527.83 Q1804.51 1526 1801.64 1526 Q1798.19 1526 1796.2 1528.2 Q1794.21 1530.4 1794.21 1534.2 L1794.21 1548.85 L1789.92 1548.85 L1789.92 1522.92 L1794.21 1522.92 L1794.21 1526.95 Q1795.73 1524.61 1797.79 1523.45 Q1799.88 1522.3 1802.58 1522.3 Q1807.05 1522.3 1809.34 1525.07 Q1811.64 1527.83 1811.64 1533.2 Z\" fill=\"#000000\" fill-rule=\"evenodd\" fill-opacity=\"1\" /><polyline clip-path=\"url(#clip622)\" style=\"stroke:#000000; stroke-linecap:butt; stroke-linejoin:round; stroke-width:2; stroke-opacity:0.1; fill:none\" points=\"\n",
       "  169.121,1445.72 2352.76,1445.72 \n",
       "  \"/>\n",
       "<polyline clip-path=\"url(#clip622)\" style=\"stroke:#000000; stroke-linecap:butt; stroke-linejoin:round; stroke-width:2; stroke-opacity:0.1; fill:none\" points=\"\n",
       "  169.121,1158.06 2352.76,1158.06 \n",
       "  \"/>\n",
       "<polyline clip-path=\"url(#clip622)\" style=\"stroke:#000000; stroke-linecap:butt; stroke-linejoin:round; stroke-width:2; stroke-opacity:0.1; fill:none\" points=\"\n",
       "  169.121,870.402 2352.76,870.402 \n",
       "  \"/>\n",
       "<polyline clip-path=\"url(#clip622)\" style=\"stroke:#000000; stroke-linecap:butt; stroke-linejoin:round; stroke-width:2; stroke-opacity:0.1; fill:none\" points=\"\n",
       "  169.121,582.746 2352.76,582.746 \n",
       "  \"/>\n",
       "<polyline clip-path=\"url(#clip622)\" style=\"stroke:#000000; stroke-linecap:butt; stroke-linejoin:round; stroke-width:2; stroke-opacity:0.1; fill:none\" points=\"\n",
       "  169.121,295.089 2352.76,295.089 \n",
       "  \"/>\n",
       "<polyline clip-path=\"url(#clip620)\" style=\"stroke:#000000; stroke-linecap:butt; stroke-linejoin:round; stroke-width:4; stroke-opacity:1; fill:none\" points=\"\n",
       "  169.121,1486.45 169.121,47.2441 \n",
       "  \"/>\n",
       "<polyline clip-path=\"url(#clip620)\" style=\"stroke:#000000; stroke-linecap:butt; stroke-linejoin:round; stroke-width:4; stroke-opacity:1; fill:none\" points=\"\n",
       "  169.121,1445.72 188.019,1445.72 \n",
       "  \"/>\n",
       "<polyline clip-path=\"url(#clip620)\" style=\"stroke:#000000; stroke-linecap:butt; stroke-linejoin:round; stroke-width:4; stroke-opacity:1; fill:none\" points=\"\n",
       "  169.121,1158.06 188.019,1158.06 \n",
       "  \"/>\n",
       "<polyline clip-path=\"url(#clip620)\" style=\"stroke:#000000; stroke-linecap:butt; stroke-linejoin:round; stroke-width:4; stroke-opacity:1; fill:none\" points=\"\n",
       "  169.121,870.402 188.019,870.402 \n",
       "  \"/>\n",
       "<polyline clip-path=\"url(#clip620)\" style=\"stroke:#000000; stroke-linecap:butt; stroke-linejoin:round; stroke-width:4; stroke-opacity:1; fill:none\" points=\"\n",
       "  169.121,582.746 188.019,582.746 \n",
       "  \"/>\n",
       "<polyline clip-path=\"url(#clip620)\" style=\"stroke:#000000; stroke-linecap:butt; stroke-linejoin:round; stroke-width:4; stroke-opacity:1; fill:none\" points=\"\n",
       "  169.121,295.089 188.019,295.089 \n",
       "  \"/>\n",
       "<path clip-path=\"url(#clip620)\" d=\"M121.177 1431.51 Q117.566 1431.51 115.737 1435.08 Q113.932 1438.62 113.932 1445.75 Q113.932 1452.86 115.737 1456.42 Q117.566 1459.96 121.177 1459.96 Q124.811 1459.96 126.617 1456.42 Q128.445 1452.86 128.445 1445.75 Q128.445 1438.62 126.617 1435.08 Q124.811 1431.51 121.177 1431.51 M121.177 1427.81 Q126.987 1427.81 130.043 1432.42 Q133.121 1437 133.121 1445.75 Q133.121 1454.48 130.043 1459.08 Q126.987 1463.67 121.177 1463.67 Q115.367 1463.67 112.288 1459.08 Q109.233 1454.48 109.233 1445.75 Q109.233 1437 112.288 1432.42 Q115.367 1427.81 121.177 1427.81 Z\" fill=\"#000000\" fill-rule=\"evenodd\" fill-opacity=\"1\" /><path clip-path=\"url(#clip620)\" d=\"M86.0382 1171.4 L102.358 1171.4 L102.358 1175.34 L80.4133 1175.34 L80.4133 1171.4 Q83.0753 1168.65 87.6586 1164.02 Q92.2651 1159.37 93.4456 1158.02 Q95.691 1155.5 96.5706 1153.77 Q97.4734 1152.01 97.4734 1150.32 Q97.4734 1147.56 95.5289 1145.83 Q93.6076 1144.09 90.5058 1144.09 Q88.3067 1144.09 85.8531 1144.85 Q83.4225 1145.62 80.6447 1147.17 L80.6447 1142.45 Q83.4688 1141.31 85.9225 1140.73 Q88.3762 1140.15 90.4132 1140.15 Q95.7836 1140.15 98.978 1142.84 Q102.172 1145.52 102.172 1150.02 Q102.172 1152.14 101.362 1154.07 Q100.575 1155.96 98.4687 1158.56 Q97.89 1159.23 94.7882 1162.45 Q91.6864 1165.64 86.0382 1171.4 Z\" fill=\"#000000\" fill-rule=\"evenodd\" fill-opacity=\"1\" /><path clip-path=\"url(#clip620)\" d=\"M112.219 1140.78 L130.575 1140.78 L130.575 1144.71 L116.501 1144.71 L116.501 1153.19 Q117.52 1152.84 118.538 1152.68 Q119.557 1152.49 120.575 1152.49 Q126.362 1152.49 129.742 1155.66 Q133.121 1158.83 133.121 1164.25 Q133.121 1169.83 129.649 1172.93 Q126.177 1176.01 119.857 1176.01 Q117.682 1176.01 115.413 1175.64 Q113.168 1175.27 110.76 1174.53 L110.76 1169.83 Q112.844 1170.96 115.066 1171.52 Q117.288 1172.08 119.765 1172.08 Q123.77 1172.08 126.107 1169.97 Q128.445 1167.86 128.445 1164.25 Q128.445 1160.64 126.107 1158.53 Q123.77 1156.43 119.765 1156.43 Q117.89 1156.43 116.015 1156.84 Q114.163 1157.26 112.219 1158.14 L112.219 1140.78 Z\" fill=\"#000000\" fill-rule=\"evenodd\" fill-opacity=\"1\" /><path clip-path=\"url(#clip620)\" d=\"M81.0614 853.122 L99.4178 853.122 L99.4178 857.058 L85.3438 857.058 L85.3438 865.53 Q86.3623 865.183 87.3808 865.02 Q88.3993 864.835 89.4178 864.835 Q95.2049 864.835 98.5845 868.007 Q101.964 871.178 101.964 876.594 Q101.964 882.173 98.4919 885.275 Q95.0197 888.354 88.7003 888.354 Q86.5243 888.354 84.2558 887.983 Q82.0105 887.613 79.6031 886.872 L79.6031 882.173 Q81.6864 883.307 83.9086 883.863 Q86.1308 884.419 88.6077 884.419 Q92.6123 884.419 94.9502 882.312 Q97.2882 880.206 97.2882 876.594 Q97.2882 872.983 94.9502 870.877 Q92.6123 868.77 88.6077 868.77 Q86.7327 868.77 84.8577 869.187 Q83.0058 869.604 81.0614 870.483 L81.0614 853.122 Z\" fill=\"#000000\" fill-rule=\"evenodd\" fill-opacity=\"1\" /><path clip-path=\"url(#clip620)\" d=\"M121.177 856.201 Q117.566 856.201 115.737 859.766 Q113.932 863.308 113.932 870.437 Q113.932 877.544 115.737 881.108 Q117.566 884.65 121.177 884.65 Q124.811 884.65 126.617 881.108 Q128.445 877.544 128.445 870.437 Q128.445 863.308 126.617 859.766 Q124.811 856.201 121.177 856.201 M121.177 852.497 Q126.987 852.497 130.043 857.104 Q133.121 861.687 133.121 870.437 Q133.121 879.164 130.043 883.77 Q126.987 888.354 121.177 888.354 Q115.367 888.354 112.288 883.77 Q109.233 879.164 109.233 870.437 Q109.233 861.687 112.288 857.104 Q115.367 852.497 121.177 852.497 Z\" fill=\"#000000\" fill-rule=\"evenodd\" fill-opacity=\"1\" /><path clip-path=\"url(#clip620)\" d=\"M80.8299 565.466 L103.052 565.466 L103.052 567.456 L90.5058 600.026 L85.6216 600.026 L97.4271 569.401 L80.8299 569.401 L80.8299 565.466 Z\" fill=\"#000000\" fill-rule=\"evenodd\" fill-opacity=\"1\" /><path clip-path=\"url(#clip620)\" d=\"M112.219 565.466 L130.575 565.466 L130.575 569.401 L116.501 569.401 L116.501 577.873 Q117.52 577.526 118.538 577.364 Q119.557 577.179 120.575 577.179 Q126.362 577.179 129.742 580.35 Q133.121 583.521 133.121 588.938 Q133.121 594.516 129.649 597.618 Q126.177 600.697 119.857 600.697 Q117.682 600.697 115.413 600.327 Q113.168 599.956 110.76 599.216 L110.76 594.516 Q112.844 595.651 115.066 596.206 Q117.288 596.762 119.765 596.762 Q123.77 596.762 126.107 594.655 Q128.445 592.549 128.445 588.938 Q128.445 585.327 126.107 583.22 Q123.77 581.114 119.765 581.114 Q117.89 581.114 116.015 581.53 Q114.163 581.947 112.219 582.827 L112.219 565.466 Z\" fill=\"#000000\" fill-rule=\"evenodd\" fill-opacity=\"1\" /><path clip-path=\"url(#clip620)\" d=\"M51.6634 308.434 L59.3023 308.434 L59.3023 282.068 L50.9921 283.735 L50.9921 279.476 L59.256 277.809 L63.9319 277.809 L63.9319 308.434 L71.5707 308.434 L71.5707 312.369 L51.6634 312.369 L51.6634 308.434 Z\" fill=\"#000000\" fill-rule=\"evenodd\" fill-opacity=\"1\" /><path clip-path=\"url(#clip620)\" d=\"M91.0151 280.888 Q87.404 280.888 85.5753 284.453 Q83.7697 287.994 83.7697 295.124 Q83.7697 302.23 85.5753 305.795 Q87.404 309.337 91.0151 309.337 Q94.6493 309.337 96.4548 305.795 Q98.2835 302.23 98.2835 295.124 Q98.2835 287.994 96.4548 284.453 Q94.6493 280.888 91.0151 280.888 M91.0151 277.184 Q96.8252 277.184 99.8808 281.791 Q102.959 286.374 102.959 295.124 Q102.959 303.851 99.8808 308.457 Q96.8252 313.04 91.0151 313.04 Q85.2049 313.04 82.1262 308.457 Q79.0707 303.851 79.0707 295.124 Q79.0707 286.374 82.1262 281.791 Q85.2049 277.184 91.0151 277.184 Z\" fill=\"#000000\" fill-rule=\"evenodd\" fill-opacity=\"1\" /><path clip-path=\"url(#clip620)\" d=\"M121.177 280.888 Q117.566 280.888 115.737 284.453 Q113.932 287.994 113.932 295.124 Q113.932 302.23 115.737 305.795 Q117.566 309.337 121.177 309.337 Q124.811 309.337 126.617 305.795 Q128.445 302.23 128.445 295.124 Q128.445 287.994 126.617 284.453 Q124.811 280.888 121.177 280.888 M121.177 277.184 Q126.987 277.184 130.043 281.791 Q133.121 286.374 133.121 295.124 Q133.121 303.851 130.043 308.457 Q126.987 313.04 121.177 313.04 Q115.367 313.04 112.288 308.457 Q109.233 303.851 109.233 295.124 Q109.233 286.374 112.288 281.791 Q115.367 277.184 121.177 277.184 Z\" fill=\"#000000\" fill-rule=\"evenodd\" fill-opacity=\"1\" /><path clip-path=\"url(#clip622)\" d=\"\n",
       "M289.225 87.9763 L289.225 1445.72 L1152.97 1445.72 L1152.97 87.9763 L289.225 87.9763 L289.225 87.9763  Z\n",
       "  \" fill=\"#009af9\" fill-rule=\"evenodd\" fill-opacity=\"1\"/>\n",
       "<polyline clip-path=\"url(#clip622)\" style=\"stroke:#000000; stroke-linecap:butt; stroke-linejoin:round; stroke-width:4; stroke-opacity:1; fill:none\" points=\"\n",
       "  289.225,87.9763 289.225,1445.72 1152.97,1445.72 1152.97,87.9763 289.225,87.9763 \n",
       "  \"/>\n",
       "<path clip-path=\"url(#clip622)\" d=\"\n",
       "M1368.91 134.001 L1368.91 1445.72 L2232.65 1445.72 L2232.65 134.001 L1368.91 134.001 L1368.91 134.001  Z\n",
       "  \" fill=\"#009af9\" fill-rule=\"evenodd\" fill-opacity=\"1\"/>\n",
       "<polyline clip-path=\"url(#clip622)\" style=\"stroke:#000000; stroke-linecap:butt; stroke-linejoin:round; stroke-width:4; stroke-opacity:1; fill:none\" points=\"\n",
       "  1368.91,134.001 1368.91,1445.72 2232.65,1445.72 2232.65,134.001 1368.91,134.001 \n",
       "  \"/>\n",
       "<circle clip-path=\"url(#clip622)\" style=\"fill:#009af9; stroke:none; fill-opacity:0\" cx=\"721.098\" cy=\"87.9763\" r=\"2\"/>\n",
       "<circle clip-path=\"url(#clip622)\" style=\"fill:#009af9; stroke:none; fill-opacity:0\" cx=\"1800.78\" cy=\"134.001\" r=\"2\"/>\n",
       "</svg>\n"
      ]
     },
     "execution_count": 71,
     "metadata": {},
     "output_type": "execute_result"
    }
   ],
   "source": [
    "plot(countmap(c_genus.disease), seriestype=:bar, label = false)"
   ]
  },
  {
   "cell_type": "markdown",
   "id": "d244c52b-aa6b-48e1-9a7d-f2a4ac64bb74",
   "metadata": {},
   "source": [
    "## Separating Metadata and Species Abundance"
   ]
  },
  {
   "cell_type": "code",
   "execution_count": 21,
   "id": "801486f0",
   "metadata": {},
   "outputs": [],
   "source": [
    "c_meta = cirrhosis[:, Between(begin, \"group\")]\n",
    "c_species = cirrhosis[:, Between(\"k__Archaea\", end)];"
   ]
  },
  {
   "cell_type": "code",
   "execution_count": 22,
   "id": "487797f8",
   "metadata": {},
   "outputs": [
    {
     "data": {
      "text/html": [
       "<div class=\"data-frame\"><p>3 rows × 3,302 columns (omitted printing of 3299 columns)</p><table class=\"data-frame\"><thead><tr><th></th><th>k__Archaea</th><th>k__Archaea|p__Euryarchaeota</th><th>k__Archaea|p__Euryarchaeota|c__Methanobacteria</th></tr><tr><th></th><th title=\"Float64\">Float64</th><th title=\"Float64\">Float64</th><th title=\"Float64\">Float64</th></tr></thead><tbody><tr><th>1</th><td>0.0</td><td>0.0</td><td>0.0</td></tr><tr><th>2</th><td>0.0</td><td>0.0</td><td>0.0</td></tr><tr><th>3</th><td>0.0</td><td>0.0</td><td>0.0</td></tr></tbody></table></div>"
      ],
      "text/latex": [
       "\\begin{tabular}{r|cccc}\n",
       "\t& k\\_\\_Archaea & k\\_\\_Archaea|p\\_\\_Euryarchaeota & k\\_\\_Archaea|p\\_\\_Euryarchaeota|c\\_\\_Methanobacteria & \\\\\n",
       "\t\\hline\n",
       "\t& Float64 & Float64 & Float64 & \\\\\n",
       "\t\\hline\n",
       "\t1 & 0.0 & 0.0 & 0.0 & $\\dots$ \\\\\n",
       "\t2 & 0.0 & 0.0 & 0.0 & $\\dots$ \\\\\n",
       "\t3 & 0.0 & 0.0 & 0.0 & $\\dots$ \\\\\n",
       "\\end{tabular}\n"
      ],
      "text/plain": [
       "\u001b[1m3×3302 DataFrame\u001b[0m\n",
       "\u001b[1m Row \u001b[0m│\u001b[1m k__Archaea \u001b[0m\u001b[1m k__Archaea|p__Euryarchaeota \u001b[0m\u001b[1m k__Archaea|p__Euryarchaeota|c_\u001b[0m ⋯\n",
       "\u001b[1m     \u001b[0m│\u001b[90m Float64    \u001b[0m\u001b[90m Float64                     \u001b[0m\u001b[90m Float64                       \u001b[0m ⋯\n",
       "─────┼──────────────────────────────────────────────────────────────────────────\n",
       "   1 │        0.0                          0.0                                 ⋯\n",
       "   2 │        0.0                          0.0\n",
       "   3 │        0.0                          0.0\n",
       "\u001b[36m                                                            3300 columns omitted\u001b[0m"
      ]
     },
     "execution_count": 22,
     "metadata": {},
     "output_type": "execute_result"
    }
   ],
   "source": [
    "first(c_species, 3)"
   ]
  },
  {
   "cell_type": "code",
   "execution_count": 23,
   "id": "e8a71c26",
   "metadata": {},
   "outputs": [
    {
     "data": {
      "text/html": [
       "<div class=\"data-frame\"><p>10 rows × 211 columns (omitted printing of 204 columns)</p><table class=\"data-frame\"><thead><tr><th></th><th>dataset_name</th><th>sampleID</th><th>subjectID</th><th>bodysite</th><th>disease</th><th>age</th><th>gender</th></tr><tr><th></th><th title=\"String\">String</th><th title=\"String31\">String31</th><th title=\"String31\">String31</th><th title=\"String31\">String31</th><th title=\"String31\">String31</th><th title=\"String7\">String7</th><th title=\"String7\">String7</th></tr></thead><tbody><tr><th>1</th><td>Quin_gut_liver_cirrhosis</td><td>HD-10</td><td>hd-10</td><td>stool</td><td>n</td><td>40</td><td>female</td></tr><tr><th>2</th><td>Quin_gut_liver_cirrhosis</td><td>HD-11</td><td>hd-11</td><td>stool</td><td>n</td><td>38</td><td>female</td></tr><tr><th>3</th><td>Quin_gut_liver_cirrhosis</td><td>HD-12</td><td>hd-12</td><td>stool</td><td>n</td><td>40</td><td>male</td></tr><tr><th>4</th><td>Quin_gut_liver_cirrhosis</td><td>HD-13</td><td>hd-13</td><td>stool</td><td>n</td><td>56</td><td>female</td></tr><tr><th>5</th><td>Quin_gut_liver_cirrhosis</td><td>HD-14</td><td>hd-14</td><td>stool</td><td>n</td><td>51</td><td>male</td></tr><tr><th>6</th><td>Quin_gut_liver_cirrhosis</td><td>HD-15</td><td>hd-15</td><td>stool</td><td>n</td><td>56</td><td>male</td></tr><tr><th>7</th><td>Quin_gut_liver_cirrhosis</td><td>HD-16</td><td>hd-16</td><td>stool</td><td>n</td><td>41</td><td>female</td></tr><tr><th>8</th><td>Quin_gut_liver_cirrhosis</td><td>HD-17</td><td>hd-17</td><td>stool</td><td>n</td><td>46</td><td>male</td></tr><tr><th>9</th><td>Quin_gut_liver_cirrhosis</td><td>HD-18</td><td>hd-18</td><td>stool</td><td>n</td><td>43</td><td>male</td></tr><tr><th>10</th><td>Quin_gut_liver_cirrhosis</td><td>HD-19</td><td>hd-19</td><td>stool</td><td>n</td><td>57</td><td>male</td></tr></tbody></table></div>"
      ],
      "text/latex": [
       "\\begin{tabular}{r|cccccccc}\n",
       "\t& dataset\\_name & sampleID & subjectID & bodysite & disease & age & gender & \\\\\n",
       "\t\\hline\n",
       "\t& String & String31 & String31 & String31 & String31 & String7 & String7 & \\\\\n",
       "\t\\hline\n",
       "\t1 & Quin\\_gut\\_liver\\_cirrhosis & HD-10 & hd-10 & stool & n & 40 & female & $\\dots$ \\\\\n",
       "\t2 & Quin\\_gut\\_liver\\_cirrhosis & HD-11 & hd-11 & stool & n & 38 & female & $\\dots$ \\\\\n",
       "\t3 & Quin\\_gut\\_liver\\_cirrhosis & HD-12 & hd-12 & stool & n & 40 & male & $\\dots$ \\\\\n",
       "\t4 & Quin\\_gut\\_liver\\_cirrhosis & HD-13 & hd-13 & stool & n & 56 & female & $\\dots$ \\\\\n",
       "\t5 & Quin\\_gut\\_liver\\_cirrhosis & HD-14 & hd-14 & stool & n & 51 & male & $\\dots$ \\\\\n",
       "\t6 & Quin\\_gut\\_liver\\_cirrhosis & HD-15 & hd-15 & stool & n & 56 & male & $\\dots$ \\\\\n",
       "\t7 & Quin\\_gut\\_liver\\_cirrhosis & HD-16 & hd-16 & stool & n & 41 & female & $\\dots$ \\\\\n",
       "\t8 & Quin\\_gut\\_liver\\_cirrhosis & HD-17 & hd-17 & stool & n & 46 & male & $\\dots$ \\\\\n",
       "\t9 & Quin\\_gut\\_liver\\_cirrhosis & HD-18 & hd-18 & stool & n & 43 & male & $\\dots$ \\\\\n",
       "\t10 & Quin\\_gut\\_liver\\_cirrhosis & HD-19 & hd-19 & stool & n & 57 & male & $\\dots$ \\\\\n",
       "\\end{tabular}\n"
      ],
      "text/plain": [
       "\u001b[1m10×211 DataFrame\u001b[0m\n",
       "\u001b[1m Row \u001b[0m│\u001b[1m dataset_name             \u001b[0m\u001b[1m sampleID \u001b[0m\u001b[1m subjectID \u001b[0m\u001b[1m bodysite \u001b[0m\u001b[1m disease  \u001b[0m\u001b[1m age \u001b[0m ⋯\n",
       "\u001b[1m     \u001b[0m│\u001b[90m String                   \u001b[0m\u001b[90m String31 \u001b[0m\u001b[90m String31  \u001b[0m\u001b[90m String31 \u001b[0m\u001b[90m String31 \u001b[0m\u001b[90m Stri\u001b[0m ⋯\n",
       "─────┼──────────────────────────────────────────────────────────────────────────\n",
       "   1 │ Quin_gut_liver_cirrhosis  HD-10     hd-10      stool     n         40   ⋯\n",
       "   2 │ Quin_gut_liver_cirrhosis  HD-11     hd-11      stool     n         38\n",
       "   3 │ Quin_gut_liver_cirrhosis  HD-12     hd-12      stool     n         40\n",
       "   4 │ Quin_gut_liver_cirrhosis  HD-13     hd-13      stool     n         56\n",
       "   5 │ Quin_gut_liver_cirrhosis  HD-14     hd-14      stool     n         51   ⋯\n",
       "   6 │ Quin_gut_liver_cirrhosis  HD-15     hd-15      stool     n         56\n",
       "   7 │ Quin_gut_liver_cirrhosis  HD-16     hd-16      stool     n         41\n",
       "   8 │ Quin_gut_liver_cirrhosis  HD-17     hd-17      stool     n         46\n",
       "   9 │ Quin_gut_liver_cirrhosis  HD-18     hd-18      stool     n         43   ⋯\n",
       "  10 │ Quin_gut_liver_cirrhosis  HD-19     hd-19      stool     n         57\n",
       "\u001b[36m                                                             206 columns omitted\u001b[0m"
      ]
     },
     "execution_count": 23,
     "metadata": {},
     "output_type": "execute_result"
    }
   ],
   "source": [
    "first(c_meta, 10)"
   ]
  },
  {
   "cell_type": "markdown",
   "id": "6b01c25c-1ece-4750-8ec2-8a7dd6413afc",
   "metadata": {},
   "source": [
    "## Removing missing data"
   ]
  },
  {
   "cell_type": "code",
   "execution_count": 24,
   "id": "f9d5797b",
   "metadata": {},
   "outputs": [
    {
     "data": {
      "text/html": [
       "<div class=\"data-frame\"><p>3 rows × 28 columns (omitted printing of 21 columns)</p><table class=\"data-frame\"><thead><tr><th></th><th>dataset_name</th><th>sampleID</th><th>subjectID</th><th>bodysite</th><th>disease</th><th>age</th><th>gender</th></tr><tr><th></th><th title=\"String\">String</th><th title=\"String31\">String31</th><th title=\"String31\">String31</th><th title=\"String31\">String31</th><th title=\"String31\">String31</th><th title=\"String7\">String7</th><th title=\"String7\">String7</th></tr></thead><tbody><tr><th>1</th><td>Quin_gut_liver_cirrhosis</td><td>HD-10</td><td>hd-10</td><td>stool</td><td>n</td><td>40</td><td>female</td></tr><tr><th>2</th><td>Quin_gut_liver_cirrhosis</td><td>HD-11</td><td>hd-11</td><td>stool</td><td>n</td><td>38</td><td>female</td></tr><tr><th>3</th><td>Quin_gut_liver_cirrhosis</td><td>HD-12</td><td>hd-12</td><td>stool</td><td>n</td><td>40</td><td>male</td></tr></tbody></table></div>"
      ],
      "text/latex": [
       "\\begin{tabular}{r|cccccccc}\n",
       "\t& dataset\\_name & sampleID & subjectID & bodysite & disease & age & gender & \\\\\n",
       "\t\\hline\n",
       "\t& String & String31 & String31 & String31 & String31 & String7 & String7 & \\\\\n",
       "\t\\hline\n",
       "\t1 & Quin\\_gut\\_liver\\_cirrhosis & HD-10 & hd-10 & stool & n & 40 & female & $\\dots$ \\\\\n",
       "\t2 & Quin\\_gut\\_liver\\_cirrhosis & HD-11 & hd-11 & stool & n & 38 & female & $\\dots$ \\\\\n",
       "\t3 & Quin\\_gut\\_liver\\_cirrhosis & HD-12 & hd-12 & stool & n & 40 & male & $\\dots$ \\\\\n",
       "\\end{tabular}\n"
      ],
      "text/plain": [
       "\u001b[1m3×28 DataFrame\u001b[0m\n",
       "\u001b[1m Row \u001b[0m│\u001b[1m dataset_name             \u001b[0m\u001b[1m sampleID \u001b[0m\u001b[1m subjectID \u001b[0m\u001b[1m bodysite \u001b[0m\u001b[1m disease  \u001b[0m\u001b[1m age \u001b[0m ⋯\n",
       "\u001b[1m     \u001b[0m│\u001b[90m String                   \u001b[0m\u001b[90m String31 \u001b[0m\u001b[90m String31  \u001b[0m\u001b[90m String31 \u001b[0m\u001b[90m String31 \u001b[0m\u001b[90m Stri\u001b[0m ⋯\n",
       "─────┼──────────────────────────────────────────────────────────────────────────\n",
       "   1 │ Quin_gut_liver_cirrhosis  HD-10     hd-10      stool     n         40   ⋯\n",
       "   2 │ Quin_gut_liver_cirrhosis  HD-11     hd-11      stool     n         38\n",
       "   3 │ Quin_gut_liver_cirrhosis  HD-12     hd-12      stool     n         40\n",
       "\u001b[36m                                                              23 columns omitted\u001b[0m"
      ]
     },
     "execution_count": 24,
     "metadata": {},
     "output_type": "execute_result"
    }
   ],
   "source": [
    "c_metaShort = c_meta[:, any.(i -> (i!=(\"nd\") && i!=(\"-\")), eachcol(c_meta))]\n",
    "first(c_metaShort, 3)"
   ]
  },
  {
   "cell_type": "code",
   "execution_count": 25,
   "id": "4b591d39",
   "metadata": {},
   "outputs": [
    {
     "data": {
      "text/html": [
       "<div class=\"data-frame\"><p>3 rows × 1,362 columns (omitted printing of 1359 columns)</p><table class=\"data-frame\"><thead><tr><th></th><th>k__Archaea</th><th>k__Archaea|p__Euryarchaeota</th><th>k__Archaea|p__Euryarchaeota|c__Methanobacteria</th></tr><tr><th></th><th title=\"Float64\">Float64</th><th title=\"Float64\">Float64</th><th title=\"Float64\">Float64</th></tr></thead><tbody><tr><th>1</th><td>0.0</td><td>0.0</td><td>0.0</td></tr><tr><th>2</th><td>0.0</td><td>0.0</td><td>0.0</td></tr><tr><th>3</th><td>0.0</td><td>0.0</td><td>0.0</td></tr></tbody></table></div>"
      ],
      "text/latex": [
       "\\begin{tabular}{r|cccc}\n",
       "\t& k\\_\\_Archaea & k\\_\\_Archaea|p\\_\\_Euryarchaeota & k\\_\\_Archaea|p\\_\\_Euryarchaeota|c\\_\\_Methanobacteria & \\\\\n",
       "\t\\hline\n",
       "\t& Float64 & Float64 & Float64 & \\\\\n",
       "\t\\hline\n",
       "\t1 & 0.0 & 0.0 & 0.0 & $\\dots$ \\\\\n",
       "\t2 & 0.0 & 0.0 & 0.0 & $\\dots$ \\\\\n",
       "\t3 & 0.0 & 0.0 & 0.0 & $\\dots$ \\\\\n",
       "\\end{tabular}\n"
      ],
      "text/plain": [
       "\u001b[1m3×1362 DataFrame\u001b[0m\n",
       "\u001b[1m Row \u001b[0m│\u001b[1m k__Archaea \u001b[0m\u001b[1m k__Archaea|p__Euryarchaeota \u001b[0m\u001b[1m k__Archaea|p__Euryarchaeota|c_\u001b[0m ⋯\n",
       "\u001b[1m     \u001b[0m│\u001b[90m Float64    \u001b[0m\u001b[90m Float64                     \u001b[0m\u001b[90m Float64                       \u001b[0m ⋯\n",
       "─────┼──────────────────────────────────────────────────────────────────────────\n",
       "   1 │        0.0                          0.0                                 ⋯\n",
       "   2 │        0.0                          0.0\n",
       "   3 │        0.0                          0.0\n",
       "\u001b[36m                                                            1360 columns omitted\u001b[0m"
      ]
     },
     "execution_count": 25,
     "metadata": {},
     "output_type": "execute_result"
    }
   ],
   "source": [
    "zero_col = removeByMax(c_species, 0)\n",
    "c_speciesFull = copy(c_species[:,Not(zero_col)])\n",
    "first(c_speciesFull,3)"
   ]
  },
  {
   "cell_type": "markdown",
   "id": "4a389a0a-3b92-4f73-ac31-abc46669676a",
   "metadata": {},
   "source": [
    "## Keeping only the genus"
   ]
  },
  {
   "cell_type": "code",
   "execution_count": 26,
   "id": "ec9bff00-cd00-42d1-a1ff-aa1272b4c2ad",
   "metadata": {},
   "outputs": [
    {
     "data": {
      "text/html": [
       "<div class=\"data-frame\"><p>3 rows × 186 columns (omitted printing of 180 columns)</p><table class=\"data-frame\"><thead><tr><th></th><th>Methanobrevibacter</th><th>Methanosphaera</th><th>Actinomyces</th><th>Rothia</th><th>Bifidobacterium</th><th>Gardnerella</th></tr><tr><th></th><th title=\"Float64\">Float64</th><th title=\"Float64\">Float64</th><th title=\"Float64\">Float64</th><th title=\"Float64\">Float64</th><th title=\"Float64\">Float64</th><th title=\"Float64\">Float64</th></tr></thead><tbody><tr><th>1</th><td>0.0</td><td>0.0</td><td>0.0</td><td>0.0</td><td>0.0</td><td>0.0</td></tr><tr><th>2</th><td>0.0</td><td>0.0</td><td>0.0</td><td>0.0</td><td>0.11273</td><td>0.0</td></tr><tr><th>3</th><td>0.0</td><td>0.0</td><td>0.0</td><td>0.0</td><td>0.05692</td><td>0.0</td></tr></tbody></table></div>"
      ],
      "text/latex": [
       "\\begin{tabular}{r|ccccccc}\n",
       "\t& Methanobrevibacter & Methanosphaera & Actinomyces & Rothia & Bifidobacterium & Gardnerella & \\\\\n",
       "\t\\hline\n",
       "\t& Float64 & Float64 & Float64 & Float64 & Float64 & Float64 & \\\\\n",
       "\t\\hline\n",
       "\t1 & 0.0 & 0.0 & 0.0 & 0.0 & 0.0 & 0.0 & $\\dots$ \\\\\n",
       "\t2 & 0.0 & 0.0 & 0.0 & 0.0 & 0.11273 & 0.0 & $\\dots$ \\\\\n",
       "\t3 & 0.0 & 0.0 & 0.0 & 0.0 & 0.05692 & 0.0 & $\\dots$ \\\\\n",
       "\\end{tabular}\n"
      ],
      "text/plain": [
       "\u001b[1m3×186 DataFrame\u001b[0m\n",
       "\u001b[1m Row \u001b[0m│\u001b[1m Methanobrevibacter \u001b[0m\u001b[1m Methanosphaera \u001b[0m\u001b[1m Actinomyces \u001b[0m\u001b[1m Rothia  \u001b[0m\u001b[1m Bifidobacteri\u001b[0m ⋯\n",
       "\u001b[1m     \u001b[0m│\u001b[90m Float64            \u001b[0m\u001b[90m Float64        \u001b[0m\u001b[90m Float64     \u001b[0m\u001b[90m Float64 \u001b[0m\u001b[90m Float64      \u001b[0m ⋯\n",
       "─────┼──────────────────────────────────────────────────────────────────────────\n",
       "   1 │                0.0             0.0          0.0      0.0          0.0   ⋯\n",
       "   2 │                0.0             0.0          0.0      0.0          0.112\n",
       "   3 │                0.0             0.0          0.0      0.0          0.056\n",
       "\u001b[36m                                                             182 columns omitted\u001b[0m"
      ]
     },
     "execution_count": 26,
     "metadata": {},
     "output_type": "execute_result"
    }
   ],
   "source": [
    "c_genus = getGenus(c_speciesFull)\n",
    "first(c_genus,3)"
   ]
  },
  {
   "cell_type": "code",
   "execution_count": 27,
   "id": "279e9ce7",
   "metadata": {},
   "outputs": [
    {
     "data": {
      "text/plain": [
       "(232, 186)"
      ]
     },
     "execution_count": 27,
     "metadata": {},
     "output_type": "execute_result"
    }
   ],
   "source": [
    "size(c_genus)"
   ]
  },
  {
   "cell_type": "code",
   "execution_count": 28,
   "id": "abb2859a",
   "metadata": {},
   "outputs": [
    {
     "data": {
      "text/plain": [
       "(232, 187)"
      ]
     },
     "execution_count": 28,
     "metadata": {},
     "output_type": "execute_result"
    }
   ],
   "source": [
    "c_genus.disease = cirrhosis.disease;\n",
    "size(c_genus)"
   ]
  },
  {
   "cell_type": "markdown",
   "id": "95f91ed7-ab04-4003-82c9-77bab676cdd2",
   "metadata": {},
   "source": [
    "## Calculating Shannon Index Alpha Diversity"
   ]
  },
  {
   "cell_type": "code",
   "execution_count": 79,
   "id": "1237b6d9-3bf0-4c0e-ae91-5bfeaad27e03",
   "metadata": {},
   "outputs": [],
   "source": [
    "case = subset(c_genus, :disease => ByRow(==(\"cirrhosis\")))\n",
    "control = subset(c_genus, :disease => ByRow(==(\"n\")));"
   ]
  },
  {
   "cell_type": "code",
   "execution_count": 74,
   "id": "d63e8008-25dd-4e38-84d9-81423e2a5ba4",
   "metadata": {},
   "outputs": [],
   "source": [
    "fullCase = subset(c_genus,:disease => ByRow(==(\"cirrhosis\")))\n",
    "fullControl = subset(c_genus,:disease => ByRow(==(\"n\")));\n",
    "\n",
    "fullCaseM = Matrix(fullCase[:,Not(:disease)])\n",
    "fullControlM = Matrix(fullControl[:,Not(:disease)]);"
   ]
  },
  {
   "cell_type": "code",
   "execution_count": 77,
   "id": "c22c8739-8548-4918-89a8-a316b4eb96cf",
   "metadata": {},
   "outputs": [
    {
     "name": "stderr",
     "output_type": "stream",
     "text": [
      "┌ Warning: Abundances not normalised to 1, correcting...\n",
      "└ @ Diversity /home/lucas/.julia/packages/Diversity/JTLSo/src/Metacommunity.jl:115\n",
      "┌ Warning: Abundances not normalised to 1, correcting...\n",
      "└ @ Diversity /home/lucas/.julia/packages/Diversity/JTLSo/src/Metacommunity.jl:115\n"
     ]
    }
   ],
   "source": [
    "using Diversity.Ecology\n",
    "\n",
    "caseDiversity = shannon(fullCaseM').diversity\n",
    "controlDiversity = shannon(fullControlM').diversity;"
   ]
  },
  {
   "cell_type": "code",
   "execution_count": 80,
   "id": "9d6f0a63-f10f-4714-bcca-15eacaccc59c",
   "metadata": {},
   "outputs": [],
   "source": [
    "B = DataFrame(diversity = vcat(caseDiversity,controlDiversity),tipo = vcat(case.disease,control.disease));"
   ]
  },
  {
   "cell_type": "markdown",
   "id": "d919948e-a0d3-4db0-b551-ec621cbe3e34",
   "metadata": {},
   "source": [
    "## Diversity boxplot of the labels"
   ]
  },
  {
   "cell_type": "code",
   "execution_count": 83,
   "id": "6cd371f0-dcd6-4efd-a326-ea96d712234c",
   "metadata": {},
   "outputs": [
    {
     "data": {
      "image/svg+xml": [
       "<?xml version=\"1.0\" encoding=\"utf-8\"?>\n",
       "<svg xmlns=\"http://www.w3.org/2000/svg\" xmlns:xlink=\"http://www.w3.org/1999/xlink\" width=\"600\" height=\"400\" viewBox=\"0 0 2400 1600\">\n",
       "<defs>\n",
       "  <clipPath id=\"clip660\">\n",
       "    <rect x=\"0\" y=\"0\" width=\"2400\" height=\"1600\"/>\n",
       "  </clipPath>\n",
       "</defs>\n",
       "<path clip-path=\"url(#clip660)\" d=\"\n",
       "M0 1600 L2400 1600 L2400 0 L0 0  Z\n",
       "  \" fill=\"#ffffff\" fill-rule=\"evenodd\" fill-opacity=\"1\"/>\n",
       "<defs>\n",
       "  <clipPath id=\"clip661\">\n",
       "    <rect x=\"480\" y=\"0\" width=\"1681\" height=\"1600\"/>\n",
       "  </clipPath>\n",
       "</defs>\n",
       "<path clip-path=\"url(#clip660)\" d=\"\n",
       "M219.033 1486.45 L1851.31 1486.45 L1851.31 47.2441 L219.033 47.2441  Z\n",
       "  \" fill=\"#ffffff\" fill-rule=\"evenodd\" fill-opacity=\"1\"/>\n",
       "<defs>\n",
       "  <clipPath id=\"clip662\">\n",
       "    <rect x=\"219\" y=\"47\" width=\"1633\" height=\"1440\"/>\n",
       "  </clipPath>\n",
       "</defs>\n",
       "<polyline clip-path=\"url(#clip662)\" style=\"stroke:#000000; stroke-linecap:butt; stroke-linejoin:round; stroke-width:2; stroke-opacity:0.1; fill:none\" points=\"\n",
       "  545.209,1486.45 545.209,47.2441 \n",
       "  \"/>\n",
       "<polyline clip-path=\"url(#clip662)\" style=\"stroke:#000000; stroke-linecap:butt; stroke-linejoin:round; stroke-width:2; stroke-opacity:0.1; fill:none\" points=\"\n",
       "  1525.14,1486.45 1525.14,47.2441 \n",
       "  \"/>\n",
       "<polyline clip-path=\"url(#clip660)\" style=\"stroke:#000000; stroke-linecap:butt; stroke-linejoin:round; stroke-width:4; stroke-opacity:1; fill:none\" points=\"\n",
       "  219.033,1486.45 1851.31,1486.45 \n",
       "  \"/>\n",
       "<polyline clip-path=\"url(#clip660)\" style=\"stroke:#000000; stroke-linecap:butt; stroke-linejoin:round; stroke-width:4; stroke-opacity:1; fill:none\" points=\"\n",
       "  545.209,1486.45 545.209,1467.55 \n",
       "  \"/>\n",
       "<polyline clip-path=\"url(#clip660)\" style=\"stroke:#000000; stroke-linecap:butt; stroke-linejoin:round; stroke-width:4; stroke-opacity:1; fill:none\" points=\"\n",
       "  1525.14,1486.45 1525.14,1467.55 \n",
       "  \"/>\n",
       "<path clip-path=\"url(#clip660)\" d=\"M469.098 1523.92 L469.098 1527.9 Q467.292 1526.9 465.464 1526.42 Q463.658 1525.91 461.806 1525.91 Q457.663 1525.91 455.371 1528.55 Q453.08 1531.16 453.08 1535.91 Q453.08 1540.65 455.371 1543.29 Q457.663 1545.91 461.806 1545.91 Q463.658 1545.91 465.464 1545.42 Q467.292 1544.91 469.098 1543.92 L469.098 1547.85 Q467.316 1548.69 465.394 1549.1 Q463.496 1549.52 461.343 1549.52 Q455.487 1549.52 452.038 1545.84 Q448.589 1542.16 448.589 1535.91 Q448.589 1529.57 452.061 1525.93 Q455.556 1522.3 461.621 1522.3 Q463.589 1522.3 465.464 1522.71 Q467.339 1523.11 469.098 1523.92 Z\" fill=\"#000000\" fill-rule=\"evenodd\" fill-opacity=\"1\" /><path clip-path=\"url(#clip660)\" d=\"M476.505 1522.92 L480.765 1522.92 L480.765 1548.85 L476.505 1548.85 L476.505 1522.92 M476.505 1512.83 L480.765 1512.83 L480.765 1518.22 L476.505 1518.22 L476.505 1512.83 Z\" fill=\"#000000\" fill-rule=\"evenodd\" fill-opacity=\"1\" /><path clip-path=\"url(#clip660)\" d=\"M504.7 1526.9 Q503.982 1526.49 503.126 1526.3 Q502.292 1526.09 501.274 1526.09 Q497.663 1526.09 495.718 1528.45 Q493.797 1530.79 493.797 1535.19 L493.797 1548.85 L489.515 1548.85 L489.515 1522.92 L493.797 1522.92 L493.797 1526.95 Q495.14 1524.59 497.292 1523.45 Q499.445 1522.3 502.524 1522.3 Q502.964 1522.3 503.496 1522.37 Q504.028 1522.41 504.677 1522.53 L504.7 1526.9 Z\" fill=\"#000000\" fill-rule=\"evenodd\" fill-opacity=\"1\" /><path clip-path=\"url(#clip660)\" d=\"M523.357 1526.9 Q522.639 1526.49 521.783 1526.3 Q520.95 1526.09 519.931 1526.09 Q516.32 1526.09 514.376 1528.45 Q512.454 1530.79 512.454 1535.19 L512.454 1548.85 L508.172 1548.85 L508.172 1522.92 L512.454 1522.92 L512.454 1526.95 Q513.797 1524.59 515.95 1523.45 Q518.102 1522.3 521.181 1522.3 Q521.621 1522.3 522.153 1522.37 Q522.686 1522.41 523.334 1522.53 L523.357 1526.9 Z\" fill=\"#000000\" fill-rule=\"evenodd\" fill-opacity=\"1\" /><path clip-path=\"url(#clip660)\" d=\"M548.542 1533.2 L548.542 1548.85 L544.283 1548.85 L544.283 1533.34 Q544.283 1529.66 542.848 1527.83 Q541.412 1526 538.542 1526 Q535.093 1526 533.102 1528.2 Q531.112 1530.4 531.112 1534.2 L531.112 1548.85 L526.829 1548.85 L526.829 1512.83 L531.112 1512.83 L531.112 1526.95 Q532.639 1524.61 534.7 1523.45 Q536.783 1522.3 539.491 1522.3 Q543.959 1522.3 546.25 1525.07 Q548.542 1527.83 548.542 1533.2 Z\" fill=\"#000000\" fill-rule=\"evenodd\" fill-opacity=\"1\" /><path clip-path=\"url(#clip660)\" d=\"M567.084 1525.91 Q563.658 1525.91 561.667 1528.59 Q559.676 1531.26 559.676 1535.91 Q559.676 1540.56 561.644 1543.25 Q563.635 1545.91 567.084 1545.91 Q570.486 1545.91 572.477 1543.22 Q574.468 1540.54 574.468 1535.91 Q574.468 1531.3 572.477 1528.62 Q570.486 1525.91 567.084 1525.91 M567.084 1522.3 Q572.639 1522.3 575.81 1525.91 Q578.982 1529.52 578.982 1535.91 Q578.982 1542.27 575.81 1545.91 Q572.639 1549.52 567.084 1549.52 Q561.505 1549.52 558.334 1545.91 Q555.186 1542.27 555.186 1535.91 Q555.186 1529.52 558.334 1525.91 Q561.505 1522.3 567.084 1522.3 Z\" fill=\"#000000\" fill-rule=\"evenodd\" fill-opacity=\"1\" /><path clip-path=\"url(#clip660)\" d=\"M602.57 1523.69 L602.57 1527.71 Q600.764 1526.79 598.82 1526.32 Q596.875 1525.86 594.792 1525.86 Q591.621 1525.86 590.023 1526.83 Q588.449 1527.81 588.449 1529.75 Q588.449 1531.23 589.583 1532.09 Q590.718 1532.92 594.144 1533.69 L595.602 1534.01 Q600.139 1534.98 602.037 1536.76 Q603.958 1538.52 603.958 1541.7 Q603.958 1545.31 601.088 1547.41 Q598.241 1549.52 593.241 1549.52 Q591.158 1549.52 588.889 1549.1 Q586.644 1548.71 584.144 1547.9 L584.144 1543.5 Q586.505 1544.73 588.796 1545.35 Q591.088 1545.95 593.333 1545.95 Q596.343 1545.95 597.963 1544.94 Q599.583 1543.89 599.583 1542.02 Q599.583 1540.28 598.403 1539.36 Q597.245 1538.43 593.287 1537.57 L591.806 1537.23 Q587.847 1536.39 586.088 1534.68 Q584.329 1532.95 584.329 1529.94 Q584.329 1526.28 586.921 1524.29 Q589.514 1522.3 594.283 1522.3 Q596.644 1522.3 598.727 1522.64 Q600.81 1522.99 602.57 1523.69 Z\" fill=\"#000000\" fill-rule=\"evenodd\" fill-opacity=\"1\" /><path clip-path=\"url(#clip660)\" d=\"M610.741 1522.92 L615 1522.92 L615 1548.85 L610.741 1548.85 L610.741 1522.92 M610.741 1512.83 L615 1512.83 L615 1518.22 L610.741 1518.22 L610.741 1512.83 Z\" fill=\"#000000\" fill-rule=\"evenodd\" fill-opacity=\"1\" /><path clip-path=\"url(#clip660)\" d=\"M640.44 1523.69 L640.44 1527.71 Q638.634 1526.79 636.69 1526.32 Q634.745 1525.86 632.662 1525.86 Q629.491 1525.86 627.893 1526.83 Q626.319 1527.81 626.319 1529.75 Q626.319 1531.23 627.454 1532.09 Q628.588 1532.92 632.014 1533.69 L633.472 1534.01 Q638.009 1534.98 639.907 1536.76 Q641.829 1538.52 641.829 1541.7 Q641.829 1545.31 638.958 1547.41 Q636.111 1549.52 631.111 1549.52 Q629.028 1549.52 626.759 1549.1 Q624.514 1548.71 622.014 1547.9 L622.014 1543.5 Q624.375 1544.73 626.667 1545.35 Q628.958 1545.95 631.204 1545.95 Q634.213 1545.95 635.833 1544.94 Q637.454 1543.89 637.454 1542.02 Q637.454 1540.28 636.273 1539.36 Q635.116 1538.43 631.157 1537.57 L629.676 1537.23 Q625.718 1536.39 623.958 1534.68 Q622.199 1532.95 622.199 1529.94 Q622.199 1526.28 624.792 1524.29 Q627.384 1522.3 632.153 1522.3 Q634.514 1522.3 636.597 1522.64 Q638.68 1522.99 640.44 1523.69 Z\" fill=\"#000000\" fill-rule=\"evenodd\" fill-opacity=\"1\" /><path clip-path=\"url(#clip660)\" d=\"M1535.99 1533.2 L1535.99 1548.85 L1531.73 1548.85 L1531.73 1533.34 Q1531.73 1529.66 1530.3 1527.83 Q1528.86 1526 1525.99 1526 Q1522.54 1526 1520.55 1528.2 Q1518.56 1530.4 1518.56 1534.2 L1518.56 1548.85 L1514.28 1548.85 L1514.28 1522.92 L1518.56 1522.92 L1518.56 1526.95 Q1520.09 1524.61 1522.15 1523.45 Q1524.23 1522.3 1526.94 1522.3 Q1531.41 1522.3 1533.7 1525.07 Q1535.99 1527.83 1535.99 1533.2 Z\" fill=\"#000000\" fill-rule=\"evenodd\" fill-opacity=\"1\" /><polyline clip-path=\"url(#clip662)\" style=\"stroke:#000000; stroke-linecap:butt; stroke-linejoin:round; stroke-width:2; stroke-opacity:0.1; fill:none\" points=\"\n",
       "  219.033,1237.23 1851.31,1237.23 \n",
       "  \"/>\n",
       "<polyline clip-path=\"url(#clip662)\" style=\"stroke:#000000; stroke-linecap:butt; stroke-linejoin:round; stroke-width:2; stroke-opacity:0.1; fill:none\" points=\"\n",
       "  219.033,923.239 1851.31,923.239 \n",
       "  \"/>\n",
       "<polyline clip-path=\"url(#clip662)\" style=\"stroke:#000000; stroke-linecap:butt; stroke-linejoin:round; stroke-width:2; stroke-opacity:0.1; fill:none\" points=\"\n",
       "  219.033,609.25 1851.31,609.25 \n",
       "  \"/>\n",
       "<polyline clip-path=\"url(#clip662)\" style=\"stroke:#000000; stroke-linecap:butt; stroke-linejoin:round; stroke-width:2; stroke-opacity:0.1; fill:none\" points=\"\n",
       "  219.033,295.261 1851.31,295.261 \n",
       "  \"/>\n",
       "<polyline clip-path=\"url(#clip660)\" style=\"stroke:#000000; stroke-linecap:butt; stroke-linejoin:round; stroke-width:4; stroke-opacity:1; fill:none\" points=\"\n",
       "  219.033,1486.45 219.033,47.2441 \n",
       "  \"/>\n",
       "<polyline clip-path=\"url(#clip660)\" style=\"stroke:#000000; stroke-linecap:butt; stroke-linejoin:round; stroke-width:4; stroke-opacity:1; fill:none\" points=\"\n",
       "  219.033,1237.23 233.489,1237.23 \n",
       "  \"/>\n",
       "<polyline clip-path=\"url(#clip660)\" style=\"stroke:#000000; stroke-linecap:butt; stroke-linejoin:round; stroke-width:4; stroke-opacity:1; fill:none\" points=\"\n",
       "  219.033,923.239 233.489,923.239 \n",
       "  \"/>\n",
       "<polyline clip-path=\"url(#clip660)\" style=\"stroke:#000000; stroke-linecap:butt; stroke-linejoin:round; stroke-width:4; stroke-opacity:1; fill:none\" points=\"\n",
       "  219.033,609.25 233.489,609.25 \n",
       "  \"/>\n",
       "<polyline clip-path=\"url(#clip660)\" style=\"stroke:#000000; stroke-linecap:butt; stroke-linejoin:round; stroke-width:4; stroke-opacity:1; fill:none\" points=\"\n",
       "  219.033,295.261 233.489,295.261 \n",
       "  \"/>\n",
       "<path clip-path=\"url(#clip660)\" d=\"M116.668 1250.57 L124.306 1250.57 L124.306 1224.21 L115.996 1225.87 L115.996 1221.61 L124.26 1219.95 L128.936 1219.95 L128.936 1250.57 L136.575 1250.57 L136.575 1254.51 L116.668 1254.51 L116.668 1250.57 Z\" fill=\"#000000\" fill-rule=\"evenodd\" fill-opacity=\"1\" /><path clip-path=\"url(#clip660)\" d=\"M146.019 1248.63 L150.903 1248.63 L150.903 1254.51 L146.019 1254.51 L146.019 1248.63 Z\" fill=\"#000000\" fill-rule=\"evenodd\" fill-opacity=\"1\" /><path clip-path=\"url(#clip660)\" d=\"M171.089 1223.03 Q167.477 1223.03 165.649 1226.59 Q163.843 1230.13 163.843 1237.26 Q163.843 1244.37 165.649 1247.93 Q167.477 1251.48 171.089 1251.48 Q174.723 1251.48 176.528 1247.93 Q178.357 1244.37 178.357 1237.26 Q178.357 1230.13 176.528 1226.59 Q174.723 1223.03 171.089 1223.03 M171.089 1219.32 Q176.899 1219.32 179.954 1223.93 Q183.033 1228.51 183.033 1237.26 Q183.033 1245.99 179.954 1250.6 Q176.899 1255.18 171.089 1255.18 Q165.278 1255.18 162.2 1250.6 Q159.144 1245.99 159.144 1237.26 Q159.144 1228.51 162.2 1223.93 Q165.278 1219.32 171.089 1219.32 Z\" fill=\"#000000\" fill-rule=\"evenodd\" fill-opacity=\"1\" /><path clip-path=\"url(#clip660)\" d=\"M117.663 936.584 L125.302 936.584 L125.302 910.218 L116.992 911.885 L116.992 907.626 L125.255 905.959 L129.931 905.959 L129.931 936.584 L137.57 936.584 L137.57 940.519 L117.663 940.519 L117.663 936.584 Z\" fill=\"#000000\" fill-rule=\"evenodd\" fill-opacity=\"1\" /><path clip-path=\"url(#clip660)\" d=\"M147.015 934.64 L151.899 934.64 L151.899 940.519 L147.015 940.519 L147.015 934.64 Z\" fill=\"#000000\" fill-rule=\"evenodd\" fill-opacity=\"1\" /><path clip-path=\"url(#clip660)\" d=\"M162.13 905.959 L180.487 905.959 L180.487 909.894 L166.413 909.894 L166.413 918.366 Q167.431 918.019 168.45 917.857 Q169.468 917.672 170.487 917.672 Q176.274 917.672 179.653 920.843 Q183.033 924.015 183.033 929.431 Q183.033 935.01 179.561 938.112 Q176.089 941.19 169.769 941.19 Q167.593 941.19 165.325 940.82 Q163.079 940.45 160.672 939.709 L160.672 935.01 Q162.755 936.144 164.977 936.7 Q167.2 937.255 169.677 937.255 Q173.681 937.255 176.019 935.149 Q178.357 933.042 178.357 929.431 Q178.357 925.82 176.019 923.714 Q173.681 921.607 169.677 921.607 Q167.802 921.607 165.927 922.024 Q164.075 922.441 162.13 923.32 L162.13 905.959 Z\" fill=\"#000000\" fill-rule=\"evenodd\" fill-opacity=\"1\" /><path clip-path=\"url(#clip660)\" d=\"M119.885 622.595 L136.204 622.595 L136.204 626.53 L114.26 626.53 L114.26 622.595 Q116.922 619.84 121.505 615.211 Q126.112 610.558 127.292 609.215 Q129.538 606.692 130.417 604.956 Q131.32 603.197 131.32 601.507 Q131.32 598.752 129.376 597.016 Q127.455 595.28 124.353 595.28 Q122.154 595.28 119.7 596.044 Q117.269 596.808 114.492 598.359 L114.492 593.637 Q117.316 592.502 119.769 591.924 Q122.223 591.345 124.26 591.345 Q129.63 591.345 132.825 594.03 Q136.019 596.715 136.019 601.206 Q136.019 603.336 135.209 605.257 Q134.422 607.155 132.316 609.748 Q131.737 610.419 128.635 613.637 Q125.533 616.831 119.885 622.595 Z\" fill=\"#000000\" fill-rule=\"evenodd\" fill-opacity=\"1\" /><path clip-path=\"url(#clip660)\" d=\"M146.019 620.65 L150.903 620.65 L150.903 626.53 L146.019 626.53 L146.019 620.65 Z\" fill=\"#000000\" fill-rule=\"evenodd\" fill-opacity=\"1\" /><path clip-path=\"url(#clip660)\" d=\"M171.089 595.049 Q167.477 595.049 165.649 598.613 Q163.843 602.155 163.843 609.285 Q163.843 616.391 165.649 619.956 Q167.477 623.498 171.089 623.498 Q174.723 623.498 176.528 619.956 Q178.357 616.391 178.357 609.285 Q178.357 602.155 176.528 598.613 Q174.723 595.049 171.089 595.049 M171.089 591.345 Q176.899 591.345 179.954 595.951 Q183.033 600.535 183.033 609.285 Q183.033 618.012 179.954 622.618 Q176.899 627.201 171.089 627.201 Q165.278 627.201 162.2 622.618 Q159.144 618.012 159.144 609.285 Q159.144 600.535 162.2 595.951 Q165.278 591.345 171.089 591.345 Z\" fill=\"#000000\" fill-rule=\"evenodd\" fill-opacity=\"1\" /><path clip-path=\"url(#clip660)\" d=\"M120.88 308.606 L137.2 308.606 L137.2 312.541 L115.256 312.541 L115.256 308.606 Q117.918 305.851 122.501 301.221 Q127.107 296.569 128.288 295.226 Q130.533 292.703 131.413 290.967 Q132.316 289.208 132.316 287.518 Q132.316 284.763 130.371 283.027 Q128.45 281.291 125.348 281.291 Q123.149 281.291 120.695 282.055 Q118.265 282.819 115.487 284.37 L115.487 279.648 Q118.311 278.513 120.765 277.935 Q123.218 277.356 125.255 277.356 Q130.626 277.356 133.82 280.041 Q137.015 282.726 137.015 287.217 Q137.015 289.347 136.204 291.268 Q135.417 293.166 133.311 295.759 Q132.732 296.43 129.63 299.647 Q126.529 302.842 120.88 308.606 Z\" fill=\"#000000\" fill-rule=\"evenodd\" fill-opacity=\"1\" /><path clip-path=\"url(#clip660)\" d=\"M147.015 306.661 L151.899 306.661 L151.899 312.541 L147.015 312.541 L147.015 306.661 Z\" fill=\"#000000\" fill-rule=\"evenodd\" fill-opacity=\"1\" /><path clip-path=\"url(#clip660)\" d=\"M162.13 277.981 L180.487 277.981 L180.487 281.916 L166.413 281.916 L166.413 290.388 Q167.431 290.041 168.45 289.879 Q169.468 289.694 170.487 289.694 Q176.274 289.694 179.653 292.865 Q183.033 296.036 183.033 301.453 Q183.033 307.032 179.561 310.133 Q176.089 313.212 169.769 313.212 Q167.593 313.212 165.325 312.842 Q163.079 312.471 160.672 311.731 L160.672 307.032 Q162.755 308.166 164.977 308.721 Q167.2 309.277 169.677 309.277 Q173.681 309.277 176.019 307.171 Q178.357 305.064 178.357 301.453 Q178.357 297.842 176.019 295.735 Q173.681 293.629 169.677 293.629 Q167.802 293.629 165.927 294.046 Q164.075 294.462 162.13 295.342 L162.13 277.981 Z\" fill=\"#000000\" fill-rule=\"evenodd\" fill-opacity=\"1\" /><path clip-path=\"url(#clip660)\" d=\"M16.4842 1004.19 L16.4842 997.762 L64.0042 997.762 L64.0042 1004.19 L16.4842 1004.19 Z\" fill=\"#000000\" fill-rule=\"evenodd\" fill-opacity=\"1\" /><path clip-path=\"url(#clip660)\" d=\"M42.4881 955.589 L64.0042 955.589 L64.0042 961.446 L42.679 961.446 Q37.6183 961.446 35.1038 963.419 Q32.5894 965.392 32.5894 969.339 Q32.5894 974.082 35.6131 976.819 Q38.6368 979.556 43.8567 979.556 L64.0042 979.556 L64.0042 985.444 L28.3562 985.444 L28.3562 979.556 L33.8944 979.556 Q30.6797 977.455 29.0883 974.623 Q27.4968 971.758 27.4968 968.034 Q27.4968 961.891 31.3163 958.74 Q35.1038 955.589 42.4881 955.589 Z\" fill=\"#000000\" fill-rule=\"evenodd\" fill-opacity=\"1\" /><path clip-path=\"url(#clip660)\" d=\"M33.7671 920.45 L14.479 920.45 L14.479 914.594 L64.0042 914.594 L64.0042 920.45 L58.657 920.45 Q61.8398 922.297 63.3994 925.129 Q64.9272 927.93 64.9272 931.877 Q64.9272 938.338 59.771 942.412 Q54.6147 946.454 46.212 946.454 Q37.8093 946.454 32.6531 942.412 Q27.4968 938.338 27.4968 931.877 Q27.4968 927.93 29.0564 925.129 Q30.5842 922.297 33.7671 920.45 M46.212 940.407 Q52.6732 940.407 56.3653 937.765 Q60.0256 935.092 60.0256 930.445 Q60.0256 925.798 56.3653 923.124 Q52.6732 920.45 46.212 920.45 Q39.7508 920.45 36.0905 923.124 Q32.3984 925.798 32.3984 930.445 Q32.3984 935.092 36.0905 937.765 Q39.7508 940.407 46.212 940.407 Z\" fill=\"#000000\" fill-rule=\"evenodd\" fill-opacity=\"1\" /><path clip-path=\"url(#clip660)\" d=\"M44.7161 872.039 L47.5806 872.039 L47.5806 898.966 Q53.6281 898.584 56.8109 895.338 Q59.9619 892.059 59.9619 886.235 Q59.9619 882.861 59.1344 879.71 Q58.3069 876.527 56.6518 873.408 L62.1899 873.408 Q63.5267 876.559 64.227 879.869 Q64.9272 883.179 64.9272 886.585 Q64.9272 895.115 59.9619 900.112 Q54.9967 905.077 46.5303 905.077 Q37.7774 905.077 32.6531 900.367 Q27.4968 895.624 27.4968 887.603 Q27.4968 880.41 32.1438 876.241 Q36.7589 872.039 44.7161 872.039 M42.9973 877.896 Q38.1912 877.959 35.3266 880.601 Q32.4621 883.211 32.4621 887.54 Q32.4621 892.441 35.2312 895.401 Q38.0002 898.33 43.0292 898.775 L42.9973 877.896 Z\" fill=\"#000000\" fill-rule=\"evenodd\" fill-opacity=\"1\" /><path clip-path=\"url(#clip660)\" d=\"M28.3562 833.941 L45.7028 846.831 L64.0042 833.272 L64.0042 840.179 L49.9996 850.555 L64.0042 860.931 L64.0042 867.838 L45.3526 853.993 L28.3562 866.66 L28.3562 859.753 L41.0558 850.3 L28.3562 840.847 L28.3562 833.941 Z\" fill=\"#000000\" fill-rule=\"evenodd\" fill-opacity=\"1\" /><path clip-path=\"url(#clip660)\" d=\"M18.0438 775.535 L24.314 775.535 Q22.5634 779.195 21.704 782.442 Q20.8447 785.688 20.8447 788.712 Q20.8447 793.964 22.8817 796.828 Q24.9187 799.661 28.6745 799.661 Q31.8255 799.661 33.4488 797.783 Q35.0402 795.874 36.0269 790.59 L36.8226 786.707 Q38.1912 779.514 41.6605 776.108 Q45.098 772.671 50.8908 772.671 Q57.7976 772.671 61.3624 777.318 Q64.9272 781.933 64.9272 790.877 Q64.9272 794.25 64.1633 798.07 Q63.3994 801.857 61.9035 805.931 L55.2831 805.931 Q57.4793 802.017 58.5933 798.261 Q59.7073 794.505 59.7073 790.877 Q59.7073 785.37 57.543 782.378 Q55.3786 779.386 51.3682 779.386 Q47.8671 779.386 45.8937 781.551 Q43.9204 783.683 42.9337 788.585 L42.1698 792.5 Q40.7375 799.693 37.682 802.908 Q34.6264 806.122 29.1837 806.122 Q22.8817 806.122 19.2532 801.698 Q15.6248 797.242 15.6248 789.444 Q15.6248 786.102 16.2295 782.633 Q16.8343 779.164 18.0438 775.535 Z\" fill=\"#000000\" fill-rule=\"evenodd\" fill-opacity=\"1\" /><path clip-path=\"url(#clip660)\" d=\"M42.4881 733.267 L64.0042 733.267 L64.0042 739.123 L42.679 739.123 Q37.6183 739.123 35.1038 741.097 Q32.5894 743.07 32.5894 747.017 Q32.5894 751.759 35.6131 754.497 Q38.6368 757.234 43.8567 757.234 L64.0042 757.234 L64.0042 763.122 L14.479 763.122 L14.479 757.234 L33.8944 757.234 Q30.6797 755.133 29.0883 752.3 Q27.4968 749.436 27.4968 745.712 Q27.4968 739.569 31.3163 736.418 Q35.1038 733.267 42.4881 733.267 Z\" fill=\"#000000\" fill-rule=\"evenodd\" fill-opacity=\"1\" /><path clip-path=\"url(#clip660)\" d=\"M46.0847 705.385 Q46.0847 712.483 47.7079 715.22 Q49.3312 717.957 53.2461 717.957 Q56.3653 717.957 58.2114 715.92 Q60.0256 713.851 60.0256 710.319 Q60.0256 705.449 56.5881 702.521 Q53.1188 699.56 47.3897 699.56 L46.0847 699.56 L46.0847 705.385 M43.6657 693.704 L64.0042 693.704 L64.0042 699.56 L58.5933 699.56 Q61.8398 701.566 63.3994 704.558 Q64.9272 707.549 64.9272 711.878 Q64.9272 717.353 61.8716 720.599 Q58.7843 723.814 53.6281 723.814 Q47.6125 723.814 44.5569 719.803 Q41.5014 715.761 41.5014 707.772 L41.5014 699.56 L40.9285 699.56 Q36.8862 699.56 34.6901 702.234 Q32.4621 704.876 32.4621 709.682 Q32.4621 712.737 33.1941 715.634 Q33.9262 718.53 35.3903 721.204 L29.9795 721.204 Q28.7381 717.989 28.1334 714.965 Q27.4968 711.942 27.4968 709.077 Q27.4968 701.343 31.5072 697.523 Q35.5176 693.704 43.6657 693.704 Z\" fill=\"#000000\" fill-rule=\"evenodd\" fill-opacity=\"1\" /><path clip-path=\"url(#clip660)\" d=\"M42.4881 652.009 L64.0042 652.009 L64.0042 657.865 L42.679 657.865 Q37.6183 657.865 35.1038 659.838 Q32.5894 661.812 32.5894 665.759 Q32.5894 670.501 35.6131 673.238 Q38.6368 675.976 43.8567 675.976 L64.0042 675.976 L64.0042 681.864 L28.3562 681.864 L28.3562 675.976 L33.8944 675.976 Q30.6797 673.875 29.0883 671.042 Q27.4968 668.178 27.4968 664.454 Q27.4968 658.311 31.3163 655.16 Q35.1038 652.009 42.4881 652.009 Z\" fill=\"#000000\" fill-rule=\"evenodd\" fill-opacity=\"1\" /><path clip-path=\"url(#clip660)\" d=\"M42.4881 610.695 L64.0042 610.695 L64.0042 616.552 L42.679 616.552 Q37.6183 616.552 35.1038 618.525 Q32.5894 620.498 32.5894 624.445 Q32.5894 629.188 35.6131 631.925 Q38.6368 634.662 43.8567 634.662 L64.0042 634.662 L64.0042 640.55 L28.3562 640.55 L28.3562 634.662 L33.8944 634.662 Q30.6797 632.561 29.0883 629.729 Q27.4968 626.864 27.4968 623.14 Q27.4968 616.997 31.3163 613.846 Q35.1038 610.695 42.4881 610.695 Z\" fill=\"#000000\" fill-rule=\"evenodd\" fill-opacity=\"1\" /><path clip-path=\"url(#clip660)\" d=\"M32.4621 585.201 Q32.4621 589.911 36.1542 592.648 Q39.8145 595.386 46.212 595.386 Q52.6095 595.386 56.3017 592.68 Q59.9619 589.943 59.9619 585.201 Q59.9619 580.522 56.2698 577.784 Q52.5777 575.047 46.212 575.047 Q39.8781 575.047 36.186 577.784 Q32.4621 580.522 32.4621 585.201 M27.4968 585.201 Q27.4968 577.562 32.4621 573.201 Q37.4273 568.841 46.212 568.841 Q54.9649 568.841 59.9619 573.201 Q64.9272 577.562 64.9272 585.201 Q64.9272 592.871 59.9619 597.232 Q54.9649 601.56 46.212 601.56 Q37.4273 601.56 32.4621 597.232 Q27.4968 592.871 27.4968 585.201 Z\" fill=\"#000000\" fill-rule=\"evenodd\" fill-opacity=\"1\" /><path clip-path=\"url(#clip660)\" d=\"M42.4881 529.501 L64.0042 529.501 L64.0042 535.357 L42.679 535.357 Q37.6183 535.357 35.1038 537.33 Q32.5894 539.304 32.5894 543.251 Q32.5894 547.993 35.6131 550.73 Q38.6368 553.467 43.8567 553.467 L64.0042 553.467 L64.0042 559.356 L28.3562 559.356 L28.3562 553.467 L33.8944 553.467 Q30.6797 551.367 29.0883 548.534 Q27.4968 545.67 27.4968 541.946 Q27.4968 535.803 31.3163 532.652 Q35.1038 529.501 42.4881 529.501 Z\" fill=\"#000000\" fill-rule=\"evenodd\" fill-opacity=\"1\" /><path clip-path=\"url(#clip662)\" d=\"\n",
       "M545.209 1101.74 L405.219 1101.74 L685.198 1101.74 L545.209 1101.74 L545.209 726.739 L545.209 1101.74  Z\n",
       "  \" fill=\"#009af9\" fill-rule=\"evenodd\" fill-opacity=\"0.4\"/>\n",
       "<polyline clip-path=\"url(#clip662)\" style=\"stroke:#000000; stroke-linecap:butt; stroke-linejoin:round; stroke-width:4; stroke-opacity:1; fill:none\" points=\"\n",
       "  545.209,1101.74 405.219,1101.74 685.198,1101.74 545.209,1101.74 545.209,726.739 545.209,1101.74 \n",
       "  \"/>\n",
       "<path clip-path=\"url(#clip662)\" d=\"\n",
       "M825.188 726.739 L825.188 577.858 L265.23 577.858 L265.23 726.739 L825.188 726.739 L825.188 577.858 L825.188 726.739  Z\n",
       "  \" fill=\"#009af9\" fill-rule=\"evenodd\" fill-opacity=\"0.4\"/>\n",
       "<polyline clip-path=\"url(#clip662)\" style=\"stroke:#000000; stroke-linecap:butt; stroke-linejoin:round; stroke-width:4; stroke-opacity:1; fill:none\" points=\"\n",
       "  825.188,726.739 825.188,577.858 265.23,577.858 265.23,726.739 825.188,726.739 825.188,577.858 825.188,726.739 \n",
       "  \"/>\n",
       "<path clip-path=\"url(#clip662)\" d=\"\n",
       "M825.188 475.954 L265.23 475.954 L265.23 577.858 L825.188 577.858 L825.188 475.954 L545.209 475.954 L825.188 475.954  Z\n",
       "  \" fill=\"#009af9\" fill-rule=\"evenodd\" fill-opacity=\"0.4\"/>\n",
       "<polyline clip-path=\"url(#clip662)\" style=\"stroke:#000000; stroke-linecap:butt; stroke-linejoin:round; stroke-width:4; stroke-opacity:1; fill:none\" points=\"\n",
       "  825.188,475.954 265.23,475.954 265.23,577.858 825.188,577.858 825.188,475.954 545.209,475.954 825.188,475.954 \n",
       "  \"/>\n",
       "<path clip-path=\"url(#clip662)\" d=\"\n",
       "M545.209 198.031 L405.219 198.031 L685.198 198.031 L545.209 198.031 L545.209 475.954 L545.209 198.031  Z\n",
       "  \" fill=\"#009af9\" fill-rule=\"evenodd\" fill-opacity=\"0.4\"/>\n",
       "<polyline clip-path=\"url(#clip662)\" style=\"stroke:#000000; stroke-linecap:butt; stroke-linejoin:round; stroke-width:4; stroke-opacity:1; fill:none\" points=\"\n",
       "  545.209,198.031 405.219,198.031 685.198,198.031 545.209,198.031 545.209,475.954 545.209,198.031 \n",
       "  \"/>\n",
       "<circle clip-path=\"url(#clip662)\" cx=\"545.209\" cy=\"1200.75\" r=\"14\" fill=\"#009af9\" fill-rule=\"evenodd\" fill-opacity=\"1\" stroke=\"#000000\" stroke-opacity=\"1\" stroke-width=\"3.2\"/>\n",
       "<circle clip-path=\"url(#clip662)\" cx=\"545.209\" cy=\"1146.68\" r=\"14\" fill=\"#009af9\" fill-rule=\"evenodd\" fill-opacity=\"1\" stroke=\"#000000\" stroke-opacity=\"1\" stroke-width=\"3.2\"/>\n",
       "<circle clip-path=\"url(#clip662)\" cx=\"545.209\" cy=\"1164.93\" r=\"14\" fill=\"#009af9\" fill-rule=\"evenodd\" fill-opacity=\"1\" stroke=\"#000000\" stroke-opacity=\"1\" stroke-width=\"3.2\"/>\n",
       "<circle clip-path=\"url(#clip662)\" cx=\"545.209\" cy=\"1205.88\" r=\"14\" fill=\"#009af9\" fill-rule=\"evenodd\" fill-opacity=\"1\" stroke=\"#000000\" stroke-opacity=\"1\" stroke-width=\"3.2\"/>\n",
       "<polyline clip-path=\"url(#clip662)\" style=\"stroke:#009af9; stroke-linecap:butt; stroke-linejoin:round; stroke-width:0; stroke-opacity:1; fill:none\" points=\"\n",
       "  545.209,1101.74 405.219,1101.74 685.198,1101.74 545.209,1101.74 545.209,726.739 \n",
       "  \"/>\n",
       "<polyline clip-path=\"url(#clip662)\" style=\"stroke:#009af9; stroke-linecap:butt; stroke-linejoin:round; stroke-width:0; stroke-opacity:1; fill:none\" points=\"\n",
       "  825.188,726.739 825.188,577.858 265.23,577.858 265.23,726.739 825.188,726.739 825.188,577.858 \n",
       "  \"/>\n",
       "<polyline clip-path=\"url(#clip662)\" style=\"stroke:#009af9; stroke-linecap:butt; stroke-linejoin:round; stroke-width:0; stroke-opacity:1; fill:none\" points=\"\n",
       "  825.188,475.954 265.23,475.954 265.23,577.858 825.188,577.858 825.188,475.954 545.209,475.954 \n",
       "  \"/>\n",
       "<polyline clip-path=\"url(#clip662)\" style=\"stroke:#009af9; stroke-linecap:butt; stroke-linejoin:round; stroke-width:0; stroke-opacity:1; fill:none\" points=\"\n",
       "  545.209,198.031 405.219,198.031 685.198,198.031 545.209,198.031 545.209,475.954 \n",
       "  \"/>\n",
       "<path clip-path=\"url(#clip662)\" d=\"\n",
       "M1525.14 1445.72 L1385.15 1445.72 L1665.13 1445.72 L1525.14 1445.72 L1525.14 849.366 L1525.14 1445.72  Z\n",
       "  \" fill=\"#e26f46\" fill-rule=\"evenodd\" fill-opacity=\"0.4\"/>\n",
       "<polyline clip-path=\"url(#clip662)\" style=\"stroke:#000000; stroke-linecap:butt; stroke-linejoin:round; stroke-width:4; stroke-opacity:1; fill:none\" points=\"\n",
       "  1525.14,1445.72 1385.15,1445.72 1665.13,1445.72 1525.14,1445.72 1525.14,849.366 1525.14,1445.72 \n",
       "  \"/>\n",
       "<path clip-path=\"url(#clip662)\" d=\"\n",
       "M1805.12 849.366 L1805.12 663.471 L1245.16 663.471 L1245.16 849.366 L1805.12 849.366 L1805.12 663.471 L1805.12 849.366  Z\n",
       "  \" fill=\"#e26f46\" fill-rule=\"evenodd\" fill-opacity=\"0.4\"/>\n",
       "<polyline clip-path=\"url(#clip662)\" style=\"stroke:#000000; stroke-linecap:butt; stroke-linejoin:round; stroke-width:4; stroke-opacity:1; fill:none\" points=\"\n",
       "  1805.12,849.366 1805.12,663.471 1245.16,663.471 1245.16,849.366 1805.12,849.366 1805.12,663.471 1805.12,849.366 \n",
       "  \"/>\n",
       "<path clip-path=\"url(#clip662)\" d=\"\n",
       "M1805.12 448.733 L1245.16 448.733 L1245.16 663.471 L1805.12 663.471 L1805.12 448.733 L1525.14 448.733 L1805.12 448.733  Z\n",
       "  \" fill=\"#e26f46\" fill-rule=\"evenodd\" fill-opacity=\"0.4\"/>\n",
       "<polyline clip-path=\"url(#clip662)\" style=\"stroke:#000000; stroke-linecap:butt; stroke-linejoin:round; stroke-width:4; stroke-opacity:1; fill:none\" points=\"\n",
       "  1805.12,448.733 1245.16,448.733 1245.16,663.471 1805.12,663.471 1805.12,448.733 1525.14,448.733 1805.12,448.733 \n",
       "  \"/>\n",
       "<path clip-path=\"url(#clip662)\" d=\"\n",
       "M1525.14 87.9763 L1385.15 87.9763 L1665.13 87.9763 L1525.14 87.9763 L1525.14 448.733 L1525.14 87.9763  Z\n",
       "  \" fill=\"#e26f46\" fill-rule=\"evenodd\" fill-opacity=\"0.4\"/>\n",
       "<polyline clip-path=\"url(#clip662)\" style=\"stroke:#000000; stroke-linecap:butt; stroke-linejoin:round; stroke-width:4; stroke-opacity:1; fill:none\" points=\"\n",
       "  1525.14,87.9763 1385.15,87.9763 1665.13,87.9763 1525.14,87.9763 1525.14,448.733 1525.14,87.9763 \n",
       "  \"/>\n",
       "<polyline clip-path=\"url(#clip662)\" style=\"stroke:#e26f46; stroke-linecap:butt; stroke-linejoin:round; stroke-width:0; stroke-opacity:1; fill:none\" points=\"\n",
       "  1525.14,1445.72 1385.15,1445.72 1665.13,1445.72 1525.14,1445.72 1525.14,849.366 \n",
       "  \"/>\n",
       "<polyline clip-path=\"url(#clip662)\" style=\"stroke:#e26f46; stroke-linecap:butt; stroke-linejoin:round; stroke-width:0; stroke-opacity:1; fill:none\" points=\"\n",
       "  1805.12,849.366 1805.12,663.471 1245.16,663.471 1245.16,849.366 1805.12,849.366 1805.12,663.471 \n",
       "  \"/>\n",
       "<polyline clip-path=\"url(#clip662)\" style=\"stroke:#e26f46; stroke-linecap:butt; stroke-linejoin:round; stroke-width:0; stroke-opacity:1; fill:none\" points=\"\n",
       "  1805.12,448.733 1245.16,448.733 1245.16,663.471 1805.12,663.471 1805.12,448.733 1525.14,448.733 \n",
       "  \"/>\n",
       "<polyline clip-path=\"url(#clip662)\" style=\"stroke:#e26f46; stroke-linecap:butt; stroke-linejoin:round; stroke-width:0; stroke-opacity:1; fill:none\" points=\"\n",
       "  1525.14,87.9763 1385.15,87.9763 1665.13,87.9763 1525.14,87.9763 1525.14,448.733 \n",
       "  \"/>\n",
       "<path clip-path=\"url(#clip660)\" d=\"\n",
       "M1922.44 250.738 L2352.76 250.738 L2352.76 95.2176 L1922.44 95.2176  Z\n",
       "  \" fill=\"#ffffff\" fill-rule=\"evenodd\" fill-opacity=\"1\"/>\n",
       "<polyline clip-path=\"url(#clip660)\" style=\"stroke:#000000; stroke-linecap:butt; stroke-linejoin:round; stroke-width:4; stroke-opacity:1; fill:none\" points=\"\n",
       "  1922.44,250.738 2352.76,250.738 2352.76,95.2176 1922.44,95.2176 1922.44,250.738 \n",
       "  \"/>\n",
       "<path clip-path=\"url(#clip660)\" d=\"\n",
       "M1946.14 167.794 L2088.39 167.794 L2088.39 126.322 L1946.14 126.322 L1946.14 167.794  Z\n",
       "  \" fill=\"#009af9\" fill-rule=\"evenodd\" fill-opacity=\"0.4\"/>\n",
       "<polyline clip-path=\"url(#clip660)\" style=\"stroke:#000000; stroke-linecap:butt; stroke-linejoin:round; stroke-width:4; stroke-opacity:1; fill:none\" points=\"\n",
       "  1946.14,167.794 2088.39,167.794 2088.39,126.322 1946.14,126.322 1946.14,167.794 \n",
       "  \"/>\n",
       "<path clip-path=\"url(#clip660)\" d=\"M2132.61 139.407 L2132.61 143.389 Q2130.8 142.393 2128.98 141.907 Q2127.17 141.398 2125.32 141.398 Q2121.17 141.398 2118.88 144.037 Q2116.59 146.652 2116.59 151.398 Q2116.59 156.143 2118.88 158.782 Q2121.17 161.398 2125.32 161.398 Q2127.17 161.398 2128.98 160.912 Q2130.8 160.402 2132.61 159.407 L2132.61 163.342 Q2130.83 164.176 2128.91 164.592 Q2127.01 165.009 2124.85 165.009 Q2119 165.009 2115.55 161.328 Q2112.1 157.648 2112.1 151.398 Q2112.1 145.055 2115.57 141.421 Q2119.07 137.787 2125.13 137.787 Q2127.1 137.787 2128.98 138.203 Q2130.85 138.597 2132.61 139.407 Z\" fill=\"#000000\" fill-rule=\"evenodd\" fill-opacity=\"1\" /><path clip-path=\"url(#clip660)\" d=\"M2140.02 138.412 L2144.28 138.412 L2144.28 164.338 L2140.02 164.338 L2140.02 138.412 M2140.02 128.319 L2144.28 128.319 L2144.28 133.713 L2140.02 133.713 L2140.02 128.319 Z\" fill=\"#000000\" fill-rule=\"evenodd\" fill-opacity=\"1\" /><path clip-path=\"url(#clip660)\" d=\"M2168.21 142.393 Q2167.49 141.977 2166.64 141.791 Q2165.8 141.583 2164.79 141.583 Q2161.17 141.583 2159.23 143.944 Q2157.31 146.282 2157.31 150.68 L2157.31 164.338 L2153.03 164.338 L2153.03 138.412 L2157.31 138.412 L2157.31 142.44 Q2158.65 140.078 2160.8 138.944 Q2162.96 137.787 2166.04 137.787 Q2166.47 137.787 2167.01 137.856 Q2167.54 137.903 2168.19 138.018 L2168.21 142.393 Z\" fill=\"#000000\" fill-rule=\"evenodd\" fill-opacity=\"1\" /><path clip-path=\"url(#clip660)\" d=\"M2186.87 142.393 Q2186.15 141.977 2185.29 141.791 Q2184.46 141.583 2183.44 141.583 Q2179.83 141.583 2177.89 143.944 Q2175.97 146.282 2175.97 150.68 L2175.97 164.338 L2171.68 164.338 L2171.68 138.412 L2175.97 138.412 L2175.97 142.44 Q2177.31 140.078 2179.46 138.944 Q2181.61 137.787 2184.69 137.787 Q2185.13 137.787 2185.66 137.856 Q2186.2 137.903 2186.85 138.018 L2186.87 142.393 Z\" fill=\"#000000\" fill-rule=\"evenodd\" fill-opacity=\"1\" /><path clip-path=\"url(#clip660)\" d=\"M2212.05 148.689 L2212.05 164.338 L2207.79 164.338 L2207.79 148.828 Q2207.79 145.148 2206.36 143.319 Q2204.92 141.49 2202.05 141.49 Q2198.6 141.49 2196.61 143.69 Q2194.62 145.889 2194.62 149.685 L2194.62 164.338 L2190.34 164.338 L2190.34 128.319 L2194.62 128.319 L2194.62 142.44 Q2196.15 140.102 2198.21 138.944 Q2200.29 137.787 2203 137.787 Q2207.47 137.787 2209.76 140.565 Q2212.05 143.319 2212.05 148.689 Z\" fill=\"#000000\" fill-rule=\"evenodd\" fill-opacity=\"1\" /><path clip-path=\"url(#clip660)\" d=\"M2230.59 141.398 Q2227.17 141.398 2225.18 144.083 Q2223.19 146.745 2223.19 151.398 Q2223.19 156.051 2225.16 158.736 Q2227.15 161.398 2230.59 161.398 Q2234 161.398 2235.99 158.713 Q2237.98 156.027 2237.98 151.398 Q2237.98 146.791 2235.99 144.106 Q2234 141.398 2230.59 141.398 M2230.59 137.787 Q2236.15 137.787 2239.32 141.398 Q2242.49 145.009 2242.49 151.398 Q2242.49 157.764 2239.32 161.398 Q2236.15 165.009 2230.59 165.009 Q2225.02 165.009 2221.84 161.398 Q2218.7 157.764 2218.7 151.398 Q2218.7 145.009 2221.84 141.398 Q2225.02 137.787 2230.59 137.787 Z\" fill=\"#000000\" fill-rule=\"evenodd\" fill-opacity=\"1\" /><path clip-path=\"url(#clip660)\" d=\"M2266.08 139.176 L2266.08 143.203 Q2264.28 142.277 2262.33 141.815 Q2260.39 141.352 2258.3 141.352 Q2255.13 141.352 2253.53 142.324 Q2251.96 143.296 2251.96 145.24 Q2251.96 146.722 2253.09 147.578 Q2254.23 148.412 2257.65 149.176 L2259.11 149.5 Q2263.65 150.472 2265.55 152.254 Q2267.47 154.014 2267.47 157.185 Q2267.47 160.796 2264.6 162.902 Q2261.75 165.009 2256.75 165.009 Q2254.67 165.009 2252.4 164.592 Q2250.15 164.199 2247.65 163.388 L2247.65 158.99 Q2250.02 160.217 2252.31 160.842 Q2254.6 161.444 2256.84 161.444 Q2259.85 161.444 2261.47 160.426 Q2263.09 159.384 2263.09 157.509 Q2263.09 155.773 2261.91 154.847 Q2260.76 153.921 2256.8 153.064 L2255.32 152.717 Q2251.36 151.884 2249.6 150.171 Q2247.84 148.435 2247.84 145.426 Q2247.84 141.768 2250.43 139.778 Q2253.03 137.787 2257.79 137.787 Q2260.15 137.787 2262.24 138.134 Q2264.32 138.481 2266.08 139.176 Z\" fill=\"#000000\" fill-rule=\"evenodd\" fill-opacity=\"1\" /><path clip-path=\"url(#clip660)\" d=\"M2274.25 138.412 L2278.51 138.412 L2278.51 164.338 L2274.25 164.338 L2274.25 138.412 M2274.25 128.319 L2278.51 128.319 L2278.51 133.713 L2274.25 133.713 L2274.25 128.319 Z\" fill=\"#000000\" fill-rule=\"evenodd\" fill-opacity=\"1\" /><path clip-path=\"url(#clip660)\" d=\"M2303.95 139.176 L2303.95 143.203 Q2302.15 142.277 2300.2 141.815 Q2298.26 141.352 2296.17 141.352 Q2293 141.352 2291.4 142.324 Q2289.83 143.296 2289.83 145.24 Q2289.83 146.722 2290.96 147.578 Q2292.1 148.412 2295.53 149.176 L2296.98 149.5 Q2301.52 150.472 2303.42 152.254 Q2305.34 154.014 2305.34 157.185 Q2305.34 160.796 2302.47 162.902 Q2299.62 165.009 2294.62 165.009 Q2292.54 165.009 2290.27 164.592 Q2288.03 164.199 2285.53 163.388 L2285.53 158.99 Q2287.89 160.217 2290.18 160.842 Q2292.47 161.444 2294.71 161.444 Q2297.72 161.444 2299.34 160.426 Q2300.96 159.384 2300.96 157.509 Q2300.96 155.773 2299.78 154.847 Q2298.63 153.921 2294.67 153.064 L2293.19 152.717 Q2289.23 151.884 2287.47 150.171 Q2285.71 148.435 2285.71 145.426 Q2285.71 141.768 2288.3 139.778 Q2290.9 137.787 2295.66 137.787 Q2298.03 137.787 2300.11 138.134 Q2302.19 138.481 2303.95 139.176 Z\" fill=\"#000000\" fill-rule=\"evenodd\" fill-opacity=\"1\" /><path clip-path=\"url(#clip660)\" d=\"\n",
       "M1946.14 219.634 L2088.39 219.634 L2088.39 178.162 L1946.14 178.162 L1946.14 219.634  Z\n",
       "  \" fill=\"#e26f46\" fill-rule=\"evenodd\" fill-opacity=\"0.4\"/>\n",
       "<polyline clip-path=\"url(#clip660)\" style=\"stroke:#000000; stroke-linecap:butt; stroke-linejoin:round; stroke-width:4; stroke-opacity:1; fill:none\" points=\"\n",
       "  1946.14,219.634 2088.39,219.634 2088.39,178.162 1946.14,178.162 1946.14,219.634 \n",
       "  \"/>\n",
       "<path clip-path=\"url(#clip660)\" d=\"M2133.81 200.529 L2133.81 216.178 L2129.55 216.178 L2129.55 200.668 Q2129.55 196.988 2128.12 195.159 Q2126.68 193.33 2123.81 193.33 Q2120.36 193.33 2118.37 195.53 Q2116.38 197.729 2116.38 201.525 L2116.38 216.178 L2112.1 216.178 L2112.1 190.252 L2116.38 190.252 L2116.38 194.28 Q2117.91 191.942 2119.97 190.784 Q2122.05 189.627 2124.76 189.627 Q2129.23 189.627 2131.52 192.405 Q2133.81 195.159 2133.81 200.529 Z\" fill=\"#000000\" fill-rule=\"evenodd\" fill-opacity=\"1\" /></svg>\n"
      ]
     },
     "execution_count": 83,
     "metadata": {},
     "output_type": "execute_result"
    }
   ],
   "source": [
    "StatsPlots.boxplot(B.tipo, B.diversity, fillalpha=0.4, group=B.tipo, \n",
    "    legendposition=:outertopright, ylabel=\"Index Shannon\")"
   ]
  },
  {
   "cell_type": "markdown",
   "id": "d3df0ee2-bc53-401d-963f-5be8eaa554b6",
   "metadata": {},
   "source": [
    "## Train and Test split"
   ]
  },
  {
   "cell_type": "code",
   "execution_count": 48,
   "id": "8b5278fb-6dac-491e-9276-2848850e7baa",
   "metadata": {},
   "outputs": [],
   "source": [
    "y, X = unpack(c_genus, ==(:disease), colname->true);\n",
    "yc = coerce(y, OrderedFactor)\n",
    "first(yc, 10);"
   ]
  },
  {
   "cell_type": "code",
   "execution_count": 49,
   "id": "2e95b5a0-977c-4418-8395-d565fcd44ba3",
   "metadata": {},
   "outputs": [],
   "source": [
    "Random.seed!(123)\n",
    "train, test = partition(collect(eachindex(yc)), 0.7, shuffle = true, rng = 223);"
   ]
  },
  {
   "cell_type": "markdown",
   "id": "1434bd36-865b-49d6-9c1a-2838264a9082",
   "metadata": {},
   "source": [
    "## Keeping only the relevant features using hypothesis test."
   ]
  },
  {
   "cell_type": "code",
   "execution_count": 51,
   "id": "a307b978-1cf3-4733-bbc6-3f569cb82efb",
   "metadata": {},
   "outputs": [
    {
     "name": "stdout",
     "output_type": "stream",
     "text": [
      "[\"Actinomyces\", \"Rothia\", \"Adlercreutzia\", \"Atopobium\", \"Olsenella\", \"Bacteroides\", \"Bacteroidales_noname\", \"Barnesiella\", \"Coprobacter\", \"Odoribacter\", \"Alloprevotella\", \"Paraprevotella\", \"Alistipes\", \"Granulicatella\", \"Lactobacillus\", \"Weissella\", \"Streptococcus\", \"Clostridium\", \"Clostridiales_noname\", \"Eubacterium\", \"Blautia\", \"Coprococcus\", \"Dorea\", \"Roseburia\", \"Oscillibacter\", \"Anaerotruncus\", \"Faecalibacterium\", \"Ruminococcus\", \"Subdoligranulum\", \"Coprobacillus\", \"Solobacterium\", \"Megasphaera\", \"Veillonella\", \"Leptotrichiaceae_unclassified\", \"Burkholderiales_noname\", \"Oxalobacter\", \"Neisseria\", \"Bilophila\", \"Desulfovibrio\", \"Campylobacter\", \"Citrobacter\", \"Escherichia\", \"Klebsiella\", \"Aggregatibacter\", \"Haemophilus\", \"Butyricimonas\", \"Gemella\", \"Staphylococcus\", \"Butyricicoccus\", \"Clostridiales_Family_XIII_Incertae_Sedis_unclassified\", \"Oribacterium\", \"Selenomonas\", \"Burkholderia\", \"Pantoea\", \"Raoultella\", \"Actinobacillus\", \"Leptotrichia\", \"Eikenella\"]"
     ]
    }
   ],
   "source": [
    "caseT = case[:,Not(:disease)]\n",
    "controlT = control[:,Not(:disease)];\n",
    "\n",
    "genus_d = String[]\n",
    "for name in names(X)\n",
    "    pvalor = pvalue(OneSampleTTest(caseT[1:114, name], controlT[:, name]))\n",
    "    if (pvalor <= 0.05)\n",
    "       push!(genus_d, name) \n",
    "    end\n",
    "end\n",
    "\n",
    "X_filt = copy(X[:, genus_d]);\n",
    "print(names(X_filt))"
   ]
  },
  {
   "cell_type": "code",
   "execution_count": 43,
   "id": "b10c99ef-0369-4d55-bb7a-bc7933c9397f",
   "metadata": {},
   "outputs": [
    {
     "data": {
      "text/html": [
       "<div class=\"data-frame\"><p>3 rows × 58 columns (omitted printing of 51 columns)</p><table class=\"data-frame\"><thead><tr><th></th><th>Actinomyces</th><th>Rothia</th><th>Adlercreutzia</th><th>Atopobium</th><th>Olsenella</th><th>Bacteroides</th><th>Bacteroidales_noname</th></tr><tr><th></th><th title=\"Float64\">Float64</th><th title=\"Float64\">Float64</th><th title=\"Float64\">Float64</th><th title=\"Float64\">Float64</th><th title=\"Float64\">Float64</th><th title=\"Float64\">Float64</th><th title=\"Float64\">Float64</th></tr></thead><tbody><tr><th>1</th><td>0.0</td><td>0.0</td><td>0.02685</td><td>0.0</td><td>0.0</td><td>27.0561</td><td>0.42994</td></tr><tr><th>2</th><td>0.0</td><td>0.0</td><td>0.25012</td><td>0.0</td><td>0.0</td><td>22.9985</td><td>1.8049</td></tr><tr><th>3</th><td>0.0</td><td>0.0</td><td>0.14068</td><td>0.0</td><td>0.0</td><td>16.7792</td><td>0.74253</td></tr></tbody></table></div>"
      ],
      "text/latex": [
       "\\begin{tabular}{r|cccccccc}\n",
       "\t& Actinomyces & Rothia & Adlercreutzia & Atopobium & Olsenella & Bacteroides & Bacteroidales\\_noname & \\\\\n",
       "\t\\hline\n",
       "\t& Float64 & Float64 & Float64 & Float64 & Float64 & Float64 & Float64 & \\\\\n",
       "\t\\hline\n",
       "\t1 & 0.0 & 0.0 & 0.02685 & 0.0 & 0.0 & 27.0561 & 0.42994 & $\\dots$ \\\\\n",
       "\t2 & 0.0 & 0.0 & 0.25012 & 0.0 & 0.0 & 22.9985 & 1.8049 & $\\dots$ \\\\\n",
       "\t3 & 0.0 & 0.0 & 0.14068 & 0.0 & 0.0 & 16.7792 & 0.74253 & $\\dots$ \\\\\n",
       "\\end{tabular}\n"
      ],
      "text/plain": [
       "\u001b[1m3×58 DataFrame\u001b[0m\n",
       "\u001b[1m Row \u001b[0m│\u001b[1m Actinomyces \u001b[0m\u001b[1m Rothia  \u001b[0m\u001b[1m Adlercreutzia \u001b[0m\u001b[1m Atopobium \u001b[0m\u001b[1m Olsenella \u001b[0m\u001b[1m Bacteroides \u001b[0m\u001b[1m\u001b[0m ⋯\n",
       "\u001b[1m     \u001b[0m│\u001b[90m Float64     \u001b[0m\u001b[90m Float64 \u001b[0m\u001b[90m Float64       \u001b[0m\u001b[90m Float64   \u001b[0m\u001b[90m Float64   \u001b[0m\u001b[90m Float64     \u001b[0m\u001b[90m\u001b[0m ⋯\n",
       "─────┼──────────────────────────────────────────────────────────────────────────\n",
       "   1 │         0.0      0.0        0.02685        0.0        0.0      27.0561  ⋯\n",
       "   2 │         0.0      0.0        0.25012        0.0        0.0      22.9985\n",
       "   3 │         0.0      0.0        0.14068        0.0        0.0      16.7792\n",
       "\u001b[36m                                                              52 columns omitted\u001b[0m"
      ]
     },
     "execution_count": 43,
     "metadata": {},
     "output_type": "execute_result"
    }
   ],
   "source": [
    "first(X_filt, 3)"
   ]
  },
  {
   "cell_type": "markdown",
   "id": "6d53ea20-91c8-43e1-96c0-29b4570cd1fd",
   "metadata": {},
   "source": [
    "## Loading the SGDC model"
   ]
  },
  {
   "cell_type": "code",
   "execution_count": 44,
   "id": "05ce70a6",
   "metadata": {},
   "outputs": [
    {
     "name": "stdout",
     "output_type": "stream",
     "text": [
      "import MLJScikitLearnInterface ✔\n"
     ]
    },
    {
     "name": "stderr",
     "output_type": "stream",
     "text": [
      "┌ Info: For silent loading, specify `verbosity=0`. \n",
      "└ @ Main /home/lucas/.julia/packages/MLJModels/lDzCR/src/loading.jl:168\n"
     ]
    },
    {
     "data": {
      "text/plain": [
       "SGDClassifier(\n",
       "  loss = \"hinge\", \n",
       "  penalty = \"l2\", \n",
       "  alpha = 0.0001, \n",
       "  l1_ratio = 0.15, \n",
       "  fit_intercept = true, \n",
       "  max_iter = 1000, \n",
       "  tol = 0.001, \n",
       "  shuffle = true, \n",
       "  verbose = 0, \n",
       "  epsilon = 0.1, \n",
       "  n_jobs = nothing, \n",
       "  random_state = nothing, \n",
       "  learning_rate = \"optimal\", \n",
       "  eta0 = 0.0, \n",
       "  power_t = 0.5, \n",
       "  early_stopping = false, \n",
       "  validation_fraction = 0.1, \n",
       "  n_iter_no_change = 5, \n",
       "  class_weight = nothing, \n",
       "  warm_start = false, \n",
       "  average = false)"
      ]
     },
     "execution_count": 44,
     "metadata": {},
     "output_type": "execute_result"
    }
   ],
   "source": [
    "SGDC = @load SGDClassifier pkg = ScikitLearn\n",
    "sgdc = SGDC()"
   ]
  },
  {
   "cell_type": "markdown",
   "id": "630b628e-2673-4745-b199-c279a44c0659",
   "metadata": {},
   "source": [
    "## Training steps"
   ]
  },
  {
   "cell_type": "code",
   "execution_count": 53,
   "id": "da96444f",
   "metadata": {},
   "outputs": [
    {
     "data": {
      "text/plain": [
       "Machine trained 0 times; does not cache data\n",
       "  model: DeterministicTunedModel(model = SGDClassifier(loss = hinge, …), …)\n",
       "  args: \n",
       "    1:\tSource @966 ⏎ `Table{AbstractVector{ScientificTypesBase.Continuous}}`\n",
       "    2:\tSource @498 ⏎ `AbstractVector{OrderedFactor{2}}`\n"
      ]
     },
     "execution_count": 53,
     "metadata": {},
     "output_type": "execute_result"
    }
   ],
   "source": [
    "Random.seed!(123)\n",
    "r = [range(sgdc, :loss, values = [\"log_loss\", \"hinge\"]),\n",
    "range(sgdc, :penalty, values = [\"l2\", \"l1\"]),\n",
    "range(sgdc, :alpha, lower = 1e-3, upper=1e-1, scale=:log10)];\n",
    "\n",
    "self_tuning_sgdc = TunedModel(model = sgdc, range = r, tuning = Grid(resolution = 5), \n",
    "resampling = StratifiedCV(nfolds = 6, rng = 123), measure = MisclassificationRate());\n",
    "\n",
    "sgdc_tuned_mach = machine(self_tuning_sgdc, X_filt, yc)"
   ]
  },
  {
   "cell_type": "code",
   "execution_count": 54,
   "id": "a641840c",
   "metadata": {},
   "outputs": [
    {
     "name": "stderr",
     "output_type": "stream",
     "text": [
      "┌ Info: Creating subsamples from a subset of all rows. \n",
      "└ @ MLJBase /home/lucas/.julia/packages/MLJBase/rQDaq/src/resampling.jl:599\n",
      "/home/lucas/.julia/conda/3/lib/python3.9/site-packages/sklearn/linear_model/_stochastic_gradient.py:705: ConvergenceWarning: Maximum number of iteration reached before convergence. Consider increasing max_iter to improve the fit.\n",
      "  warnings.warn(\n",
      "\u001b[33mEvaluating over 25 folds:  28%[=======>                 ]  ETA: 0:01:47\u001b[39m/home/lucas/.julia/conda/3/lib/python3.9/site-packages/sklearn/linear_model/_stochastic_gradient.py:705: ConvergenceWarning: Maximum number of iteration reached before convergence. Consider increasing max_iter to improve the fit.\n",
      "  warnings.warn(\n",
      "\u001b[33mEvaluating over 25 folds:  32%[========>                ]  ETA: 0:01:30\u001b[39m/home/lucas/.julia/conda/3/lib/python3.9/site-packages/sklearn/linear_model/_stochastic_gradient.py:705: ConvergenceWarning: Maximum number of iteration reached before convergence. Consider increasing max_iter to improve the fit.\n",
      "  warnings.warn(\n",
      "\u001b[33mEvaluating over 25 folds:  40%[==========>              ]  ETA: 0:01:05\u001b[39m/home/lucas/.julia/conda/3/lib/python3.9/site-packages/sklearn/linear_model/_stochastic_gradient.py:705: ConvergenceWarning: Maximum number of iteration reached before convergence. Consider increasing max_iter to improve the fit.\n",
      "  warnings.warn(\n",
      "\u001b[33mEvaluating over 25 folds:  52%[=============>           ]  ETA: 0:00:42\u001b[39m/home/lucas/.julia/conda/3/lib/python3.9/site-packages/sklearn/linear_model/_stochastic_gradient.py:705: ConvergenceWarning: Maximum number of iteration reached before convergence. Consider increasing max_iter to improve the fit.\n",
      "  warnings.warn(\n",
      "\u001b[33mEvaluating over 25 folds:  60%[===============>         ]  ETA: 0:00:31\u001b[39m/home/lucas/.julia/conda/3/lib/python3.9/site-packages/sklearn/linear_model/_stochastic_gradient.py:705: ConvergenceWarning: Maximum number of iteration reached before convergence. Consider increasing max_iter to improve the fit.\n",
      "  warnings.warn(\n",
      "\u001b[33mEvaluating over 25 folds:  64%[================>        ]  ETA: 0:00:26\u001b[39m/home/lucas/.julia/conda/3/lib/python3.9/site-packages/sklearn/linear_model/_stochastic_gradient.py:705: ConvergenceWarning: Maximum number of iteration reached before convergence. Consider increasing max_iter to improve the fit.\n",
      "  warnings.warn(\n",
      "\u001b[33mEvaluating over 25 folds:  88%[======================>  ]  ETA: 0:00:07\u001b[39m/home/lucas/.julia/conda/3/lib/python3.9/site-packages/sklearn/linear_model/_stochastic_gradient.py:705: ConvergenceWarning: Maximum number of iteration reached before convergence. Consider increasing max_iter to improve the fit.\n",
      "  warnings.warn(\n",
      "\u001b[33mEvaluating over 25 folds: 100%[=========================] Time: 0:00:52\u001b[39m\n"
     ]
    },
    {
     "data": {
      "text/plain": [
       "PerformanceEvaluation object with these fields:\n",
       "  measure, operation, measurement, per_fold,\n",
       "  per_observation, fitted_params_per_fold,\n",
       "  report_per_fold, train_test_rows\n",
       "Extract:\n",
       "┌──────────────────┬───────────┬─────────────┬─────────┬────────────────────────\n",
       "│\u001b[22m measure          \u001b[0m│\u001b[22m operation \u001b[0m│\u001b[22m measurement \u001b[0m│\u001b[22m 1.96*SE \u001b[0m│\u001b[22m per_fold             \u001b[0m ⋯\n",
       "├──────────────────┼───────────┼─────────────┼─────────┼────────────────────────\n",
       "│ Accuracy()       │ predict   │ 0.821       │ 0.0285  │ [0.879, 0.697, 0.969, ⋯\n",
       "│ FScore(          │ predict   │ 0.805       │ 0.0349  │ [0.889, 0.667, 0.971, ⋯\n",
       "│   β = 1.0,       │           │             │         │                       ⋯\n",
       "│   rev = nothing) │           │             │         │                       ⋯\n",
       "└──────────────────┴───────────┴─────────────┴─────────┴────────────────────────\n",
       "\u001b[36m                                                                1 column omitted\u001b[0m\n"
      ]
     },
     "execution_count": 54,
     "metadata": {},
     "output_type": "execute_result"
    }
   ],
   "source": [
    "Random.seed!(123);\n",
    "evalu_tune = evaluate!(sgdc_tuned_mach, \n",
    "    resampling = CV(nfolds=5, rng=123),\n",
    "    measures = [accuracy, f1score],\n",
    "    rows = train,\n",
    "    repeats = 5)"
   ]
  },
  {
   "cell_type": "code",
   "execution_count": 55,
   "id": "68990b76",
   "metadata": {},
   "outputs": [
    {
     "data": {
      "text/plain": [
       "SGDClassifier(\n",
       "  loss = \"hinge\", \n",
       "  penalty = \"l1\", \n",
       "  alpha = 0.001, \n",
       "  l1_ratio = 0.15, \n",
       "  fit_intercept = true, \n",
       "  max_iter = 1000, \n",
       "  tol = 0.001, \n",
       "  shuffle = true, \n",
       "  verbose = 0, \n",
       "  epsilon = 0.1, \n",
       "  n_jobs = nothing, \n",
       "  random_state = nothing, \n",
       "  learning_rate = \"optimal\", \n",
       "  eta0 = 0.0, \n",
       "  power_t = 0.5, \n",
       "  early_stopping = false, \n",
       "  validation_fraction = 0.1, \n",
       "  n_iter_no_change = 5, \n",
       "  class_weight = nothing, \n",
       "  warm_start = false, \n",
       "  average = false)"
      ]
     },
     "execution_count": 55,
     "metadata": {},
     "output_type": "execute_result"
    }
   ],
   "source": [
    "fitted_params(sgdc_tuned_mach).best_model"
   ]
  },
  {
   "cell_type": "code",
   "execution_count": 60,
   "id": "e0c3b6ab",
   "metadata": {},
   "outputs": [],
   "source": [
    "feature_power = DataFrame(genus = names(X_filt), \n",
    "power = vec(fitted_params(sgdc_tuned_mach).best_fitted_params.coef))\n",
    "\n",
    "sort!(feature_power, [:power], rev = true);"
   ]
  },
  {
   "cell_type": "markdown",
   "id": "99b2cf0a-18ce-4ef5-a55f-81d732f450ec",
   "metadata": {},
   "source": [
    "## Results"
   ]
  },
  {
   "cell_type": "markdown",
   "id": "2ab2f01f-4867-4637-aada-cdab26788b74",
   "metadata": {},
   "source": [
    "### Most relevant features"
   ]
  },
  {
   "cell_type": "code",
   "execution_count": 61,
   "id": "a401b68f-ebbc-43d2-a91c-811c049aa42c",
   "metadata": {},
   "outputs": [
    {
     "data": {
      "text/html": [
       "<div class=\"data-frame\"><p>10 rows × 2 columns</p><table class=\"data-frame\"><thead><tr><th></th><th>genus</th><th>power</th></tr><tr><th></th><th title=\"String\">String</th><th title=\"Float64\">Float64</th></tr></thead><tbody><tr><th>1</th><td>Paraprevotella</td><td>90.1465</td></tr><tr><th>2</th><td>Bacteroidales_noname</td><td>65.1253</td></tr><tr><th>3</th><td>Bilophila</td><td>44.0188</td></tr><tr><th>4</th><td>Roseburia</td><td>42.9609</td></tr><tr><th>5</th><td>Coprococcus</td><td>40.2624</td></tr><tr><th>6</th><td>Barnesiella</td><td>15.4289</td></tr><tr><th>7</th><td>Burkholderiales_noname</td><td>12.8112</td></tr><tr><th>8</th><td>Eubacterium</td><td>9.89777</td></tr><tr><th>9</th><td>Dorea</td><td>8.81435</td></tr><tr><th>10</th><td>Alistipes</td><td>5.58606</td></tr></tbody></table></div>"
      ],
      "text/latex": [
       "\\begin{tabular}{r|cc}\n",
       "\t& genus & power\\\\\n",
       "\t\\hline\n",
       "\t& String & Float64\\\\\n",
       "\t\\hline\n",
       "\t1 & Paraprevotella & 90.1465 \\\\\n",
       "\t2 & Bacteroidales\\_noname & 65.1253 \\\\\n",
       "\t3 & Bilophila & 44.0188 \\\\\n",
       "\t4 & Roseburia & 42.9609 \\\\\n",
       "\t5 & Coprococcus & 40.2624 \\\\\n",
       "\t6 & Barnesiella & 15.4289 \\\\\n",
       "\t7 & Burkholderiales\\_noname & 12.8112 \\\\\n",
       "\t8 & Eubacterium & 9.89777 \\\\\n",
       "\t9 & Dorea & 8.81435 \\\\\n",
       "\t10 & Alistipes & 5.58606 \\\\\n",
       "\\end{tabular}\n"
      ],
      "text/plain": [
       "\u001b[1m10×2 DataFrame\u001b[0m\n",
       "\u001b[1m Row \u001b[0m│\u001b[1m genus                  \u001b[0m\u001b[1m power    \u001b[0m\n",
       "\u001b[1m     \u001b[0m│\u001b[90m String                 \u001b[0m\u001b[90m Float64  \u001b[0m\n",
       "─────┼──────────────────────────────────\n",
       "   1 │ Paraprevotella          90.1465\n",
       "   2 │ Bacteroidales_noname    65.1253\n",
       "   3 │ Bilophila               44.0188\n",
       "   4 │ Roseburia               42.9609\n",
       "   5 │ Coprococcus             40.2624\n",
       "   6 │ Barnesiella             15.4289\n",
       "   7 │ Burkholderiales_noname  12.8112\n",
       "   8 │ Eubacterium              9.89777\n",
       "   9 │ Dorea                    8.81435\n",
       "  10 │ Alistipes                5.58606"
      ]
     },
     "execution_count": 61,
     "metadata": {},
     "output_type": "execute_result"
    }
   ],
   "source": [
    "first(feature_power, 10)"
   ]
  },
  {
   "cell_type": "code",
   "execution_count": 62,
   "id": "928f3195-2186-4cee-80c4-6cddd14e2582",
   "metadata": {},
   "outputs": [
    {
     "name": "stdout",
     "output_type": "stream",
     "text": [
      "Measurements:\n",
      "  f1 score: 0.7419354838709677\n",
      "  accuracy:   0.7714285714285715\n"
     ]
    },
    {
     "data": {
      "text/plain": [
       "              ┌───────────────────────────┐\n",
       "              │       Ground Truth        │\n",
       "┌─────────────┼─────────────┬─────────────┤\n",
       "│  Predicted  │  cirrhosis  │      n      │\n",
       "├─────────────┼─────────────┼─────────────┤\n",
       "│  cirrhosis  │     31      │     12      │\n",
       "├─────────────┼─────────────┼─────────────┤\n",
       "│      n      │      4      │     23      │\n",
       "└─────────────┴─────────────┴─────────────┘\n"
      ]
     },
     "execution_count": 62,
     "metadata": {},
     "output_type": "execute_result"
    }
   ],
   "source": [
    "yhat = MLJ.predict(sgdc_tuned_mach, rows = test);\n",
    "print(\n",
    "    \"Measurements:\\n\",\n",
    "    \"  f1 score: \", f1score(yhat, yc[test]), \"\\n\",\n",
    "    \"  accuracy:   \", accuracy(yhat, yc[test]), \"\\n\"\n",
    ")\n",
    "ConfusionMatrix()(yhat, yc[test])"
   ]
  }
 ],
 "metadata": {
  "kernelspec": {
   "display_name": "Julia 1.7.2",
   "language": "julia",
   "name": "julia-1.7"
  },
  "language_info": {
   "file_extension": ".jl",
   "mimetype": "application/julia",
   "name": "julia",
   "version": "1.7.2"
  }
 },
 "nbformat": 4,
 "nbformat_minor": 5
}
