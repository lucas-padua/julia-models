{
 "cells": [
  {
   "cell_type": "markdown",
   "id": "5da5af6b",
   "metadata": {},
   "source": [
    "## Importando as Bibliotecas"
   ]
  },
  {
   "cell_type": "code",
   "execution_count": 1,
   "id": "eba4f71f",
   "metadata": {},
   "outputs": [],
   "source": [
    "using CSV\n",
    "using DataFrames\n",
    "using MLJ"
   ]
  },
  {
   "cell_type": "code",
   "execution_count": 2,
   "id": "d7a3c954",
   "metadata": {},
   "outputs": [],
   "source": [
    "using VegaLite\n",
    "using DataVoyager"
   ]
  },
  {
   "cell_type": "markdown",
   "id": "30539efe",
   "metadata": {},
   "source": [
    "## Carregando o csv e descrevendo-o"
   ]
  },
  {
   "cell_type": "code",
   "execution_count": 3,
   "id": "739393a7",
   "metadata": {},
   "outputs": [
    {
     "data": {
      "text/html": [
       "<div class=\"data-frame\"><p>12 rows × 7 columns</p><table class=\"data-frame\"><thead><tr><th></th><th>variable</th><th>mean</th><th>min</th><th>median</th><th>max</th><th>nmissing</th><th>eltype</th></tr><tr><th></th><th title=\"Symbol\">Symbol</th><th title=\"Float64\">Float64</th><th title=\"Real\">Real</th><th title=\"Float64\">Float64</th><th title=\"Real\">Real</th><th title=\"Int64\">Int64</th><th title=\"DataType\">DataType</th></tr></thead><tbody><tr><th>1</th><td>fixed acidity</td><td>8.31964</td><td>4.6</td><td>7.9</td><td>15.9</td><td>0</td><td>Float64</td></tr><tr><th>2</th><td>volatile acidity</td><td>0.527821</td><td>0.12</td><td>0.52</td><td>1.58</td><td>0</td><td>Float64</td></tr><tr><th>3</th><td>citric acid</td><td>0.270976</td><td>0.0</td><td>0.26</td><td>1.0</td><td>0</td><td>Float64</td></tr><tr><th>4</th><td>residual sugar</td><td>2.53881</td><td>0.9</td><td>2.2</td><td>15.5</td><td>0</td><td>Float64</td></tr><tr><th>5</th><td>chlorides</td><td>0.0874665</td><td>0.012</td><td>0.079</td><td>0.611</td><td>0</td><td>Float64</td></tr><tr><th>6</th><td>free sulfur dioxide</td><td>15.8749</td><td>1.0</td><td>14.0</td><td>72.0</td><td>0</td><td>Float64</td></tr><tr><th>7</th><td>total sulfur dioxide</td><td>46.4678</td><td>6.0</td><td>38.0</td><td>289.0</td><td>0</td><td>Float64</td></tr><tr><th>8</th><td>density</td><td>0.996747</td><td>0.99007</td><td>0.99675</td><td>1.00369</td><td>0</td><td>Float64</td></tr><tr><th>9</th><td>pH</td><td>3.31111</td><td>2.74</td><td>3.31</td><td>4.01</td><td>0</td><td>Float64</td></tr><tr><th>10</th><td>sulphates</td><td>0.658149</td><td>0.33</td><td>0.62</td><td>2.0</td><td>0</td><td>Float64</td></tr><tr><th>11</th><td>alcohol</td><td>10.423</td><td>8.4</td><td>10.2</td><td>14.9</td><td>0</td><td>Float64</td></tr><tr><th>12</th><td>quality</td><td>5.63602</td><td>3</td><td>6.0</td><td>8</td><td>0</td><td>Int64</td></tr></tbody></table></div>"
      ],
      "text/latex": [
       "\\begin{tabular}{r|ccccccc}\n",
       "\t& variable & mean & min & median & max & nmissing & eltype\\\\\n",
       "\t\\hline\n",
       "\t& Symbol & Float64 & Real & Float64 & Real & Int64 & DataType\\\\\n",
       "\t\\hline\n",
       "\t1 & fixed acidity & 8.31964 & 4.6 & 7.9 & 15.9 & 0 & Float64 \\\\\n",
       "\t2 & volatile acidity & 0.527821 & 0.12 & 0.52 & 1.58 & 0 & Float64 \\\\\n",
       "\t3 & citric acid & 0.270976 & 0.0 & 0.26 & 1.0 & 0 & Float64 \\\\\n",
       "\t4 & residual sugar & 2.53881 & 0.9 & 2.2 & 15.5 & 0 & Float64 \\\\\n",
       "\t5 & chlorides & 0.0874665 & 0.012 & 0.079 & 0.611 & 0 & Float64 \\\\\n",
       "\t6 & free sulfur dioxide & 15.8749 & 1.0 & 14.0 & 72.0 & 0 & Float64 \\\\\n",
       "\t7 & total sulfur dioxide & 46.4678 & 6.0 & 38.0 & 289.0 & 0 & Float64 \\\\\n",
       "\t8 & density & 0.996747 & 0.99007 & 0.99675 & 1.00369 & 0 & Float64 \\\\\n",
       "\t9 & pH & 3.31111 & 2.74 & 3.31 & 4.01 & 0 & Float64 \\\\\n",
       "\t10 & sulphates & 0.658149 & 0.33 & 0.62 & 2.0 & 0 & Float64 \\\\\n",
       "\t11 & alcohol & 10.423 & 8.4 & 10.2 & 14.9 & 0 & Float64 \\\\\n",
       "\t12 & quality & 5.63602 & 3 & 6.0 & 8 & 0 & Int64 \\\\\n",
       "\\end{tabular}\n"
      ],
      "text/plain": [
       "\u001b[1m12×7 DataFrame\u001b[0m\n",
       "\u001b[1m Row \u001b[0m│\u001b[1m variable             \u001b[0m\u001b[1m mean       \u001b[0m\u001b[1m min     \u001b[0m\u001b[1m median   \u001b[0m\u001b[1m max       \u001b[0m\u001b[1m nmissin\u001b[0m ⋯\n",
       "\u001b[1m     \u001b[0m│\u001b[90m Symbol               \u001b[0m\u001b[90m Float64    \u001b[0m\u001b[90m Real    \u001b[0m\u001b[90m Float64  \u001b[0m\u001b[90m Real      \u001b[0m\u001b[90m Int64  \u001b[0m ⋯\n",
       "─────┼──────────────────────────────────────────────────────────────────────────\n",
       "   1 │ fixed acidity          8.31964    4.6       7.9       15.9              ⋯\n",
       "   2 │ volatile acidity       0.527821   0.12      0.52       1.58\n",
       "   3 │ citric acid            0.270976   0.0       0.26       1.0\n",
       "   4 │ residual sugar         2.53881    0.9       2.2       15.5\n",
       "   5 │ chlorides              0.0874665  0.012     0.079      0.611            ⋯\n",
       "   6 │ free sulfur dioxide   15.8749     1.0      14.0       72.0\n",
       "   7 │ total sulfur dioxide  46.4678     6.0      38.0      289.0\n",
       "   8 │ density                0.996747   0.99007   0.99675    1.00369\n",
       "   9 │ pH                     3.31111    2.74      3.31       4.01             ⋯\n",
       "  10 │ sulphates              0.658149   0.33      0.62       2.0\n",
       "  11 │ alcohol               10.423      8.4      10.2       14.9\n",
       "  12 │ quality                5.63602    3         6.0        8\n",
       "\u001b[36m                                                               2 columns omitted\u001b[0m"
      ]
     },
     "execution_count": 3,
     "metadata": {},
     "output_type": "execute_result"
    }
   ],
   "source": [
    "wine_df = CSV.read(\"winequality-red.csv\", DataFrame)\n",
    "describe(wine_df)"
   ]
  },
  {
   "cell_type": "markdown",
   "id": "5f08ed5f",
   "metadata": {},
   "source": [
    "## Checando dados duplicados"
   ]
  },
  {
   "cell_type": "code",
   "execution_count": 5,
   "id": "adc89e8f",
   "metadata": {},
   "outputs": [
    {
     "data": {
      "text/plain": [
       "240"
      ]
     },
     "execution_count": 5,
     "metadata": {},
     "output_type": "execute_result"
    }
   ],
   "source": [
    "sum(nonunique(wine_df))"
   ]
  },
  {
   "cell_type": "markdown",
   "id": "9a572f8e",
   "metadata": {},
   "source": [
    "## Removendo dados duplicados"
   ]
  },
  {
   "cell_type": "code",
   "execution_count": 6,
   "id": "67f56bc2",
   "metadata": {},
   "outputs": [
    {
     "data": {
      "text/html": [
       "<div class=\"data-frame\"><p>1,359 rows × 12 columns (omitted printing of 6 columns)</p><table class=\"data-frame\"><thead><tr><th></th><th>fixed acidity</th><th>volatile acidity</th><th>citric acid</th><th>residual sugar</th><th>chlorides</th><th>free sulfur dioxide</th></tr><tr><th></th><th title=\"Float64\">Float64</th><th title=\"Float64\">Float64</th><th title=\"Float64\">Float64</th><th title=\"Float64\">Float64</th><th title=\"Float64\">Float64</th><th title=\"Float64\">Float64</th></tr></thead><tbody><tr><th>1</th><td>7.4</td><td>0.7</td><td>0.0</td><td>1.9</td><td>0.076</td><td>11.0</td></tr><tr><th>2</th><td>7.8</td><td>0.88</td><td>0.0</td><td>2.6</td><td>0.098</td><td>25.0</td></tr><tr><th>3</th><td>7.8</td><td>0.76</td><td>0.04</td><td>2.3</td><td>0.092</td><td>15.0</td></tr><tr><th>4</th><td>11.2</td><td>0.28</td><td>0.56</td><td>1.9</td><td>0.075</td><td>17.0</td></tr><tr><th>5</th><td>7.4</td><td>0.66</td><td>0.0</td><td>1.8</td><td>0.075</td><td>13.0</td></tr><tr><th>6</th><td>7.9</td><td>0.6</td><td>0.06</td><td>1.6</td><td>0.069</td><td>15.0</td></tr><tr><th>7</th><td>7.3</td><td>0.65</td><td>0.0</td><td>1.2</td><td>0.065</td><td>15.0</td></tr><tr><th>8</th><td>7.8</td><td>0.58</td><td>0.02</td><td>2.0</td><td>0.073</td><td>9.0</td></tr><tr><th>9</th><td>7.5</td><td>0.5</td><td>0.36</td><td>6.1</td><td>0.071</td><td>17.0</td></tr><tr><th>10</th><td>6.7</td><td>0.58</td><td>0.08</td><td>1.8</td><td>0.097</td><td>15.0</td></tr><tr><th>11</th><td>5.6</td><td>0.615</td><td>0.0</td><td>1.6</td><td>0.089</td><td>16.0</td></tr><tr><th>12</th><td>7.8</td><td>0.61</td><td>0.29</td><td>1.6</td><td>0.114</td><td>9.0</td></tr><tr><th>13</th><td>8.9</td><td>0.62</td><td>0.18</td><td>3.8</td><td>0.176</td><td>52.0</td></tr><tr><th>14</th><td>8.9</td><td>0.62</td><td>0.19</td><td>3.9</td><td>0.17</td><td>51.0</td></tr><tr><th>15</th><td>8.5</td><td>0.28</td><td>0.56</td><td>1.8</td><td>0.092</td><td>35.0</td></tr><tr><th>16</th><td>8.1</td><td>0.56</td><td>0.28</td><td>1.7</td><td>0.368</td><td>16.0</td></tr><tr><th>17</th><td>7.4</td><td>0.59</td><td>0.08</td><td>4.4</td><td>0.086</td><td>6.0</td></tr><tr><th>18</th><td>7.9</td><td>0.32</td><td>0.51</td><td>1.8</td><td>0.341</td><td>17.0</td></tr><tr><th>19</th><td>8.9</td><td>0.22</td><td>0.48</td><td>1.8</td><td>0.077</td><td>29.0</td></tr><tr><th>20</th><td>7.6</td><td>0.39</td><td>0.31</td><td>2.3</td><td>0.082</td><td>23.0</td></tr><tr><th>21</th><td>7.9</td><td>0.43</td><td>0.21</td><td>1.6</td><td>0.106</td><td>10.0</td></tr><tr><th>22</th><td>8.5</td><td>0.49</td><td>0.11</td><td>2.3</td><td>0.084</td><td>9.0</td></tr><tr><th>23</th><td>6.9</td><td>0.4</td><td>0.14</td><td>2.4</td><td>0.085</td><td>21.0</td></tr><tr><th>24</th><td>6.3</td><td>0.39</td><td>0.16</td><td>1.4</td><td>0.08</td><td>11.0</td></tr><tr><th>25</th><td>7.6</td><td>0.41</td><td>0.24</td><td>1.8</td><td>0.08</td><td>4.0</td></tr><tr><th>26</th><td>7.1</td><td>0.71</td><td>0.0</td><td>1.9</td><td>0.08</td><td>14.0</td></tr><tr><th>27</th><td>7.8</td><td>0.645</td><td>0.0</td><td>2.0</td><td>0.082</td><td>8.0</td></tr><tr><th>28</th><td>6.7</td><td>0.675</td><td>0.07</td><td>2.4</td><td>0.089</td><td>17.0</td></tr><tr><th>29</th><td>6.9</td><td>0.685</td><td>0.0</td><td>2.5</td><td>0.105</td><td>22.0</td></tr><tr><th>30</th><td>8.3</td><td>0.655</td><td>0.12</td><td>2.3</td><td>0.083</td><td>15.0</td></tr><tr><th>&vellip;</th><td>&vellip;</td><td>&vellip;</td><td>&vellip;</td><td>&vellip;</td><td>&vellip;</td><td>&vellip;</td></tr></tbody></table></div>"
      ],
      "text/latex": [
       "\\begin{tabular}{r|ccccccc}\n",
       "\t& fixed acidity & volatile acidity & citric acid & residual sugar & chlorides & free sulfur dioxide & \\\\\n",
       "\t\\hline\n",
       "\t& Float64 & Float64 & Float64 & Float64 & Float64 & Float64 & \\\\\n",
       "\t\\hline\n",
       "\t1 & 7.4 & 0.7 & 0.0 & 1.9 & 0.076 & 11.0 & $\\dots$ \\\\\n",
       "\t2 & 7.8 & 0.88 & 0.0 & 2.6 & 0.098 & 25.0 & $\\dots$ \\\\\n",
       "\t3 & 7.8 & 0.76 & 0.04 & 2.3 & 0.092 & 15.0 & $\\dots$ \\\\\n",
       "\t4 & 11.2 & 0.28 & 0.56 & 1.9 & 0.075 & 17.0 & $\\dots$ \\\\\n",
       "\t5 & 7.4 & 0.66 & 0.0 & 1.8 & 0.075 & 13.0 & $\\dots$ \\\\\n",
       "\t6 & 7.9 & 0.6 & 0.06 & 1.6 & 0.069 & 15.0 & $\\dots$ \\\\\n",
       "\t7 & 7.3 & 0.65 & 0.0 & 1.2 & 0.065 & 15.0 & $\\dots$ \\\\\n",
       "\t8 & 7.8 & 0.58 & 0.02 & 2.0 & 0.073 & 9.0 & $\\dots$ \\\\\n",
       "\t9 & 7.5 & 0.5 & 0.36 & 6.1 & 0.071 & 17.0 & $\\dots$ \\\\\n",
       "\t10 & 6.7 & 0.58 & 0.08 & 1.8 & 0.097 & 15.0 & $\\dots$ \\\\\n",
       "\t11 & 5.6 & 0.615 & 0.0 & 1.6 & 0.089 & 16.0 & $\\dots$ \\\\\n",
       "\t12 & 7.8 & 0.61 & 0.29 & 1.6 & 0.114 & 9.0 & $\\dots$ \\\\\n",
       "\t13 & 8.9 & 0.62 & 0.18 & 3.8 & 0.176 & 52.0 & $\\dots$ \\\\\n",
       "\t14 & 8.9 & 0.62 & 0.19 & 3.9 & 0.17 & 51.0 & $\\dots$ \\\\\n",
       "\t15 & 8.5 & 0.28 & 0.56 & 1.8 & 0.092 & 35.0 & $\\dots$ \\\\\n",
       "\t16 & 8.1 & 0.56 & 0.28 & 1.7 & 0.368 & 16.0 & $\\dots$ \\\\\n",
       "\t17 & 7.4 & 0.59 & 0.08 & 4.4 & 0.086 & 6.0 & $\\dots$ \\\\\n",
       "\t18 & 7.9 & 0.32 & 0.51 & 1.8 & 0.341 & 17.0 & $\\dots$ \\\\\n",
       "\t19 & 8.9 & 0.22 & 0.48 & 1.8 & 0.077 & 29.0 & $\\dots$ \\\\\n",
       "\t20 & 7.6 & 0.39 & 0.31 & 2.3 & 0.082 & 23.0 & $\\dots$ \\\\\n",
       "\t21 & 7.9 & 0.43 & 0.21 & 1.6 & 0.106 & 10.0 & $\\dots$ \\\\\n",
       "\t22 & 8.5 & 0.49 & 0.11 & 2.3 & 0.084 & 9.0 & $\\dots$ \\\\\n",
       "\t23 & 6.9 & 0.4 & 0.14 & 2.4 & 0.085 & 21.0 & $\\dots$ \\\\\n",
       "\t24 & 6.3 & 0.39 & 0.16 & 1.4 & 0.08 & 11.0 & $\\dots$ \\\\\n",
       "\t25 & 7.6 & 0.41 & 0.24 & 1.8 & 0.08 & 4.0 & $\\dots$ \\\\\n",
       "\t26 & 7.1 & 0.71 & 0.0 & 1.9 & 0.08 & 14.0 & $\\dots$ \\\\\n",
       "\t27 & 7.8 & 0.645 & 0.0 & 2.0 & 0.082 & 8.0 & $\\dots$ \\\\\n",
       "\t28 & 6.7 & 0.675 & 0.07 & 2.4 & 0.089 & 17.0 & $\\dots$ \\\\\n",
       "\t29 & 6.9 & 0.685 & 0.0 & 2.5 & 0.105 & 22.0 & $\\dots$ \\\\\n",
       "\t30 & 8.3 & 0.655 & 0.12 & 2.3 & 0.083 & 15.0 & $\\dots$ \\\\\n",
       "\t$\\dots$ & $\\dots$ & $\\dots$ & $\\dots$ & $\\dots$ & $\\dots$ & $\\dots$ &  \\\\\n",
       "\\end{tabular}\n"
      ],
      "text/plain": [
       "\u001b[1m1359×12 DataFrame\u001b[0m\n",
       "\u001b[1m  Row \u001b[0m│\u001b[1m fixed acidity \u001b[0m\u001b[1m volatile acidity \u001b[0m\u001b[1m citric acid \u001b[0m\u001b[1m residual sugar \u001b[0m\u001b[1m chloride\u001b[0m ⋯\n",
       "\u001b[1m      \u001b[0m│\u001b[90m Float64       \u001b[0m\u001b[90m Float64          \u001b[0m\u001b[90m Float64     \u001b[0m\u001b[90m Float64        \u001b[0m\u001b[90m Float64 \u001b[0m ⋯\n",
       "──────┼─────────────────────────────────────────────────────────────────────────\n",
       "    1 │           7.4             0.7           0.0              1.9      0.07 ⋯\n",
       "    2 │           7.8             0.88          0.0              2.6      0.09\n",
       "    3 │           7.8             0.76          0.04             2.3      0.09\n",
       "    4 │          11.2             0.28          0.56             1.9      0.07\n",
       "    5 │           7.4             0.66          0.0              1.8      0.07 ⋯\n",
       "    6 │           7.9             0.6           0.06             1.6      0.06\n",
       "    7 │           7.3             0.65          0.0              1.2      0.06\n",
       "    8 │           7.8             0.58          0.02             2.0      0.07\n",
       "    9 │           7.5             0.5           0.36             6.1      0.07 ⋯\n",
       "   10 │           6.7             0.58          0.08             1.8      0.09\n",
       "   11 │           5.6             0.615         0.0              1.6      0.08\n",
       "  ⋮   │       ⋮               ⋮               ⋮             ⋮             ⋮    ⋱\n",
       " 1350 │           7.2             0.66          0.33             2.5      0.06\n",
       " 1351 │           6.6             0.725         0.2              7.8      0.07 ⋯\n",
       " 1352 │           6.3             0.55          0.15             1.8      0.07\n",
       " 1353 │           5.4             0.74          0.09             1.7      0.08\n",
       " 1354 │           6.3             0.51          0.13             2.3      0.07\n",
       " 1355 │           6.8             0.62          0.08             1.9      0.06 ⋯\n",
       " 1356 │           6.2             0.6           0.08             2.0      0.09\n",
       " 1357 │           5.9             0.55          0.1              2.2      0.06\n",
       " 1358 │           5.9             0.645         0.12             2.0      0.07\n",
       " 1359 │           6.0             0.31          0.47             3.6      0.06 ⋯\n",
       "\u001b[36m                                                 8 columns and 1338 rows omitted\u001b[0m"
      ]
     },
     "execution_count": 6,
     "metadata": {},
     "output_type": "execute_result"
    }
   ],
   "source": [
    "unique!(wine_df)"
   ]
  },
  {
   "cell_type": "code",
   "execution_count": 7,
   "id": "9330dc88",
   "metadata": {},
   "outputs": [
    {
     "data": {
      "text/plain": [
       "Voyager(Electron.Window(Application(Base.PipeEndpoint(RawFD(52) paused, 0 bytes waiting), Process(`\u001b[4m/home/lucas/.julia/artifacts/8731693ea495ec92614ea8a5da62f8e66909f0c1/electron\u001b[24m \u001b[4m/home/lucas/.julia/packages/Electron/ILvWR/src/main.js\u001b[24m \u001b[4m/tmp/jlel-c6eaac02cd3e11ec1085c57bd1bc2f69\u001b[24m \u001b[4m/tmp/jlel-sn-c6eab1fccd3e11ec22de0f2a9ef849c5\u001b[24m \u001b[4m/EysNQ1XOt5BnrF+988TY7z+xvQep0GCqHcIAsEDCnO0ASK7WD0KkA1OXznD8mpLQ40P6EaQaOGW62amphQtgjld9LUQoQDYMcZ8Rxj6a40KiBLY5fIwECldhbk/vMrMvMbiFnhLiA41yGIHQ1PPRud6LApuZjF6FMZxch/TQno=\u001b[24m`, ProcessRunning), [1 window]), 1, true, Channel{Any}(128)))"
      ]
     },
     "execution_count": 7,
     "metadata": {},
     "output_type": "execute_result"
    }
   ],
   "source": [
    "V = Voyager(wine_df)"
   ]
  },
  {
   "cell_type": "markdown",
   "id": "8b30d3a3",
   "metadata": {},
   "source": [
    "## Separando a coluna alvo"
   ]
  },
  {
   "cell_type": "code",
   "execution_count": 7,
   "id": "ef5e8b62",
   "metadata": {},
   "outputs": [
    {
     "data": {
      "text/plain": [
       "([5, 5, 5, 6, 5, 5, 7, 7, 5, 5  …  6, 5, 6, 6, 6, 6, 5, 6, 5, 6], \u001b[1m1359×11 DataFrame\u001b[0m\n",
       "\u001b[1m  Row \u001b[0m│\u001b[1m fixed acidity \u001b[0m\u001b[1m volatile acidity \u001b[0m\u001b[1m citric acid \u001b[0m\u001b[1m residual sugar \u001b[0m\u001b[1m chloride\u001b[0m ⋯\n",
       "\u001b[1m      \u001b[0m│\u001b[90m Float64       \u001b[0m\u001b[90m Float64          \u001b[0m\u001b[90m Float64     \u001b[0m\u001b[90m Float64        \u001b[0m\u001b[90m Float64 \u001b[0m ⋯\n",
       "──────┼─────────────────────────────────────────────────────────────────────────\n",
       "    1 │           7.4             0.7           0.0              1.9      0.07 ⋯\n",
       "    2 │           7.8             0.88          0.0              2.6      0.09\n",
       "    3 │           7.8             0.76          0.04             2.3      0.09\n",
       "    4 │          11.2             0.28          0.56             1.9      0.07\n",
       "    5 │           7.4             0.66          0.0              1.8      0.07 ⋯\n",
       "    6 │           7.9             0.6           0.06             1.6      0.06\n",
       "    7 │           7.3             0.65          0.0              1.2      0.06\n",
       "    8 │           7.8             0.58          0.02             2.0      0.07\n",
       "    9 │           7.5             0.5           0.36             6.1      0.07 ⋯\n",
       "   10 │           6.7             0.58          0.08             1.8      0.09\n",
       "   11 │           5.6             0.615         0.0              1.6      0.08\n",
       "  ⋮   │       ⋮               ⋮               ⋮             ⋮             ⋮    ⋱\n",
       " 1350 │           7.2             0.66          0.33             2.5      0.06\n",
       " 1351 │           6.6             0.725         0.2              7.8      0.07 ⋯\n",
       " 1352 │           6.3             0.55          0.15             1.8      0.07\n",
       " 1353 │           5.4             0.74          0.09             1.7      0.08\n",
       " 1354 │           6.3             0.51          0.13             2.3      0.07\n",
       " 1355 │           6.8             0.62          0.08             1.9      0.06 ⋯\n",
       " 1356 │           6.2             0.6           0.08             2.0      0.09\n",
       " 1357 │           5.9             0.55          0.1              2.2      0.06\n",
       " 1358 │           5.9             0.645         0.12             2.0      0.07\n",
       " 1359 │           6.0             0.31          0.47             3.6      0.06 ⋯\n",
       "\u001b[36m                                                 7 columns and 1338 rows omitted\u001b[0m, \u001b[1m0×0 DataFrame\u001b[0m)"
      ]
     },
     "execution_count": 7,
     "metadata": {},
     "output_type": "execute_result"
    }
   ],
   "source": [
    "y, X = unpack(wine_df, ==(:quality), colname->true)"
   ]
  },
  {
   "cell_type": "markdown",
   "id": "835ab467",
   "metadata": {},
   "source": [
    "## Criando as classes"
   ]
  },
  {
   "cell_type": "code",
   "execution_count": 8,
   "id": "134b77e4",
   "metadata": {},
   "outputs": [],
   "source": [
    "for i in 1:length(y)\n",
    "    if y[i] >=7\n",
    "        y[i] = 1\n",
    "    else\n",
    "        y[i] = 0\n",
    "    end\n",
    "end"
   ]
  },
  {
   "cell_type": "markdown",
   "id": "70247205",
   "metadata": {},
   "source": [
    "## Alterando o tipo dos valores, de contínuo para classes"
   ]
  },
  {
   "cell_type": "code",
   "execution_count": 9,
   "id": "ca4f6148",
   "metadata": {},
   "outputs": [
    {
     "data": {
      "text/plain": [
       "AbstractVector{OrderedFactor{2}} (alias for AbstractArray{OrderedFactor{2}, 1})"
      ]
     },
     "execution_count": 9,
     "metadata": {},
     "output_type": "execute_result"
    }
   ],
   "source": [
    "yc = coerce(y, OrderedFactor)\n",
    "scitype(yc)"
   ]
  },
  {
   "cell_type": "markdown",
   "id": "4b0fead4",
   "metadata": {},
   "source": [
    "## Descrevendo os tipos das colunas de features"
   ]
  },
  {
   "cell_type": "code",
   "execution_count": 10,
   "id": "56a66b1f",
   "metadata": {},
   "outputs": [
    {
     "data": {
      "text/plain": [
       "┌──────────────────────┬────────────┬─────────┐\n",
       "│\u001b[22m names                \u001b[0m│\u001b[22m scitypes   \u001b[0m│\u001b[22m types   \u001b[0m│\n",
       "├──────────────────────┼────────────┼─────────┤\n",
       "│ fixed acidity        │ Continuous │ Float64 │\n",
       "│ volatile acidity     │ Continuous │ Float64 │\n",
       "│ citric acid          │ Continuous │ Float64 │\n",
       "│ residual sugar       │ Continuous │ Float64 │\n",
       "│ chlorides            │ Continuous │ Float64 │\n",
       "│ free sulfur dioxide  │ Continuous │ Float64 │\n",
       "│ total sulfur dioxide │ Continuous │ Float64 │\n",
       "│ density              │ Continuous │ Float64 │\n",
       "│ pH                   │ Continuous │ Float64 │\n",
       "│ sulphates            │ Continuous │ Float64 │\n",
       "│ alcohol              │ Continuous │ Float64 │\n",
       "└──────────────────────┴────────────┴─────────┘\n"
      ]
     },
     "execution_count": 10,
     "metadata": {},
     "output_type": "execute_result"
    }
   ],
   "source": [
    "schema(X)"
   ]
  },
  {
   "cell_type": "markdown",
   "id": "1bb02f6c",
   "metadata": {},
   "source": [
    "## Mostrando média e desvio padrão das features"
   ]
  },
  {
   "cell_type": "code",
   "execution_count": 171,
   "id": "44f8fe43",
   "metadata": {},
   "outputs": [
    {
     "data": {
      "text/html": [
       "<div class=\"data-frame\"><p>11 rows × 3 columns</p><table class=\"data-frame\"><thead><tr><th></th><th>variable</th><th>mean</th><th>std</th></tr><tr><th></th><th title=\"Symbol\">Symbol</th><th title=\"Float64\">Float64</th><th title=\"Float64\">Float64</th></tr></thead><tbody><tr><th>1</th><td>fixed acidity</td><td>8.3106</td><td>1.73699</td></tr><tr><th>2</th><td>volatile acidity</td><td>0.529478</td><td>0.183031</td></tr><tr><th>3</th><td>citric acid</td><td>0.272333</td><td>0.195537</td></tr><tr><th>4</th><td>residual sugar</td><td>2.5234</td><td>1.35231</td></tr><tr><th>5</th><td>chlorides</td><td>0.0881236</td><td>0.0493769</td></tr><tr><th>6</th><td>free sulfur dioxide</td><td>15.8933</td><td>10.4473</td></tr><tr><th>7</th><td>total sulfur dioxide</td><td>46.826</td><td>33.4089</td></tr><tr><th>8</th><td>density</td><td>0.996709</td><td>0.00186892</td></tr><tr><th>9</th><td>pH</td><td>3.30979</td><td>0.155036</td></tr><tr><th>10</th><td>sulphates</td><td>0.658705</td><td>0.170667</td></tr><tr><th>11</th><td>alcohol</td><td>10.4323</td><td>1.08207</td></tr></tbody></table></div>"
      ],
      "text/latex": [
       "\\begin{tabular}{r|ccc}\n",
       "\t& variable & mean & std\\\\\n",
       "\t\\hline\n",
       "\t& Symbol & Float64 & Float64\\\\\n",
       "\t\\hline\n",
       "\t1 & fixed acidity & 8.3106 & 1.73699 \\\\\n",
       "\t2 & volatile acidity & 0.529478 & 0.183031 \\\\\n",
       "\t3 & citric acid & 0.272333 & 0.195537 \\\\\n",
       "\t4 & residual sugar & 2.5234 & 1.35231 \\\\\n",
       "\t5 & chlorides & 0.0881236 & 0.0493769 \\\\\n",
       "\t6 & free sulfur dioxide & 15.8933 & 10.4473 \\\\\n",
       "\t7 & total sulfur dioxide & 46.826 & 33.4089 \\\\\n",
       "\t8 & density & 0.996709 & 0.00186892 \\\\\n",
       "\t9 & pH & 3.30979 & 0.155036 \\\\\n",
       "\t10 & sulphates & 0.658705 & 0.170667 \\\\\n",
       "\t11 & alcohol & 10.4323 & 1.08207 \\\\\n",
       "\\end{tabular}\n"
      ],
      "text/plain": [
       "\u001b[1m11×3 DataFrame\u001b[0m\n",
       "\u001b[1m Row \u001b[0m│\u001b[1m variable             \u001b[0m\u001b[1m mean       \u001b[0m\u001b[1m std         \u001b[0m\n",
       "\u001b[1m     \u001b[0m│\u001b[90m Symbol               \u001b[0m\u001b[90m Float64    \u001b[0m\u001b[90m Float64     \u001b[0m\n",
       "─────┼───────────────────────────────────────────────\n",
       "   1 │ fixed acidity          8.3106      1.73699\n",
       "   2 │ volatile acidity       0.529478    0.183031\n",
       "   3 │ citric acid            0.272333    0.195537\n",
       "   4 │ residual sugar         2.5234      1.35231\n",
       "   5 │ chlorides              0.0881236   0.0493769\n",
       "   6 │ free sulfur dioxide   15.8933     10.4473\n",
       "   7 │ total sulfur dioxide  46.826      33.4089\n",
       "   8 │ density                0.996709    0.00186892\n",
       "   9 │ pH                     3.30979     0.155036\n",
       "  10 │ sulphates              0.658705    0.170667\n",
       "  11 │ alcohol               10.4323      1.08207"
      ]
     },
     "execution_count": 171,
     "metadata": {},
     "output_type": "execute_result"
    }
   ],
   "source": [
    "describe(X, :mean, :std)"
   ]
  },
  {
   "cell_type": "markdown",
   "id": "a271f79e",
   "metadata": {},
   "source": [
    "## Verificando os modelos compatíveis com os dados"
   ]
  },
  {
   "cell_type": "code",
   "execution_count": 18,
   "id": "815faf37",
   "metadata": {},
   "outputs": [
    {
     "data": {
      "text/plain": [
       "48-element Vector{NamedTuple{(:name, :package_name, :is_supervised, :docstring, :hyperparameter_ranges, :hyperparameter_types, :hyperparameters, :implemented_methods, :is_pure_julia, :is_wrapper, :iteration_parameter, :load_path, :package_license, :package_url, :package_uuid, :prediction_type, :supports_class_weights, :supports_online, :supports_training_losses, :supports_weights, :input_scitype, :target_scitype, :output_scitype), T} where T<:Tuple}:\n",
       " (name = AdaBoostClassifier, package_name = ScikitLearn, ... )\n",
       " (name = AdaBoostStumpClassifier, package_name = DecisionTree, ... )\n",
       " (name = BaggingClassifier, package_name = ScikitLearn, ... )\n",
       " (name = BayesianLDA, package_name = MultivariateStats, ... )\n",
       " (name = BayesianLDA, package_name = ScikitLearn, ... )\n",
       " (name = BayesianQDA, package_name = ScikitLearn, ... )\n",
       " (name = BayesianSubspaceLDA, package_name = MultivariateStats, ... )\n",
       " (name = ConstantClassifier, package_name = MLJModels, ... )\n",
       " (name = DecisionTreeClassifier, package_name = BetaML, ... )\n",
       " (name = DecisionTreeClassifier, package_name = DecisionTree, ... )\n",
       " (name = DeterministicConstantClassifier, package_name = MLJModels, ... )\n",
       " (name = DummyClassifier, package_name = ScikitLearn, ... )\n",
       " (name = EvoTreeClassifier, package_name = EvoTrees, ... )\n",
       " ⋮\n",
       " (name = RandomForestClassifier, package_name = BetaML, ... )\n",
       " (name = RandomForestClassifier, package_name = DecisionTree, ... )\n",
       " (name = RandomForestClassifier, package_name = ScikitLearn, ... )\n",
       " (name = RidgeCVClassifier, package_name = ScikitLearn, ... )\n",
       " (name = RidgeClassifier, package_name = ScikitLearn, ... )\n",
       " (name = SGDClassifier, package_name = ScikitLearn, ... )\n",
       " (name = SVC, package_name = LIBSVM, ... )\n",
       " (name = SVMClassifier, package_name = ScikitLearn, ... )\n",
       " (name = SVMLinearClassifier, package_name = ScikitLearn, ... )\n",
       " (name = SVMNuClassifier, package_name = ScikitLearn, ... )\n",
       " (name = SubspaceLDA, package_name = MultivariateStats, ... )\n",
       " (name = XGBoostClassifier, package_name = XGBoost, ... )"
      ]
     },
     "execution_count": 18,
     "metadata": {},
     "output_type": "execute_result"
    }
   ],
   "source": [
    "models(matching(X,yc))"
   ]
  },
  {
   "cell_type": "markdown",
   "id": "0b5d4726",
   "metadata": {},
   "source": [
    "## Separando os dados em treino e teste"
   ]
  },
  {
   "cell_type": "code",
   "execution_count": 11,
   "id": "7279d340",
   "metadata": {},
   "outputs": [
    {
     "data": {
      "text/plain": [
       "([890, 249, 1329, 1311, 593, 512, 709, 754, 226, 138  …  801, 1087, 352, 245, 491, 476, 456, 1099, 604, 275], [123, 977, 990, 989, 322, 145, 467, 1039, 631, 481  …  69, 763, 769, 220, 880, 167, 134, 600, 981, 954])"
      ]
     },
     "execution_count": 11,
     "metadata": {},
     "output_type": "execute_result"
    }
   ],
   "source": [
    "train, test = partition(collect(eachindex(yc)), 0.8, shuffle=true, rng=111)"
   ]
  },
  {
   "cell_type": "code",
   "execution_count": 12,
   "id": "b4a85eae",
   "metadata": {},
   "outputs": [],
   "source": [
    "Xtrain = selectrows(X, train)\n",
    "Xtest = selectrows(X, test)\n",
    "Ytrain = selectrows(yc, train)\n",
    "Ytest = selectrows(yc, test);"
   ]
  },
  {
   "cell_type": "markdown",
   "id": "d86112c8",
   "metadata": {},
   "source": [
    "## Carregando o modelo SVM"
   ]
  },
  {
   "cell_type": "code",
   "execution_count": 13,
   "id": "12301410",
   "metadata": {},
   "outputs": [
    {
     "name": "stdout",
     "output_type": "stream",
     "text": [
      "import MLJLIBSVMInterface ✔\n"
     ]
    },
    {
     "name": "stderr",
     "output_type": "stream",
     "text": [
      "┌ Info: For silent loading, specify `verbosity=0`. \n",
      "└ @ Main /home/lucas/.julia/packages/MLJModels/lDzCR/src/loading.jl:168\n"
     ]
    },
    {
     "data": {
      "text/plain": [
       "MLJLIBSVMInterface.SVC"
      ]
     },
     "execution_count": 13,
     "metadata": {},
     "output_type": "execute_result"
    }
   ],
   "source": [
    "SVC = @load SVC pkg = LIBSVM"
   ]
  },
  {
   "cell_type": "code",
   "execution_count": 14,
   "id": "8b5c985e",
   "metadata": {},
   "outputs": [
    {
     "data": {
      "text/plain": [
       "SVC(\n",
       "  kernel = LIBSVM.Kernel.RadialBasis, \n",
       "  gamma = 0.0, \n",
       "  cost = 1.0, \n",
       "  cachesize = 200.0, \n",
       "  degree = 3, \n",
       "  coef0 = 0.0, \n",
       "  tolerance = 0.001, \n",
       "  shrinking = true, \n",
       "  probability = false)"
      ]
     },
     "execution_count": 14,
     "metadata": {},
     "output_type": "execute_result"
    }
   ],
   "source": [
    "svc = SVC()"
   ]
  },
  {
   "cell_type": "code",
   "execution_count": 19,
   "id": "ded66294",
   "metadata": {},
   "outputs": [
    {
     "data": {
      "text/plain": [
       "false"
      ]
     },
     "execution_count": 19,
     "metadata": {},
     "output_type": "execute_result"
    }
   ],
   "source": [
    "scitype(yc) >: target_scitype(svc)"
   ]
  },
  {
   "cell_type": "markdown",
   "id": "a5aa879c",
   "metadata": {},
   "source": [
    "## Criando range de hyperparâmetros e o modelo calibrado"
   ]
  },
  {
   "cell_type": "code",
   "execution_count": 37,
   "id": "e6fe986c",
   "metadata": {},
   "outputs": [
    {
     "name": "stderr",
     "output_type": "stream",
     "text": [
      "┌ Info: No measure specified. Setting measure=MisclassificationRate @348. \n",
      "└ @ MLJTuning /home/lucas/.julia/packages/MLJTuning/Uj5Cx/src/tuned_models.jl:230\n"
     ]
    },
    {
     "data": {
      "text/plain": [
       "DeterministicTunedModel(\n",
       "    model = SVC(\n",
       "            kernel = LIBSVM.Kernel.RadialBasis,\n",
       "            gamma = 0.0,\n",
       "            weights = nothing,\n",
       "            cost = 1.0,\n",
       "            cachesize = 200.0,\n",
       "            degree = 3,\n",
       "            coef0 = 0.0,\n",
       "            tolerance = 0.001,\n",
       "            shrinking = true,\n",
       "            probability = false),\n",
       "    tuning = Grid(\n",
       "            goal = nothing,\n",
       "            resolution = 10,\n",
       "            shuffle = true,\n",
       "            rng = Random._GLOBAL_RNG()),\n",
       "    resampling = CV(\n",
       "            nfolds = 5,\n",
       "            shuffle = false,\n",
       "            rng = Random._GLOBAL_RNG()),\n",
       "    measure = MisclassificationRate(),\n",
       "    weights = nothing,\n",
       "    operation = MLJModelInterface.predict,\n",
       "    range = MLJBase.NumericRange{Float64, MLJBase.Bounded, Symbol}[\u001b[34mNumericRange{Float64,…} @224\u001b[39m, \u001b[34mNumericRange{Float64,…} @627\u001b[39m],\n",
       "    selection_heuristic = MLJTuning.NaiveSelection(nothing),\n",
       "    train_best = true,\n",
       "    repeats = 1,\n",
       "    n = nothing,\n",
       "    acceleration = CPU1{Nothing}(nothing),\n",
       "    acceleration_resampling = CPU1{Nothing}(nothing),\n",
       "    check_measure = true,\n",
       "    cache = true)\u001b[34m @769\u001b[39m"
      ]
     },
     "execution_count": 37,
     "metadata": {},
     "output_type": "execute_result"
    }
   ],
   "source": [
    "r = [range(svc, :cost, lower=2^-5, upper=2^15),\n",
    "range(svc, :gamma, lower=2^-15, upper=2^3)];\n",
    "self_tuning_svc = TunedModel(model=svc, resampling=CV(nfolds=5), tuning=Grid(resolution=10), range=r)"
   ]
  },
  {
   "cell_type": "markdown",
   "id": "2a519137",
   "metadata": {},
   "source": [
    "## Criando pipeline do modelo"
   ]
  },
  {
   "cell_type": "code",
   "execution_count": 41,
   "id": "cc1ddf39",
   "metadata": {},
   "outputs": [
    {
     "data": {
      "text/plain": [
       "Pipeline281(\n",
       "    standardizer = Standardizer(\n",
       "            features = Symbol[],\n",
       "            ignore = false,\n",
       "            ordered_factor = false,\n",
       "            count = false),\n",
       "    deterministic_tuned_model = DeterministicTunedModel(\n",
       "            model = \u001b[34mSVC @014\u001b[39m,\n",
       "            tuning = \u001b[34mGrid @918\u001b[39m,\n",
       "            resampling = \u001b[34mCV @425\u001b[39m,\n",
       "            measure = MisclassificationRate @348,\n",
       "            weights = nothing,\n",
       "            operation = MLJModelInterface.predict,\n",
       "            range = MLJBase.NumericRange{Float64, MLJBase.Bounded, Symbol}[\u001b[34mNumericRange{Float64,…} @224\u001b[39m, \u001b[34mNumericRange{Float64,…} @627\u001b[39m],\n",
       "            selection_heuristic = MLJTuning.NaiveSelection(nothing),\n",
       "            train_best = true,\n",
       "            repeats = 1,\n",
       "            n = nothing,\n",
       "            acceleration = CPU1{Nothing}(nothing),\n",
       "            acceleration_resampling = CPU1{Nothing}(nothing),\n",
       "            check_measure = true,\n",
       "            cache = true))\u001b[34m @509\u001b[39m"
      ]
     },
     "execution_count": 41,
     "metadata": {},
     "output_type": "execute_result"
    }
   ],
   "source": [
    "SVCPipe = @pipeline(Standardizer(), self_tuning_svc)"
   ]
  },
  {
   "cell_type": "markdown",
   "id": "ea0c125f",
   "metadata": {},
   "source": [
    "## Criando a máquina com o modelo calibrado e treinando-a"
   ]
  },
  {
   "cell_type": "code",
   "execution_count": 81,
   "id": "4b4278ea",
   "metadata": {},
   "outputs": [
    {
     "name": "stderr",
     "output_type": "stream",
     "text": [
      "┌ Info: Training \u001b[34mMachine{Pipeline281,…} @439\u001b[39m.\n",
      "└ @ MLJBase /home/lucas/.julia/packages/MLJBase/hLtde/src/machines.jl:342\n",
      "┌ Info: Training \u001b[34mMachine{Standardizer,…} @623\u001b[39m.\n",
      "└ @ MLJBase /home/lucas/.julia/packages/MLJBase/hLtde/src/machines.jl:342\n",
      "┌ Info: Training \u001b[34mMachine{DeterministicTunedModel{Grid,…},…} @024\u001b[39m.\n",
      "└ @ MLJBase /home/lucas/.julia/packages/MLJBase/hLtde/src/machines.jl:342\n",
      "┌ Info: Attempting to evaluate 100 models.\n",
      "└ @ MLJTuning /home/lucas/.julia/packages/MLJTuning/Uj5Cx/src/tuned_models.jl:602\n",
      "\u001b[33mEvaluating over 100 metamodels: 100%[=========================] Time: 0:00:19\u001b[39m\n"
     ]
    },
    {
     "data": {
      "text/plain": [
       "\u001b[34mMachine{Pipeline281,…} @439\u001b[39m trained 1 time; caches data\n",
       "  args: \n",
       "    1:\t\u001b[34mSource @193\u001b[39m ⏎ `Table{AbstractVector{Continuous}}`\n",
       "    2:\t\u001b[34mSource @862\u001b[39m ⏎ `AbstractVector{OrderedFactor{2}}`\n"
      ]
     },
     "execution_count": 81,
     "metadata": {},
     "output_type": "execute_result"
    }
   ],
   "source": [
    "svc_t = machine(SVCPipe, Xtrain, Ytrain)\n",
    "fit!(svc_t)"
   ]
  },
  {
   "cell_type": "markdown",
   "id": "02d574cb",
   "metadata": {},
   "source": [
    "## Taxa de erro no conjunto de testes"
   ]
  },
  {
   "cell_type": "code",
   "execution_count": 82,
   "id": "09636f83",
   "metadata": {},
   "outputs": [
    {
     "name": "stdout",
     "output_type": "stream",
     "text": [
      "SVC perf: 0.129\n"
     ]
    }
   ],
   "source": [
    "perf = misclassification_rate(predict(svc_t, Xtest), Ytest)\n",
    "println(rpad(\"SVC perf:\", 10), round(perf, sigdigits=3))"
   ]
  },
  {
   "cell_type": "markdown",
   "id": "02b8abd2",
   "metadata": {},
   "source": [
    "## Predizendo os dados de teste"
   ]
  },
  {
   "cell_type": "code",
   "execution_count": 83,
   "id": "7bf4daf9",
   "metadata": {},
   "outputs": [
    {
     "data": {
      "text/plain": [
       "272-element CategoricalArrays.CategoricalArray{Int64,1,UInt32}:\n",
       " 0\n",
       " 0\n",
       " 0\n",
       " 0\n",
       " 0\n",
       " 0\n",
       " 0\n",
       " 1\n",
       " 0\n",
       " 1\n",
       " 0\n",
       " 0\n",
       " 0\n",
       " ⋮\n",
       " 0\n",
       " 0\n",
       " 0\n",
       " 0\n",
       " 0\n",
       " 0\n",
       " 0\n",
       " 0\n",
       " 0\n",
       " 0\n",
       " 0\n",
       " 0"
      ]
     },
     "execution_count": 83,
     "metadata": {},
     "output_type": "execute_result"
    }
   ],
   "source": [
    "Yhat = predict(svc_t, Xtest)"
   ]
  },
  {
   "cell_type": "markdown",
   "id": "dcf39c5c",
   "metadata": {},
   "source": [
    "## Matriz de confusão e acurácia do modelo"
   ]
  },
  {
   "cell_type": "code",
   "execution_count": 84,
   "id": "76e258ca",
   "metadata": {},
   "outputs": [
    {
     "data": {
      "text/plain": [
       "              ┌───────────────────────────┐\n",
       "              │       Ground Truth        │\n",
       "┌─────────────┼─────────────┬─────────────┤\n",
       "│  Predicted  │      0      │      1      │\n",
       "├─────────────┼─────────────┼─────────────┤\n",
       "│      0      │     231     │     31      │\n",
       "├─────────────┼─────────────┼─────────────┤\n",
       "│      1      │      4      │      6      │\n",
       "└─────────────┴─────────────┴─────────────┘\n"
      ]
     },
     "execution_count": 84,
     "metadata": {},
     "output_type": "execute_result"
    }
   ],
   "source": [
    "ConfusionMatrix()(Yhat, Ytest)"
   ]
  },
  {
   "cell_type": "code",
   "execution_count": 85,
   "id": "81431fab",
   "metadata": {},
   "outputs": [
    {
     "data": {
      "text/plain": [
       "0.871"
      ]
     },
     "execution_count": 85,
     "metadata": {},
     "output_type": "execute_result"
    }
   ],
   "source": [
    "round((Accuracy()(Yhat,Ytest)), sigdigits=3)"
   ]
  }
 ],
 "metadata": {
  "kernelspec": {
   "display_name": "Julia 1.7.2",
   "language": "julia",
   "name": "julia-1.7"
  },
  "language_info": {
   "file_extension": ".jl",
   "mimetype": "application/julia",
   "name": "julia",
   "version": "1.7.2"
  }
 },
 "nbformat": 4,
 "nbformat_minor": 5
}
